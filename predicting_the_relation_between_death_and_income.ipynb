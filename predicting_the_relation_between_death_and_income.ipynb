{
  "nbformat": 4,
  "nbformat_minor": 0,
  "metadata": {
    "colab": {
      "name": "incomevsdeath_602.ipynb",
      "provenance": [],
      "collapsed_sections": []
    },
    "kernelspec": {
      "name": "python3",
      "display_name": "Python 3"
    }
  },
  "cells": [
    {
      "cell_type": "code",
      "metadata": {
        "id": "ome-4sfICNPR"
      },
      "source": [
        "#import packages\n",
        "import pandas as pd\n",
        "from statsmodels.graphics.tsaplots import plot_acf\n",
        "from statsmodels.tsa.seasonal import seasonal_decompose\n",
        "from sklearn.model_selection import train_test_split\n",
        "from sklearn.preprocessing import LabelEncoder\n",
        "import numpy as np\n",
        "import seaborn as sn\n",
        "import matplotlib.pyplot as plt\n",
        "from sklearn import tree\n",
        "from sklearn.ensemble import RandomForestClassifier\n",
        "from pydotplus import graph_from_dot_data\n",
        "import graphviz\n",
        "from sklearn.metrics import accuracy_score"
      ],
      "execution_count": null,
      "outputs": []
    },
    {
      "cell_type": "code",
      "metadata": {
        "colab": {
          "base_uri": "https://localhost:8080/"
        },
        "id": "EB01Z8pxCe6c",
        "outputId": "ee1b51e4-ce89-4f82-a049-ce946a31900f"
      },
      "source": [
        "#this is necessary for reading files from Drive\n",
        "\n",
        "from google.colab import drive\n",
        "drive.mount('/content/drive')"
      ],
      "execution_count": null,
      "outputs": [
        {
          "output_type": "stream",
          "text": [
            "Drive already mounted at /content/drive; to attempt to forcibly remount, call drive.mount(\"/content/drive\", force_remount=True).\n"
          ],
          "name": "stdout"
        }
      ]
    },
    {
      "cell_type": "code",
      "metadata": {
        "id": "AcBTvFgiChc6"
      },
      "source": [
        "#read in data\n",
        "data_MD_cause_of_death = pd.read_excel('drive/My Drive/DATA602_project_materials/data/cause_of_death_MD_10-19_xlsx.xlsx')\n",
        "data_WA_cause_of_death = pd.read_excel('drive/My Drive/DATA602_project_materials/data/cause_of_death_WA_10-19_xlsx.xlsx')\n",
        "data_CT_cause_of_death = pd.read_excel('drive/My Drive/DATA602_project_materials/data/cause_of_death_CT_10-19_xlsx.xlsx')\n",
        "data_FL_cause_of_death = pd.read_excel('drive/My Drive/DATA602_project_materials/data/cause_of_death_FL_10-19_xlsx.xlsx')\n",
        "data_TX_cause_of_death = pd.read_excel('drive/My Drive/DATA602_project_materials/data/cause_of_death_TX_10-19_xlsx.xlsx')\n",
        "data_CO_cause_of_death = pd.read_excel('drive/My Drive/DATA602_project_materials/data/cause_of_death_CO_10-19_xlsx.xlsx')\n",
        "data_CDC_cause_categories = pd.read_excel('drive/My Drive/DATA602_project_materials/data/CDC_cause_categories.xlsx')\n",
        "data_income_10_11 = pd.read_excel('drive/My Drive/DATA602_project_materials/data/income_10-11.xlsx',\n",
        "                                  skiprows=5)\n",
        "data_income_12_13 = pd.read_excel('drive/My Drive/DATA602_project_materials/data/income_12-13.xlsx',\n",
        "                                  skiprows=5)\n",
        "data_income_14_16 = pd.read_excel('drive/My Drive/DATA602_project_materials/data/income_14-16.xlsx',\n",
        "                                  skiprows=5)\n",
        "data_income_17_19 = pd.read_excel('drive/My Drive/DATA602_project_materials/data/income_17-19.xlsx',\n",
        "                                  skiprows=5)\n",
        "data_deaths = pd.read_excel('drive/My Drive/DATA602_project_materials/data/total_deaths_xlsx.xlsx')\n",
        "data_air_2010 = pd.read_csv('drive/My Drive/DATA602_project_materials/data/EPA_2010.csv')\n",
        "data_air_2011 = pd.read_csv('drive/My Drive/DATA602_project_materials/data/EPA_2011.csv')\n",
        "data_air_2012 = pd.read_csv('drive/My Drive/DATA602_project_materials/data/EPA_2012.csv')\n",
        "data_air_2013 = pd.read_csv('drive/My Drive/DATA602_project_materials/data/EPA_2013.csv')\n",
        "data_air_2014 = pd.read_csv('drive/My Drive/DATA602_project_materials/data/EPA_2014.csv')\n",
        "data_air_2015 = pd.read_csv('drive/My Drive/DATA602_project_materials/data/EPA_2015.csv')\n",
        "data_air_2016 = pd.read_csv('drive/My Drive/DATA602_project_materials/data/EPA_2016.csv')\n",
        "data_air_2017 = pd.read_csv('drive/My Drive/DATA602_project_materials/data/EPA_2017.csv')\n",
        "data_air_2018 = pd.read_csv('drive/My Drive/DATA602_project_materials/data/EPA_2018.csv')\n",
        "data_air_2019 = pd.read_csv('drive/My Drive/DATA602_project_materials/data/EPA_2019.csv')\n",
        "data_insurance_2019 = pd.read_excel('drive/My Drive/DATA602_project_materials/data/public_coverage_census.xlsx',\n",
        "                                    sheet_name='Data')\n",
        "#data_insurance_5yr = pd.read_csv('drive/My Drive/DATA602_project_materials/data/census_insured_5yr.csv')"
      ],
      "execution_count": null,
      "outputs": []
    },
    {
      "cell_type": "code",
      "metadata": {
        "id": "FwaYqbOjC1Hc"
      },
      "source": [
        "#this function takes a dataframe and column name that contains the location name\n",
        "#returns a state for the columns that are \"County, State\"\n",
        "def get_state_col(df, col_name):\n",
        "\n",
        "  #split the value in the county column and grab the last item \n",
        "  #in the resulting list\n",
        "  state = df[col_name].strip('*').split()[-1]\n",
        "\n",
        "  return state"
      ],
      "execution_count": null,
      "outputs": []
    },
    {
      "cell_type": "code",
      "metadata": {
        "id": "FuemsjuzC2GU"
      },
      "source": [
        "#this function takes a dataframe and column name that contains the location name\n",
        "#returns just the county name for the columns that are \"County, State\"\n",
        "def get_county_col(df, col_name):\n",
        "\n",
        "  #index the string in the county column to grab all\n",
        "  #but the last 4 positions (\", state\")\n",
        "  county = df[col_name].strip('*')[:-4]\n",
        "  \n",
        "  return county"
      ],
      "execution_count": null,
      "outputs": []
    },
    {
      "cell_type": "code",
      "metadata": {
        "id": "4J41LiigC45O"
      },
      "source": [
        "#create a dataframe that combines all states' cause of death data\n",
        "#but dropping some unnecessary columns\n",
        "cause_of_death_df = data_MD_cause_of_death.append([data_CT_cause_of_death,\n",
        "                                                   data_FL_cause_of_death, \n",
        "                                                   data_TX_cause_of_death,\n",
        "                                                   data_WA_cause_of_death,\n",
        "                                                   data_CO_cause_of_death],\n",
        "                                                  ignore_index=True)\n",
        "\n",
        "cause_of_death_df = cause_of_death_df.drop(['Notes', 'Crude Rate', 'Year Code',\n",
        "                                            'County Code'], axis=1)\n",
        "\n",
        "#use the get_state_col and get_county_col functions\n",
        "cause_of_death_df['State'] = cause_of_death_df.apply(lambda x: get_state_col(x, 'County'), axis=1)\n",
        "cause_of_death_df['County'] = cause_of_death_df.apply(lambda x: get_county_col(x, 'County'), axis=1)\n",
        "#cause_of_death_df.tail()"
      ],
      "execution_count": null,
      "outputs": []
    },
    {
      "cell_type": "code",
      "metadata": {
        "colab": {
          "base_uri": "https://localhost:8080/",
          "height": 362
        },
        "id": "yOb8Qn2pmfHO",
        "outputId": "67944f11-9f7d-454d-ea10-ab8cb892fd17"
      },
      "source": [
        "insurance_df = data_insurance_2019.drop(['Unnamed: 0'], axis=1)\n",
        "cols = [c for c in insurance_df.columns if c.lower()[:7] != 'unnamed']\n",
        "\n",
        "insurance_df.head()\n",
        "#len(cols)"
      ],
      "execution_count": null,
      "outputs": [
        {
          "output_type": "execute_result",
          "data": {
            "text/html": [
              "<div>\n",
              "<style scoped>\n",
              "    .dataframe tbody tr th:only-of-type {\n",
              "        vertical-align: middle;\n",
              "    }\n",
              "\n",
              "    .dataframe tbody tr th {\n",
              "        vertical-align: top;\n",
              "    }\n",
              "\n",
              "    .dataframe thead th {\n",
              "        text-align: right;\n",
              "    }\n",
              "</style>\n",
              "<table border=\"1\" class=\"dataframe\">\n",
              "  <thead>\n",
              "    <tr style=\"text-align: right;\">\n",
              "      <th></th>\n",
              "      <th>Baldwin County, Alabama</th>\n",
              "      <th>Unnamed: 2</th>\n",
              "      <th>Unnamed: 3</th>\n",
              "      <th>Unnamed: 4</th>\n",
              "      <th>Unnamed: 5</th>\n",
              "      <th>Unnamed: 6</th>\n",
              "      <th>Calhoun County, Alabama</th>\n",
              "      <th>Unnamed: 8</th>\n",
              "      <th>Unnamed: 9</th>\n",
              "      <th>Unnamed: 10</th>\n",
              "      <th>Unnamed: 11</th>\n",
              "      <th>Unnamed: 12</th>\n",
              "      <th>Cullman County, Alabama</th>\n",
              "      <th>Unnamed: 14</th>\n",
              "      <th>Unnamed: 15</th>\n",
              "      <th>Unnamed: 16</th>\n",
              "      <th>Unnamed: 17</th>\n",
              "      <th>Unnamed: 18</th>\n",
              "      <th>DeKalb County, Alabama</th>\n",
              "      <th>Unnamed: 20</th>\n",
              "      <th>Unnamed: 21</th>\n",
              "      <th>Unnamed: 22</th>\n",
              "      <th>Unnamed: 23</th>\n",
              "      <th>Unnamed: 24</th>\n",
              "      <th>Elmore County, Alabama</th>\n",
              "      <th>Unnamed: 26</th>\n",
              "      <th>Unnamed: 27</th>\n",
              "      <th>Unnamed: 28</th>\n",
              "      <th>Unnamed: 29</th>\n",
              "      <th>Unnamed: 30</th>\n",
              "      <th>Etowah County, Alabama</th>\n",
              "      <th>Unnamed: 32</th>\n",
              "      <th>Unnamed: 33</th>\n",
              "      <th>Unnamed: 34</th>\n",
              "      <th>Unnamed: 35</th>\n",
              "      <th>Unnamed: 36</th>\n",
              "      <th>Houston County, Alabama</th>\n",
              "      <th>Unnamed: 38</th>\n",
              "      <th>Unnamed: 39</th>\n",
              "      <th>Unnamed: 40</th>\n",
              "      <th>...</th>\n",
              "      <th>Unnamed: 5001</th>\n",
              "      <th>Unnamed: 5002</th>\n",
              "      <th>Unnamed: 5003</th>\n",
              "      <th>Unnamed: 5004</th>\n",
              "      <th>Mayagüez Municipio, Puerto Rico</th>\n",
              "      <th>Unnamed: 5006</th>\n",
              "      <th>Unnamed: 5007</th>\n",
              "      <th>Unnamed: 5008</th>\n",
              "      <th>Unnamed: 5009</th>\n",
              "      <th>Unnamed: 5010</th>\n",
              "      <th>Ponce Municipio, Puerto Rico</th>\n",
              "      <th>Unnamed: 5012</th>\n",
              "      <th>Unnamed: 5013</th>\n",
              "      <th>Unnamed: 5014</th>\n",
              "      <th>Unnamed: 5015</th>\n",
              "      <th>Unnamed: 5016</th>\n",
              "      <th>San Juan Municipio, Puerto Rico</th>\n",
              "      <th>Unnamed: 5018</th>\n",
              "      <th>Unnamed: 5019</th>\n",
              "      <th>Unnamed: 5020</th>\n",
              "      <th>Unnamed: 5021</th>\n",
              "      <th>Unnamed: 5022</th>\n",
              "      <th>Toa Alta Municipio, Puerto Rico</th>\n",
              "      <th>Unnamed: 5024</th>\n",
              "      <th>Unnamed: 5025</th>\n",
              "      <th>Unnamed: 5026</th>\n",
              "      <th>Unnamed: 5027</th>\n",
              "      <th>Unnamed: 5028</th>\n",
              "      <th>Toa Baja Municipio, Puerto Rico</th>\n",
              "      <th>Unnamed: 5030</th>\n",
              "      <th>Unnamed: 5031</th>\n",
              "      <th>Unnamed: 5032</th>\n",
              "      <th>Unnamed: 5033</th>\n",
              "      <th>Unnamed: 5034</th>\n",
              "      <th>Trujillo Alto Municipio, Puerto Rico</th>\n",
              "      <th>Unnamed: 5036</th>\n",
              "      <th>Unnamed: 5037</th>\n",
              "      <th>Unnamed: 5038</th>\n",
              "      <th>Unnamed: 5039</th>\n",
              "      <th>Unnamed: 5040</th>\n",
              "    </tr>\n",
              "  </thead>\n",
              "  <tbody>\n",
              "    <tr>\n",
              "      <th>0</th>\n",
              "      <td>Total</td>\n",
              "      <td>NaN</td>\n",
              "      <td>Public Coverage</td>\n",
              "      <td>NaN</td>\n",
              "      <td>Percent Public Coverage</td>\n",
              "      <td>NaN</td>\n",
              "      <td>Total</td>\n",
              "      <td>NaN</td>\n",
              "      <td>Public Coverage</td>\n",
              "      <td>NaN</td>\n",
              "      <td>Percent Public Coverage</td>\n",
              "      <td>NaN</td>\n",
              "      <td>Total</td>\n",
              "      <td>NaN</td>\n",
              "      <td>Public Coverage</td>\n",
              "      <td>NaN</td>\n",
              "      <td>Percent Public Coverage</td>\n",
              "      <td>NaN</td>\n",
              "      <td>Total</td>\n",
              "      <td>NaN</td>\n",
              "      <td>Public Coverage</td>\n",
              "      <td>NaN</td>\n",
              "      <td>Percent Public Coverage</td>\n",
              "      <td>NaN</td>\n",
              "      <td>Total</td>\n",
              "      <td>NaN</td>\n",
              "      <td>Public Coverage</td>\n",
              "      <td>NaN</td>\n",
              "      <td>Percent Public Coverage</td>\n",
              "      <td>NaN</td>\n",
              "      <td>Total</td>\n",
              "      <td>NaN</td>\n",
              "      <td>Public Coverage</td>\n",
              "      <td>NaN</td>\n",
              "      <td>Percent Public Coverage</td>\n",
              "      <td>NaN</td>\n",
              "      <td>Total</td>\n",
              "      <td>NaN</td>\n",
              "      <td>Public Coverage</td>\n",
              "      <td>NaN</td>\n",
              "      <td>...</td>\n",
              "      <td>Public Coverage</td>\n",
              "      <td>NaN</td>\n",
              "      <td>Percent Public Coverage</td>\n",
              "      <td>NaN</td>\n",
              "      <td>Total</td>\n",
              "      <td>NaN</td>\n",
              "      <td>Public Coverage</td>\n",
              "      <td>NaN</td>\n",
              "      <td>Percent Public Coverage</td>\n",
              "      <td>NaN</td>\n",
              "      <td>Total</td>\n",
              "      <td>NaN</td>\n",
              "      <td>Public Coverage</td>\n",
              "      <td>NaN</td>\n",
              "      <td>Percent Public Coverage</td>\n",
              "      <td>NaN</td>\n",
              "      <td>Total</td>\n",
              "      <td>NaN</td>\n",
              "      <td>Public Coverage</td>\n",
              "      <td>NaN</td>\n",
              "      <td>Percent Public Coverage</td>\n",
              "      <td>NaN</td>\n",
              "      <td>Total</td>\n",
              "      <td>NaN</td>\n",
              "      <td>Public Coverage</td>\n",
              "      <td>NaN</td>\n",
              "      <td>Percent Public Coverage</td>\n",
              "      <td>NaN</td>\n",
              "      <td>Total</td>\n",
              "      <td>NaN</td>\n",
              "      <td>Public Coverage</td>\n",
              "      <td>NaN</td>\n",
              "      <td>Percent Public Coverage</td>\n",
              "      <td>NaN</td>\n",
              "      <td>Total</td>\n",
              "      <td>NaN</td>\n",
              "      <td>Public Coverage</td>\n",
              "      <td>NaN</td>\n",
              "      <td>Percent Public Coverage</td>\n",
              "      <td>NaN</td>\n",
              "    </tr>\n",
              "    <tr>\n",
              "      <th>1</th>\n",
              "      <td>Estimate</td>\n",
              "      <td>Margin of Error</td>\n",
              "      <td>Estimate</td>\n",
              "      <td>Margin of Error</td>\n",
              "      <td>Estimate</td>\n",
              "      <td>Margin of Error</td>\n",
              "      <td>Estimate</td>\n",
              "      <td>Margin of Error</td>\n",
              "      <td>Estimate</td>\n",
              "      <td>Margin of Error</td>\n",
              "      <td>Estimate</td>\n",
              "      <td>Margin of Error</td>\n",
              "      <td>Estimate</td>\n",
              "      <td>Margin of Error</td>\n",
              "      <td>Estimate</td>\n",
              "      <td>Margin of Error</td>\n",
              "      <td>Estimate</td>\n",
              "      <td>Margin of Error</td>\n",
              "      <td>Estimate</td>\n",
              "      <td>Margin of Error</td>\n",
              "      <td>Estimate</td>\n",
              "      <td>Margin of Error</td>\n",
              "      <td>Estimate</td>\n",
              "      <td>Margin of Error</td>\n",
              "      <td>Estimate</td>\n",
              "      <td>Margin of Error</td>\n",
              "      <td>Estimate</td>\n",
              "      <td>Margin of Error</td>\n",
              "      <td>Estimate</td>\n",
              "      <td>Margin of Error</td>\n",
              "      <td>Estimate</td>\n",
              "      <td>Margin of Error</td>\n",
              "      <td>Estimate</td>\n",
              "      <td>Margin of Error</td>\n",
              "      <td>Estimate</td>\n",
              "      <td>Margin of Error</td>\n",
              "      <td>Estimate</td>\n",
              "      <td>Margin of Error</td>\n",
              "      <td>Estimate</td>\n",
              "      <td>Margin of Error</td>\n",
              "      <td>...</td>\n",
              "      <td>Estimate</td>\n",
              "      <td>Margin of Error</td>\n",
              "      <td>Estimate</td>\n",
              "      <td>Margin of Error</td>\n",
              "      <td>Estimate</td>\n",
              "      <td>Margin of Error</td>\n",
              "      <td>Estimate</td>\n",
              "      <td>Margin of Error</td>\n",
              "      <td>Estimate</td>\n",
              "      <td>Margin of Error</td>\n",
              "      <td>Estimate</td>\n",
              "      <td>Margin of Error</td>\n",
              "      <td>Estimate</td>\n",
              "      <td>Margin of Error</td>\n",
              "      <td>Estimate</td>\n",
              "      <td>Margin of Error</td>\n",
              "      <td>Estimate</td>\n",
              "      <td>Margin of Error</td>\n",
              "      <td>Estimate</td>\n",
              "      <td>Margin of Error</td>\n",
              "      <td>Estimate</td>\n",
              "      <td>Margin of Error</td>\n",
              "      <td>Estimate</td>\n",
              "      <td>Margin of Error</td>\n",
              "      <td>Estimate</td>\n",
              "      <td>Margin of Error</td>\n",
              "      <td>Estimate</td>\n",
              "      <td>Margin of Error</td>\n",
              "      <td>Estimate</td>\n",
              "      <td>Margin of Error</td>\n",
              "      <td>Estimate</td>\n",
              "      <td>Margin of Error</td>\n",
              "      <td>Estimate</td>\n",
              "      <td>Margin of Error</td>\n",
              "      <td>Estimate</td>\n",
              "      <td>Margin of Error</td>\n",
              "      <td>Estimate</td>\n",
              "      <td>Margin of Error</td>\n",
              "      <td>Estimate</td>\n",
              "      <td>Margin of Error</td>\n",
              "    </tr>\n",
              "    <tr>\n",
              "      <th>2</th>\n",
              "      <td>220,911</td>\n",
              "      <td>86,564</td>\n",
              "      <td>39.2%</td>\n",
              "      <td>111,075</td>\n",
              "      <td>43,304</td>\n",
              "      <td>39.0%</td>\n",
              "      <td>82,841</td>\n",
              "      <td>33,841</td>\n",
              "      <td>40.9%</td>\n",
              "      <td>70,392</td>\n",
              "      <td>27,417</td>\n",
              "      <td>38.9%</td>\n",
              "      <td>75,409</td>\n",
              "      <td>26,696</td>\n",
              "      <td>35.4%</td>\n",
              "      <td>101,470</td>\n",
              "      <td>40,091</td>\n",
              "      <td>39.5%</td>\n",
              "      <td>104,604</td>\n",
              "      <td>43,175</td>\n",
              "      <td>41.3%</td>\n",
              "      <td>652,965</td>\n",
              "      <td>235,956</td>\n",
              "      <td>36.1%</td>\n",
              "      <td>91,845</td>\n",
              "      <td>33,608</td>\n",
              "      <td>36.6%</td>\n",
              "      <td>163,952</td>\n",
              "      <td>45,486</td>\n",
              "      <td>27.7%</td>\n",
              "      <td>95,533</td>\n",
              "      <td>30,811</td>\n",
              "      <td>32.3%</td>\n",
              "      <td>366,888</td>\n",
              "      <td>112,262</td>\n",
              "      <td>30.6%</td>\n",
              "      <td>95,953</td>\n",
              "      <td>38,155</td>\n",
              "      <td>39.8%</td>\n",
              "      <td>409,112</td>\n",
              "      <td>...</td>\n",
              "      <td>NaN</td>\n",
              "      <td>NaN</td>\n",
              "      <td>NaN</td>\n",
              "      <td>NaN</td>\n",
              "      <td>NaN</td>\n",
              "      <td>NaN</td>\n",
              "      <td>NaN</td>\n",
              "      <td>NaN</td>\n",
              "      <td>NaN</td>\n",
              "      <td>NaN</td>\n",
              "      <td>NaN</td>\n",
              "      <td>NaN</td>\n",
              "      <td>NaN</td>\n",
              "      <td>NaN</td>\n",
              "      <td>NaN</td>\n",
              "      <td>NaN</td>\n",
              "      <td>NaN</td>\n",
              "      <td>NaN</td>\n",
              "      <td>NaN</td>\n",
              "      <td>NaN</td>\n",
              "      <td>NaN</td>\n",
              "      <td>NaN</td>\n",
              "      <td>NaN</td>\n",
              "      <td>NaN</td>\n",
              "      <td>NaN</td>\n",
              "      <td>NaN</td>\n",
              "      <td>NaN</td>\n",
              "      <td>NaN</td>\n",
              "      <td>NaN</td>\n",
              "      <td>NaN</td>\n",
              "      <td>NaN</td>\n",
              "      <td>NaN</td>\n",
              "      <td>NaN</td>\n",
              "      <td>NaN</td>\n",
              "      <td>NaN</td>\n",
              "      <td>NaN</td>\n",
              "      <td>NaN</td>\n",
              "      <td>NaN</td>\n",
              "      <td>NaN</td>\n",
              "      <td>NaN</td>\n",
              "    </tr>\n",
              "    <tr>\n",
              "      <th>3</th>\n",
              "      <td>NaN</td>\n",
              "      <td>NaN</td>\n",
              "      <td>NaN</td>\n",
              "      <td>NaN</td>\n",
              "      <td>NaN</td>\n",
              "      <td>NaN</td>\n",
              "      <td>NaN</td>\n",
              "      <td>NaN</td>\n",
              "      <td>NaN</td>\n",
              "      <td>NaN</td>\n",
              "      <td>NaN</td>\n",
              "      <td>NaN</td>\n",
              "      <td>NaN</td>\n",
              "      <td>NaN</td>\n",
              "      <td>NaN</td>\n",
              "      <td>NaN</td>\n",
              "      <td>NaN</td>\n",
              "      <td>NaN</td>\n",
              "      <td>NaN</td>\n",
              "      <td>NaN</td>\n",
              "      <td>NaN</td>\n",
              "      <td>NaN</td>\n",
              "      <td>NaN</td>\n",
              "      <td>NaN</td>\n",
              "      <td>NaN</td>\n",
              "      <td>NaN</td>\n",
              "      <td>NaN</td>\n",
              "      <td>NaN</td>\n",
              "      <td>NaN</td>\n",
              "      <td>NaN</td>\n",
              "      <td>NaN</td>\n",
              "      <td>NaN</td>\n",
              "      <td>NaN</td>\n",
              "      <td>NaN</td>\n",
              "      <td>NaN</td>\n",
              "      <td>NaN</td>\n",
              "      <td>NaN</td>\n",
              "      <td>NaN</td>\n",
              "      <td>NaN</td>\n",
              "      <td>NaN</td>\n",
              "      <td>...</td>\n",
              "      <td>NaN</td>\n",
              "      <td>NaN</td>\n",
              "      <td>NaN</td>\n",
              "      <td>NaN</td>\n",
              "      <td>NaN</td>\n",
              "      <td>NaN</td>\n",
              "      <td>NaN</td>\n",
              "      <td>NaN</td>\n",
              "      <td>NaN</td>\n",
              "      <td>NaN</td>\n",
              "      <td>NaN</td>\n",
              "      <td>NaN</td>\n",
              "      <td>NaN</td>\n",
              "      <td>NaN</td>\n",
              "      <td>NaN</td>\n",
              "      <td>NaN</td>\n",
              "      <td>NaN</td>\n",
              "      <td>NaN</td>\n",
              "      <td>NaN</td>\n",
              "      <td>NaN</td>\n",
              "      <td>NaN</td>\n",
              "      <td>NaN</td>\n",
              "      <td>NaN</td>\n",
              "      <td>NaN</td>\n",
              "      <td>NaN</td>\n",
              "      <td>NaN</td>\n",
              "      <td>NaN</td>\n",
              "      <td>NaN</td>\n",
              "      <td>NaN</td>\n",
              "      <td>NaN</td>\n",
              "      <td>NaN</td>\n",
              "      <td>NaN</td>\n",
              "      <td>NaN</td>\n",
              "      <td>NaN</td>\n",
              "      <td>NaN</td>\n",
              "      <td>NaN</td>\n",
              "      <td>NaN</td>\n",
              "      <td>NaN</td>\n",
              "      <td>NaN</td>\n",
              "      <td>NaN</td>\n",
              "    </tr>\n",
              "    <tr>\n",
              "      <th>4</th>\n",
              "      <td>(X)</td>\n",
              "      <td>52,251</td>\n",
              "      <td>23.7%</td>\n",
              "      <td>(X)</td>\n",
              "      <td>23,617</td>\n",
              "      <td>21.3%</td>\n",
              "      <td>(X)</td>\n",
              "      <td>19,667</td>\n",
              "      <td>23.7%</td>\n",
              "      <td>(X)</td>\n",
              "      <td>13,179</td>\n",
              "      <td>18.7%</td>\n",
              "      <td>(X)</td>\n",
              "      <td>15,333</td>\n",
              "      <td>20.3%</td>\n",
              "      <td>(X)</td>\n",
              "      <td>23,015</td>\n",
              "      <td>22.7%</td>\n",
              "      <td>(X)</td>\n",
              "      <td>23,643</td>\n",
              "      <td>22.6%</td>\n",
              "      <td>(X)</td>\n",
              "      <td>123,954</td>\n",
              "      <td>19.0%</td>\n",
              "      <td>(X)</td>\n",
              "      <td>22,140</td>\n",
              "      <td>24.1%</td>\n",
              "      <td>(X)</td>\n",
              "      <td>23,128</td>\n",
              "      <td>14.1%</td>\n",
              "      <td>(X)</td>\n",
              "      <td>19,281</td>\n",
              "      <td>20.2%</td>\n",
              "      <td>(X)</td>\n",
              "      <td>62,361</td>\n",
              "      <td>17.0%</td>\n",
              "      <td>(X)</td>\n",
              "      <td>19,500</td>\n",
              "      <td>20.3%</td>\n",
              "      <td>(X)</td>\n",
              "      <td>...</td>\n",
              "      <td>NaN</td>\n",
              "      <td>NaN</td>\n",
              "      <td>NaN</td>\n",
              "      <td>NaN</td>\n",
              "      <td>NaN</td>\n",
              "      <td>NaN</td>\n",
              "      <td>NaN</td>\n",
              "      <td>NaN</td>\n",
              "      <td>NaN</td>\n",
              "      <td>NaN</td>\n",
              "      <td>NaN</td>\n",
              "      <td>NaN</td>\n",
              "      <td>NaN</td>\n",
              "      <td>NaN</td>\n",
              "      <td>NaN</td>\n",
              "      <td>NaN</td>\n",
              "      <td>NaN</td>\n",
              "      <td>NaN</td>\n",
              "      <td>NaN</td>\n",
              "      <td>NaN</td>\n",
              "      <td>NaN</td>\n",
              "      <td>NaN</td>\n",
              "      <td>NaN</td>\n",
              "      <td>NaN</td>\n",
              "      <td>NaN</td>\n",
              "      <td>NaN</td>\n",
              "      <td>NaN</td>\n",
              "      <td>NaN</td>\n",
              "      <td>NaN</td>\n",
              "      <td>NaN</td>\n",
              "      <td>NaN</td>\n",
              "      <td>NaN</td>\n",
              "      <td>NaN</td>\n",
              "      <td>NaN</td>\n",
              "      <td>NaN</td>\n",
              "      <td>NaN</td>\n",
              "      <td>NaN</td>\n",
              "      <td>NaN</td>\n",
              "      <td>NaN</td>\n",
              "      <td>NaN</td>\n",
              "    </tr>\n",
              "  </tbody>\n",
              "</table>\n",
              "<p>5 rows × 5040 columns</p>\n",
              "</div>"
            ],
            "text/plain": [
              "  Baldwin County, Alabama  ...    Unnamed: 5040\n",
              "0                   Total  ...              NaN\n",
              "1                Estimate  ...  Margin of Error\n",
              "2                 220,911  ...              NaN\n",
              "3                     NaN  ...              NaN\n",
              "4                     (X)  ...              NaN\n",
              "\n",
              "[5 rows x 5040 columns]"
            ]
          },
          "metadata": {
            "tags": []
          },
          "execution_count": 133
        }
      ]
    },
    {
      "cell_type": "code",
      "metadata": {
        "id": "Y8v1iCDjC7jk"
      },
      "source": [
        "#same process for the income dataframes\n",
        "income_10_11_df = data_income_10_11.drop(['GeoFips', 'LineCode'], axis=1)\n",
        "\n",
        "income_10_11_df['State'] = income_10_11_df.apply(lambda x: get_state_col(x, 'GeoName'), axis=1)\n",
        "income_10_11_df['County'] = income_10_11_df.apply(lambda x: get_county_col(x, 'GeoName'), axis=1)\n",
        "#income_10_11_df.tail()"
      ],
      "execution_count": null,
      "outputs": []
    },
    {
      "cell_type": "code",
      "metadata": {
        "id": "8cNWcIq6C_ZF"
      },
      "source": [
        "#same process for the income dataframes\n",
        "income_12_13_df = data_income_12_13.drop(['GeoFips', 'LineCode'], axis=1)\n",
        "\n",
        "income_12_13_df['State'] = income_12_13_df.apply(lambda x: get_state_col(x, 'GeoName'), axis=1)\n",
        "income_12_13_df['County'] = income_12_13_df.apply(lambda x: get_county_col(x, 'GeoName'), axis=1)\n",
        "#income_12_13_df.tail()"
      ],
      "execution_count": null,
      "outputs": []
    },
    {
      "cell_type": "code",
      "metadata": {
        "id": "-GIqPbZiDBU1"
      },
      "source": [
        "#same process for the income dataframes\n",
        "income_14_16_df = data_income_14_16.drop(['GeoFips', 'LineCode'], axis=1)\n",
        "\n",
        "income_14_16_df['State'] = income_14_16_df.apply(lambda x: get_state_col(x, 'GeoName'), axis=1)\n",
        "income_14_16_df['County'] = income_14_16_df.apply(lambda x: get_county_col(x, 'GeoName'), axis=1)\n",
        "#income_14_16_df.tail()"
      ],
      "execution_count": null,
      "outputs": []
    },
    {
      "cell_type": "code",
      "metadata": {
        "id": "zDoEYl-MDDhR"
      },
      "source": [
        "#same process for the income dataframes\n",
        "income_17_19_df = data_income_17_19.drop(['GeoFips', 'LineCode'], axis=1)\n",
        "\n",
        "income_17_19_df['State'] = income_17_19_df.apply(lambda x: get_state_col(x, 'GeoName'), axis=1)\n",
        "income_17_19_df['County'] = income_17_19_df.apply(lambda x: get_county_col(x, 'GeoName'), axis=1)\n",
        "#income_17_19_df.tail()"
      ],
      "execution_count": null,
      "outputs": []
    },
    {
      "cell_type": "code",
      "metadata": {
        "id": "XfEQXR0EDF3c"
      },
      "source": [
        "#the values in the \"Description\" column in the income dataframes should\n",
        "#be columns and the years should be row values\n",
        "#this function uses the melt function to do that\n",
        "#it takes the dataframe and a list of the years that are column names that\n",
        "#we want to be in the rows\n",
        "def melt_income_df(df, value_vars_list):\n",
        "\n",
        "  new_df = df.melt(id_vars=['County', 'State', 'Description'],\n",
        "                                             value_vars=value_vars_list, \n",
        "                                             var_name='Year')\n",
        "  \n",
        "  return new_df"
      ],
      "execution_count": null,
      "outputs": []
    },
    {
      "cell_type": "code",
      "metadata": {
        "id": "73TL7RbADSE2"
      },
      "source": [
        "#use the melt_income_df function to switch the columns and rows\n",
        "income_10_11_pivot_df = melt_income_df(income_10_11_df, ['2010','2011'])\n",
        "#income_10_11_pivot_df.tail()"
      ],
      "execution_count": null,
      "outputs": []
    },
    {
      "cell_type": "code",
      "metadata": {
        "id": "WgiFqpiwDU-v"
      },
      "source": [
        "#follow the same process for all income dataframes\n",
        "income_12_13_pivot_df = melt_income_df(income_12_13_df, ['2012','2013'])\n",
        "income_14_16_pivot_df = melt_income_df(income_14_16_df, ['2014','2015','2016'])\n",
        "income_17_19_pivot_df = melt_income_df(income_17_19_df, ['2017','2018','2019'])"
      ],
      "execution_count": null,
      "outputs": []
    },
    {
      "cell_type": "code",
      "metadata": {
        "id": "u_6PZ53SDXmT"
      },
      "source": [
        "#append the income dataframes together\n",
        "income_df = income_10_11_pivot_df.append(income_12_13_pivot_df)\n",
        "income_df = income_df.append(income_14_16_pivot_df)\n",
        "income_df = income_df.append(income_17_19_pivot_df)"
      ],
      "execution_count": null,
      "outputs": []
    },
    {
      "cell_type": "code",
      "metadata": {
        "id": "uOeNxAjYDZ2C"
      },
      "source": [
        "#strip some extra characters from description column\n",
        "income_df['Description'] = income_df['Description'].str.strip('12/ ')\n",
        "\n",
        "#drop some rows with extra info\n",
        "income_df = income_df.loc[(income_df['Description'] != 'Personal income (thousands of dollars)') &\n",
        "                          (income_df['Description'] != 'Population (persons)')]\n",
        "\n",
        "#rename \"value\" column to something more descriptive\n",
        "income_df = income_df.rename(columns={'value':'per_capita_income_dollars'}).drop('Description', axis=1)"
      ],
      "execution_count": null,
      "outputs": []
    },
    {
      "cell_type": "code",
      "metadata": {
        "id": "2LomZ8KADc5u"
      },
      "source": [
        "#make county names consistent with MD death dataframe\n",
        "income_df['County'] = income_df['County'] + ' County'\n",
        "income_df.loc[income_df['County'] == \n",
        "              'Baltimore (Independent City) County','County'] = 'Baltimore city'"
      ],
      "execution_count": null,
      "outputs": []
    },
    {
      "cell_type": "code",
      "metadata": {
        "id": "9KWpQ9WMDfDl"
      },
      "source": [
        "#drop unnecessary columns\n",
        "deaths_df = data_deaths.drop(['Year Code', 'Crude Rate'], axis=1)\n",
        "\n",
        "#get county and state columns\n",
        "deaths_df['State'] = deaths_df.apply(lambda x: get_state_col(x, 'County'), axis=1)\n",
        "deaths_df['County'] = deaths_df.apply(lambda x: get_county_col(x, 'County'), axis=1)\n",
        "\n",
        "#rename \"Deaths\" column to \"Total Deaths\"\n",
        "deaths_df = deaths_df.rename(columns={'Deaths':'Total Deaths'})\n",
        "\n",
        "#deaths_df.tail()"
      ],
      "execution_count": null,
      "outputs": []
    },
    {
      "cell_type": "code",
      "metadata": {
        "id": "8kSH5hXyDhMt"
      },
      "source": [
        "#remove the decimal from cause of death code so this column can be linked\n",
        "#to the more-general cause of death categories from CDC\n",
        "def get_cause_code(df):\n",
        "  new_code = df['Cause of death Code'][:3]\n",
        "  return new_code\n",
        "\n",
        "cause_of_death_df['Cause of death Code no decimal'] = cause_of_death_df.apply(lambda x: get_cause_code(x), \n",
        "                                                      axis=1)\n",
        "\n",
        "#cause_of_death_df.tail()"
      ],
      "execution_count": null,
      "outputs": []
    },
    {
      "cell_type": "code",
      "metadata": {
        "id": "SxiILiemDjWk"
      },
      "source": [
        "#add year column to all air data frames and then append them \n",
        "\n",
        "data_air_2010['Year'] = '2010'\n",
        "data_air_2011['Year'] = '2011'\n",
        "data_air_2012['Year'] = '2012'\n",
        "data_air_2013['Year'] = '2013'\n",
        "data_air_2014['Year'] = '2014'\n",
        "data_air_2015['Year'] = '2015'\n",
        "data_air_2016['Year'] = '2016'\n",
        "data_air_2017['Year'] = '2017'\n",
        "data_air_2018['Year'] = '2018'\n",
        "data_air_2019['Year'] = '2019'\n",
        "\n",
        "air_df = data_air_2010.append([data_air_2011, data_air_2012, data_air_2013,\n",
        "                               data_air_2014, data_air_2015, data_air_2016,\n",
        "                               data_air_2017, data_air_2018, data_air_2019], \n",
        "                              ignore_index=True)"
      ],
      "execution_count": null,
      "outputs": []
    },
    {
      "cell_type": "code",
      "metadata": {
        "id": "T4jsOm_dDmqv"
      },
      "source": [
        "#get county and state columns in air_df\n",
        "air_df['State'] = air_df.apply(lambda x: get_state_col(x, 'County'), axis=1)\n",
        "air_df['County'] = air_df.apply(lambda x: get_county_col(x, 'County'), axis=1)\n",
        "#air_df.head()"
      ],
      "execution_count": null,
      "outputs": []
    },
    {
      "cell_type": "code",
      "metadata": {
        "id": "Unfc-6ulDqdY"
      },
      "source": [
        "#make county names consistent with MD death dataframe\n",
        "air_df.loc[air_df['County'] == 'Baltimore (City)','County'] = 'Baltimore city'"
      ],
      "execution_count": null,
      "outputs": []
    },
    {
      "cell_type": "code",
      "metadata": {
        "id": "_KI1hk39DtXP"
      },
      "source": [
        "#replace '.' with np.nan\n",
        "air_df = air_df.replace('.', np.nan)\n",
        "#air_df.head()"
      ],
      "execution_count": null,
      "outputs": []
    },
    {
      "cell_type": "code",
      "metadata": {
        "colab": {
          "base_uri": "https://localhost:8080/"
        },
        "id": "RJPKAKb5Dvrs",
        "outputId": "50295f6c-8d8d-4af7-f149-ba9ad1a3a233"
      },
      "source": [
        "#this is too many NaNs to ignore, neeed to come up with an imputation method\n",
        "air_df['Ozone 2nd Max 1-hr'].isnull().sum()/air_df.shape[0]"
      ],
      "execution_count": null,
      "outputs": [
        {
          "output_type": "execute_result",
          "data": {
            "text/plain": [
              "0.19977192618702053"
            ]
          },
          "metadata": {
            "tags": []
          },
          "execution_count": 150
        }
      ]
    },
    {
      "cell_type": "code",
      "metadata": {
        "colab": {
          "base_uri": "https://localhost:8080/"
        },
        "id": "WEdS3UpVDz4O",
        "outputId": "d74cf815-937f-4520-a83c-f9be7f759df5"
      },
      "source": [
        "air_df['PM2.5 98th Percentile 24-hr'].isnull().sum()/air_df.shape[0]"
      ],
      "execution_count": null,
      "outputs": [
        {
          "output_type": "execute_result",
          "data": {
            "text/plain": [
              "0.47242380261248185"
            ]
          },
          "metadata": {
            "tags": []
          },
          "execution_count": 151
        }
      ]
    },
    {
      "cell_type": "code",
      "metadata": {
        "id": "q_tU5Uh1D30m"
      },
      "source": [
        "cause_of_death_df = cause_of_death_df.merge(deaths_df[['County', 'Year', 'Total Deaths', 'State']], \n",
        "                                            on=['County', 'State', 'Year'])\n",
        "cause_of_death_df['Year'] = cause_of_death_df['Year'].astype('str')\n",
        "cause_of_death_df = cause_of_death_df.merge(income_df, on=['County', 'State', 'Year'])\n",
        "#cause_of_death_df.tail()"
      ],
      "execution_count": null,
      "outputs": []
    },
    {
      "cell_type": "code",
      "metadata": {
        "id": "s9U_SrBID840"
      },
      "source": [
        "cause_of_death_df = cause_of_death_df.merge(data_CDC_cause_categories, \n",
        "                                            left_on='Cause of death Code no decimal',\n",
        "                                            right_on = 'Code')\n",
        "#cause_of_death_df.head()"
      ],
      "execution_count": null,
      "outputs": []
    },
    {
      "cell_type": "code",
      "metadata": {
        "id": "mCW6FDaiD_Of"
      },
      "source": [
        "cause_of_death_df = cause_of_death_df.merge(air_df[['Year', 'County', 'State', 'Ozone 2nd Max 1-hr']], \n",
        "                                            left_on=['County', 'State', 'Year'],\n",
        "                                            right_on=['County', 'State', 'Year'],\n",
        "                                            how = 'left')\n",
        "#cause_of_death_df.head()"
      ],
      "execution_count": null,
      "outputs": []
    },
    {
      "cell_type": "code",
      "metadata": {
        "colab": {
          "base_uri": "https://localhost:8080/"
        },
        "id": "h8s4AQ8BEBdP",
        "outputId": "4f018b6f-bf70-446f-dd7d-6c3f9f590008"
      },
      "source": [
        "cause_of_death_df.info()"
      ],
      "execution_count": null,
      "outputs": [
        {
          "output_type": "stream",
          "text": [
            "<class 'pandas.core.frame.DataFrame'>\n",
            "Int64Index: 90059 entries, 0 to 90058\n",
            "Data columns (total 13 columns):\n",
            " #   Column                          Non-Null Count  Dtype \n",
            "---  ------                          --------------  ----- \n",
            " 0   County                          90059 non-null  object\n",
            " 1   Year                            90059 non-null  object\n",
            " 2   Cause of death                  90059 non-null  object\n",
            " 3   Cause of death Code             90059 non-null  object\n",
            " 4   Deaths                          90059 non-null  int64 \n",
            " 5   Population                      90059 non-null  int64 \n",
            " 6   State                           90059 non-null  object\n",
            " 7   Cause of death Code no decimal  90059 non-null  object\n",
            " 8   Total Deaths                    90059 non-null  object\n",
            " 9   per_capita_income_dollars       90059 non-null  object\n",
            " 10  Code                            90059 non-null  object\n",
            " 11  Category                        90059 non-null  object\n",
            " 12  Ozone 2nd Max 1-hr              69584 non-null  object\n",
            "dtypes: int64(2), object(11)\n",
            "memory usage: 9.6+ MB\n"
          ],
          "name": "stdout"
        }
      ]
    },
    {
      "cell_type": "code",
      "metadata": {
        "colab": {
          "base_uri": "https://localhost:8080/",
          "height": 402
        },
        "id": "XM_SK8RiEEgR",
        "outputId": "089cad6f-1ee7-407d-bdd3-cb682a30007c"
      },
      "source": [
        "#since the NaNs were less than 6% of the data, drop them so we can average\n",
        "cause_of_death_df_no_na = cause_of_death_df.dropna()\n",
        "cause_of_death_df_no_na = cause_of_death_df_no_na.astype({'per_capita_income_dollars':'float', \n",
        "                                                          'Ozone 2nd Max 1-hr':'float'})\n",
        "\n",
        "#get averages by county\n",
        "avg_by_county = cause_of_death_df_no_na[['County', 'per_capita_income_dollars', \n",
        "                                         'Ozone 2nd Max 1-hr', 'Deaths']].groupby('County').aggregate(np.mean).reset_index()\n",
        "\n",
        "\n",
        "avg_by_county   \n",
        "#cause_of_death_df_no_na  "
      ],
      "execution_count": null,
      "outputs": [
        {
          "output_type": "execute_result",
          "data": {
            "text/html": [
              "<div>\n",
              "<style scoped>\n",
              "    .dataframe tbody tr th:only-of-type {\n",
              "        vertical-align: middle;\n",
              "    }\n",
              "\n",
              "    .dataframe tbody tr th {\n",
              "        vertical-align: top;\n",
              "    }\n",
              "\n",
              "    .dataframe thead th {\n",
              "        text-align: right;\n",
              "    }\n",
              "</style>\n",
              "<table border=\"1\" class=\"dataframe\">\n",
              "  <thead>\n",
              "    <tr style=\"text-align: right;\">\n",
              "      <th></th>\n",
              "      <th>County</th>\n",
              "      <th>per_capita_income_dollars</th>\n",
              "      <th>Ozone 2nd Max 1-hr</th>\n",
              "      <th>Deaths</th>\n",
              "    </tr>\n",
              "  </thead>\n",
              "  <tbody>\n",
              "    <tr>\n",
              "      <th>0</th>\n",
              "      <td>Adams County</td>\n",
              "      <td>38808.757315</td>\n",
              "      <td>0.084940</td>\n",
              "      <td>30.580034</td>\n",
              "    </tr>\n",
              "    <tr>\n",
              "      <th>1</th>\n",
              "      <td>Alachua County</td>\n",
              "      <td>41283.182674</td>\n",
              "      <td>0.073879</td>\n",
              "      <td>27.487759</td>\n",
              "    </tr>\n",
              "    <tr>\n",
              "      <th>2</th>\n",
              "      <td>Anne Arundel County</td>\n",
              "      <td>61087.101394</td>\n",
              "      <td>0.092497</td>\n",
              "      <td>42.381496</td>\n",
              "    </tr>\n",
              "    <tr>\n",
              "      <th>3</th>\n",
              "      <td>Arapahoe County</td>\n",
              "      <td>53581.454771</td>\n",
              "      <td>0.089864</td>\n",
              "      <td>33.739777</td>\n",
              "    </tr>\n",
              "    <tr>\n",
              "      <th>4</th>\n",
              "      <td>Baker County</td>\n",
              "      <td>29856.418605</td>\n",
              "      <td>0.071395</td>\n",
              "      <td>15.441860</td>\n",
              "    </tr>\n",
              "    <tr>\n",
              "      <th>...</th>\n",
              "      <td>...</td>\n",
              "      <td>...</td>\n",
              "      <td>...</td>\n",
              "      <td>...</td>\n",
              "    </tr>\n",
              "    <tr>\n",
              "      <th>110</th>\n",
              "      <td>Webb County</td>\n",
              "      <td>28590.111111</td>\n",
              "      <td>0.069815</td>\n",
              "      <td>23.759259</td>\n",
              "    </tr>\n",
              "    <tr>\n",
              "      <th>111</th>\n",
              "      <td>Weld County</td>\n",
              "      <td>42485.711392</td>\n",
              "      <td>0.088759</td>\n",
              "      <td>24.668354</td>\n",
              "    </tr>\n",
              "    <tr>\n",
              "      <th>112</th>\n",
              "      <td>Whatcom County</td>\n",
              "      <td>43810.470130</td>\n",
              "      <td>0.061169</td>\n",
              "      <td>25.475325</td>\n",
              "    </tr>\n",
              "    <tr>\n",
              "      <th>113</th>\n",
              "      <td>Windham County</td>\n",
              "      <td>42826.548077</td>\n",
              "      <td>0.089135</td>\n",
              "      <td>25.221154</td>\n",
              "    </tr>\n",
              "    <tr>\n",
              "      <th>114</th>\n",
              "      <td>Worcester County</td>\n",
              "      <td>44455.000000</td>\n",
              "      <td>0.090000</td>\n",
              "      <td>21.933333</td>\n",
              "    </tr>\n",
              "  </tbody>\n",
              "</table>\n",
              "<p>115 rows × 4 columns</p>\n",
              "</div>"
            ],
            "text/plain": [
              "                  County  ...     Deaths\n",
              "0           Adams County  ...  30.580034\n",
              "1         Alachua County  ...  27.487759\n",
              "2    Anne Arundel County  ...  42.381496\n",
              "3        Arapahoe County  ...  33.739777\n",
              "4           Baker County  ...  15.441860\n",
              "..                   ...  ...        ...\n",
              "110          Webb County  ...  23.759259\n",
              "111          Weld County  ...  24.668354\n",
              "112       Whatcom County  ...  25.475325\n",
              "113       Windham County  ...  25.221154\n",
              "114     Worcester County  ...  21.933333\n",
              "\n",
              "[115 rows x 4 columns]"
            ]
          },
          "metadata": {
            "tags": []
          },
          "execution_count": 156
        }
      ]
    },
    {
      "cell_type": "code",
      "metadata": {
        "colab": {
          "base_uri": "https://localhost:8080/"
        },
        "id": "-c1fn2LQFOGa",
        "outputId": "8656997c-c65b-4eeb-b44e-fd73aca6c26b"
      },
      "source": [
        "avg_income = avg_by_county['per_capita_income_dollars'].mean()\n",
        "stdev_income = avg_by_county['per_capita_income_dollars'].std()\n",
        "stdev_minus3_income = avg_income - 3*(stdev_income)\n",
        "stdev_plus3_income = avg_income + 3*(stdev_income)\n",
        "min_income = avg_by_county['per_capita_income_dollars'].min()\n",
        "max_income = avg_by_county['per_capita_income_dollars'].max()\n",
        "\n",
        "print('Average: ',avg_income)\n",
        "print('Standard dev: ', stdev_income)\n",
        "print('Min: ', min_income)\n",
        "print('Max: ', max_income)\n",
        "print('Mean minus 3 st. dev.s: ', stdev_minus3_income)\n",
        "print('Mean plut 3 st. dev.s: ', stdev_plus3_income)"
      ],
      "execution_count": null,
      "outputs": [
        {
          "output_type": "stream",
          "text": [
            "Average:  46591.9788665274\n",
            "Standard dev:  12152.75368536614\n",
            "Min:  24057.703703703704\n",
            "Max:  107553.32766761095\n",
            "Mean minus 3 st. dev.s:  10133.717810428985\n",
            "Mean plut 3 st. dev.s:  83050.23992262583\n"
          ],
          "name": "stdout"
        }
      ]
    },
    {
      "cell_type": "code",
      "metadata": {
        "colab": {
          "base_uri": "https://localhost:8080/"
        },
        "id": "lxiSSGX8FZii",
        "outputId": "c4ebf0af-534f-4fa9-881a-253bee4fc83b"
      },
      "source": [
        "(max_income-min_income)/3"
      ],
      "execution_count": null,
      "outputs": [
        {
          "output_type": "execute_result",
          "data": {
            "text/plain": [
              "27831.874654635747"
            ]
          },
          "metadata": {
            "tags": []
          },
          "execution_count": 158
        }
      ]
    },
    {
      "cell_type": "code",
      "metadata": {
        "colab": {
          "base_uri": "https://localhost:8080/"
        },
        "id": "MIqo_wI3FdHt",
        "outputId": "ffe8922a-10ce-4147-c8fd-19732f42278e"
      },
      "source": [
        "bins = [0,40000,50000,80000]\n",
        "labels = [\"Low\",\"Middle\",\"High\"]\n",
        "avg_by_county['income_bucket'] = pd.cut(avg_by_county['per_capita_income_dollars'], \n",
        "                                        bins=bins, labels=labels)\n",
        "#avg_by_county\n",
        "avg_by_county['income_bucket'].value_counts()"
      ],
      "execution_count": null,
      "outputs": [
        {
          "output_type": "execute_result",
          "data": {
            "text/plain": [
              "Middle    51\n",
              "High      32\n",
              "Low       30\n",
              "Name: income_bucket, dtype: int64"
            ]
          },
          "metadata": {
            "tags": []
          },
          "execution_count": 159
        }
      ]
    },
    {
      "cell_type": "code",
      "metadata": {
        "colab": {
          "base_uri": "https://localhost:8080/",
          "height": 195
        },
        "id": "FcHEEhdFFnxv",
        "outputId": "37934fa7-19c0-462c-e9d1-3c0dff196403"
      },
      "source": [
        "avg_death_by_county = cause_of_death_df_no_na[['County', 'Cause of death', \n",
        "                                               'Deaths']].groupby(['County',\n",
        "                                                                  'Cause of death']).aggregate(np.mean).reset_index()\n",
        "avg_death_by_county.head()"
      ],
      "execution_count": null,
      "outputs": [
        {
          "output_type": "execute_result",
          "data": {
            "text/html": [
              "<div>\n",
              "<style scoped>\n",
              "    .dataframe tbody tr th:only-of-type {\n",
              "        vertical-align: middle;\n",
              "    }\n",
              "\n",
              "    .dataframe tbody tr th {\n",
              "        vertical-align: top;\n",
              "    }\n",
              "\n",
              "    .dataframe thead th {\n",
              "        text-align: right;\n",
              "    }\n",
              "</style>\n",
              "<table border=\"1\" class=\"dataframe\">\n",
              "  <thead>\n",
              "    <tr style=\"text-align: right;\">\n",
              "      <th></th>\n",
              "      <th>County</th>\n",
              "      <th>Cause of death</th>\n",
              "      <th>Deaths</th>\n",
              "    </tr>\n",
              "  </thead>\n",
              "  <tbody>\n",
              "    <tr>\n",
              "      <th>0</th>\n",
              "      <td>Adams County</td>\n",
              "      <td>Accidental poisoning by and exposure to alcohol</td>\n",
              "      <td>13.000000</td>\n",
              "    </tr>\n",
              "    <tr>\n",
              "      <th>1</th>\n",
              "      <td>Adams County</td>\n",
              "      <td>Accidental poisoning by and exposure to antiep...</td>\n",
              "      <td>12.714286</td>\n",
              "    </tr>\n",
              "    <tr>\n",
              "      <th>2</th>\n",
              "      <td>Adams County</td>\n",
              "      <td>Accidental poisoning by and exposure to narcot...</td>\n",
              "      <td>39.666667</td>\n",
              "    </tr>\n",
              "    <tr>\n",
              "      <th>3</th>\n",
              "      <td>Adams County</td>\n",
              "      <td>Accidental poisoning by and exposure to other ...</td>\n",
              "      <td>25.777778</td>\n",
              "    </tr>\n",
              "    <tr>\n",
              "      <th>4</th>\n",
              "      <td>Adams County</td>\n",
              "      <td>Acute myeloid leukaemia - Malignant neoplasms</td>\n",
              "      <td>12.200000</td>\n",
              "    </tr>\n",
              "  </tbody>\n",
              "</table>\n",
              "</div>"
            ],
            "text/plain": [
              "         County                                     Cause of death     Deaths\n",
              "0  Adams County    Accidental poisoning by and exposure to alcohol  13.000000\n",
              "1  Adams County  Accidental poisoning by and exposure to antiep...  12.714286\n",
              "2  Adams County  Accidental poisoning by and exposure to narcot...  39.666667\n",
              "3  Adams County  Accidental poisoning by and exposure to other ...  25.777778\n",
              "4  Adams County      Acute myeloid leukaemia - Malignant neoplasms  12.200000"
            ]
          },
          "metadata": {
            "tags": []
          },
          "execution_count": 160
        }
      ]
    },
    {
      "cell_type": "code",
      "metadata": {
        "id": "a2iw1zBhF55G"
      },
      "source": [
        "#create and empty dictionary and lists to hold the info from our for loop\n",
        "common_cause_dict = {}\n",
        "county_list = []\n",
        "cause_list = []\n",
        "\n",
        "#loop over every county\n",
        "for county in avg_death_by_county['County'].unique():\n",
        "\n",
        "  #get the index location of the cause of death that has the highest number\n",
        "  #of deaths for each county\n",
        "  common_index = avg_death_by_county.loc[avg_death_by_county['County'] == county]['Deaths'].idxmax()\n",
        "\n",
        "  #get the cause associated with that index\n",
        "  cause = avg_death_by_county.loc[[common_index]]['Cause of death'].values[0]\n",
        "  \n",
        "  #append these to lists\n",
        "  county_list.append(county)\n",
        "  cause_list.append(cause)\n",
        "\n",
        "#assign the lists to dictionary keys to become a DF\n",
        "common_cause_dict['County'] = county_list\n",
        "common_cause_dict['Cause of death'] = cause_list"
      ],
      "execution_count": null,
      "outputs": []
    },
    {
      "cell_type": "code",
      "metadata": {
        "colab": {
          "base_uri": "https://localhost:8080/",
          "height": 402
        },
        "id": "wIvFGYjWGaE5",
        "outputId": "837e0eee-e39b-47ee-ae89-24a2b598c535"
      },
      "source": [
        "common_cause_df = pd.DataFrame.from_dict(data=common_cause_dict)\n",
        "common_cause_df"
      ],
      "execution_count": null,
      "outputs": [
        {
          "output_type": "execute_result",
          "data": {
            "text/html": [
              "<div>\n",
              "<style scoped>\n",
              "    .dataframe tbody tr th:only-of-type {\n",
              "        vertical-align: middle;\n",
              "    }\n",
              "\n",
              "    .dataframe tbody tr th {\n",
              "        vertical-align: top;\n",
              "    }\n",
              "\n",
              "    .dataframe thead th {\n",
              "        text-align: right;\n",
              "    }\n",
              "</style>\n",
              "<table border=\"1\" class=\"dataframe\">\n",
              "  <thead>\n",
              "    <tr style=\"text-align: right;\">\n",
              "      <th></th>\n",
              "      <th>County</th>\n",
              "      <th>Cause of death</th>\n",
              "    </tr>\n",
              "  </thead>\n",
              "  <tbody>\n",
              "    <tr>\n",
              "      <th>0</th>\n",
              "      <td>Adams County</td>\n",
              "      <td>Chronic obstructive pulmonary disease, unspeci...</td>\n",
              "    </tr>\n",
              "    <tr>\n",
              "      <th>1</th>\n",
              "      <td>Alachua County</td>\n",
              "      <td>Unspecified dementia</td>\n",
              "    </tr>\n",
              "    <tr>\n",
              "      <th>2</th>\n",
              "      <td>Anne Arundel County</td>\n",
              "      <td>Bronchus or lung, unspecified - Malignant neop...</td>\n",
              "    </tr>\n",
              "    <tr>\n",
              "      <th>3</th>\n",
              "      <td>Arapahoe County</td>\n",
              "      <td>Alzheimer disease, unspecified</td>\n",
              "    </tr>\n",
              "    <tr>\n",
              "      <th>4</th>\n",
              "      <td>Baker County</td>\n",
              "      <td>Bronchus or lung, unspecified - Malignant neop...</td>\n",
              "    </tr>\n",
              "    <tr>\n",
              "      <th>...</th>\n",
              "      <td>...</td>\n",
              "      <td>...</td>\n",
              "    </tr>\n",
              "    <tr>\n",
              "      <th>110</th>\n",
              "      <td>Webb County</td>\n",
              "      <td>Acute myocardial infarction, unspecified</td>\n",
              "    </tr>\n",
              "    <tr>\n",
              "      <th>111</th>\n",
              "      <td>Weld County</td>\n",
              "      <td>Chronic obstructive pulmonary disease, unspeci...</td>\n",
              "    </tr>\n",
              "    <tr>\n",
              "      <th>112</th>\n",
              "      <td>Whatcom County</td>\n",
              "      <td>Alzheimer disease, unspecified</td>\n",
              "    </tr>\n",
              "    <tr>\n",
              "      <th>113</th>\n",
              "      <td>Windham County</td>\n",
              "      <td>Atherosclerotic heart disease</td>\n",
              "    </tr>\n",
              "    <tr>\n",
              "      <th>114</th>\n",
              "      <td>Worcester County</td>\n",
              "      <td>Bronchus or lung, unspecified - Malignant neop...</td>\n",
              "    </tr>\n",
              "  </tbody>\n",
              "</table>\n",
              "<p>115 rows × 2 columns</p>\n",
              "</div>"
            ],
            "text/plain": [
              "                  County                                     Cause of death\n",
              "0           Adams County  Chronic obstructive pulmonary disease, unspeci...\n",
              "1         Alachua County                               Unspecified dementia\n",
              "2    Anne Arundel County  Bronchus or lung, unspecified - Malignant neop...\n",
              "3        Arapahoe County                     Alzheimer disease, unspecified\n",
              "4           Baker County  Bronchus or lung, unspecified - Malignant neop...\n",
              "..                   ...                                                ...\n",
              "110          Webb County           Acute myocardial infarction, unspecified\n",
              "111          Weld County  Chronic obstructive pulmonary disease, unspeci...\n",
              "112       Whatcom County                     Alzheimer disease, unspecified\n",
              "113       Windham County                      Atherosclerotic heart disease\n",
              "114     Worcester County  Bronchus or lung, unspecified - Malignant neop...\n",
              "\n",
              "[115 rows x 2 columns]"
            ]
          },
          "metadata": {
            "tags": []
          },
          "execution_count": 162
        }
      ]
    },
    {
      "cell_type": "code",
      "metadata": {
        "colab": {
          "base_uri": "https://localhost:8080/",
          "height": 402
        },
        "id": "KRmbnFAgGeQ9",
        "outputId": "beb45b64-311c-402b-f79b-6da816542ca7"
      },
      "source": [
        "avg_by_county = avg_by_county.merge(common_cause_df, on='County')\n",
        "avg_by_county"
      ],
      "execution_count": null,
      "outputs": [
        {
          "output_type": "execute_result",
          "data": {
            "text/html": [
              "<div>\n",
              "<style scoped>\n",
              "    .dataframe tbody tr th:only-of-type {\n",
              "        vertical-align: middle;\n",
              "    }\n",
              "\n",
              "    .dataframe tbody tr th {\n",
              "        vertical-align: top;\n",
              "    }\n",
              "\n",
              "    .dataframe thead th {\n",
              "        text-align: right;\n",
              "    }\n",
              "</style>\n",
              "<table border=\"1\" class=\"dataframe\">\n",
              "  <thead>\n",
              "    <tr style=\"text-align: right;\">\n",
              "      <th></th>\n",
              "      <th>County</th>\n",
              "      <th>per_capita_income_dollars</th>\n",
              "      <th>Ozone 2nd Max 1-hr</th>\n",
              "      <th>Deaths</th>\n",
              "      <th>income_bucket</th>\n",
              "      <th>Cause of death</th>\n",
              "    </tr>\n",
              "  </thead>\n",
              "  <tbody>\n",
              "    <tr>\n",
              "      <th>0</th>\n",
              "      <td>Adams County</td>\n",
              "      <td>38808.757315</td>\n",
              "      <td>0.084940</td>\n",
              "      <td>30.580034</td>\n",
              "      <td>Low</td>\n",
              "      <td>Chronic obstructive pulmonary disease, unspeci...</td>\n",
              "    </tr>\n",
              "    <tr>\n",
              "      <th>1</th>\n",
              "      <td>Alachua County</td>\n",
              "      <td>41283.182674</td>\n",
              "      <td>0.073879</td>\n",
              "      <td>27.487759</td>\n",
              "      <td>Middle</td>\n",
              "      <td>Unspecified dementia</td>\n",
              "    </tr>\n",
              "    <tr>\n",
              "      <th>2</th>\n",
              "      <td>Anne Arundel County</td>\n",
              "      <td>61087.101394</td>\n",
              "      <td>0.092497</td>\n",
              "      <td>42.381496</td>\n",
              "      <td>High</td>\n",
              "      <td>Bronchus or lung, unspecified - Malignant neop...</td>\n",
              "    </tr>\n",
              "    <tr>\n",
              "      <th>3</th>\n",
              "      <td>Arapahoe County</td>\n",
              "      <td>53581.454771</td>\n",
              "      <td>0.089864</td>\n",
              "      <td>33.739777</td>\n",
              "      <td>High</td>\n",
              "      <td>Alzheimer disease, unspecified</td>\n",
              "    </tr>\n",
              "    <tr>\n",
              "      <th>4</th>\n",
              "      <td>Baker County</td>\n",
              "      <td>29856.418605</td>\n",
              "      <td>0.071395</td>\n",
              "      <td>15.441860</td>\n",
              "      <td>Low</td>\n",
              "      <td>Bronchus or lung, unspecified - Malignant neop...</td>\n",
              "    </tr>\n",
              "    <tr>\n",
              "      <th>...</th>\n",
              "      <td>...</td>\n",
              "      <td>...</td>\n",
              "      <td>...</td>\n",
              "      <td>...</td>\n",
              "      <td>...</td>\n",
              "      <td>...</td>\n",
              "    </tr>\n",
              "    <tr>\n",
              "      <th>110</th>\n",
              "      <td>Webb County</td>\n",
              "      <td>28590.111111</td>\n",
              "      <td>0.069815</td>\n",
              "      <td>23.759259</td>\n",
              "      <td>Low</td>\n",
              "      <td>Acute myocardial infarction, unspecified</td>\n",
              "    </tr>\n",
              "    <tr>\n",
              "      <th>111</th>\n",
              "      <td>Weld County</td>\n",
              "      <td>42485.711392</td>\n",
              "      <td>0.088759</td>\n",
              "      <td>24.668354</td>\n",
              "      <td>Middle</td>\n",
              "      <td>Chronic obstructive pulmonary disease, unspeci...</td>\n",
              "    </tr>\n",
              "    <tr>\n",
              "      <th>112</th>\n",
              "      <td>Whatcom County</td>\n",
              "      <td>43810.470130</td>\n",
              "      <td>0.061169</td>\n",
              "      <td>25.475325</td>\n",
              "      <td>Middle</td>\n",
              "      <td>Alzheimer disease, unspecified</td>\n",
              "    </tr>\n",
              "    <tr>\n",
              "      <th>113</th>\n",
              "      <td>Windham County</td>\n",
              "      <td>42826.548077</td>\n",
              "      <td>0.089135</td>\n",
              "      <td>25.221154</td>\n",
              "      <td>Middle</td>\n",
              "      <td>Atherosclerotic heart disease</td>\n",
              "    </tr>\n",
              "    <tr>\n",
              "      <th>114</th>\n",
              "      <td>Worcester County</td>\n",
              "      <td>44455.000000</td>\n",
              "      <td>0.090000</td>\n",
              "      <td>21.933333</td>\n",
              "      <td>Middle</td>\n",
              "      <td>Bronchus or lung, unspecified - Malignant neop...</td>\n",
              "    </tr>\n",
              "  </tbody>\n",
              "</table>\n",
              "<p>115 rows × 6 columns</p>\n",
              "</div>"
            ],
            "text/plain": [
              "                  County  ...                                     Cause of death\n",
              "0           Adams County  ...  Chronic obstructive pulmonary disease, unspeci...\n",
              "1         Alachua County  ...                               Unspecified dementia\n",
              "2    Anne Arundel County  ...  Bronchus or lung, unspecified - Malignant neop...\n",
              "3        Arapahoe County  ...                     Alzheimer disease, unspecified\n",
              "4           Baker County  ...  Bronchus or lung, unspecified - Malignant neop...\n",
              "..                   ...  ...                                                ...\n",
              "110          Webb County  ...           Acute myocardial infarction, unspecified\n",
              "111          Weld County  ...  Chronic obstructive pulmonary disease, unspeci...\n",
              "112       Whatcom County  ...                     Alzheimer disease, unspecified\n",
              "113       Windham County  ...                      Atherosclerotic heart disease\n",
              "114     Worcester County  ...  Bronchus or lung, unspecified - Malignant neop...\n",
              "\n",
              "[115 rows x 6 columns]"
            ]
          },
          "metadata": {
            "tags": []
          },
          "execution_count": 163
        }
      ]
    },
    {
      "cell_type": "code",
      "metadata": {
        "id": "bRb-Y3fDGg7p"
      },
      "source": [
        "X = avg_by_county[['Ozone 2nd Max 1-hr', 'per_capita_income_dollars']]\n",
        "y = avg_by_county[['Cause of death']]"
      ],
      "execution_count": null,
      "outputs": []
    },
    {
      "cell_type": "code",
      "metadata": {
        "id": "XmNTKxukSy76"
      },
      "source": [
        "from sklearn import preprocessing\n",
        "le=preprocessing.LabelEncoder()\n",
        "avg_by_county['Cause of death_num'] = le.fit_transform(avg_by_county['Cause of death'])\n",
        "avg_by_county['income_bucket_num']= avg_by_county['income_bucket'].map({'Low':0,\"Middle\":1,\"High\":2})"
      ],
      "execution_count": null,
      "outputs": []
    },
    {
      "cell_type": "code",
      "metadata": {
        "colab": {
          "base_uri": "https://localhost:8080/",
          "height": 106
        },
        "id": "UMlOezk4S88I",
        "outputId": "1dcfcf1e-267b-4e87-ef61-4585ff10985a"
      },
      "source": [
        "avg_by_county[avg_by_county.income_bucket.isnull()]"
      ],
      "execution_count": null,
      "outputs": [
        {
          "output_type": "execute_result",
          "data": {
            "text/html": [
              "<div>\n",
              "<style scoped>\n",
              "    .dataframe tbody tr th:only-of-type {\n",
              "        vertical-align: middle;\n",
              "    }\n",
              "\n",
              "    .dataframe tbody tr th {\n",
              "        vertical-align: top;\n",
              "    }\n",
              "\n",
              "    .dataframe thead th {\n",
              "        text-align: right;\n",
              "    }\n",
              "</style>\n",
              "<table border=\"1\" class=\"dataframe\">\n",
              "  <thead>\n",
              "    <tr style=\"text-align: right;\">\n",
              "      <th></th>\n",
              "      <th>County</th>\n",
              "      <th>per_capita_income_dollars</th>\n",
              "      <th>Ozone 2nd Max 1-hr</th>\n",
              "      <th>Deaths</th>\n",
              "      <th>income_bucket</th>\n",
              "      <th>Cause of death</th>\n",
              "      <th>Cause of death_num</th>\n",
              "      <th>income_bucket_num</th>\n",
              "    </tr>\n",
              "  </thead>\n",
              "  <tbody>\n",
              "    <tr>\n",
              "      <th>22</th>\n",
              "      <td>Collier County</td>\n",
              "      <td>84277.046366</td>\n",
              "      <td>0.069185</td>\n",
              "      <td>38.055138</td>\n",
              "      <td>NaN</td>\n",
              "      <td>Atherosclerotic heart disease</td>\n",
              "      <td>3</td>\n",
              "      <td>NaN</td>\n",
              "    </tr>\n",
              "    <tr>\n",
              "      <th>35</th>\n",
              "      <td>Fairfield County</td>\n",
              "      <td>107553.327668</td>\n",
              "      <td>0.116950</td>\n",
              "      <td>52.981114</td>\n",
              "      <td>NaN</td>\n",
              "      <td>Atherosclerotic heart disease</td>\n",
              "      <td>3</td>\n",
              "      <td>NaN</td>\n",
              "    </tr>\n",
              "  </tbody>\n",
              "</table>\n",
              "</div>"
            ],
            "text/plain": [
              "              County  ...  income_bucket_num\n",
              "22    Collier County  ...                NaN\n",
              "35  Fairfield County  ...                NaN\n",
              "\n",
              "[2 rows x 8 columns]"
            ]
          },
          "metadata": {
            "tags": []
          },
          "execution_count": 166
        }
      ]
    },
    {
      "cell_type": "code",
      "metadata": {
        "id": "GE4wppYxtdi-"
      },
      "source": [
        "avg_by_county=avg_by_county.drop(index=22)\n",
        "avg_by_county=avg_by_county.drop(index=35)"
      ],
      "execution_count": null,
      "outputs": []
    },
    {
      "cell_type": "code",
      "metadata": {
        "id": "crRnAjgz2U5e"
      },
      "source": [
        "avg_by_county['income_bucket_num']=avg_by_county['income_bucket_num'].astype(int)"
      ],
      "execution_count": null,
      "outputs": []
    },
    {
      "cell_type": "code",
      "metadata": {
        "id": "6qNOR5bSrgi3"
      },
      "source": [
        "avg_by_county['Cause of death_num']=avg_by_county['Cause of death_num'].replace({7:6})"
      ],
      "execution_count": null,
      "outputs": []
    },
    {
      "cell_type": "code",
      "metadata": {
        "colab": {
          "base_uri": "https://localhost:8080/"
        },
        "id": "DnR76FmTsLX-",
        "outputId": "8a6b2b00-cd40-44b5-ef1d-5476183ec30b"
      },
      "source": [
        "avg_by_county.info()"
      ],
      "execution_count": null,
      "outputs": [
        {
          "output_type": "stream",
          "text": [
            "<class 'pandas.core.frame.DataFrame'>\n",
            "Int64Index: 113 entries, 0 to 114\n",
            "Data columns (total 8 columns):\n",
            " #   Column                     Non-Null Count  Dtype   \n",
            "---  ------                     --------------  -----   \n",
            " 0   County                     113 non-null    object  \n",
            " 1   per_capita_income_dollars  113 non-null    float64 \n",
            " 2   Ozone 2nd Max 1-hr         113 non-null    float64 \n",
            " 3   Deaths                     113 non-null    float64 \n",
            " 4   income_bucket              113 non-null    category\n",
            " 5   Cause of death             113 non-null    object  \n",
            " 6   Cause of death_num         113 non-null    int64   \n",
            " 7   income_bucket_num          113 non-null    int64   \n",
            "dtypes: category(1), float64(3), int64(2), object(2)\n",
            "memory usage: 7.3+ KB\n"
          ],
          "name": "stdout"
        }
      ]
    },
    {
      "cell_type": "code",
      "metadata": {
        "id": "0QU7A-1JpnZ8"
      },
      "source": [
        "X_train, X_test, y_train, y_test = train_test_split(X, y, test_size=.3, \n",
        "                                                    random_state=1)"
      ],
      "execution_count": null,
      "outputs": []
    },
    {
      "cell_type": "code",
      "metadata": {
        "colab": {
          "base_uri": "https://localhost:8080/"
        },
        "id": "lcaIV-tVY2QD",
        "outputId": "be1566ed-8480-4bde-c359-aac7fd40ec79"
      },
      "source": [
        "model = tree.DecisionTreeClassifier(random_state=1, max_depth=3)\n",
        "model.fit(X_train, y_train)"
      ],
      "execution_count": null,
      "outputs": [
        {
          "output_type": "execute_result",
          "data": {
            "text/plain": [
              "DecisionTreeClassifier(ccp_alpha=0.0, class_weight=None, criterion='gini',\n",
              "                       max_depth=3, max_features=None, max_leaf_nodes=None,\n",
              "                       min_impurity_decrease=0.0, min_impurity_split=None,\n",
              "                       min_samples_leaf=1, min_samples_split=2,\n",
              "                       min_weight_fraction_leaf=0.0, presort='deprecated',\n",
              "                       random_state=1, splitter='best')"
            ]
          },
          "metadata": {
            "tags": []
          },
          "execution_count": 174
        }
      ]
    },
    {
      "cell_type": "code",
      "metadata": {
        "id": "Pv_XwR8mY3nc"
      },
      "source": [
        "param_dict={ \"criterion\":[\"gini\",\"entropy\"],\n",
        "            \"max_depth\":range(1,10),\n",
        "            \"min_samples_split\":range(1,10),\n",
        "            \"min_samples_leaf\":range(1,5)}"
      ],
      "execution_count": null,
      "outputs": []
    },
    {
      "cell_type": "code",
      "metadata": {
        "colab": {
          "base_uri": "https://localhost:8080/"
        },
        "id": "ZwcOOaSwZhYx",
        "outputId": "b092c5dd-481a-435a-c6ea-2bcc423bca21"
      },
      "source": [
        "from sklearn.model_selection import GridSearchCV\n",
        "grid=GridSearchCV(model,param_grid=param_dict,cv=10,verbose=1,n_jobs=-1)\n",
        "grid.fit(X_train,y_train)"
      ],
      "execution_count": null,
      "outputs": [
        {
          "output_type": "stream",
          "text": [
            "Fitting 10 folds for each of 648 candidates, totalling 6480 fits\n"
          ],
          "name": "stdout"
        },
        {
          "output_type": "stream",
          "text": [
            "/usr/local/lib/python3.7/dist-packages/sklearn/model_selection/_split.py:667: UserWarning: The least populated class in y has only 1 members, which is less than n_splits=10.\n",
            "  % (min_groups, self.n_splits)), UserWarning)\n",
            "[Parallel(n_jobs=-1)]: Using backend LokyBackend with 2 concurrent workers.\n",
            "[Parallel(n_jobs=-1)]: Done 522 tasks      | elapsed:    2.9s\n",
            "[Parallel(n_jobs=-1)]: Done 5322 tasks      | elapsed:   17.9s\n",
            "[Parallel(n_jobs=-1)]: Done 6480 out of 6480 | elapsed:   21.6s finished\n"
          ],
          "name": "stderr"
        },
        {
          "output_type": "execute_result",
          "data": {
            "text/plain": [
              "GridSearchCV(cv=10, error_score=nan,\n",
              "             estimator=DecisionTreeClassifier(ccp_alpha=0.0, class_weight=None,\n",
              "                                              criterion='gini', max_depth=3,\n",
              "                                              max_features=None,\n",
              "                                              max_leaf_nodes=None,\n",
              "                                              min_impurity_decrease=0.0,\n",
              "                                              min_impurity_split=None,\n",
              "                                              min_samples_leaf=1,\n",
              "                                              min_samples_split=2,\n",
              "                                              min_weight_fraction_leaf=0.0,\n",
              "                                              presort='deprecated',\n",
              "                                              random_state=1, splitter='best'),\n",
              "             iid='deprecated', n_jobs=-1,\n",
              "             param_grid={'criterion': ['gini', 'entropy'],\n",
              "                         'max_depth': range(1, 10),\n",
              "                         'min_samples_leaf': range(1, 5),\n",
              "                         'min_samples_split': range(1, 10)},\n",
              "             pre_dispatch='2*n_jobs', refit=True, return_train_score=False,\n",
              "             scoring=None, verbose=1)"
            ]
          },
          "metadata": {
            "tags": []
          },
          "execution_count": 176
        }
      ]
    },
    {
      "cell_type": "code",
      "metadata": {
        "colab": {
          "base_uri": "https://localhost:8080/"
        },
        "id": "hovxq1fea-L8",
        "outputId": "e944297c-f4fe-450c-8639-fb81d43b6c6b"
      },
      "source": [
        "grid.best_score_"
      ],
      "execution_count": null,
      "outputs": [
        {
          "output_type": "execute_result",
          "data": {
            "text/plain": [
              "0.4375"
            ]
          },
          "metadata": {
            "tags": []
          },
          "execution_count": 177
        }
      ]
    },
    {
      "cell_type": "code",
      "metadata": {
        "colab": {
          "base_uri": "https://localhost:8080/"
        },
        "id": "_C-j4STLGyqg",
        "outputId": "bd8c497a-1f2c-4093-c98b-cfe741cf13f0"
      },
      "source": [
        "model = tree.DecisionTreeClassifier(random_state=1, max_depth=3)\n",
        "model.fit(X_train, y_train)\n",
        "\n",
        "y_pred_train = model.predict(X_train)\n",
        "y_pred_test = model.predict(X_test)\n",
        "\n",
        "print('train accuracy: ', accuracy_score(y_train, y_pred_train))\n",
        "print('test accuracy: ', accuracy_score(y_test, y_pred_test))"
      ],
      "execution_count": null,
      "outputs": [
        {
          "output_type": "stream",
          "text": [
            "train accuracy:  0.5125\n",
            "test accuracy:  0.2571428571428571\n"
          ],
          "name": "stdout"
        }
      ]
    },
    {
      "cell_type": "code",
      "metadata": {
        "colab": {
          "base_uri": "https://localhost:8080/",
          "height": 618
        },
        "id": "Yp3fRS57Gmts",
        "outputId": "b462696a-cc94-47fd-a8f8-a5666d195bb3"
      },
      "source": [
        "dot_data = tree.export_graphviz(model, filled=True, rounded=True,\n",
        "                                feature_names=['Ozone','income'],\n",
        "                                class_names=y['Cause of death'],\n",
        "                                    out_file=None)\n",
        "graph = graphviz.Source(dot_data, format=\"png\") \n",
        "graph"
      ],
      "execution_count": null,
      "outputs": [
        {
          "output_type": "execute_result",
          "data": {
            "text/plain": [
              "<graphviz.files.Source at 0x7f2074cf0a50>"
            ],
            "image/svg+xml": "<?xml version=\"1.0\" encoding=\"UTF-8\" standalone=\"no\"?>\n<!DOCTYPE svg PUBLIC \"-//W3C//DTD SVG 1.1//EN\"\n \"http://www.w3.org/Graphics/SVG/1.1/DTD/svg11.dtd\">\n<!-- Generated by graphviz version 2.40.1 (20161225.0304)\n -->\n<!-- Title: Tree Pages: 1 -->\n<svg width=\"2744pt\" height=\"433pt\"\n viewBox=\"0.00 0.00 2743.50 433.00\" xmlns=\"http://www.w3.org/2000/svg\" xmlns:xlink=\"http://www.w3.org/1999/xlink\">\n<g id=\"graph0\" class=\"graph\" transform=\"scale(1 1) rotate(0) translate(4 429)\">\n<title>Tree</title>\n<polygon fill=\"#ffffff\" stroke=\"transparent\" points=\"-4,4 -4,-429 2739.5,-429 2739.5,4 -4,4\"/>\n<!-- 0 -->\n<g id=\"node1\" class=\"node\">\n<title>0</title>\n<path fill=\"#eefdf8\" stroke=\"#000000\" d=\"M1545.5,-425C1545.5,-425 1303.5,-425 1303.5,-425 1297.5,-425 1291.5,-419 1291.5,-413 1291.5,-413 1291.5,-354 1291.5,-354 1291.5,-348 1297.5,-342 1303.5,-342 1303.5,-342 1545.5,-342 1545.5,-342 1551.5,-342 1557.5,-348 1557.5,-354 1557.5,-354 1557.5,-413 1557.5,-413 1557.5,-419 1551.5,-425 1545.5,-425\"/>\n<text text-anchor=\"middle\" x=\"1424.5\" y=\"-409.8\" font-family=\"Helvetica,sans-Serif\" font-size=\"14.00\" fill=\"#000000\">Ozone &lt;= 0.08</text>\n<text text-anchor=\"middle\" x=\"1424.5\" y=\"-394.8\" font-family=\"Helvetica,sans-Serif\" font-size=\"14.00\" fill=\"#000000\">gini = 0.788</text>\n<text text-anchor=\"middle\" x=\"1424.5\" y=\"-379.8\" font-family=\"Helvetica,sans-Serif\" font-size=\"14.00\" fill=\"#000000\">samples = 80</text>\n<text text-anchor=\"middle\" x=\"1424.5\" y=\"-364.8\" font-family=\"Helvetica,sans-Serif\" font-size=\"14.00\" fill=\"#000000\">value = [7, 9, 2, 26, 21, 5, 1, 9]</text>\n<text text-anchor=\"middle\" x=\"1424.5\" y=\"-349.8\" font-family=\"Helvetica,sans-Serif\" font-size=\"14.00\" fill=\"#000000\">class = Alzheimer disease, unspecified</text>\n</g>\n<!-- 1 -->\n<g id=\"node2\" class=\"node\">\n<title>1</title>\n<path fill=\"#b1f5de\" stroke=\"#000000\" d=\"M1228.5,-306C1228.5,-306 986.5,-306 986.5,-306 980.5,-306 974.5,-300 974.5,-294 974.5,-294 974.5,-235 974.5,-235 974.5,-229 980.5,-223 986.5,-223 986.5,-223 1228.5,-223 1228.5,-223 1234.5,-223 1240.5,-229 1240.5,-235 1240.5,-235 1240.5,-294 1240.5,-294 1240.5,-300 1234.5,-306 1228.5,-306\"/>\n<text text-anchor=\"middle\" x=\"1107.5\" y=\"-290.8\" font-family=\"Helvetica,sans-Serif\" font-size=\"14.00\" fill=\"#000000\">income &lt;= 29223.265</text>\n<text text-anchor=\"middle\" x=\"1107.5\" y=\"-275.8\" font-family=\"Helvetica,sans-Serif\" font-size=\"14.00\" fill=\"#000000\">gini = 0.694</text>\n<text text-anchor=\"middle\" x=\"1107.5\" y=\"-260.8\" font-family=\"Helvetica,sans-Serif\" font-size=\"14.00\" fill=\"#000000\">samples = 40</text>\n<text text-anchor=\"middle\" x=\"1107.5\" y=\"-245.8\" font-family=\"Helvetica,sans-Serif\" font-size=\"14.00\" fill=\"#000000\">value = [4, 4, 0, 20, 7, 2, 1, 2]</text>\n<text text-anchor=\"middle\" x=\"1107.5\" y=\"-230.8\" font-family=\"Helvetica,sans-Serif\" font-size=\"14.00\" fill=\"#000000\">class = Alzheimer disease, unspecified</text>\n</g>\n<!-- 0&#45;&gt;1 -->\n<g id=\"edge1\" class=\"edge\">\n<title>0&#45;&gt;1</title>\n<path fill=\"none\" stroke=\"#000000\" d=\"M1313.6288,-341.8796C1285.878,-331.4621 1255.9799,-320.2385 1227.7955,-309.6582\"/>\n<polygon fill=\"#000000\" stroke=\"#000000\" points=\"1228.9008,-306.3347 1218.3086,-306.0969 1226.4406,-312.8882 1228.9008,-306.3347\"/>\n<text text-anchor=\"middle\" x=\"1228.6458\" y=\"-325.1597\" font-family=\"Helvetica,sans-Serif\" font-size=\"14.00\" fill=\"#000000\">True</text>\n</g>\n<!-- 8 -->\n<g id=\"node9\" class=\"node\">\n<title>8</title>\n<path fill=\"#d5eaf9\" stroke=\"#000000\" d=\"M1992.5,-306C1992.5,-306 1608.5,-306 1608.5,-306 1602.5,-306 1596.5,-300 1596.5,-294 1596.5,-294 1596.5,-235 1596.5,-235 1596.5,-229 1602.5,-223 1608.5,-223 1608.5,-223 1992.5,-223 1992.5,-223 1998.5,-223 2004.5,-229 2004.5,-235 2004.5,-235 2004.5,-294 2004.5,-294 2004.5,-300 1998.5,-306 1992.5,-306\"/>\n<text text-anchor=\"middle\" x=\"1800.5\" y=\"-290.8\" font-family=\"Helvetica,sans-Serif\" font-size=\"14.00\" fill=\"#000000\">income &lt;= 50695.234</text>\n<text text-anchor=\"middle\" x=\"1800.5\" y=\"-275.8\" font-family=\"Helvetica,sans-Serif\" font-size=\"14.00\" fill=\"#000000\">gini = 0.795</text>\n<text text-anchor=\"middle\" x=\"1800.5\" y=\"-260.8\" font-family=\"Helvetica,sans-Serif\" font-size=\"14.00\" fill=\"#000000\">samples = 40</text>\n<text text-anchor=\"middle\" x=\"1800.5\" y=\"-245.8\" font-family=\"Helvetica,sans-Serif\" font-size=\"14.00\" fill=\"#000000\">value = [3, 5, 2, 6, 14, 3, 0, 7]</text>\n<text text-anchor=\"middle\" x=\"1800.5\" y=\"-230.8\" font-family=\"Helvetica,sans-Serif\" font-size=\"14.00\" fill=\"#000000\">class = Bronchus or lung, unspecified &#45; Malignant neoplasms</text>\n</g>\n<!-- 0&#45;&gt;8 -->\n<g id=\"edge8\" class=\"edge\">\n<title>0&#45;&gt;8</title>\n<path fill=\"none\" stroke=\"#000000\" d=\"M1555.7426,-341.9631C1589.3409,-331.3296 1625.6079,-319.8515 1659.667,-309.0722\"/>\n<polygon fill=\"#000000\" stroke=\"#000000\" points=\"1660.733,-312.406 1669.2108,-306.0516 1658.6207,-305.7322 1660.733,-312.406\"/>\n<text text-anchor=\"middle\" x=\"1657.6911\" y=\"-324.5394\" font-family=\"Helvetica,sans-Serif\" font-size=\"14.00\" fill=\"#000000\">False</text>\n</g>\n<!-- 2 -->\n<g id=\"node3\" class=\"node\">\n<title>2</title>\n<path fill=\"#eeab7b\" stroke=\"#000000\" d=\"M804,-187C804,-187 429,-187 429,-187 423,-187 417,-181 417,-175 417,-175 417,-116 417,-116 417,-110 423,-104 429,-104 429,-104 804,-104 804,-104 810,-104 816,-110 816,-116 816,-116 816,-175 816,-175 816,-181 810,-187 804,-187\"/>\n<text text-anchor=\"middle\" x=\"616.5\" y=\"-171.8\" font-family=\"Helvetica,sans-Serif\" font-size=\"14.00\" fill=\"#000000\">Ozone &lt;= 0.069</text>\n<text text-anchor=\"middle\" x=\"616.5\" y=\"-156.8\" font-family=\"Helvetica,sans-Serif\" font-size=\"14.00\" fill=\"#000000\">gini = 0.375</text>\n<text text-anchor=\"middle\" x=\"616.5\" y=\"-141.8\" font-family=\"Helvetica,sans-Serif\" font-size=\"14.00\" fill=\"#000000\">samples = 4</text>\n<text text-anchor=\"middle\" x=\"616.5\" y=\"-126.8\" font-family=\"Helvetica,sans-Serif\" font-size=\"14.00\" fill=\"#000000\">value = [3, 0, 0, 1, 0, 0, 0, 0]</text>\n<text text-anchor=\"middle\" x=\"616.5\" y=\"-111.8\" font-family=\"Helvetica,sans-Serif\" font-size=\"14.00\" fill=\"#000000\">class = Chronic obstructive pulmonary disease, unspecified</text>\n</g>\n<!-- 1&#45;&gt;2 -->\n<g id=\"edge2\" class=\"edge\">\n<title>1&#45;&gt;2</title>\n<path fill=\"none\" stroke=\"#000000\" d=\"M974.3046,-232.2184C920.0756,-219.0753 856.5275,-203.6737 798.1546,-189.5263\"/>\n<polygon fill=\"#000000\" stroke=\"#000000\" points=\"798.6216,-186.0382 788.0785,-187.0842 796.9727,-192.8412 798.6216,-186.0382\"/>\n</g>\n<!-- 5 -->\n<g id=\"node6\" class=\"node\">\n<title>5</title>\n<path fill=\"#adf4dd\" stroke=\"#000000\" d=\"M1228.5,-187C1228.5,-187 986.5,-187 986.5,-187 980.5,-187 974.5,-181 974.5,-175 974.5,-175 974.5,-116 974.5,-116 974.5,-110 980.5,-104 986.5,-104 986.5,-104 1228.5,-104 1228.5,-104 1234.5,-104 1240.5,-110 1240.5,-116 1240.5,-116 1240.5,-175 1240.5,-175 1240.5,-181 1234.5,-187 1228.5,-187\"/>\n<text text-anchor=\"middle\" x=\"1107.5\" y=\"-171.8\" font-family=\"Helvetica,sans-Serif\" font-size=\"14.00\" fill=\"#000000\">Ozone &lt;= 0.077</text>\n<text text-anchor=\"middle\" x=\"1107.5\" y=\"-156.8\" font-family=\"Helvetica,sans-Serif\" font-size=\"14.00\" fill=\"#000000\">gini = 0.664</text>\n<text text-anchor=\"middle\" x=\"1107.5\" y=\"-141.8\" font-family=\"Helvetica,sans-Serif\" font-size=\"14.00\" fill=\"#000000\">samples = 36</text>\n<text text-anchor=\"middle\" x=\"1107.5\" y=\"-126.8\" font-family=\"Helvetica,sans-Serif\" font-size=\"14.00\" fill=\"#000000\">value = [1, 4, 0, 19, 7, 2, 1, 2]</text>\n<text text-anchor=\"middle\" x=\"1107.5\" y=\"-111.8\" font-family=\"Helvetica,sans-Serif\" font-size=\"14.00\" fill=\"#000000\">class = Alzheimer disease, unspecified</text>\n</g>\n<!-- 1&#45;&gt;5 -->\n<g id=\"edge5\" class=\"edge\">\n<title>1&#45;&gt;5</title>\n<path fill=\"none\" stroke=\"#000000\" d=\"M1107.5,-222.8796C1107.5,-214.6838 1107.5,-205.9891 1107.5,-197.5013\"/>\n<polygon fill=\"#000000\" stroke=\"#000000\" points=\"1111.0001,-197.298 1107.5,-187.2981 1104.0001,-197.2981 1111.0001,-197.298\"/>\n</g>\n<!-- 3 -->\n<g id=\"node4\" class=\"node\">\n<title>3</title>\n<path fill=\"#ffffff\" stroke=\"#000000\" d=\"M387,-68C387,-68 12,-68 12,-68 6,-68 0,-62 0,-56 0,-56 0,-12 0,-12 0,-6 6,0 12,0 12,0 387,0 387,0 393,0 399,-6 399,-12 399,-12 399,-56 399,-56 399,-62 393,-68 387,-68\"/>\n<text text-anchor=\"middle\" x=\"199.5\" y=\"-52.8\" font-family=\"Helvetica,sans-Serif\" font-size=\"14.00\" fill=\"#000000\">gini = 0.5</text>\n<text text-anchor=\"middle\" x=\"199.5\" y=\"-37.8\" font-family=\"Helvetica,sans-Serif\" font-size=\"14.00\" fill=\"#000000\">samples = 2</text>\n<text text-anchor=\"middle\" x=\"199.5\" y=\"-22.8\" font-family=\"Helvetica,sans-Serif\" font-size=\"14.00\" fill=\"#000000\">value = [1, 0, 0, 1, 0, 0, 0, 0]</text>\n<text text-anchor=\"middle\" x=\"199.5\" y=\"-7.8\" font-family=\"Helvetica,sans-Serif\" font-size=\"14.00\" fill=\"#000000\">class = Chronic obstructive pulmonary disease, unspecified</text>\n</g>\n<!-- 2&#45;&gt;3 -->\n<g id=\"edge3\" class=\"edge\">\n<title>2&#45;&gt;3</title>\n<path fill=\"none\" stroke=\"#000000\" d=\"M461.2246,-103.9815C420.3655,-93.0564 376.5838,-81.3497 336.7468,-70.6979\"/>\n<polygon fill=\"#000000\" stroke=\"#000000\" points=\"337.5419,-67.2876 326.9772,-68.0856 335.7337,-74.05 337.5419,-67.2876\"/>\n</g>\n<!-- 4 -->\n<g id=\"node5\" class=\"node\">\n<title>4</title>\n<path fill=\"#e58139\" stroke=\"#000000\" d=\"M804,-68C804,-68 429,-68 429,-68 423,-68 417,-62 417,-56 417,-56 417,-12 417,-12 417,-6 423,0 429,0 429,0 804,0 804,0 810,0 816,-6 816,-12 816,-12 816,-56 816,-56 816,-62 810,-68 804,-68\"/>\n<text text-anchor=\"middle\" x=\"616.5\" y=\"-52.8\" font-family=\"Helvetica,sans-Serif\" font-size=\"14.00\" fill=\"#000000\">gini = 0.0</text>\n<text text-anchor=\"middle\" x=\"616.5\" y=\"-37.8\" font-family=\"Helvetica,sans-Serif\" font-size=\"14.00\" fill=\"#000000\">samples = 2</text>\n<text text-anchor=\"middle\" x=\"616.5\" y=\"-22.8\" font-family=\"Helvetica,sans-Serif\" font-size=\"14.00\" fill=\"#000000\">value = [2, 0, 0, 0, 0, 0, 0, 0]</text>\n<text text-anchor=\"middle\" x=\"616.5\" y=\"-7.8\" font-family=\"Helvetica,sans-Serif\" font-size=\"14.00\" fill=\"#000000\">class = Chronic obstructive pulmonary disease, unspecified</text>\n</g>\n<!-- 2&#45;&gt;4 -->\n<g id=\"edge4\" class=\"edge\">\n<title>2&#45;&gt;4</title>\n<path fill=\"none\" stroke=\"#000000\" d=\"M616.5,-103.9815C616.5,-95.618 616.5,-86.7965 616.5,-78.3409\"/>\n<polygon fill=\"#000000\" stroke=\"#000000\" points=\"620.0001,-78.2636 616.5,-68.2637 613.0001,-78.2637 620.0001,-78.2636\"/>\n</g>\n<!-- 6 -->\n<g id=\"node7\" class=\"node\">\n<title>6</title>\n<path fill=\"#cbf8e9\" stroke=\"#000000\" d=\"M1088.5,-68C1088.5,-68 846.5,-68 846.5,-68 840.5,-68 834.5,-62 834.5,-56 834.5,-56 834.5,-12 834.5,-12 834.5,-6 840.5,0 846.5,0 846.5,0 1088.5,0 1088.5,0 1094.5,0 1100.5,-6 1100.5,-12 1100.5,-12 1100.5,-56 1100.5,-56 1100.5,-62 1094.5,-68 1088.5,-68\"/>\n<text text-anchor=\"middle\" x=\"967.5\" y=\"-52.8\" font-family=\"Helvetica,sans-Serif\" font-size=\"14.00\" fill=\"#000000\">gini = 0.689</text>\n<text text-anchor=\"middle\" x=\"967.5\" y=\"-37.8\" font-family=\"Helvetica,sans-Serif\" font-size=\"14.00\" fill=\"#000000\">samples = 26</text>\n<text text-anchor=\"middle\" x=\"967.5\" y=\"-22.8\" font-family=\"Helvetica,sans-Serif\" font-size=\"14.00\" fill=\"#000000\">value = [0, 3, 0, 12, 7, 2, 0, 2]</text>\n<text text-anchor=\"middle\" x=\"967.5\" y=\"-7.8\" font-family=\"Helvetica,sans-Serif\" font-size=\"14.00\" fill=\"#000000\">class = Alzheimer disease, unspecified</text>\n</g>\n<!-- 5&#45;&gt;6 -->\n<g id=\"edge6\" class=\"edge\">\n<title>5&#45;&gt;6</title>\n<path fill=\"none\" stroke=\"#000000\" d=\"M1055.3692,-103.9815C1043.3677,-94.4232 1030.6152,-84.2668 1018.6557,-74.7419\"/>\n<polygon fill=\"#000000\" stroke=\"#000000\" points=\"1020.5244,-71.7558 1010.5217,-68.2637 1016.1635,-77.2314 1020.5244,-71.7558\"/>\n</g>\n<!-- 7 -->\n<g id=\"node8\" class=\"node\">\n<title>7</title>\n<path fill=\"#7beec8\" stroke=\"#000000\" d=\"M1372.5,-68C1372.5,-68 1130.5,-68 1130.5,-68 1124.5,-68 1118.5,-62 1118.5,-56 1118.5,-56 1118.5,-12 1118.5,-12 1118.5,-6 1124.5,0 1130.5,0 1130.5,0 1372.5,0 1372.5,0 1378.5,0 1384.5,-6 1384.5,-12 1384.5,-12 1384.5,-56 1384.5,-56 1384.5,-62 1378.5,-68 1372.5,-68\"/>\n<text text-anchor=\"middle\" x=\"1251.5\" y=\"-52.8\" font-family=\"Helvetica,sans-Serif\" font-size=\"14.00\" fill=\"#000000\">gini = 0.48</text>\n<text text-anchor=\"middle\" x=\"1251.5\" y=\"-37.8\" font-family=\"Helvetica,sans-Serif\" font-size=\"14.00\" fill=\"#000000\">samples = 10</text>\n<text text-anchor=\"middle\" x=\"1251.5\" y=\"-22.8\" font-family=\"Helvetica,sans-Serif\" font-size=\"14.00\" fill=\"#000000\">value = [1, 1, 0, 7, 0, 0, 1, 0]</text>\n<text text-anchor=\"middle\" x=\"1251.5\" y=\"-7.8\" font-family=\"Helvetica,sans-Serif\" font-size=\"14.00\" fill=\"#000000\">class = Alzheimer disease, unspecified</text>\n</g>\n<!-- 5&#45;&gt;7 -->\n<g id=\"edge7\" class=\"edge\">\n<title>5&#45;&gt;7</title>\n<path fill=\"none\" stroke=\"#000000\" d=\"M1161.1203,-103.9815C1173.5833,-94.3313 1186.8338,-84.0714 1199.2373,-74.4673\"/>\n<polygon fill=\"#000000\" stroke=\"#000000\" points=\"1201.4851,-77.1534 1207.2492,-68.2637 1197.1995,-71.6186 1201.4851,-77.1534\"/>\n</g>\n<!-- 9 -->\n<g id=\"node10\" class=\"node\">\n<title>9</title>\n<path fill=\"#a2d1f3\" stroke=\"#000000\" d=\"M1992.5,-187C1992.5,-187 1608.5,-187 1608.5,-187 1602.5,-187 1596.5,-181 1596.5,-175 1596.5,-175 1596.5,-116 1596.5,-116 1596.5,-110 1602.5,-104 1608.5,-104 1608.5,-104 1992.5,-104 1992.5,-104 1998.5,-104 2004.5,-110 2004.5,-116 2004.5,-116 2004.5,-175 2004.5,-175 2004.5,-181 1998.5,-187 1992.5,-187\"/>\n<text text-anchor=\"middle\" x=\"1800.5\" y=\"-171.8\" font-family=\"Helvetica,sans-Serif\" font-size=\"14.00\" fill=\"#000000\">Ozone &lt;= 0.089</text>\n<text text-anchor=\"middle\" x=\"1800.5\" y=\"-156.8\" font-family=\"Helvetica,sans-Serif\" font-size=\"14.00\" fill=\"#000000\">gini = 0.65</text>\n<text text-anchor=\"middle\" x=\"1800.5\" y=\"-141.8\" font-family=\"Helvetica,sans-Serif\" font-size=\"14.00\" fill=\"#000000\">samples = 20</text>\n<text text-anchor=\"middle\" x=\"1800.5\" y=\"-126.8\" font-family=\"Helvetica,sans-Serif\" font-size=\"14.00\" fill=\"#000000\">value = [3, 1, 0, 2, 11, 2, 0, 1]</text>\n<text text-anchor=\"middle\" x=\"1800.5\" y=\"-111.8\" font-family=\"Helvetica,sans-Serif\" font-size=\"14.00\" fill=\"#000000\">class = Bronchus or lung, unspecified &#45; Malignant neoplasms</text>\n</g>\n<!-- 8&#45;&gt;9 -->\n<g id=\"edge9\" class=\"edge\">\n<title>8&#45;&gt;9</title>\n<path fill=\"none\" stroke=\"#000000\" d=\"M1800.5,-222.8796C1800.5,-214.6838 1800.5,-205.9891 1800.5,-197.5013\"/>\n<polygon fill=\"#000000\" stroke=\"#000000\" points=\"1804.0001,-197.298 1800.5,-187.2981 1797.0001,-197.2981 1804.0001,-197.298\"/>\n</g>\n<!-- 12 -->\n<g id=\"node13\" class=\"node\">\n<title>12</title>\n<path fill=\"#fce6ed\" stroke=\"#000000\" d=\"M2463,-187C2463,-187 2234,-187 2234,-187 2228,-187 2222,-181 2222,-175 2222,-175 2222,-116 2222,-116 2222,-110 2228,-104 2234,-104 2234,-104 2463,-104 2463,-104 2469,-104 2475,-110 2475,-116 2475,-116 2475,-175 2475,-175 2475,-181 2469,-187 2463,-187\"/>\n<text text-anchor=\"middle\" x=\"2348.5\" y=\"-171.8\" font-family=\"Helvetica,sans-Serif\" font-size=\"14.00\" fill=\"#000000\">Ozone &lt;= 0.091</text>\n<text text-anchor=\"middle\" x=\"2348.5\" y=\"-156.8\" font-family=\"Helvetica,sans-Serif\" font-size=\"14.00\" fill=\"#000000\">gini = 0.795</text>\n<text text-anchor=\"middle\" x=\"2348.5\" y=\"-141.8\" font-family=\"Helvetica,sans-Serif\" font-size=\"14.00\" fill=\"#000000\">samples = 20</text>\n<text text-anchor=\"middle\" x=\"2348.5\" y=\"-126.8\" font-family=\"Helvetica,sans-Serif\" font-size=\"14.00\" fill=\"#000000\">value = [0, 4, 2, 4, 3, 1, 0, 6]</text>\n<text text-anchor=\"middle\" x=\"2348.5\" y=\"-111.8\" font-family=\"Helvetica,sans-Serif\" font-size=\"14.00\" fill=\"#000000\">class = Atherosclerotic heart disease</text>\n</g>\n<!-- 8&#45;&gt;12 -->\n<g id=\"edge12\" class=\"edge\">\n<title>8&#45;&gt;12</title>\n<path fill=\"none\" stroke=\"#000000\" d=\"M1991.7791,-222.9631C2064.1744,-207.2422 2145.0714,-189.6752 2211.5018,-175.2496\"/>\n<polygon fill=\"#000000\" stroke=\"#000000\" points=\"2212.5854,-178.596 2221.6149,-173.0535 2211.0999,-171.7554 2212.5854,-178.596\"/>\n</g>\n<!-- 10 -->\n<g id=\"node11\" class=\"node\">\n<title>10</title>\n<path fill=\"#fbede3\" stroke=\"#000000\" d=\"M1790,-68C1790,-68 1415,-68 1415,-68 1409,-68 1403,-62 1403,-56 1403,-56 1403,-12 1403,-12 1403,-6 1409,0 1415,0 1415,0 1790,0 1790,0 1796,0 1802,-6 1802,-12 1802,-12 1802,-56 1802,-56 1802,-62 1796,-68 1790,-68\"/>\n<text text-anchor=\"middle\" x=\"1602.5\" y=\"-52.8\" font-family=\"Helvetica,sans-Serif\" font-size=\"14.00\" fill=\"#000000\">gini = 0.765</text>\n<text text-anchor=\"middle\" x=\"1602.5\" y=\"-37.8\" font-family=\"Helvetica,sans-Serif\" font-size=\"14.00\" fill=\"#000000\">samples = 9</text>\n<text text-anchor=\"middle\" x=\"1602.5\" y=\"-22.8\" font-family=\"Helvetica,sans-Serif\" font-size=\"14.00\" fill=\"#000000\">value = [3, 0, 0, 1, 2, 2, 0, 1]</text>\n<text text-anchor=\"middle\" x=\"1602.5\" y=\"-7.8\" font-family=\"Helvetica,sans-Serif\" font-size=\"14.00\" fill=\"#000000\">class = Chronic obstructive pulmonary disease, unspecified</text>\n</g>\n<!-- 9&#45;&gt;10 -->\n<g id=\"edge10\" class=\"edge\">\n<title>9&#45;&gt;10</title>\n<path fill=\"none\" stroke=\"#000000\" d=\"M1726.7721,-103.9815C1708.889,-93.911 1689.8268,-83.1764 1672.1393,-73.2161\"/>\n<polygon fill=\"#000000\" stroke=\"#000000\" points=\"1673.4595,-69.9428 1663.0287,-68.0856 1670.0248,-76.0422 1673.4595,-69.9428\"/>\n</g>\n<!-- 11 -->\n<g id=\"node12\" class=\"node\">\n<title>11</title>\n<path fill=\"#61b1ea\" stroke=\"#000000\" d=\"M2215.5,-68C2215.5,-68 1831.5,-68 1831.5,-68 1825.5,-68 1819.5,-62 1819.5,-56 1819.5,-56 1819.5,-12 1819.5,-12 1819.5,-6 1825.5,0 1831.5,0 1831.5,0 2215.5,0 2215.5,0 2221.5,0 2227.5,-6 2227.5,-12 2227.5,-12 2227.5,-56 2227.5,-56 2227.5,-62 2221.5,-68 2215.5,-68\"/>\n<text text-anchor=\"middle\" x=\"2023.5\" y=\"-52.8\" font-family=\"Helvetica,sans-Serif\" font-size=\"14.00\" fill=\"#000000\">gini = 0.314</text>\n<text text-anchor=\"middle\" x=\"2023.5\" y=\"-37.8\" font-family=\"Helvetica,sans-Serif\" font-size=\"14.00\" fill=\"#000000\">samples = 11</text>\n<text text-anchor=\"middle\" x=\"2023.5\" y=\"-22.8\" font-family=\"Helvetica,sans-Serif\" font-size=\"14.00\" fill=\"#000000\">value = [0, 1, 0, 1, 9, 0, 0, 0]</text>\n<text text-anchor=\"middle\" x=\"2023.5\" y=\"-7.8\" font-family=\"Helvetica,sans-Serif\" font-size=\"14.00\" fill=\"#000000\">class = Bronchus or lung, unspecified &#45; Malignant neoplasms</text>\n</g>\n<!-- 9&#45;&gt;11 -->\n<g id=\"edge11\" class=\"edge\">\n<title>9&#45;&gt;11</title>\n<path fill=\"none\" stroke=\"#000000\" d=\"M1883.537,-103.9815C1904.0476,-93.7262 1925.9354,-82.7823 1946.1628,-72.6686\"/>\n<polygon fill=\"#000000\" stroke=\"#000000\" points=\"1947.9497,-75.6883 1955.3287,-68.0856 1944.8192,-69.4273 1947.9497,-75.6883\"/>\n</g>\n<!-- 13 -->\n<g id=\"node14\" class=\"node\">\n<title>13</title>\n<path fill=\"#ffffff\" stroke=\"#000000\" d=\"M2439.5,-68C2439.5,-68 2257.5,-68 2257.5,-68 2251.5,-68 2245.5,-62 2245.5,-56 2245.5,-56 2245.5,-12 2245.5,-12 2245.5,-6 2251.5,0 2257.5,0 2257.5,0 2439.5,0 2439.5,0 2445.5,0 2451.5,-6 2451.5,-12 2451.5,-12 2451.5,-56 2451.5,-56 2451.5,-62 2445.5,-68 2439.5,-68\"/>\n<text text-anchor=\"middle\" x=\"2348.5\" y=\"-52.8\" font-family=\"Helvetica,sans-Serif\" font-size=\"14.00\" fill=\"#000000\">gini = 0.76</text>\n<text text-anchor=\"middle\" x=\"2348.5\" y=\"-37.8\" font-family=\"Helvetica,sans-Serif\" font-size=\"14.00\" fill=\"#000000\">samples = 10</text>\n<text text-anchor=\"middle\" x=\"2348.5\" y=\"-22.8\" font-family=\"Helvetica,sans-Serif\" font-size=\"14.00\" fill=\"#000000\">value = [0, 3, 2, 0, 1, 1, 0, 3]</text>\n<text text-anchor=\"middle\" x=\"2348.5\" y=\"-7.8\" font-family=\"Helvetica,sans-Serif\" font-size=\"14.00\" fill=\"#000000\">class = Unspecified dementia</text>\n</g>\n<!-- 12&#45;&gt;13 -->\n<g id=\"edge13\" class=\"edge\">\n<title>12&#45;&gt;13</title>\n<path fill=\"none\" stroke=\"#000000\" d=\"M2348.5,-103.9815C2348.5,-95.618 2348.5,-86.7965 2348.5,-78.3409\"/>\n<polygon fill=\"#000000\" stroke=\"#000000\" points=\"2352.0001,-78.2636 2348.5,-68.2637 2345.0001,-78.2637 2352.0001,-78.2636\"/>\n</g>\n<!-- 14 -->\n<g id=\"node15\" class=\"node\">\n<title>14</title>\n<path fill=\"#e3fbf3\" stroke=\"#000000\" d=\"M2723.5,-68C2723.5,-68 2481.5,-68 2481.5,-68 2475.5,-68 2469.5,-62 2469.5,-56 2469.5,-56 2469.5,-12 2469.5,-12 2469.5,-6 2475.5,0 2481.5,0 2481.5,0 2723.5,0 2723.5,0 2729.5,0 2735.5,-6 2735.5,-12 2735.5,-12 2735.5,-56 2735.5,-56 2735.5,-62 2729.5,-68 2723.5,-68\"/>\n<text text-anchor=\"middle\" x=\"2602.5\" y=\"-52.8\" font-family=\"Helvetica,sans-Serif\" font-size=\"14.00\" fill=\"#000000\">gini = 0.7</text>\n<text text-anchor=\"middle\" x=\"2602.5\" y=\"-37.8\" font-family=\"Helvetica,sans-Serif\" font-size=\"14.00\" fill=\"#000000\">samples = 10</text>\n<text text-anchor=\"middle\" x=\"2602.5\" y=\"-22.8\" font-family=\"Helvetica,sans-Serif\" font-size=\"14.00\" fill=\"#000000\">value = [0, 1, 0, 4, 2, 0, 0, 3]</text>\n<text text-anchor=\"middle\" x=\"2602.5\" y=\"-7.8\" font-family=\"Helvetica,sans-Serif\" font-size=\"14.00\" fill=\"#000000\">class = Alzheimer disease, unspecified</text>\n</g>\n<!-- 12&#45;&gt;14 -->\n<g id=\"edge14\" class=\"edge\">\n<title>12&#45;&gt;14</title>\n<path fill=\"none\" stroke=\"#000000\" d=\"M2443.0802,-103.9815C2466.8631,-93.5414 2492.2715,-82.3877 2515.6554,-72.1227\"/>\n<polygon fill=\"#000000\" stroke=\"#000000\" points=\"2517.1023,-75.31 2524.852,-68.0856 2514.2886,-68.9004 2517.1023,-75.31\"/>\n</g>\n</g>\n</svg>\n"
          },
          "metadata": {
            "tags": []
          },
          "execution_count": 179
        }
      ]
    },
    {
      "cell_type": "code",
      "metadata": {
        "id": "Pa2kWkzGH6Vt",
        "colab": {
          "base_uri": "https://localhost:8080/"
        },
        "outputId": "f53b4316-69a4-404f-dbf4-5a9199c2a6fb"
      },
      "source": [
        "model.feature_importances_"
      ],
      "execution_count": null,
      "outputs": [
        {
          "output_type": "execute_result",
          "data": {
            "text/plain": [
              "array([0.6335888, 0.3664112])"
            ]
          },
          "metadata": {
            "tags": []
          },
          "execution_count": 180
        }
      ]
    },
    {
      "cell_type": "code",
      "metadata": {
        "id": "F32iAUTVr9Mo",
        "colab": {
          "base_uri": "https://localhost:8080/"
        },
        "outputId": "b9e36381-7e03-4050-b06c-4761ac0b8412"
      },
      "source": [
        "forest = RandomForestClassifier(criterion = 'gini', n_estimators=25,\n",
        "                                random_state=1, n_jobs=2)\n",
        "forest.fit(X_train, y_train)\n",
        "\n",
        "y_pred_train = model.predict(X_train)\n",
        "y_pred_test = model.predict(X_test)\n",
        "\n",
        "print('train accuracy: ', accuracy_score(y_train, y_pred_train))\n",
        "print('test accuracy: ', accuracy_score(y_test, y_pred_test))"
      ],
      "execution_count": null,
      "outputs": [
        {
          "output_type": "stream",
          "text": [
            "/usr/local/lib/python3.7/dist-packages/ipykernel_launcher.py:3: DataConversionWarning: A column-vector y was passed when a 1d array was expected. Please change the shape of y to (n_samples,), for example using ravel().\n",
            "  This is separate from the ipykernel package so we can avoid doing imports until\n"
          ],
          "name": "stderr"
        },
        {
          "output_type": "stream",
          "text": [
            "train accuracy:  0.5125\n",
            "test accuracy:  0.2571428571428571\n"
          ],
          "name": "stdout"
        }
      ]
    },
    {
      "cell_type": "code",
      "metadata": {
        "id": "bl8vYCpWEmoN",
        "colab": {
          "base_uri": "https://localhost:8080/"
        },
        "outputId": "e175a586-bd07-407f-a2f0-6f310c6f913f"
      },
      "source": [
        "avg_by_county['Cause of death'].value_counts()"
      ],
      "execution_count": null,
      "outputs": [
        {
          "output_type": "execute_result",
          "data": {
            "text/plain": [
              "Atherosclerotic heart disease                           38\n",
              "Bronchus or lung, unspecified - Malignant neoplasms     29\n",
              "Unspecified dementia                                    14\n",
              "Acute myocardial infarction, unspecified                12\n",
              "Alzheimer disease, unspecified                          11\n",
              "Chronic obstructive pulmonary disease, unspecified       6\n",
              "Atherosclerotic cardiovascular disease, so described     2\n",
              "Senility                                                 1\n",
              "Name: Cause of death, dtype: int64"
            ]
          },
          "metadata": {
            "tags": []
          },
          "execution_count": 182
        }
      ]
    },
    {
      "cell_type": "code",
      "metadata": {
        "colab": {
          "base_uri": "https://localhost:8080/",
          "height": 282
        },
        "id": "MAlQPPIgF7dQ",
        "outputId": "e1abeb6e-93a5-4008-889f-a5d06660d86a"
      },
      "source": [
        "plt.scatter(x=avg_by_county['per_capita_income_dollars'], y=avg_by_county['Ozone 2nd Max 1-hr'],\n",
        "            c=avg_by_county['Cause of death'].astype('category').cat.codes)"
      ],
      "execution_count": null,
      "outputs": [
        {
          "output_type": "execute_result",
          "data": {
            "text/plain": [
              "<matplotlib.collections.PathCollection at 0x7f2076cf6590>"
            ]
          },
          "metadata": {
            "tags": []
          },
          "execution_count": 183
        },
        {
          "output_type": "display_data",
          "data": {
            "image/png": "[encoded data removed]",
            "text/plain": [
              "<Figure size 432x288 with 1 Axes>"
            ]
          },
          "metadata": {
            "tags": [],
            "needs_background": "light"
          }
        }
      ]
    },
    {
      "cell_type": "code",
      "metadata": {
        "id": "AEE3yWxWLZjM"
      },
      "source": [
        "params={\n",
        " \"learning_rate\"    : [0.05, 0.10, 0.15, 0.20, 0.25, 0.30 ] ,\n",
        " \"max_depth\"        : [ 3, 4, 5, 6, 8, 10, 12, 15],\n",
        " \"min_child_weight\" : [ 1, 3, 5, 7 ],\n",
        " \"gamma\"            : [ 0.0, 0.1, 0.2 , 0.3, 0.4 ],\n",
        " \"colsample_bytree\" : [ 0.3, 0.4, 0.5 , 0.7 ]\n",
        "    \n",
        "}\n",
        "from sklearn.model_selection import RandomizedSearchCV, GridSearchCV\n",
        "import xgboost\n",
        "X = avg_by_county[['Ozone 2nd Max 1-hr','income_bucket_num']]\n",
        "y = avg_by_county['Cause of death_num']\n",
        "X_train, X_test, y_train, y_test = train_test_split(X, y, test_size=.3, \n",
        "                                                    random_state=1)"
      ],
      "execution_count": null,
      "outputs": []
    },
    {
      "cell_type": "code",
      "metadata": {
        "colab": {
          "base_uri": "https://localhost:8080/",
          "height": 195
        },
        "id": "WK_rP6G30H74",
        "outputId": "a1f69592-b870-4c87-a881-52d582e89802"
      },
      "source": [
        "avg_by_county.head()"
      ],
      "execution_count": null,
      "outputs": [
        {
          "output_type": "execute_result",
          "data": {
            "text/html": [
              "<div>\n",
              "<style scoped>\n",
              "    .dataframe tbody tr th:only-of-type {\n",
              "        vertical-align: middle;\n",
              "    }\n",
              "\n",
              "    .dataframe tbody tr th {\n",
              "        vertical-align: top;\n",
              "    }\n",
              "\n",
              "    .dataframe thead th {\n",
              "        text-align: right;\n",
              "    }\n",
              "</style>\n",
              "<table border=\"1\" class=\"dataframe\">\n",
              "  <thead>\n",
              "    <tr style=\"text-align: right;\">\n",
              "      <th></th>\n",
              "      <th>County</th>\n",
              "      <th>per_capita_income_dollars</th>\n",
              "      <th>Ozone 2nd Max 1-hr</th>\n",
              "      <th>Deaths</th>\n",
              "      <th>income_bucket</th>\n",
              "      <th>Cause of death</th>\n",
              "      <th>Cause of death_num</th>\n",
              "      <th>income_bucket_num</th>\n",
              "    </tr>\n",
              "  </thead>\n",
              "  <tbody>\n",
              "    <tr>\n",
              "      <th>0</th>\n",
              "      <td>Adams County</td>\n",
              "      <td>38808.757315</td>\n",
              "      <td>0.084940</td>\n",
              "      <td>30.580034</td>\n",
              "      <td>Low</td>\n",
              "      <td>Chronic obstructive pulmonary disease, unspeci...</td>\n",
              "      <td>5</td>\n",
              "      <td>0</td>\n",
              "    </tr>\n",
              "    <tr>\n",
              "      <th>1</th>\n",
              "      <td>Alachua County</td>\n",
              "      <td>41283.182674</td>\n",
              "      <td>0.073879</td>\n",
              "      <td>27.487759</td>\n",
              "      <td>Middle</td>\n",
              "      <td>Unspecified dementia</td>\n",
              "      <td>6</td>\n",
              "      <td>1</td>\n",
              "    </tr>\n",
              "    <tr>\n",
              "      <th>2</th>\n",
              "      <td>Anne Arundel County</td>\n",
              "      <td>61087.101394</td>\n",
              "      <td>0.092497</td>\n",
              "      <td>42.381496</td>\n",
              "      <td>High</td>\n",
              "      <td>Bronchus or lung, unspecified - Malignant neop...</td>\n",
              "      <td>4</td>\n",
              "      <td>2</td>\n",
              "    </tr>\n",
              "    <tr>\n",
              "      <th>3</th>\n",
              "      <td>Arapahoe County</td>\n",
              "      <td>53581.454771</td>\n",
              "      <td>0.089864</td>\n",
              "      <td>33.739777</td>\n",
              "      <td>High</td>\n",
              "      <td>Alzheimer disease, unspecified</td>\n",
              "      <td>1</td>\n",
              "      <td>2</td>\n",
              "    </tr>\n",
              "    <tr>\n",
              "      <th>4</th>\n",
              "      <td>Baker County</td>\n",
              "      <td>29856.418605</td>\n",
              "      <td>0.071395</td>\n",
              "      <td>15.441860</td>\n",
              "      <td>Low</td>\n",
              "      <td>Bronchus or lung, unspecified - Malignant neop...</td>\n",
              "      <td>4</td>\n",
              "      <td>0</td>\n",
              "    </tr>\n",
              "  </tbody>\n",
              "</table>\n",
              "</div>"
            ],
            "text/plain": [
              "                County  ...  income_bucket_num\n",
              "0         Adams County  ...                  0\n",
              "1       Alachua County  ...                  1\n",
              "2  Anne Arundel County  ...                  2\n",
              "3      Arapahoe County  ...                  2\n",
              "4         Baker County  ...                  0\n",
              "\n",
              "[5 rows x 8 columns]"
            ]
          },
          "metadata": {
            "tags": []
          },
          "execution_count": 185
        }
      ]
    },
    {
      "cell_type": "code",
      "metadata": {
        "colab": {
          "base_uri": "https://localhost:8080/",
          "height": 406
        },
        "id": "IiOPQm39mdsZ",
        "outputId": "2d97740e-61c8-42aa-ae3d-b20b728c1c89"
      },
      "source": [
        "import seaborn as sns\n",
        "#Outlier detection technique through box plot\n",
        "fig,axes=plt.subplots(1,1,figsize=(8,6))\n",
        "sns.boxplot(x='Cause of death_num',y='Ozone 2nd Max 1-hr',data=avg_by_county)"
      ],
      "execution_count": null,
      "outputs": [
        {
          "output_type": "execute_result",
          "data": {
            "text/plain": [
              "<matplotlib.axes._subplots.AxesSubplot at 0x7f2067b5c710>"
            ]
          },
          "metadata": {
            "tags": []
          },
          "execution_count": 186
        },
        {
          "output_type": "display_data",
          "data": {
            "image/png": "[encoded data removed]",
            "text/plain": [
              "<Figure size 576x432 with 1 Axes>"
            ]
          },
          "metadata": {
            "tags": [],
            "needs_background": "light"
          }
        }
      ]
    },
    {
      "cell_type": "code",
      "metadata": {
        "colab": {
          "base_uri": "https://localhost:8080/"
        },
        "id": "BDHKXwlrn99F",
        "outputId": "426eff40-8ae8-4800-8959-d8647df40cb5"
      },
      "source": [
        "avg_by_county['Cause of death_num'].value_counts"
      ],
      "execution_count": null,
      "outputs": [
        {
          "output_type": "execute_result",
          "data": {
            "text/plain": [
              "<bound method IndexOpsMixin.value_counts of 0      5\n",
              "1      6\n",
              "2      4\n",
              "3      1\n",
              "4      4\n",
              "      ..\n",
              "110    0\n",
              "111    5\n",
              "112    1\n",
              "113    3\n",
              "114    4\n",
              "Name: Cause of death_num, Length: 113, dtype: int64>"
            ]
          },
          "metadata": {
            "tags": []
          },
          "execution_count": 187
        }
      ]
    },
    {
      "cell_type": "code",
      "metadata": {
        "colab": {
          "base_uri": "https://localhost:8080/"
        },
        "id": "S53utHkHVYwD",
        "outputId": "468531ea-53f4-4cb6-d0af-7af5108eb9c8"
      },
      "source": [
        "classifier=xgboost.XGBClassifier()\n",
        "random_search=RandomizedSearchCV(classifier,param_distributions=params,n_iter=5,n_jobs=-1,cv=5,verbose=3)\n",
        "c=random_search.fit(X_train,y_train)"
      ],
      "execution_count": null,
      "outputs": [
        {
          "output_type": "stream",
          "text": [
            "Fitting 5 folds for each of 5 candidates, totalling 25 fits\n"
          ],
          "name": "stdout"
        },
        {
          "output_type": "stream",
          "text": [
            "/usr/local/lib/python3.7/dist-packages/sklearn/model_selection/_split.py:667: UserWarning: The least populated class in y has only 1 members, which is less than n_splits=5.\n",
            "  % (min_groups, self.n_splits)), UserWarning)\n",
            "[Parallel(n_jobs=-1)]: Using backend LokyBackend with 2 concurrent workers.\n",
            "[Parallel(n_jobs=-1)]: Done  25 out of  25 | elapsed:    0.6s finished\n"
          ],
          "name": "stderr"
        }
      ]
    },
    {
      "cell_type": "code",
      "metadata": {
        "colab": {
          "base_uri": "https://localhost:8080/"
        },
        "id": "sR30bxIxVZbi",
        "outputId": "2f548325-35ca-45af-b77e-787cb645a264"
      },
      "source": [
        "random_search.best_estimator_"
      ],
      "execution_count": null,
      "outputs": [
        {
          "output_type": "execute_result",
          "data": {
            "text/plain": [
              "XGBClassifier(base_score=0.5, booster='gbtree', colsample_bylevel=1,\n",
              "              colsample_bynode=1, colsample_bytree=0.5, gamma=0.1,\n",
              "              learning_rate=0.1, max_delta_step=0, max_depth=6,\n",
              "              min_child_weight=5, missing=None, n_estimators=100, n_jobs=1,\n",
              "              nthread=None, objective='multi:softprob', random_state=0,\n",
              "              reg_alpha=0, reg_lambda=1, scale_pos_weight=1, seed=None,\n",
              "              silent=None, subsample=1, verbosity=1)"
            ]
          },
          "metadata": {
            "tags": []
          },
          "execution_count": 189
        }
      ]
    },
    {
      "cell_type": "code",
      "metadata": {
        "colab": {
          "base_uri": "https://localhost:8080/"
        },
        "id": "S4Bj5xV4WRF_",
        "outputId": "e625324b-db83-419e-9ef5-cfb7d2d642a2"
      },
      "source": [
        "random_search.best_params_"
      ],
      "execution_count": null,
      "outputs": [
        {
          "output_type": "execute_result",
          "data": {
            "text/plain": [
              "{'colsample_bytree': 0.5,\n",
              " 'gamma': 0.1,\n",
              " 'learning_rate': 0.1,\n",
              " 'max_depth': 6,\n",
              " 'min_child_weight': 5}"
            ]
          },
          "metadata": {
            "tags": []
          },
          "execution_count": 190
        }
      ]
    },
    {
      "cell_type": "code",
      "metadata": {
        "colab": {
          "base_uri": "https://localhost:8080/"
        },
        "id": "zqV8upLYWSmP",
        "outputId": "d9a210b7-e9c6-40b0-bb37-009c73d0abd4"
      },
      "source": [
        "classifier=xgboost.XGBClassifier(base_score=0.5, booster='gbtree', colsample_bylevel=1,\n",
        "       colsample_bytree=0.5, gamma=0.4, learning_rate=0.1,\n",
        "       max_delta_step=0, max_depth=8, min_child_weight=7, missing=None,\n",
        "       n_estimators=100, n_jobs=-1, nthread=None,\n",
        "       objective='multi:softprob', random_state=0, reg_alpha=0,\n",
        "       reg_lambda=1, scale_pos_weight=1, seed=None,\n",
        "       subsample=1,verbosity=1)\n",
        "\n",
        "from sklearn.model_selection import cross_val_score\n",
        "score=cross_val_score(classifier,X_train,y_train,cv=10)"
      ],
      "execution_count": null,
      "outputs": [
        {
          "output_type": "stream",
          "text": [
            "/usr/local/lib/python3.7/dist-packages/sklearn/model_selection/_split.py:667: UserWarning: The least populated class in y has only 1 members, which is less than n_splits=10.\n",
            "  % (min_groups, self.n_splits)), UserWarning)\n"
          ],
          "name": "stderr"
        }
      ]
    },
    {
      "cell_type": "code",
      "metadata": {
        "id": "Beu-t0JhWwqY"
      },
      "source": [
        "y_pred_test_1=c.predict(X_test)\n",
        "y_pred_train_1=c.predict(X_train)\n",
        "accuracy_test = accuracy_score(y_pred_test_1,y_test)\n",
        "accuracy_train=accuracy_score(y_pred_train_1,y_train)"
      ],
      "execution_count": null,
      "outputs": []
    },
    {
      "cell_type": "code",
      "metadata": {
        "colab": {
          "base_uri": "https://localhost:8080/"
        },
        "id": "Sxr8bte4W1fm",
        "outputId": "d6bd5707-db13-4725-84ff-b7a2ada8d277"
      },
      "source": [
        "print(accuracy_train)\n",
        "print(accuracy_test)"
      ],
      "execution_count": null,
      "outputs": [
        {
          "output_type": "stream",
          "text": [
            "0.46835443037974683\n",
            "0.3235294117647059\n"
          ],
          "name": "stdout"
        }
      ]
    },
    {
      "cell_type": "code",
      "metadata": {
        "id": "n4YnPgCOVOpM"
      },
      "source": [
        "##Nueral Networks"
      ],
      "execution_count": null,
      "outputs": []
    },
    {
      "cell_type": "code",
      "metadata": {
        "id": "dA4zh_KKW63z"
      },
      "source": [
        "import tensorflow as tf\n",
        "m1 = tf.keras.models.Sequential([\n",
        "tf.keras.layers.Dense(256,activation=tf.nn.relu),# creating 512 nuerons and applying actv func at hd layer as relu\n",
        "#tf.keras.layers.Dropout(0.2), #Randomly it will stop sending 20% of data to create a randomness.\n",
        "tf.keras.layers.Dense(512,activation=tf.nn.relu),\n",
        "#tf.keras.layers.Dropout(0.2),\n",
        "#tf.keras.layers.Dropout(0.2),\n",
        "tf.keras.layers.Dense(1,activation=tf.nn.softmax)#for classification go for softmax in the last layer, else we choose for reg relu\n",
        "])"
      ],
      "execution_count": null,
      "outputs": []
    },
    {
      "cell_type": "code",
      "metadata": {
        "id": "EhyWRXOHR8K6"
      },
      "source": [
        "optimiser = tf.keras.optimizers.Adam()\n",
        "m1.compile (optimizer= optimiser, loss='mse', metrics = ['accuracy'])"
      ],
      "execution_count": null,
      "outputs": []
    },
    {
      "cell_type": "code",
      "metadata": {
        "colab": {
          "base_uri": "https://localhost:8080/"
        },
        "id": "RuoNdP-MR_AA",
        "outputId": "91116539-5cab-47ee-917f-4b4135086306"
      },
      "source": [
        "m1.fit(X_test,y_test,epochs=50)"
      ],
      "execution_count": null,
      "outputs": [
        {
          "output_type": "stream",
          "text": [
            "Epoch 1/50\n",
            "2/2 [==============================] - 0s 8ms/step - loss: 8.1434 - accuracy: 0.0901\n",
            "Epoch 2/50\n",
            "2/2 [==============================] - 0s 7ms/step - loss: 8.1434 - accuracy: 0.0901\n",
            "Epoch 3/50\n",
            "2/2 [==============================] - 0s 10ms/step - loss: 8.1746 - accuracy: 0.0901\n",
            "Epoch 4/50\n",
            "2/2 [==============================] - 0s 9ms/step - loss: 7.9246 - accuracy: 0.0901\n",
            "Epoch 5/50\n",
            "2/2 [==============================] - 0s 6ms/step - loss: 8.1850 - accuracy: 0.0797\n",
            "Epoch 6/50\n",
            "2/2 [==============================] - 0s 5ms/step - loss: 7.9246 - accuracy: 0.0901\n",
            "Epoch 7/50\n",
            "2/2 [==============================] - 0s 9ms/step - loss: 7.9246 - accuracy: 0.0901\n",
            "Epoch 8/50\n",
            "2/2 [==============================] - 0s 8ms/step - loss: 7.9559 - accuracy: 0.0901\n",
            "Epoch 9/50\n",
            "2/2 [==============================] - 0s 9ms/step - loss: 8.0913 - accuracy: 0.0901\n",
            "Epoch 10/50\n",
            "2/2 [==============================] - 0s 12ms/step - loss: 8.2163 - accuracy: 0.0797\n",
            "Epoch 11/50\n",
            "2/2 [==============================] - 0s 7ms/step - loss: 8.1434 - accuracy: 0.0901\n",
            "Epoch 12/50\n",
            "2/2 [==============================] - 0s 6ms/step - loss: 7.9246 - accuracy: 0.0901\n",
            "Epoch 13/50\n",
            "2/2 [==============================] - 0s 6ms/step - loss: 8.0392 - accuracy: 0.0901\n",
            "Epoch 14/50\n",
            "2/2 [==============================] - 0s 6ms/step - loss: 8.2267 - accuracy: 0.0692\n",
            "Epoch 15/50\n",
            "2/2 [==============================] - 0s 7ms/step - loss: 8.1850 - accuracy: 0.0797\n",
            "Epoch 16/50\n",
            "2/2 [==============================] - 0s 7ms/step - loss: 8.1434 - accuracy: 0.0901\n",
            "Epoch 17/50\n",
            "2/2 [==============================] - 0s 6ms/step - loss: 7.7059 - accuracy: 0.0901\n",
            "Epoch 18/50\n",
            "2/2 [==============================] - 0s 6ms/step - loss: 8.1330 - accuracy: 0.0797\n",
            "Epoch 19/50\n",
            "2/2 [==============================] - 0s 5ms/step - loss: 8.0913 - accuracy: 0.0901\n",
            "Epoch 20/50\n",
            "2/2 [==============================] - 0s 4ms/step - loss: 7.8725 - accuracy: 0.0901\n",
            "Epoch 21/50\n",
            "2/2 [==============================] - 0s 5ms/step - loss: 8.2163 - accuracy: 0.0797\n",
            "Epoch 22/50\n",
            "2/2 [==============================] - 0s 6ms/step - loss: 8.0392 - accuracy: 0.0901\n",
            "Epoch 23/50\n",
            "2/2 [==============================] - 0s 5ms/step - loss: 8.1330 - accuracy: 0.0797\n",
            "Epoch 24/50\n",
            "2/2 [==============================] - 0s 4ms/step - loss: 7.9246 - accuracy: 0.0901\n",
            "Epoch 25/50\n",
            "2/2 [==============================] - 0s 6ms/step - loss: 8.1850 - accuracy: 0.0797\n",
            "Epoch 26/50\n",
            "2/2 [==============================] - 0s 5ms/step - loss: 8.0392 - accuracy: 0.0901\n",
            "Epoch 27/50\n",
            "2/2 [==============================] - 0s 8ms/step - loss: 7.9663 - accuracy: 0.0901\n",
            "Epoch 28/50\n",
            "2/2 [==============================] - 0s 5ms/step - loss: 7.9559 - accuracy: 0.0901\n",
            "Epoch 29/50\n",
            "2/2 [==============================] - 0s 5ms/step - loss: 8.0913 - accuracy: 0.0901\n",
            "Epoch 30/50\n",
            "2/2 [==============================] - 0s 5ms/step - loss: 7.8725 - accuracy: 0.0901\n",
            "Epoch 31/50\n",
            "2/2 [==============================] - 0s 11ms/step - loss: 8.1225 - accuracy: 0.0901\n",
            "Epoch 32/50\n",
            "2/2 [==============================] - 0s 6ms/step - loss: 8.1434 - accuracy: 0.0901\n",
            "Epoch 33/50\n",
            "2/2 [==============================] - 0s 6ms/step - loss: 8.1225 - accuracy: 0.0901\n",
            "Epoch 34/50\n",
            "2/2 [==============================] - 0s 12ms/step - loss: 8.0913 - accuracy: 0.0901\n",
            "Epoch 35/50\n",
            "2/2 [==============================] - 0s 8ms/step - loss: 8.0392 - accuracy: 0.0901\n",
            "Epoch 36/50\n",
            "2/2 [==============================] - 0s 9ms/step - loss: 8.0913 - accuracy: 0.0901\n",
            "Epoch 37/50\n",
            "2/2 [==============================] - 0s 11ms/step - loss: 8.1434 - accuracy: 0.0901\n",
            "Epoch 38/50\n",
            "2/2 [==============================] - 0s 5ms/step - loss: 8.0913 - accuracy: 0.0901\n",
            "Epoch 39/50\n",
            "2/2 [==============================] - 0s 10ms/step - loss: 7.9246 - accuracy: 0.0901\n",
            "Epoch 40/50\n",
            "2/2 [==============================] - 0s 5ms/step - loss: 8.0184 - accuracy: 0.0901\n",
            "Epoch 41/50\n",
            "2/2 [==============================] - 0s 6ms/step - loss: 8.1850 - accuracy: 0.0797\n",
            "Epoch 42/50\n",
            "2/2 [==============================] - 0s 11ms/step - loss: 8.2163 - accuracy: 0.0797\n",
            "Epoch 43/50\n",
            "2/2 [==============================] - 0s 7ms/step - loss: 8.1434 - accuracy: 0.0901\n",
            "Epoch 44/50\n",
            "2/2 [==============================] - 0s 7ms/step - loss: 8.1434 - accuracy: 0.0901\n",
            "Epoch 45/50\n",
            "2/2 [==============================] - 0s 6ms/step - loss: 8.0184 - accuracy: 0.0901\n",
            "Epoch 46/50\n",
            "2/2 [==============================] - 0s 5ms/step - loss: 8.1746 - accuracy: 0.0901\n",
            "Epoch 47/50\n",
            "2/2 [==============================] - 0s 10ms/step - loss: 8.1850 - accuracy: 0.0797\n",
            "Epoch 48/50\n",
            "2/2 [==============================] - 0s 6ms/step - loss: 7.9246 - accuracy: 0.0901\n",
            "Epoch 49/50\n",
            "2/2 [==============================] - 0s 15ms/step - loss: 8.1746 - accuracy: 0.0901\n",
            "Epoch 50/50\n",
            "2/2 [==============================] - 0s 5ms/step - loss: 7.9663 - accuracy: 0.0797\n"
          ],
          "name": "stdout"
        },
        {
          "output_type": "execute_result",
          "data": {
            "text/plain": [
              "<tensorflow.python.keras.callbacks.History at 0x7f2027953f90>"
            ]
          },
          "metadata": {
            "tags": []
          },
          "execution_count": 204
        }
      ]
    },
    {
      "cell_type": "code",
      "metadata": {
        "colab": {
          "base_uri": "https://localhost:8080/"
        },
        "id": "5_NlZdN4ZtVv",
        "outputId": "bf30202a-0de7-49ca-8891-bcda99d51988"
      },
      "source": [
        "from keras.models import Sequential\n",
        "\n",
        "from keras.layers import Dense\n",
        "NN_model = Sequential()\n",
        "\n",
        "# The Input Layer :\n",
        "NN_model.add(Dense(128, kernel_initializer='normal', activation='relu'))\n",
        "\n",
        "# The Hidden Layers :\n",
        "NN_model.add(Dense(256, kernel_initializer='normal',activation='relu'))\n",
        "NN_model.add(Dense(256, kernel_initializer='normal',activation='relu'))\n",
        "NN_model.add(Dense(256, kernel_initializer='normal',activation='relu'))\n",
        "\n",
        "# The Output Layer :\n",
        "NN_model.add(Dense(1, kernel_initializer='normal',activation='linear'))\n",
        "\n",
        "# Compile the network :\n",
        "NN_model.compile(loss='mean_absolute_error', optimizer='adam', metrics=['accuracy'])\n",
        "\n",
        "# Fitting the ANN to the Training set\n",
        "model_history=NN_model.fit(X_test, y_test,validation_split=0.33, batch_size = 10, epochs = 100)"
      ],
      "execution_count": null,
      "outputs": [
        {
          "output_type": "stream",
          "text": [
            "Epoch 1/100\n",
            "3/3 [==============================] - 1s 111ms/step - loss: 3.2734 - accuracy: 0.1557 - val_loss: 3.1797 - val_accuracy: 0.0000e+00\n",
            "Epoch 2/100\n",
            "3/3 [==============================] - 0s 30ms/step - loss: 3.4799 - accuracy: 0.0932 - val_loss: 3.0767 - val_accuracy: 0.0000e+00\n",
            "Epoch 3/100\n",
            "3/3 [==============================] - 0s 27ms/step - loss: 3.0665 - accuracy: 0.1557 - val_loss: 2.9024 - val_accuracy: 0.0000e+00\n",
            "Epoch 4/100\n",
            "3/3 [==============================] - 0s 27ms/step - loss: 2.8229 - accuracy: 0.2034 - val_loss: 2.5501 - val_accuracy: 0.0000e+00\n",
            "Epoch 5/100\n",
            "3/3 [==============================] - 0s 29ms/step - loss: 2.6833 - accuracy: 0.1909 - val_loss: 1.9564 - val_accuracy: 0.0000e+00\n",
            "Epoch 6/100\n",
            "3/3 [==============================] - 0s 27ms/step - loss: 2.3028 - accuracy: 0.1307 - val_loss: 1.7602 - val_accuracy: 0.0000e+00\n",
            "Epoch 7/100\n",
            "3/3 [==============================] - 0s 28ms/step - loss: 1.8029 - accuracy: 0.1057 - val_loss: 2.0133 - val_accuracy: 0.0000e+00\n",
            "Epoch 8/100\n",
            "3/3 [==============================] - 0s 26ms/step - loss: 1.8900 - accuracy: 0.1307 - val_loss: 1.9834 - val_accuracy: 0.0000e+00\n",
            "Epoch 9/100\n",
            "3/3 [==============================] - 0s 26ms/step - loss: 1.8579 - accuracy: 0.1807 - val_loss: 1.9007 - val_accuracy: 0.0000e+00\n",
            "Epoch 10/100\n",
            "3/3 [==============================] - 0s 26ms/step - loss: 1.6811 - accuracy: 0.1057 - val_loss: 1.8796 - val_accuracy: 0.0000e+00\n",
            "Epoch 11/100\n",
            "3/3 [==============================] - 0s 28ms/step - loss: 1.8802 - accuracy: 0.1307 - val_loss: 1.7592 - val_accuracy: 0.0000e+00\n",
            "Epoch 12/100\n",
            "3/3 [==============================] - 0s 26ms/step - loss: 1.7764 - accuracy: 0.1307 - val_loss: 1.6409 - val_accuracy: 0.0000e+00\n",
            "Epoch 13/100\n",
            "3/3 [==============================] - 0s 26ms/step - loss: 1.7452 - accuracy: 0.0932 - val_loss: 1.5085 - val_accuracy: 0.0000e+00\n",
            "Epoch 14/100\n",
            "3/3 [==============================] - 0s 27ms/step - loss: 1.5940 - accuracy: 0.1307 - val_loss: 1.3812 - val_accuracy: 0.0000e+00\n",
            "Epoch 15/100\n",
            "3/3 [==============================] - 0s 29ms/step - loss: 1.8165 - accuracy: 0.1182 - val_loss: 1.2420 - val_accuracy: 0.0000e+00\n",
            "Epoch 16/100\n",
            "3/3 [==============================] - 0s 26ms/step - loss: 1.8137 - accuracy: 0.1807 - val_loss: 1.1134 - val_accuracy: 0.0000e+00\n",
            "Epoch 17/100\n",
            "3/3 [==============================] - 0s 31ms/step - loss: 1.6789 - accuracy: 0.1307 - val_loss: 1.0683 - val_accuracy: 0.0000e+00\n",
            "Epoch 18/100\n",
            "3/3 [==============================] - 0s 28ms/step - loss: 1.6056 - accuracy: 0.1307 - val_loss: 1.0452 - val_accuracy: 0.0000e+00\n",
            "Epoch 19/100\n",
            "3/3 [==============================] - 0s 29ms/step - loss: 1.7439 - accuracy: 0.1307 - val_loss: 0.9983 - val_accuracy: 0.0000e+00\n",
            "Epoch 20/100\n",
            "3/3 [==============================] - 0s 29ms/step - loss: 1.6338 - accuracy: 0.1307 - val_loss: 0.9130 - val_accuracy: 0.0000e+00\n",
            "Epoch 21/100\n",
            "3/3 [==============================] - 0s 28ms/step - loss: 1.7291 - accuracy: 0.1807 - val_loss: 0.8625 - val_accuracy: 0.0000e+00\n",
            "Epoch 22/100\n",
            "3/3 [==============================] - 0s 27ms/step - loss: 1.6228 - accuracy: 0.1307 - val_loss: 0.8787 - val_accuracy: 0.0000e+00\n",
            "Epoch 23/100\n",
            "3/3 [==============================] - 0s 26ms/step - loss: 1.6866 - accuracy: 0.1557 - val_loss: 0.7940 - val_accuracy: 0.0000e+00\n",
            "Epoch 24/100\n",
            "3/3 [==============================] - 0s 25ms/step - loss: 1.6417 - accuracy: 0.1557 - val_loss: 0.8381 - val_accuracy: 0.0000e+00\n",
            "Epoch 25/100\n",
            "3/3 [==============================] - 0s 27ms/step - loss: 1.6825 - accuracy: 0.1182 - val_loss: 0.8970 - val_accuracy: 0.0000e+00\n",
            "Epoch 26/100\n",
            "3/3 [==============================] - 0s 26ms/step - loss: 1.6104 - accuracy: 0.1307 - val_loss: 0.8801 - val_accuracy: 0.0000e+00\n",
            "Epoch 27/100\n",
            "3/3 [==============================] - 0s 27ms/step - loss: 1.6499 - accuracy: 0.1557 - val_loss: 0.8680 - val_accuracy: 0.0000e+00\n",
            "Epoch 28/100\n",
            "3/3 [==============================] - 0s 26ms/step - loss: 1.5409 - accuracy: 0.1432 - val_loss: 0.7667 - val_accuracy: 0.0000e+00\n",
            "Epoch 29/100\n",
            "3/3 [==============================] - 0s 30ms/step - loss: 1.5230 - accuracy: 0.1057 - val_loss: 0.7026 - val_accuracy: 0.0000e+00\n",
            "Epoch 30/100\n",
            "3/3 [==============================] - 0s 26ms/step - loss: 1.6394 - accuracy: 0.1182 - val_loss: 0.7148 - val_accuracy: 0.0000e+00\n",
            "Epoch 31/100\n",
            "3/3 [==============================] - 0s 26ms/step - loss: 1.5106 - accuracy: 0.1307 - val_loss: 0.7907 - val_accuracy: 0.0000e+00\n",
            "Epoch 32/100\n",
            "3/3 [==============================] - 0s 35ms/step - loss: 1.6752 - accuracy: 0.1557 - val_loss: 0.9437 - val_accuracy: 0.0000e+00\n",
            "Epoch 33/100\n",
            "3/3 [==============================] - 0s 28ms/step - loss: 1.4512 - accuracy: 0.1182 - val_loss: 1.0727 - val_accuracy: 0.0000e+00\n",
            "Epoch 34/100\n",
            "3/3 [==============================] - 0s 26ms/step - loss: 1.5575 - accuracy: 0.1182 - val_loss: 1.0158 - val_accuracy: 0.0000e+00\n",
            "Epoch 35/100\n",
            "3/3 [==============================] - 0s 26ms/step - loss: 1.5701 - accuracy: 0.1307 - val_loss: 0.9840 - val_accuracy: 0.0000e+00\n",
            "Epoch 36/100\n",
            "3/3 [==============================] - 0s 29ms/step - loss: 1.6646 - accuracy: 0.1557 - val_loss: 0.9662 - val_accuracy: 0.0000e+00\n",
            "Epoch 37/100\n",
            "3/3 [==============================] - 0s 26ms/step - loss: 1.5981 - accuracy: 0.1557 - val_loss: 0.8174 - val_accuracy: 0.0000e+00\n",
            "Epoch 38/100\n",
            "3/3 [==============================] - 0s 26ms/step - loss: 1.6971 - accuracy: 0.1432 - val_loss: 0.7087 - val_accuracy: 0.0000e+00\n",
            "Epoch 39/100\n",
            "3/3 [==============================] - 0s 25ms/step - loss: 1.6737 - accuracy: 0.1432 - val_loss: 0.7435 - val_accuracy: 0.0000e+00\n",
            "Epoch 40/100\n",
            "3/3 [==============================] - 0s 27ms/step - loss: 1.5602 - accuracy: 0.1057 - val_loss: 0.7172 - val_accuracy: 0.0000e+00\n",
            "Epoch 41/100\n",
            "3/3 [==============================] - 0s 25ms/step - loss: 1.7600 - accuracy: 0.1557 - val_loss: 0.7808 - val_accuracy: 0.0000e+00\n",
            "Epoch 42/100\n",
            "3/3 [==============================] - 0s 27ms/step - loss: 1.6213 - accuracy: 0.1182 - val_loss: 0.8666 - val_accuracy: 0.0000e+00\n",
            "Epoch 43/100\n",
            "3/3 [==============================] - 0s 26ms/step - loss: 1.6366 - accuracy: 0.1557 - val_loss: 0.9585 - val_accuracy: 0.0000e+00\n",
            "Epoch 44/100\n",
            "3/3 [==============================] - 0s 26ms/step - loss: 1.7127 - accuracy: 0.1557 - val_loss: 1.0725 - val_accuracy: 0.0000e+00\n",
            "Epoch 45/100\n",
            "3/3 [==============================] - 0s 27ms/step - loss: 1.5981 - accuracy: 0.0932 - val_loss: 1.0231 - val_accuracy: 0.0000e+00\n",
            "Epoch 46/100\n",
            "3/3 [==============================] - 0s 28ms/step - loss: 1.7184 - accuracy: 0.1307 - val_loss: 0.8435 - val_accuracy: 0.0000e+00\n",
            "Epoch 47/100\n",
            "3/3 [==============================] - 0s 28ms/step - loss: 1.6037 - accuracy: 0.1557 - val_loss: 0.6974 - val_accuracy: 0.0000e+00\n",
            "Epoch 48/100\n",
            "3/3 [==============================] - 0s 31ms/step - loss: 1.7698 - accuracy: 0.1307 - val_loss: 0.6979 - val_accuracy: 0.0000e+00\n",
            "Epoch 49/100\n",
            "3/3 [==============================] - 0s 28ms/step - loss: 1.7353 - accuracy: 0.1057 - val_loss: 0.6791 - val_accuracy: 0.0000e+00\n",
            "Epoch 50/100\n",
            "3/3 [==============================] - 0s 31ms/step - loss: 1.6463 - accuracy: 0.1307 - val_loss: 0.7290 - val_accuracy: 0.0000e+00\n",
            "Epoch 51/100\n",
            "3/3 [==============================] - 0s 30ms/step - loss: 1.6656 - accuracy: 0.1307 - val_loss: 0.8955 - val_accuracy: 0.0000e+00\n",
            "Epoch 52/100\n",
            "3/3 [==============================] - 0s 31ms/step - loss: 1.5400 - accuracy: 0.1307 - val_loss: 1.1283 - val_accuracy: 0.0000e+00\n",
            "Epoch 53/100\n",
            "3/3 [==============================] - 0s 27ms/step - loss: 1.7129 - accuracy: 0.1307 - val_loss: 1.3760 - val_accuracy: 0.0000e+00\n",
            "Epoch 54/100\n",
            "3/3 [==============================] - 0s 25ms/step - loss: 1.7523 - accuracy: 0.1807 - val_loss: 1.2611 - val_accuracy: 0.0000e+00\n",
            "Epoch 55/100\n",
            "3/3 [==============================] - 0s 28ms/step - loss: 1.6946 - accuracy: 0.1307 - val_loss: 1.0503 - val_accuracy: 0.0000e+00\n",
            "Epoch 56/100\n",
            "3/3 [==============================] - 0s 29ms/step - loss: 1.5742 - accuracy: 0.1557 - val_loss: 0.9022 - val_accuracy: 0.0000e+00\n",
            "Epoch 57/100\n",
            "3/3 [==============================] - 0s 29ms/step - loss: 1.5986 - accuracy: 0.1807 - val_loss: 0.8344 - val_accuracy: 0.0000e+00\n",
            "Epoch 58/100\n",
            "3/3 [==============================] - 0s 28ms/step - loss: 1.5687 - accuracy: 0.1307 - val_loss: 0.8127 - val_accuracy: 0.0000e+00\n",
            "Epoch 59/100\n",
            "3/3 [==============================] - 0s 29ms/step - loss: 1.4818 - accuracy: 0.1307 - val_loss: 0.7941 - val_accuracy: 0.0000e+00\n",
            "Epoch 60/100\n",
            "3/3 [==============================] - 0s 28ms/step - loss: 1.4793 - accuracy: 0.1307 - val_loss: 0.7740 - val_accuracy: 0.0000e+00\n",
            "Epoch 61/100\n",
            "3/3 [==============================] - 0s 32ms/step - loss: 1.5940 - accuracy: 0.1182 - val_loss: 0.7423 - val_accuracy: 0.0000e+00\n",
            "Epoch 62/100\n",
            "3/3 [==============================] - 0s 34ms/step - loss: 1.6624 - accuracy: 0.1307 - val_loss: 0.6973 - val_accuracy: 0.0000e+00\n",
            "Epoch 63/100\n",
            "3/3 [==============================] - 0s 29ms/step - loss: 1.6106 - accuracy: 0.0932 - val_loss: 0.7557 - val_accuracy: 0.0000e+00\n",
            "Epoch 64/100\n",
            "3/3 [==============================] - 0s 27ms/step - loss: 1.5899 - accuracy: 0.1182 - val_loss: 0.7466 - val_accuracy: 0.0000e+00\n",
            "Epoch 65/100\n",
            "3/3 [==============================] - 0s 25ms/step - loss: 1.5726 - accuracy: 0.1307 - val_loss: 0.7316 - val_accuracy: 0.0000e+00\n",
            "Epoch 66/100\n",
            "3/3 [==============================] - 0s 28ms/step - loss: 1.4970 - accuracy: 0.1432 - val_loss: 0.8002 - val_accuracy: 0.0000e+00\n",
            "Epoch 67/100\n",
            "3/3 [==============================] - 0s 31ms/step - loss: 1.6251 - accuracy: 0.1307 - val_loss: 0.8900 - val_accuracy: 0.0000e+00\n",
            "Epoch 68/100\n",
            "3/3 [==============================] - 0s 28ms/step - loss: 1.6471 - accuracy: 0.1307 - val_loss: 1.0290 - val_accuracy: 0.0000e+00\n",
            "Epoch 69/100\n",
            "3/3 [==============================] - 0s 29ms/step - loss: 1.7138 - accuracy: 0.1557 - val_loss: 1.1467 - val_accuracy: 0.0000e+00\n",
            "Epoch 70/100\n",
            "3/3 [==============================] - 0s 26ms/step - loss: 1.5832 - accuracy: 0.1307 - val_loss: 1.4662 - val_accuracy: 0.0000e+00\n",
            "Epoch 71/100\n",
            "3/3 [==============================] - 0s 27ms/step - loss: 1.8746 - accuracy: 0.1557 - val_loss: 1.4569 - val_accuracy: 0.0000e+00\n",
            "Epoch 72/100\n",
            "3/3 [==============================] - 0s 28ms/step - loss: 1.8426 - accuracy: 0.1307 - val_loss: 1.0981 - val_accuracy: 0.0000e+00\n",
            "Epoch 73/100\n",
            "3/3 [==============================] - 0s 29ms/step - loss: 1.6103 - accuracy: 0.1307 - val_loss: 1.0164 - val_accuracy: 0.0000e+00\n",
            "Epoch 74/100\n",
            "3/3 [==============================] - 0s 27ms/step - loss: 1.6632 - accuracy: 0.1307 - val_loss: 0.9686 - val_accuracy: 0.0000e+00\n",
            "Epoch 75/100\n",
            "3/3 [==============================] - 0s 26ms/step - loss: 1.8041 - accuracy: 0.1557 - val_loss: 0.9393 - val_accuracy: 0.0000e+00\n",
            "Epoch 76/100\n",
            "3/3 [==============================] - 0s 26ms/step - loss: 1.5947 - accuracy: 0.1807 - val_loss: 0.9544 - val_accuracy: 0.0000e+00\n",
            "Epoch 77/100\n",
            "3/3 [==============================] - 0s 29ms/step - loss: 1.6296 - accuracy: 0.1307 - val_loss: 0.9131 - val_accuracy: 0.0000e+00\n",
            "Epoch 78/100\n",
            "3/3 [==============================] - 0s 28ms/step - loss: 1.6984 - accuracy: 0.1557 - val_loss: 0.9394 - val_accuracy: 0.0000e+00\n",
            "Epoch 79/100\n",
            "3/3 [==============================] - 0s 32ms/step - loss: 1.5845 - accuracy: 0.1182 - val_loss: 0.9546 - val_accuracy: 0.0000e+00\n",
            "Epoch 80/100\n",
            "3/3 [==============================] - 0s 27ms/step - loss: 1.6581 - accuracy: 0.1307 - val_loss: 0.9654 - val_accuracy: 0.0000e+00\n",
            "Epoch 81/100\n",
            "3/3 [==============================] - 0s 29ms/step - loss: 1.8261 - accuracy: 0.1557 - val_loss: 0.9489 - val_accuracy: 0.0000e+00\n",
            "Epoch 82/100\n",
            "3/3 [==============================] - 0s 27ms/step - loss: 1.6152 - accuracy: 0.1557 - val_loss: 0.9288 - val_accuracy: 0.0000e+00\n",
            "Epoch 83/100\n",
            "3/3 [==============================] - 0s 29ms/step - loss: 1.5670 - accuracy: 0.1307 - val_loss: 1.0494 - val_accuracy: 0.0000e+00\n",
            "Epoch 84/100\n",
            "3/3 [==============================] - 0s 27ms/step - loss: 1.5479 - accuracy: 0.1307 - val_loss: 1.1091 - val_accuracy: 0.0000e+00\n",
            "Epoch 85/100\n",
            "3/3 [==============================] - 0s 35ms/step - loss: 1.5073 - accuracy: 0.1432 - val_loss: 1.0067 - val_accuracy: 0.0000e+00\n",
            "Epoch 86/100\n",
            "3/3 [==============================] - 0s 26ms/step - loss: 1.5889 - accuracy: 0.1557 - val_loss: 0.9078 - val_accuracy: 0.0000e+00\n",
            "Epoch 87/100\n",
            "3/3 [==============================] - 0s 28ms/step - loss: 1.6761 - accuracy: 0.1557 - val_loss: 0.8981 - val_accuracy: 0.0000e+00\n",
            "Epoch 88/100\n",
            "3/3 [==============================] - 0s 26ms/step - loss: 1.6665 - accuracy: 0.1557 - val_loss: 0.8848 - val_accuracy: 0.0000e+00\n",
            "Epoch 89/100\n",
            "3/3 [==============================] - 0s 28ms/step - loss: 1.6342 - accuracy: 0.1307 - val_loss: 0.8886 - val_accuracy: 0.0000e+00\n",
            "Epoch 90/100\n",
            "3/3 [==============================] - 0s 27ms/step - loss: 1.4992 - accuracy: 0.1057 - val_loss: 1.0137 - val_accuracy: 0.0000e+00\n",
            "Epoch 91/100\n",
            "3/3 [==============================] - 0s 32ms/step - loss: 1.7468 - accuracy: 0.1307 - val_loss: 1.0666 - val_accuracy: 0.0000e+00\n",
            "Epoch 92/100\n",
            "3/3 [==============================] - 0s 32ms/step - loss: 1.5637 - accuracy: 0.1432 - val_loss: 1.0859 - val_accuracy: 0.0000e+00\n",
            "Epoch 93/100\n",
            "3/3 [==============================] - 0s 33ms/step - loss: 1.6695 - accuracy: 0.1307 - val_loss: 1.0798 - val_accuracy: 0.0000e+00\n",
            "Epoch 94/100\n",
            "3/3 [==============================] - 0s 28ms/step - loss: 1.6716 - accuracy: 0.1307 - val_loss: 1.1167 - val_accuracy: 0.0000e+00\n",
            "Epoch 95/100\n",
            "3/3 [==============================] - 0s 28ms/step - loss: 1.6181 - accuracy: 0.1807 - val_loss: 1.0455 - val_accuracy: 0.0000e+00\n",
            "Epoch 96/100\n",
            "3/3 [==============================] - 0s 26ms/step - loss: 1.6092 - accuracy: 0.1057 - val_loss: 0.9344 - val_accuracy: 0.0000e+00\n",
            "Epoch 97/100\n",
            "3/3 [==============================] - 0s 28ms/step - loss: 1.5817 - accuracy: 0.1307 - val_loss: 0.8364 - val_accuracy: 0.0000e+00\n",
            "Epoch 98/100\n",
            "3/3 [==============================] - 0s 28ms/step - loss: 1.8024 - accuracy: 0.1557 - val_loss: 0.8655 - val_accuracy: 0.0000e+00\n",
            "Epoch 99/100\n",
            "3/3 [==============================] - 0s 28ms/step - loss: 1.7186 - accuracy: 0.1182 - val_loss: 0.8513 - val_accuracy: 0.0000e+00\n",
            "Epoch 100/100\n",
            "3/3 [==============================] - 0s 27ms/step - loss: 1.7719 - accuracy: 0.1557 - val_loss: 0.8220 - val_accuracy: 0.0000e+00\n"
          ],
          "name": "stdout"
        }
      ]
    },
    {
      "cell_type": "code",
      "metadata": {
        "colab": {
          "base_uri": "https://localhost:8080/"
        },
        "id": "YO5RWgwFtyob",
        "outputId": "4a331c46-0ca5-4197-afab-67038914487c"
      },
      "source": [
        "from sklearn.linear_model import LogisticRegression\n",
        "from sklearn import metrics\n",
        "logreg = LogisticRegression()\n",
        "logreg.fit(X_train, y_train)"
      ],
      "execution_count": null,
      "outputs": [
        {
          "output_type": "execute_result",
          "data": {
            "text/plain": [
              "LogisticRegression(C=1.0, class_weight=None, dual=False, fit_intercept=True,\n",
              "                   intercept_scaling=1, l1_ratio=None, max_iter=100,\n",
              "                   multi_class='auto', n_jobs=None, penalty='l2',\n",
              "                   random_state=None, solver='lbfgs', tol=0.0001, verbose=0,\n",
              "                   warm_start=False)"
            ]
          },
          "metadata": {
            "tags": []
          },
          "execution_count": 206
        }
      ]
    },
    {
      "cell_type": "code",
      "metadata": {
        "colab": {
          "base_uri": "https://localhost:8080/"
        },
        "id": "FbW0Uv-Dvu-3",
        "outputId": "501787e7-1866-489a-e5f4-b938bbfa77af"
      },
      "source": [
        "y_pred = logreg.predict(X_test)\n",
        "print('Accuracy of logistic regression classifier on test set: {:.2f}'.format(logreg.score(X_test, y_test)))"
      ],
      "execution_count": null,
      "outputs": [
        {
          "output_type": "stream",
          "text": [
            "Accuracy of logistic regression classifier on test set: 0.35\n"
          ],
          "name": "stdout"
        }
      ]
    },
    {
      "cell_type": "code",
      "metadata": {
        "colab": {
          "base_uri": "https://localhost:8080/"
        },
        "id": "Rw7pxbmRvydF",
        "outputId": "3bf01cd8-2216-43cc-9955-0a645f725838"
      },
      "source": [
        "from sklearn.metrics import confusion_matrix\n",
        "confusion_matrix = confusion_matrix(y_test, y_pred)\n",
        "print(confusion_matrix)"
      ],
      "execution_count": null,
      "outputs": [
        {
          "output_type": "stream",
          "text": [
            "[[ 0  0  0  3  0  0  0]\n",
            " [ 0  0  0  3  0  0  0]\n",
            " [ 0  0  0  1  0  0  0]\n",
            " [ 0  0  0 12  0  0  0]\n",
            " [ 0  0  0  9  0  0  0]\n",
            " [ 0  0  0  1  0  0  0]\n",
            " [ 0  0  0  5  0  0  0]]\n"
          ],
          "name": "stdout"
        }
      ]
    },
    {
      "cell_type": "code",
      "metadata": {
        "colab": {
          "base_uri": "https://localhost:8080/"
        },
        "id": "0_eoyRDHwOc7",
        "outputId": "63823710-0ad1-4ada-c876-6a717e7e87b3"
      },
      "source": [
        "from sklearn.metrics import classification_report\n",
        "print(classification_report(y_test, y_pred))"
      ],
      "execution_count": null,
      "outputs": [
        {
          "output_type": "stream",
          "text": [
            "              precision    recall  f1-score   support\n",
            "\n",
            "           0       0.00      0.00      0.00         3\n",
            "           1       0.00      0.00      0.00         3\n",
            "           2       0.00      0.00      0.00         1\n",
            "           3       0.35      1.00      0.52        12\n",
            "           4       0.00      0.00      0.00         9\n",
            "           5       0.00      0.00      0.00         1\n",
            "           6       0.00      0.00      0.00         5\n",
            "\n",
            "    accuracy                           0.35        34\n",
            "   macro avg       0.05      0.14      0.07        34\n",
            "weighted avg       0.12      0.35      0.18        34\n",
            "\n"
          ],
          "name": "stdout"
        },
        {
          "output_type": "stream",
          "text": [
            "/usr/local/lib/python3.7/dist-packages/sklearn/metrics/_classification.py:1272: UndefinedMetricWarning: Precision and F-score are ill-defined and being set to 0.0 in labels with no predicted samples. Use `zero_division` parameter to control this behavior.\n",
            "  _warn_prf(average, modifier, msg_start, len(result))\n"
          ],
          "name": "stderr"
        }
      ]
    },
    {
      "cell_type": "code",
      "metadata": {
        "colab": {
          "base_uri": "https://localhost:8080/"
        },
        "id": "qBqyS-6lxbww",
        "outputId": "3c830657-4757-4879-aab6-bb2ff6b12a3b"
      },
      "source": [
        "y_pred_1_1 = logreg.predict(X_train)\n",
        "accuracy_test = accuracy_score(y_pred,y_test)\n",
        "accuracy_train=accuracy_score(y_pred_1_1,y_train)\n",
        "print(accuracy_train)\n",
        "print(accuracy_test)"
      ],
      "execution_count": null,
      "outputs": [
        {
          "output_type": "stream",
          "text": [
            "0.3291139240506329\n",
            "0.35294117647058826\n"
          ],
          "name": "stdout"
        }
      ]
    },
    {
      "cell_type": "code",
      "metadata": {
        "id": "nUAtJ_sox3s1"
      },
      "source": [
        "from sklearn.linear_model import LinearRegression\n",
        "X = avg_by_county[['Ozone 2nd Max 1-hr','income_bucket_num']]\n",
        "y = avg_by_county['Deaths']\n",
        "X_train, X_test, y_train, y_test = train_test_split(X, y, test_size=.3, \n",
        "                                                    random_state=1)\n",
        "X_train,X_test,y_train,y_test= train_test_split(X,y,test_size=0.2,random_state=0)\n",
        "lr=LinearRegression()"
      ],
      "execution_count": null,
      "outputs": []
    },
    {
      "cell_type": "code",
      "metadata": {
        "id": "6M4tCt-KyvqJ"
      },
      "source": [
        "l=lr.fit(X_train,y_train)"
      ],
      "execution_count": null,
      "outputs": []
    },
    {
      "cell_type": "code",
      "metadata": {
        "colab": {
          "base_uri": "https://localhost:8080/"
        },
        "id": "bSlhRwF4y2O3",
        "outputId": "442f8eeb-9c6a-4501-c06e-0fa5dabbeddc"
      },
      "source": [
        "lr.score(X_test,y_test)"
      ],
      "execution_count": null,
      "outputs": [
        {
          "output_type": "execute_result",
          "data": {
            "text/plain": [
              "0.014781901130431098"
            ]
          },
          "metadata": {
            "tags": []
          },
          "execution_count": 228
        }
      ]
    },
    {
      "cell_type": "code",
      "metadata": {
        "colab": {
          "base_uri": "https://localhost:8080/"
        },
        "id": "5_I8-5RDy5H3",
        "outputId": "905edb68-89f9-45e2-d966-0c66482855ab"
      },
      "source": [
        "#Random forest initialization\n",
        "from sklearn.ensemble import RandomForestRegressor\n",
        "rf=RandomForestRegressor(criterion='mse')\n",
        "rf.fit(X_train,y_train)"
      ],
      "execution_count": null,
      "outputs": [
        {
          "output_type": "execute_result",
          "data": {
            "text/plain": [
              "RandomForestRegressor(bootstrap=True, ccp_alpha=0.0, criterion='mse',\n",
              "                      max_depth=None, max_features='auto', max_leaf_nodes=None,\n",
              "                      max_samples=None, min_impurity_decrease=0.0,\n",
              "                      min_impurity_split=None, min_samples_leaf=1,\n",
              "                      min_samples_split=2, min_weight_fraction_leaf=0.0,\n",
              "                      n_estimators=100, n_jobs=None, oob_score=False,\n",
              "                      random_state=None, verbose=0, warm_start=False)"
            ]
          },
          "metadata": {
            "tags": []
          },
          "execution_count": 229
        }
      ]
    },
    {
      "cell_type": "code",
      "metadata": {
        "colab": {
          "base_uri": "https://localhost:8080/"
        },
        "id": "MAheYV4PzsnZ",
        "outputId": "e86b3e18-aba3-457c-e0bc-30e1849357dc"
      },
      "source": [
        "rf.score(X_test,y_test)"
      ],
      "execution_count": null,
      "outputs": [
        {
          "output_type": "execute_result",
          "data": {
            "text/plain": [
              "-0.26645838900398067"
            ]
          },
          "metadata": {
            "tags": []
          },
          "execution_count": 230
        }
      ]
    },
    {
      "cell_type": "code",
      "metadata": {
        "id": "K3soYX7kzuKL"
      },
      "source": [
        "from sklearn.model_selection import RandomizedSearchCV\n",
        "# Number of trees in random forest\n",
        "n_estimators = [int(x) for x in np.linspace(start = 100, stop = 1000, num = 10)]\n",
        "# Number of features to consider at every split\n",
        "max_features = ['auto','sqrt']\n",
        "# Maximum number of levels in tree\n",
        "max_depth = [int(x) for x in np.linspace(6,36,num =6)]\n",
        "# max_depth.append(None)\n",
        "# Minimum number of samples required to split a node\n",
        "min_samples_split = [2,5,10,15,100]\n",
        "# Minimum number of samples required at each leaf node\n",
        "min_samples_leaf = [1, 2, 5, 10]"
      ],
      "execution_count": null,
      "outputs": []
    },
    {
      "cell_type": "code",
      "metadata": {
        "colab": {
          "base_uri": "https://localhost:8080/"
        },
        "id": "HZW2zxKCzwQ7",
        "outputId": "57ac5e49-3675-45ca-f4a3-b685ae03909e"
      },
      "source": [
        "#Grid creation for hyperparameter tuning\n",
        "random_grid = {'n_estimators': n_estimators,\n",
        "               'max_features': max_features,\n",
        "               'max_depth': max_depth,\n",
        "               'min_samples_split': min_samples_split,\n",
        "               'min_samples_leaf': min_samples_leaf}\n",
        "\n",
        "print(random_grid)"
      ],
      "execution_count": null,
      "outputs": [
        {
          "output_type": "stream",
          "text": [
            "{'n_estimators': [100, 200, 300, 400, 500, 600, 700, 800, 900, 1000], 'max_features': ['auto', 'sqrt'], 'max_depth': [6, 12, 18, 24, 30, 36], 'min_samples_split': [2, 5, 10, 15, 100], 'min_samples_leaf': [1, 2, 5, 10]}\n"
          ],
          "name": "stdout"
        }
      ]
    },
    {
      "cell_type": "code",
      "metadata": {
        "id": "7j91-T2AzyQa"
      },
      "source": [
        "from sklearn.ensemble import RandomForestRegressor\n",
        "rf = RandomForestRegressor()"
      ],
      "execution_count": null,
      "outputs": []
    },
    {
      "cell_type": "code",
      "metadata": {
        "id": "3rrwwA6Vz0Dk"
      },
      "source": [
        "# Random search of parameters, using 3 fold cross validation, \n",
        "# search across 50 different combinations\n",
        "rf_random = RandomizedSearchCV(estimator = rf, param_distributions = random_grid,scoring='neg_mean_squared_error', n_iter = 20, cv = 20, verbose=2, random_state=42, n_jobs = -1)"
      ],
      "execution_count": null,
      "outputs": []
    },
    {
      "cell_type": "code",
      "metadata": {
        "colab": {
          "base_uri": "https://localhost:8080/"
        },
        "id": "Kz9pzvdMz2JX",
        "outputId": "6ba0992e-36e2-4546-e57d-9bbd7423533f"
      },
      "source": [
        "rf_random.fit(X_train,y_train)"
      ],
      "execution_count": null,
      "outputs": [
        {
          "output_type": "stream",
          "text": [
            "Fitting 20 folds for each of 20 candidates, totalling 400 fits\n"
          ],
          "name": "stdout"
        },
        {
          "output_type": "stream",
          "text": [
            "[Parallel(n_jobs=-1)]: Using backend LokyBackend with 2 concurrent workers.\n",
            "[Parallel(n_jobs=-1)]: Done  37 tasks      | elapsed:   13.1s\n",
            "[Parallel(n_jobs=-1)]: Done 158 tasks      | elapsed:  1.7min\n",
            "[Parallel(n_jobs=-1)]: Done 361 tasks      | elapsed:  3.5min\n",
            "[Parallel(n_jobs=-1)]: Done 400 out of 400 | elapsed:  3.9min finished\n"
          ],
          "name": "stderr"
        },
        {
          "output_type": "execute_result",
          "data": {
            "text/plain": [
              "RandomizedSearchCV(cv=20, error_score=nan,\n",
              "                   estimator=RandomForestRegressor(bootstrap=True,\n",
              "                                                   ccp_alpha=0.0,\n",
              "                                                   criterion='mse',\n",
              "                                                   max_depth=None,\n",
              "                                                   max_features='auto',\n",
              "                                                   max_leaf_nodes=None,\n",
              "                                                   max_samples=None,\n",
              "                                                   min_impurity_decrease=0.0,\n",
              "                                                   min_impurity_split=None,\n",
              "                                                   min_samples_leaf=1,\n",
              "                                                   min_samples_split=2,\n",
              "                                                   min_weight_fraction_leaf=0.0,\n",
              "                                                   n_estimators=100,\n",
              "                                                   n_jobs=None, oob_score=Fal...\n",
              "                   iid='deprecated', n_iter=20, n_jobs=-1,\n",
              "                   param_distributions={'max_depth': [6, 12, 18, 24, 30, 36],\n",
              "                                        'max_features': ['auto', 'sqrt'],\n",
              "                                        'min_samples_leaf': [1, 2, 5, 10],\n",
              "                                        'min_samples_split': [2, 5, 10, 15,\n",
              "                                                              100],\n",
              "                                        'n_estimators': [100, 200, 300, 400,\n",
              "                                                         500, 600, 700, 800,\n",
              "                                                         900, 1000]},\n",
              "                   pre_dispatch='2*n_jobs', random_state=42, refit=True,\n",
              "                   return_train_score=False, scoring='neg_mean_squared_error',\n",
              "                   verbose=2)"
            ]
          },
          "metadata": {
            "tags": []
          },
          "execution_count": 235
        }
      ]
    },
    {
      "cell_type": "code",
      "metadata": {
        "id": "ERikfh7Zz3m5"
      },
      "source": [
        ""
      ],
      "execution_count": null,
      "outputs": []
    }
  ]
}