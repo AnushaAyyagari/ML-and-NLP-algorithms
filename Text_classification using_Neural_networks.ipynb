{
  "cells": [
    {
      "cell_type": "markdown",
      "source": [
        "Code references:\n",
        "1)sklearn \n",
        "https://scikit-learn.org/stable/modules/model_evaluation.html\n",
        "2)Tensorflow tokenizer\n",
        "https://www.tensorflow.org/api_docs/python/tf/keras/preprocessing/text/Tokenizer\n",
        "3)Tensorflow models:\n",
        "https://www.tensorflow.org/tutorials/keras/text_classification\n",
        "4)tensorflow Simple RNN\n",
        "https://www.tensorflow.org/api_docs/python/tf/keras/layers/RNN\n",
        "5)padding and sequencing:\n",
        "https://www.tensorflow.org/api_docs/python/tf/keras/preprocessing/sequence/pad_sequences\n",
        "6)Tensorflow tutorials\n",
        "https://www.tensorflow.org/tutorials"
      ],
      "metadata": {
        "id": "xxm2mn768HV6"
      }
    },
    {
      "cell_type": "code",
      "execution_count": null,
      "metadata": {
        "id": "yABxZZRSVlYQ",
        "colab": {
          "base_uri": "https://localhost:8080/"
        },
        "outputId": "0068647a-8f1f-415c-a960-3793682a655d"
      },
      "outputs": [
        {
          "output_type": "stream",
          "name": "stdout",
          "text": [
            "Drive already mounted at /content/drive; to attempt to forcibly remount, call drive.mount(\"/content/drive\", force_remount=True).\n"
          ]
        }
      ],
      "source": [
        "from google.colab import drive\n",
        "drive.mount('/content/drive')"
      ]
    },
    {
      "cell_type": "code",
      "execution_count": null,
      "metadata": {
        "id": "m_V_jzkhVpH-"
      },
      "outputs": [],
      "source": [
        "import pandas as pd\n",
        "import numpy as np\n",
        "pd.options.mode.chained_assignment = None \n",
        "nlp_data=pd.read_csv('/content/drive/Shareddrives/NLP_project_materials/complaints.csv')"
      ]
    },
    {
      "cell_type": "code",
      "execution_count": null,
      "metadata": {
        "id": "5j1iUlSDV0m2",
        "colab": {
          "base_uri": "https://localhost:8080/",
          "height": 545
        },
        "outputId": "fd914e70-0b03-4d08-a424-53d723afbb61"
      },
      "outputs": [
        {
          "output_type": "execute_result",
          "data": {
            "text/html": [
              "\n",
              "  <div id=\"df-e5d9b79e-392f-462e-aae4-5490bc73d3c0\">\n",
              "    <div class=\"colab-df-container\">\n",
              "      <div>\n",
              "<style scoped>\n",
              "    .dataframe tbody tr th:only-of-type {\n",
              "        vertical-align: middle;\n",
              "    }\n",
              "\n",
              "    .dataframe tbody tr th {\n",
              "        vertical-align: top;\n",
              "    }\n",
              "\n",
              "    .dataframe thead th {\n",
              "        text-align: right;\n",
              "    }\n",
              "</style>\n",
              "<table border=\"1\" class=\"dataframe\">\n",
              "  <thead>\n",
              "    <tr style=\"text-align: right;\">\n",
              "      <th></th>\n",
              "      <th>Date received</th>\n",
              "      <th>Product</th>\n",
              "      <th>Sub-product</th>\n",
              "      <th>Issue</th>\n",
              "      <th>Sub-issue</th>\n",
              "      <th>Consumer complaint narrative</th>\n",
              "      <th>Company public response</th>\n",
              "      <th>Company</th>\n",
              "      <th>State</th>\n",
              "      <th>ZIP code</th>\n",
              "      <th>Tags</th>\n",
              "      <th>Consumer consent provided?</th>\n",
              "      <th>Submitted via</th>\n",
              "      <th>Date sent to company</th>\n",
              "      <th>Company response to consumer</th>\n",
              "      <th>Timely response?</th>\n",
              "      <th>Consumer disputed?</th>\n",
              "      <th>Complaint ID</th>\n",
              "    </tr>\n",
              "  </thead>\n",
              "  <tbody>\n",
              "    <tr>\n",
              "      <th>0</th>\n",
              "      <td>2019-06-13</td>\n",
              "      <td>Credit reporting, credit repair services, or o...</td>\n",
              "      <td>Credit reporting</td>\n",
              "      <td>Incorrect information on your report</td>\n",
              "      <td>Information belongs to someone else</td>\n",
              "      <td>NaN</td>\n",
              "      <td>NaN</td>\n",
              "      <td>CAPITAL ONE FINANCIAL CORPORATION</td>\n",
              "      <td>PA</td>\n",
              "      <td>186XX</td>\n",
              "      <td>NaN</td>\n",
              "      <td>Consent not provided</td>\n",
              "      <td>Web</td>\n",
              "      <td>2019-06-13</td>\n",
              "      <td>Closed with explanation</td>\n",
              "      <td>Yes</td>\n",
              "      <td>NaN</td>\n",
              "      <td>3274605</td>\n",
              "    </tr>\n",
              "    <tr>\n",
              "      <th>1</th>\n",
              "      <td>2019-11-01</td>\n",
              "      <td>Vehicle loan or lease</td>\n",
              "      <td>Loan</td>\n",
              "      <td>Struggling to pay your loan</td>\n",
              "      <td>Denied request to lower payments</td>\n",
              "      <td>I contacted Ally on Friday XX/XX/XXXX after fa...</td>\n",
              "      <td>Company has responded to the consumer and the ...</td>\n",
              "      <td>ALLY FINANCIAL INC.</td>\n",
              "      <td>NJ</td>\n",
              "      <td>088XX</td>\n",
              "      <td>NaN</td>\n",
              "      <td>Consent provided</td>\n",
              "      <td>Web</td>\n",
              "      <td>2019-11-01</td>\n",
              "      <td>Closed with explanation</td>\n",
              "      <td>Yes</td>\n",
              "      <td>NaN</td>\n",
              "      <td>3425257</td>\n",
              "    </tr>\n",
              "    <tr>\n",
              "      <th>2</th>\n",
              "      <td>2019-04-01</td>\n",
              "      <td>Credit reporting, credit repair services, or o...</td>\n",
              "      <td>Credit reporting</td>\n",
              "      <td>Incorrect information on your report</td>\n",
              "      <td>Account status incorrect</td>\n",
              "      <td>NaN</td>\n",
              "      <td>Company has responded to the consumer and the ...</td>\n",
              "      <td>TRANSUNION INTERMEDIATE HOLDINGS, INC.</td>\n",
              "      <td>PA</td>\n",
              "      <td>19067</td>\n",
              "      <td>NaN</td>\n",
              "      <td>Consent not provided</td>\n",
              "      <td>Web</td>\n",
              "      <td>2019-04-01</td>\n",
              "      <td>Closed with explanation</td>\n",
              "      <td>Yes</td>\n",
              "      <td>NaN</td>\n",
              "      <td>3198225</td>\n",
              "    </tr>\n",
              "    <tr>\n",
              "      <th>3</th>\n",
              "      <td>2021-10-06</td>\n",
              "      <td>Credit reporting, credit repair services, or o...</td>\n",
              "      <td>Credit reporting</td>\n",
              "      <td>Problem with a credit reporting company's inve...</td>\n",
              "      <td>Was not notified of investigation status or re...</td>\n",
              "      <td>NaN</td>\n",
              "      <td>NaN</td>\n",
              "      <td>EQUIFAX, INC.</td>\n",
              "      <td>MD</td>\n",
              "      <td>21207</td>\n",
              "      <td>NaN</td>\n",
              "      <td>NaN</td>\n",
              "      <td>Web</td>\n",
              "      <td>2021-10-06</td>\n",
              "      <td>In progress</td>\n",
              "      <td>Yes</td>\n",
              "      <td>NaN</td>\n",
              "      <td>4783820</td>\n",
              "    </tr>\n",
              "    <tr>\n",
              "      <th>4</th>\n",
              "      <td>2019-08-08</td>\n",
              "      <td>Mortgage</td>\n",
              "      <td>Conventional home mortgage</td>\n",
              "      <td>Trouble during payment process</td>\n",
              "      <td>NaN</td>\n",
              "      <td>NaN</td>\n",
              "      <td>Company has responded to the consumer and the ...</td>\n",
              "      <td>FLAGSTAR BANK, FSB</td>\n",
              "      <td>ID</td>\n",
              "      <td>83706</td>\n",
              "      <td>NaN</td>\n",
              "      <td>NaN</td>\n",
              "      <td>Referral</td>\n",
              "      <td>2019-08-15</td>\n",
              "      <td>Closed with explanation</td>\n",
              "      <td>Yes</td>\n",
              "      <td>NaN</td>\n",
              "      <td>3342290</td>\n",
              "    </tr>\n",
              "  </tbody>\n",
              "</table>\n",
              "</div>\n",
              "      <button class=\"colab-df-convert\" onclick=\"convertToInteractive('df-e5d9b79e-392f-462e-aae4-5490bc73d3c0')\"\n",
              "              title=\"Convert this dataframe to an interactive table.\"\n",
              "              style=\"display:none;\">\n",
              "        \n",
              "  <svg xmlns=\"http://www.w3.org/2000/svg\" height=\"24px\"viewBox=\"0 0 24 24\"\n",
              "       width=\"24px\">\n",
              "    <path d=\"M0 0h24v24H0V0z\" fill=\"none\"/>\n",
              "    <path d=\"M18.56 5.44l.94 2.06.94-2.06 2.06-.94-2.06-.94-.94-2.06-.94 2.06-2.06.94zm-11 1L8.5 8.5l.94-2.06 2.06-.94-2.06-.94L8.5 2.5l-.94 2.06-2.06.94zm10 10l.94 2.06.94-2.06 2.06-.94-2.06-.94-.94-2.06-.94 2.06-2.06.94z\"/><path d=\"M17.41 7.96l-1.37-1.37c-.4-.4-.92-.59-1.43-.59-.52 0-1.04.2-1.43.59L10.3 9.45l-7.72 7.72c-.78.78-.78 2.05 0 2.83L4 21.41c.39.39.9.59 1.41.59.51 0 1.02-.2 1.41-.59l7.78-7.78 2.81-2.81c.8-.78.8-2.07 0-2.86zM5.41 20L4 18.59l7.72-7.72 1.47 1.35L5.41 20z\"/>\n",
              "  </svg>\n",
              "      </button>\n",
              "      \n",
              "  <style>\n",
              "    .colab-df-container {\n",
              "      display:flex;\n",
              "      flex-wrap:wrap;\n",
              "      gap: 12px;\n",
              "    }\n",
              "\n",
              "    .colab-df-convert {\n",
              "      background-color: #E8F0FE;\n",
              "      border: none;\n",
              "      border-radius: 50%;\n",
              "      cursor: pointer;\n",
              "      display: none;\n",
              "      fill: #1967D2;\n",
              "      height: 32px;\n",
              "      padding: 0 0 0 0;\n",
              "      width: 32px;\n",
              "    }\n",
              "\n",
              "    .colab-df-convert:hover {\n",
              "      background-color: #E2EBFA;\n",
              "      box-shadow: 0px 1px 2px rgba(60, 64, 67, 0.3), 0px 1px 3px 1px rgba(60, 64, 67, 0.15);\n",
              "      fill: #174EA6;\n",
              "    }\n",
              "\n",
              "    [theme=dark] .colab-df-convert {\n",
              "      background-color: #3B4455;\n",
              "      fill: #D2E3FC;\n",
              "    }\n",
              "\n",
              "    [theme=dark] .colab-df-convert:hover {\n",
              "      background-color: #434B5C;\n",
              "      box-shadow: 0px 1px 3px 1px rgba(0, 0, 0, 0.15);\n",
              "      filter: drop-shadow(0px 1px 2px rgba(0, 0, 0, 0.3));\n",
              "      fill: #FFFFFF;\n",
              "    }\n",
              "  </style>\n",
              "\n",
              "      <script>\n",
              "        const buttonEl =\n",
              "          document.querySelector('#df-e5d9b79e-392f-462e-aae4-5490bc73d3c0 button.colab-df-convert');\n",
              "        buttonEl.style.display =\n",
              "          google.colab.kernel.accessAllowed ? 'block' : 'none';\n",
              "\n",
              "        async function convertToInteractive(key) {\n",
              "          const element = document.querySelector('#df-e5d9b79e-392f-462e-aae4-5490bc73d3c0');\n",
              "          const dataTable =\n",
              "            await google.colab.kernel.invokeFunction('convertToInteractive',\n",
              "                                                     [key], {});\n",
              "          if (!dataTable) return;\n",
              "\n",
              "          const docLinkHtml = 'Like what you see? Visit the ' +\n",
              "            '<a target=\"_blank\" href=https://colab.research.google.com/notebooks/data_table.ipynb>data table notebook</a>'\n",
              "            + ' to learn more about interactive tables.';\n",
              "          element.innerHTML = '';\n",
              "          dataTable['output_type'] = 'display_data';\n",
              "          await google.colab.output.renderOutput(dataTable, element);\n",
              "          const docLink = document.createElement('div');\n",
              "          docLink.innerHTML = docLinkHtml;\n",
              "          element.appendChild(docLink);\n",
              "        }\n",
              "      </script>\n",
              "    </div>\n",
              "  </div>\n",
              "  "
            ],
            "text/plain": [
              "  Date received  ... Complaint ID\n",
              "0    2019-06-13  ...      3274605\n",
              "1    2019-11-01  ...      3425257\n",
              "2    2019-04-01  ...      3198225\n",
              "3    2021-10-06  ...      4783820\n",
              "4    2019-08-08  ...      3342290\n",
              "\n",
              "[5 rows x 18 columns]"
            ]
          },
          "metadata": {},
          "execution_count": 3
        }
      ],
      "source": [
        "nlp_data.head()"
      ]
    },
    {
      "cell_type": "code",
      "execution_count": null,
      "metadata": {
        "id": "Tet6PljEWQV0"
      },
      "outputs": [],
      "source": [
        "import datetime as dt\n",
        "\n",
        "nlp_data['Date received'] = pd.to_datetime(nlp_data['Date received'], format='%Y-%m-%d')"
      ]
    },
    {
      "cell_type": "code",
      "execution_count": null,
      "metadata": {
        "id": "Z14ULioFW1IH"
      },
      "outputs": [],
      "source": [
        "nlp_data_filter = nlp_data.loc[(nlp_data['Date received'] >= '2021-01-01')]"
      ]
    },
    {
      "cell_type": "code",
      "execution_count": null,
      "metadata": {
        "id": "qMZ3CbUIXEqj",
        "colab": {
          "base_uri": "https://localhost:8080/",
          "height": 545
        },
        "outputId": "5976ea88-eaf2-4b1a-b5d8-d95dd1f4f0f0"
      },
      "outputs": [
        {
          "output_type": "execute_result",
          "data": {
            "text/html": [
              "\n",
              "  <div id=\"df-ea191608-f085-452a-9f1b-5ac42361c36e\">\n",
              "    <div class=\"colab-df-container\">\n",
              "      <div>\n",
              "<style scoped>\n",
              "    .dataframe tbody tr th:only-of-type {\n",
              "        vertical-align: middle;\n",
              "    }\n",
              "\n",
              "    .dataframe tbody tr th {\n",
              "        vertical-align: top;\n",
              "    }\n",
              "\n",
              "    .dataframe thead th {\n",
              "        text-align: right;\n",
              "    }\n",
              "</style>\n",
              "<table border=\"1\" class=\"dataframe\">\n",
              "  <thead>\n",
              "    <tr style=\"text-align: right;\">\n",
              "      <th></th>\n",
              "      <th>Date received</th>\n",
              "      <th>Product</th>\n",
              "      <th>Sub-product</th>\n",
              "      <th>Issue</th>\n",
              "      <th>Sub-issue</th>\n",
              "      <th>Consumer complaint narrative</th>\n",
              "      <th>Company public response</th>\n",
              "      <th>Company</th>\n",
              "      <th>State</th>\n",
              "      <th>ZIP code</th>\n",
              "      <th>Tags</th>\n",
              "      <th>Consumer consent provided?</th>\n",
              "      <th>Submitted via</th>\n",
              "      <th>Date sent to company</th>\n",
              "      <th>Company response to consumer</th>\n",
              "      <th>Timely response?</th>\n",
              "      <th>Consumer disputed?</th>\n",
              "      <th>Complaint ID</th>\n",
              "    </tr>\n",
              "  </thead>\n",
              "  <tbody>\n",
              "    <tr>\n",
              "      <th>3</th>\n",
              "      <td>2021-10-06</td>\n",
              "      <td>Credit reporting, credit repair services, or o...</td>\n",
              "      <td>Credit reporting</td>\n",
              "      <td>Problem with a credit reporting company's inve...</td>\n",
              "      <td>Was not notified of investigation status or re...</td>\n",
              "      <td>NaN</td>\n",
              "      <td>NaN</td>\n",
              "      <td>EQUIFAX, INC.</td>\n",
              "      <td>MD</td>\n",
              "      <td>21207</td>\n",
              "      <td>NaN</td>\n",
              "      <td>NaN</td>\n",
              "      <td>Web</td>\n",
              "      <td>2021-10-06</td>\n",
              "      <td>In progress</td>\n",
              "      <td>Yes</td>\n",
              "      <td>NaN</td>\n",
              "      <td>4783820</td>\n",
              "    </tr>\n",
              "    <tr>\n",
              "      <th>7</th>\n",
              "      <td>2021-09-30</td>\n",
              "      <td>Credit card or prepaid card</td>\n",
              "      <td>General-purpose credit card or charge card</td>\n",
              "      <td>Problem with a purchase shown on your statement</td>\n",
              "      <td>Credit card company isn't resolving a dispute ...</td>\n",
              "      <td>NaN</td>\n",
              "      <td>NaN</td>\n",
              "      <td>CAPITAL ONE FINANCIAL CORPORATION</td>\n",
              "      <td>CO</td>\n",
              "      <td>80504</td>\n",
              "      <td>NaN</td>\n",
              "      <td>NaN</td>\n",
              "      <td>Web</td>\n",
              "      <td>2021-09-30</td>\n",
              "      <td>Closed with explanation</td>\n",
              "      <td>Yes</td>\n",
              "      <td>NaN</td>\n",
              "      <td>4768293</td>\n",
              "    </tr>\n",
              "    <tr>\n",
              "      <th>8</th>\n",
              "      <td>2021-10-06</td>\n",
              "      <td>Credit reporting, credit repair services, or o...</td>\n",
              "      <td>Credit reporting</td>\n",
              "      <td>Problem with a credit reporting company's inve...</td>\n",
              "      <td>Was not notified of investigation status or re...</td>\n",
              "      <td>NaN</td>\n",
              "      <td>NaN</td>\n",
              "      <td>EQUIFAX, INC.</td>\n",
              "      <td>AL</td>\n",
              "      <td>36502</td>\n",
              "      <td>NaN</td>\n",
              "      <td>NaN</td>\n",
              "      <td>Web</td>\n",
              "      <td>2021-10-06</td>\n",
              "      <td>In progress</td>\n",
              "      <td>Yes</td>\n",
              "      <td>NaN</td>\n",
              "      <td>4783868</td>\n",
              "    </tr>\n",
              "    <tr>\n",
              "      <th>23</th>\n",
              "      <td>2021-09-14</td>\n",
              "      <td>Mortgage</td>\n",
              "      <td>Conventional home mortgage</td>\n",
              "      <td>Trouble during payment process</td>\n",
              "      <td>NaN</td>\n",
              "      <td>NaN</td>\n",
              "      <td>NaN</td>\n",
              "      <td>Home Point Financial Corporation</td>\n",
              "      <td>CA</td>\n",
              "      <td>918XX</td>\n",
              "      <td>Older American, Servicemember</td>\n",
              "      <td>NaN</td>\n",
              "      <td>Web</td>\n",
              "      <td>2021-09-30</td>\n",
              "      <td>Closed with explanation</td>\n",
              "      <td>Yes</td>\n",
              "      <td>NaN</td>\n",
              "      <td>4719600</td>\n",
              "    </tr>\n",
              "    <tr>\n",
              "      <th>24</th>\n",
              "      <td>2021-10-01</td>\n",
              "      <td>Debt collection</td>\n",
              "      <td>Credit card debt</td>\n",
              "      <td>Attempts to collect debt not owed</td>\n",
              "      <td>Debt was paid</td>\n",
              "      <td>NaN</td>\n",
              "      <td>NaN</td>\n",
              "      <td>Tate and Kirlin Assoc</td>\n",
              "      <td>FL</td>\n",
              "      <td>33408</td>\n",
              "      <td>NaN</td>\n",
              "      <td>Other</td>\n",
              "      <td>Web</td>\n",
              "      <td>2021-10-01</td>\n",
              "      <td>Closed with explanation</td>\n",
              "      <td>Yes</td>\n",
              "      <td>NaN</td>\n",
              "      <td>4770127</td>\n",
              "    </tr>\n",
              "  </tbody>\n",
              "</table>\n",
              "</div>\n",
              "      <button class=\"colab-df-convert\" onclick=\"convertToInteractive('df-ea191608-f085-452a-9f1b-5ac42361c36e')\"\n",
              "              title=\"Convert this dataframe to an interactive table.\"\n",
              "              style=\"display:none;\">\n",
              "        \n",
              "  <svg xmlns=\"http://www.w3.org/2000/svg\" height=\"24px\"viewBox=\"0 0 24 24\"\n",
              "       width=\"24px\">\n",
              "    <path d=\"M0 0h24v24H0V0z\" fill=\"none\"/>\n",
              "    <path d=\"M18.56 5.44l.94 2.06.94-2.06 2.06-.94-2.06-.94-.94-2.06-.94 2.06-2.06.94zm-11 1L8.5 8.5l.94-2.06 2.06-.94-2.06-.94L8.5 2.5l-.94 2.06-2.06.94zm10 10l.94 2.06.94-2.06 2.06-.94-2.06-.94-.94-2.06-.94 2.06-2.06.94z\"/><path d=\"M17.41 7.96l-1.37-1.37c-.4-.4-.92-.59-1.43-.59-.52 0-1.04.2-1.43.59L10.3 9.45l-7.72 7.72c-.78.78-.78 2.05 0 2.83L4 21.41c.39.39.9.59 1.41.59.51 0 1.02-.2 1.41-.59l7.78-7.78 2.81-2.81c.8-.78.8-2.07 0-2.86zM5.41 20L4 18.59l7.72-7.72 1.47 1.35L5.41 20z\"/>\n",
              "  </svg>\n",
              "      </button>\n",
              "      \n",
              "  <style>\n",
              "    .colab-df-container {\n",
              "      display:flex;\n",
              "      flex-wrap:wrap;\n",
              "      gap: 12px;\n",
              "    }\n",
              "\n",
              "    .colab-df-convert {\n",
              "      background-color: #E8F0FE;\n",
              "      border: none;\n",
              "      border-radius: 50%;\n",
              "      cursor: pointer;\n",
              "      display: none;\n",
              "      fill: #1967D2;\n",
              "      height: 32px;\n",
              "      padding: 0 0 0 0;\n",
              "      width: 32px;\n",
              "    }\n",
              "\n",
              "    .colab-df-convert:hover {\n",
              "      background-color: #E2EBFA;\n",
              "      box-shadow: 0px 1px 2px rgba(60, 64, 67, 0.3), 0px 1px 3px 1px rgba(60, 64, 67, 0.15);\n",
              "      fill: #174EA6;\n",
              "    }\n",
              "\n",
              "    [theme=dark] .colab-df-convert {\n",
              "      background-color: #3B4455;\n",
              "      fill: #D2E3FC;\n",
              "    }\n",
              "\n",
              "    [theme=dark] .colab-df-convert:hover {\n",
              "      background-color: #434B5C;\n",
              "      box-shadow: 0px 1px 3px 1px rgba(0, 0, 0, 0.15);\n",
              "      filter: drop-shadow(0px 1px 2px rgba(0, 0, 0, 0.3));\n",
              "      fill: #FFFFFF;\n",
              "    }\n",
              "  </style>\n",
              "\n",
              "      <script>\n",
              "        const buttonEl =\n",
              "          document.querySelector('#df-ea191608-f085-452a-9f1b-5ac42361c36e button.colab-df-convert');\n",
              "        buttonEl.style.display =\n",
              "          google.colab.kernel.accessAllowed ? 'block' : 'none';\n",
              "\n",
              "        async function convertToInteractive(key) {\n",
              "          const element = document.querySelector('#df-ea191608-f085-452a-9f1b-5ac42361c36e');\n",
              "          const dataTable =\n",
              "            await google.colab.kernel.invokeFunction('convertToInteractive',\n",
              "                                                     [key], {});\n",
              "          if (!dataTable) return;\n",
              "\n",
              "          const docLinkHtml = 'Like what you see? Visit the ' +\n",
              "            '<a target=\"_blank\" href=https://colab.research.google.com/notebooks/data_table.ipynb>data table notebook</a>'\n",
              "            + ' to learn more about interactive tables.';\n",
              "          element.innerHTML = '';\n",
              "          dataTable['output_type'] = 'display_data';\n",
              "          await google.colab.output.renderOutput(dataTable, element);\n",
              "          const docLink = document.createElement('div');\n",
              "          docLink.innerHTML = docLinkHtml;\n",
              "          element.appendChild(docLink);\n",
              "        }\n",
              "      </script>\n",
              "    </div>\n",
              "  </div>\n",
              "  "
            ],
            "text/plain": [
              "   Date received  ... Complaint ID\n",
              "3     2021-10-06  ...      4783820\n",
              "7     2021-09-30  ...      4768293\n",
              "8     2021-10-06  ...      4783868\n",
              "23    2021-09-14  ...      4719600\n",
              "24    2021-10-01  ...      4770127\n",
              "\n",
              "[5 rows x 18 columns]"
            ]
          },
          "metadata": {},
          "execution_count": 6
        }
      ],
      "source": [
        "nlp_data_filter.head()"
      ]
    },
    {
      "cell_type": "code",
      "execution_count": null,
      "metadata": {
        "id": "QRuonpIjXMY2"
      },
      "outputs": [],
      "source": [
        "lab=nlp_data_filter['Product'].unique().tolist()"
      ]
    },
    {
      "cell_type": "code",
      "execution_count": null,
      "metadata": {
        "id": "vD1dGcRTXWRG",
        "colab": {
          "base_uri": "https://localhost:8080/"
        },
        "outputId": "3ae8f914-67b7-4af4-ef33-f8f6052011d0"
      },
      "outputs": [
        {
          "output_type": "execute_result",
          "data": {
            "text/plain": [
              "['Credit reporting, credit repair services, or other personal consumer reports',\n",
              " 'Credit card or prepaid card',\n",
              " 'Mortgage',\n",
              " 'Debt collection',\n",
              " 'Student loan',\n",
              " 'Checking or savings account',\n",
              " 'Vehicle loan or lease',\n",
              " 'Money transfer, virtual currency, or money service',\n",
              " 'Payday loan, title loan, or personal loan']"
            ]
          },
          "metadata": {},
          "execution_count": 8
        }
      ],
      "source": [
        "lab"
      ]
    },
    {
      "cell_type": "code",
      "execution_count": null,
      "metadata": {
        "id": "LAmRJfoRX-u0"
      },
      "outputs": [],
      "source": [
        "re_dict={'Credit reporting, credit repair services, or other personal consumer reports':'Credit reporting',\n",
        "'Money transfer, virtual currency, or money service':'retail_banking',\n",
        "'Payday loan, title loan, or personal loan':'mortgages_and_loans',\n",
        "'Student loan':'mortgages_and_loans',\n",
        "'Checking or savings account':'retail_banking',\n",
        "'Mortgage':'mortgages_and_loans',\n",
        "'Vehicle loan or lease':'mortgages_and_loans',\n",
        "'Credit card or prepaid card':'credit_card',\n",
        "'Debt collection':'debt_collection'}"
      ]
    },
    {
      "cell_type": "code",
      "execution_count": null,
      "metadata": {
        "id": "IroESn37bazX"
      },
      "outputs": [],
      "source": [
        "nlp_data_filter['Product'].replace(re_dict,inplace=True)"
      ]
    },
    {
      "cell_type": "code",
      "execution_count": null,
      "metadata": {
        "id": "vNiUMWvgcJJx",
        "colab": {
          "base_uri": "https://localhost:8080/",
          "height": 511
        },
        "outputId": "6cb84b0e-2f58-48c0-e76b-bcf023771d12"
      },
      "outputs": [
        {
          "output_type": "execute_result",
          "data": {
            "text/html": [
              "\n",
              "  <div id=\"df-f898efc7-b300-4673-9326-fbf9b7d89eb0\">\n",
              "    <div class=\"colab-df-container\">\n",
              "      <div>\n",
              "<style scoped>\n",
              "    .dataframe tbody tr th:only-of-type {\n",
              "        vertical-align: middle;\n",
              "    }\n",
              "\n",
              "    .dataframe tbody tr th {\n",
              "        vertical-align: top;\n",
              "    }\n",
              "\n",
              "    .dataframe thead th {\n",
              "        text-align: right;\n",
              "    }\n",
              "</style>\n",
              "<table border=\"1\" class=\"dataframe\">\n",
              "  <thead>\n",
              "    <tr style=\"text-align: right;\">\n",
              "      <th></th>\n",
              "      <th>Date received</th>\n",
              "      <th>Product</th>\n",
              "      <th>Sub-product</th>\n",
              "      <th>Issue</th>\n",
              "      <th>Sub-issue</th>\n",
              "      <th>Consumer complaint narrative</th>\n",
              "      <th>Company public response</th>\n",
              "      <th>Company</th>\n",
              "      <th>State</th>\n",
              "      <th>ZIP code</th>\n",
              "      <th>Tags</th>\n",
              "      <th>Consumer consent provided?</th>\n",
              "      <th>Submitted via</th>\n",
              "      <th>Date sent to company</th>\n",
              "      <th>Company response to consumer</th>\n",
              "      <th>Timely response?</th>\n",
              "      <th>Consumer disputed?</th>\n",
              "      <th>Complaint ID</th>\n",
              "    </tr>\n",
              "  </thead>\n",
              "  <tbody>\n",
              "    <tr>\n",
              "      <th>3</th>\n",
              "      <td>2021-10-06</td>\n",
              "      <td>Credit reporting</td>\n",
              "      <td>Credit reporting</td>\n",
              "      <td>Problem with a credit reporting company's inve...</td>\n",
              "      <td>Was not notified of investigation status or re...</td>\n",
              "      <td>NaN</td>\n",
              "      <td>NaN</td>\n",
              "      <td>EQUIFAX, INC.</td>\n",
              "      <td>MD</td>\n",
              "      <td>21207</td>\n",
              "      <td>NaN</td>\n",
              "      <td>NaN</td>\n",
              "      <td>Web</td>\n",
              "      <td>2021-10-06</td>\n",
              "      <td>In progress</td>\n",
              "      <td>Yes</td>\n",
              "      <td>NaN</td>\n",
              "      <td>4783820</td>\n",
              "    </tr>\n",
              "    <tr>\n",
              "      <th>7</th>\n",
              "      <td>2021-09-30</td>\n",
              "      <td>credit_card</td>\n",
              "      <td>General-purpose credit card or charge card</td>\n",
              "      <td>Problem with a purchase shown on your statement</td>\n",
              "      <td>Credit card company isn't resolving a dispute ...</td>\n",
              "      <td>NaN</td>\n",
              "      <td>NaN</td>\n",
              "      <td>CAPITAL ONE FINANCIAL CORPORATION</td>\n",
              "      <td>CO</td>\n",
              "      <td>80504</td>\n",
              "      <td>NaN</td>\n",
              "      <td>NaN</td>\n",
              "      <td>Web</td>\n",
              "      <td>2021-09-30</td>\n",
              "      <td>Closed with explanation</td>\n",
              "      <td>Yes</td>\n",
              "      <td>NaN</td>\n",
              "      <td>4768293</td>\n",
              "    </tr>\n",
              "    <tr>\n",
              "      <th>8</th>\n",
              "      <td>2021-10-06</td>\n",
              "      <td>Credit reporting</td>\n",
              "      <td>Credit reporting</td>\n",
              "      <td>Problem with a credit reporting company's inve...</td>\n",
              "      <td>Was not notified of investigation status or re...</td>\n",
              "      <td>NaN</td>\n",
              "      <td>NaN</td>\n",
              "      <td>EQUIFAX, INC.</td>\n",
              "      <td>AL</td>\n",
              "      <td>36502</td>\n",
              "      <td>NaN</td>\n",
              "      <td>NaN</td>\n",
              "      <td>Web</td>\n",
              "      <td>2021-10-06</td>\n",
              "      <td>In progress</td>\n",
              "      <td>Yes</td>\n",
              "      <td>NaN</td>\n",
              "      <td>4783868</td>\n",
              "    </tr>\n",
              "    <tr>\n",
              "      <th>23</th>\n",
              "      <td>2021-09-14</td>\n",
              "      <td>mortgages_and_loans</td>\n",
              "      <td>Conventional home mortgage</td>\n",
              "      <td>Trouble during payment process</td>\n",
              "      <td>NaN</td>\n",
              "      <td>NaN</td>\n",
              "      <td>NaN</td>\n",
              "      <td>Home Point Financial Corporation</td>\n",
              "      <td>CA</td>\n",
              "      <td>918XX</td>\n",
              "      <td>Older American, Servicemember</td>\n",
              "      <td>NaN</td>\n",
              "      <td>Web</td>\n",
              "      <td>2021-09-30</td>\n",
              "      <td>Closed with explanation</td>\n",
              "      <td>Yes</td>\n",
              "      <td>NaN</td>\n",
              "      <td>4719600</td>\n",
              "    </tr>\n",
              "    <tr>\n",
              "      <th>24</th>\n",
              "      <td>2021-10-01</td>\n",
              "      <td>debt_collection</td>\n",
              "      <td>Credit card debt</td>\n",
              "      <td>Attempts to collect debt not owed</td>\n",
              "      <td>Debt was paid</td>\n",
              "      <td>NaN</td>\n",
              "      <td>NaN</td>\n",
              "      <td>Tate and Kirlin Assoc</td>\n",
              "      <td>FL</td>\n",
              "      <td>33408</td>\n",
              "      <td>NaN</td>\n",
              "      <td>Other</td>\n",
              "      <td>Web</td>\n",
              "      <td>2021-10-01</td>\n",
              "      <td>Closed with explanation</td>\n",
              "      <td>Yes</td>\n",
              "      <td>NaN</td>\n",
              "      <td>4770127</td>\n",
              "    </tr>\n",
              "  </tbody>\n",
              "</table>\n",
              "</div>\n",
              "      <button class=\"colab-df-convert\" onclick=\"convertToInteractive('df-f898efc7-b300-4673-9326-fbf9b7d89eb0')\"\n",
              "              title=\"Convert this dataframe to an interactive table.\"\n",
              "              style=\"display:none;\">\n",
              "        \n",
              "  <svg xmlns=\"http://www.w3.org/2000/svg\" height=\"24px\"viewBox=\"0 0 24 24\"\n",
              "       width=\"24px\">\n",
              "    <path d=\"M0 0h24v24H0V0z\" fill=\"none\"/>\n",
              "    <path d=\"M18.56 5.44l.94 2.06.94-2.06 2.06-.94-2.06-.94-.94-2.06-.94 2.06-2.06.94zm-11 1L8.5 8.5l.94-2.06 2.06-.94-2.06-.94L8.5 2.5l-.94 2.06-2.06.94zm10 10l.94 2.06.94-2.06 2.06-.94-2.06-.94-.94-2.06-.94 2.06-2.06.94z\"/><path d=\"M17.41 7.96l-1.37-1.37c-.4-.4-.92-.59-1.43-.59-.52 0-1.04.2-1.43.59L10.3 9.45l-7.72 7.72c-.78.78-.78 2.05 0 2.83L4 21.41c.39.39.9.59 1.41.59.51 0 1.02-.2 1.41-.59l7.78-7.78 2.81-2.81c.8-.78.8-2.07 0-2.86zM5.41 20L4 18.59l7.72-7.72 1.47 1.35L5.41 20z\"/>\n",
              "  </svg>\n",
              "      </button>\n",
              "      \n",
              "  <style>\n",
              "    .colab-df-container {\n",
              "      display:flex;\n",
              "      flex-wrap:wrap;\n",
              "      gap: 12px;\n",
              "    }\n",
              "\n",
              "    .colab-df-convert {\n",
              "      background-color: #E8F0FE;\n",
              "      border: none;\n",
              "      border-radius: 50%;\n",
              "      cursor: pointer;\n",
              "      display: none;\n",
              "      fill: #1967D2;\n",
              "      height: 32px;\n",
              "      padding: 0 0 0 0;\n",
              "      width: 32px;\n",
              "    }\n",
              "\n",
              "    .colab-df-convert:hover {\n",
              "      background-color: #E2EBFA;\n",
              "      box-shadow: 0px 1px 2px rgba(60, 64, 67, 0.3), 0px 1px 3px 1px rgba(60, 64, 67, 0.15);\n",
              "      fill: #174EA6;\n",
              "    }\n",
              "\n",
              "    [theme=dark] .colab-df-convert {\n",
              "      background-color: #3B4455;\n",
              "      fill: #D2E3FC;\n",
              "    }\n",
              "\n",
              "    [theme=dark] .colab-df-convert:hover {\n",
              "      background-color: #434B5C;\n",
              "      box-shadow: 0px 1px 3px 1px rgba(0, 0, 0, 0.15);\n",
              "      filter: drop-shadow(0px 1px 2px rgba(0, 0, 0, 0.3));\n",
              "      fill: #FFFFFF;\n",
              "    }\n",
              "  </style>\n",
              "\n",
              "      <script>\n",
              "        const buttonEl =\n",
              "          document.querySelector('#df-f898efc7-b300-4673-9326-fbf9b7d89eb0 button.colab-df-convert');\n",
              "        buttonEl.style.display =\n",
              "          google.colab.kernel.accessAllowed ? 'block' : 'none';\n",
              "\n",
              "        async function convertToInteractive(key) {\n",
              "          const element = document.querySelector('#df-f898efc7-b300-4673-9326-fbf9b7d89eb0');\n",
              "          const dataTable =\n",
              "            await google.colab.kernel.invokeFunction('convertToInteractive',\n",
              "                                                     [key], {});\n",
              "          if (!dataTable) return;\n",
              "\n",
              "          const docLinkHtml = 'Like what you see? Visit the ' +\n",
              "            '<a target=\"_blank\" href=https://colab.research.google.com/notebooks/data_table.ipynb>data table notebook</a>'\n",
              "            + ' to learn more about interactive tables.';\n",
              "          element.innerHTML = '';\n",
              "          dataTable['output_type'] = 'display_data';\n",
              "          await google.colab.output.renderOutput(dataTable, element);\n",
              "          const docLink = document.createElement('div');\n",
              "          docLink.innerHTML = docLinkHtml;\n",
              "          element.appendChild(docLink);\n",
              "        }\n",
              "      </script>\n",
              "    </div>\n",
              "  </div>\n",
              "  "
            ],
            "text/plain": [
              "   Date received              Product  ... Consumer disputed? Complaint ID\n",
              "3     2021-10-06     Credit reporting  ...                NaN      4783820\n",
              "7     2021-09-30          credit_card  ...                NaN      4768293\n",
              "8     2021-10-06     Credit reporting  ...                NaN      4783868\n",
              "23    2021-09-14  mortgages_and_loans  ...                NaN      4719600\n",
              "24    2021-10-01      debt_collection  ...                NaN      4770127\n",
              "\n",
              "[5 rows x 18 columns]"
            ]
          },
          "metadata": {},
          "execution_count": 11
        }
      ],
      "source": [
        "nlp_data_filter.head()"
      ]
    },
    {
      "cell_type": "code",
      "execution_count": null,
      "metadata": {
        "id": "L4ALMVWbezT4",
        "colab": {
          "base_uri": "https://localhost:8080/"
        },
        "outputId": "ec58fbb2-221f-448b-f2e0-aff313291d07"
      },
      "outputs": [
        {
          "output_type": "execute_result",
          "data": {
            "text/plain": [
              "array(['Credit reporting', 'credit_card', 'mortgages_and_loans',\n",
              "       'debt_collection', 'retail_banking'], dtype=object)"
            ]
          },
          "metadata": {},
          "execution_count": 12
        }
      ],
      "source": [
        "nlp_data_filter['Product'].unique()"
      ]
    },
    {
      "cell_type": "code",
      "execution_count": null,
      "metadata": {
        "id": "2vYQ7aBBfIrn"
      },
      "outputs": [],
      "source": [
        "nlp_data_filter.drop(['Date received', 'Issue','Company public response','Company public response','Company','State','ZIP code','Tags','Consumer consent provided?','Submitted via','Date sent to company','Company response to consumer','Submitted via','Date sent to company','Company response to consumer','Timely response?','Consumer disputed?','Complaint ID','Sub-product','Sub-issue'], axis=1, inplace=True)"
      ]
    },
    {
      "cell_type": "code",
      "execution_count": null,
      "metadata": {
        "id": "PkM2mGGjfUk0",
        "colab": {
          "base_uri": "https://localhost:8080/",
          "height": 206
        },
        "outputId": "b359c073-2673-48a1-e390-7d62fa28ad84"
      },
      "outputs": [
        {
          "output_type": "execute_result",
          "data": {
            "text/html": [
              "\n",
              "  <div id=\"df-f4da8688-ca41-44d2-b397-8a72c5fbbdef\">\n",
              "    <div class=\"colab-df-container\">\n",
              "      <div>\n",
              "<style scoped>\n",
              "    .dataframe tbody tr th:only-of-type {\n",
              "        vertical-align: middle;\n",
              "    }\n",
              "\n",
              "    .dataframe tbody tr th {\n",
              "        vertical-align: top;\n",
              "    }\n",
              "\n",
              "    .dataframe thead th {\n",
              "        text-align: right;\n",
              "    }\n",
              "</style>\n",
              "<table border=\"1\" class=\"dataframe\">\n",
              "  <thead>\n",
              "    <tr style=\"text-align: right;\">\n",
              "      <th></th>\n",
              "      <th>Product</th>\n",
              "      <th>Consumer complaint narrative</th>\n",
              "    </tr>\n",
              "  </thead>\n",
              "  <tbody>\n",
              "    <tr>\n",
              "      <th>3</th>\n",
              "      <td>Credit reporting</td>\n",
              "      <td>NaN</td>\n",
              "    </tr>\n",
              "    <tr>\n",
              "      <th>7</th>\n",
              "      <td>credit_card</td>\n",
              "      <td>NaN</td>\n",
              "    </tr>\n",
              "    <tr>\n",
              "      <th>8</th>\n",
              "      <td>Credit reporting</td>\n",
              "      <td>NaN</td>\n",
              "    </tr>\n",
              "    <tr>\n",
              "      <th>23</th>\n",
              "      <td>mortgages_and_loans</td>\n",
              "      <td>NaN</td>\n",
              "    </tr>\n",
              "    <tr>\n",
              "      <th>24</th>\n",
              "      <td>debt_collection</td>\n",
              "      <td>NaN</td>\n",
              "    </tr>\n",
              "  </tbody>\n",
              "</table>\n",
              "</div>\n",
              "      <button class=\"colab-df-convert\" onclick=\"convertToInteractive('df-f4da8688-ca41-44d2-b397-8a72c5fbbdef')\"\n",
              "              title=\"Convert this dataframe to an interactive table.\"\n",
              "              style=\"display:none;\">\n",
              "        \n",
              "  <svg xmlns=\"http://www.w3.org/2000/svg\" height=\"24px\"viewBox=\"0 0 24 24\"\n",
              "       width=\"24px\">\n",
              "    <path d=\"M0 0h24v24H0V0z\" fill=\"none\"/>\n",
              "    <path d=\"M18.56 5.44l.94 2.06.94-2.06 2.06-.94-2.06-.94-.94-2.06-.94 2.06-2.06.94zm-11 1L8.5 8.5l.94-2.06 2.06-.94-2.06-.94L8.5 2.5l-.94 2.06-2.06.94zm10 10l.94 2.06.94-2.06 2.06-.94-2.06-.94-.94-2.06-.94 2.06-2.06.94z\"/><path d=\"M17.41 7.96l-1.37-1.37c-.4-.4-.92-.59-1.43-.59-.52 0-1.04.2-1.43.59L10.3 9.45l-7.72 7.72c-.78.78-.78 2.05 0 2.83L4 21.41c.39.39.9.59 1.41.59.51 0 1.02-.2 1.41-.59l7.78-7.78 2.81-2.81c.8-.78.8-2.07 0-2.86zM5.41 20L4 18.59l7.72-7.72 1.47 1.35L5.41 20z\"/>\n",
              "  </svg>\n",
              "      </button>\n",
              "      \n",
              "  <style>\n",
              "    .colab-df-container {\n",
              "      display:flex;\n",
              "      flex-wrap:wrap;\n",
              "      gap: 12px;\n",
              "    }\n",
              "\n",
              "    .colab-df-convert {\n",
              "      background-color: #E8F0FE;\n",
              "      border: none;\n",
              "      border-radius: 50%;\n",
              "      cursor: pointer;\n",
              "      display: none;\n",
              "      fill: #1967D2;\n",
              "      height: 32px;\n",
              "      padding: 0 0 0 0;\n",
              "      width: 32px;\n",
              "    }\n",
              "\n",
              "    .colab-df-convert:hover {\n",
              "      background-color: #E2EBFA;\n",
              "      box-shadow: 0px 1px 2px rgba(60, 64, 67, 0.3), 0px 1px 3px 1px rgba(60, 64, 67, 0.15);\n",
              "      fill: #174EA6;\n",
              "    }\n",
              "\n",
              "    [theme=dark] .colab-df-convert {\n",
              "      background-color: #3B4455;\n",
              "      fill: #D2E3FC;\n",
              "    }\n",
              "\n",
              "    [theme=dark] .colab-df-convert:hover {\n",
              "      background-color: #434B5C;\n",
              "      box-shadow: 0px 1px 3px 1px rgba(0, 0, 0, 0.15);\n",
              "      filter: drop-shadow(0px 1px 2px rgba(0, 0, 0, 0.3));\n",
              "      fill: #FFFFFF;\n",
              "    }\n",
              "  </style>\n",
              "\n",
              "      <script>\n",
              "        const buttonEl =\n",
              "          document.querySelector('#df-f4da8688-ca41-44d2-b397-8a72c5fbbdef button.colab-df-convert');\n",
              "        buttonEl.style.display =\n",
              "          google.colab.kernel.accessAllowed ? 'block' : 'none';\n",
              "\n",
              "        async function convertToInteractive(key) {\n",
              "          const element = document.querySelector('#df-f4da8688-ca41-44d2-b397-8a72c5fbbdef');\n",
              "          const dataTable =\n",
              "            await google.colab.kernel.invokeFunction('convertToInteractive',\n",
              "                                                     [key], {});\n",
              "          if (!dataTable) return;\n",
              "\n",
              "          const docLinkHtml = 'Like what you see? Visit the ' +\n",
              "            '<a target=\"_blank\" href=https://colab.research.google.com/notebooks/data_table.ipynb>data table notebook</a>'\n",
              "            + ' to learn more about interactive tables.';\n",
              "          element.innerHTML = '';\n",
              "          dataTable['output_type'] = 'display_data';\n",
              "          await google.colab.output.renderOutput(dataTable, element);\n",
              "          const docLink = document.createElement('div');\n",
              "          docLink.innerHTML = docLinkHtml;\n",
              "          element.appendChild(docLink);\n",
              "        }\n",
              "      </script>\n",
              "    </div>\n",
              "  </div>\n",
              "  "
            ],
            "text/plain": [
              "                Product Consumer complaint narrative\n",
              "3      Credit reporting                          NaN\n",
              "7           credit_card                          NaN\n",
              "8      Credit reporting                          NaN\n",
              "23  mortgages_and_loans                          NaN\n",
              "24      debt_collection                          NaN"
            ]
          },
          "metadata": {},
          "execution_count": 14
        }
      ],
      "source": [
        "nlp_data_filter.head()"
      ]
    },
    {
      "cell_type": "code",
      "execution_count": null,
      "metadata": {
        "id": "2wxySmx1fYZC",
        "colab": {
          "base_uri": "https://localhost:8080/",
          "height": 206
        },
        "outputId": "d7daf654-43fc-4693-8d78-57ddb9582def"
      },
      "outputs": [
        {
          "output_type": "execute_result",
          "data": {
            "text/html": [
              "\n",
              "  <div id=\"df-cd9ae445-e801-4bfc-90df-2fe793abd713\">\n",
              "    <div class=\"colab-df-container\">\n",
              "      <div>\n",
              "<style scoped>\n",
              "    .dataframe tbody tr th:only-of-type {\n",
              "        vertical-align: middle;\n",
              "    }\n",
              "\n",
              "    .dataframe tbody tr th {\n",
              "        vertical-align: top;\n",
              "    }\n",
              "\n",
              "    .dataframe thead th {\n",
              "        text-align: right;\n",
              "    }\n",
              "</style>\n",
              "<table border=\"1\" class=\"dataframe\">\n",
              "  <thead>\n",
              "    <tr style=\"text-align: right;\">\n",
              "      <th></th>\n",
              "      <th>Product</th>\n",
              "      <th>Consumer complaint narrative</th>\n",
              "    </tr>\n",
              "  </thead>\n",
              "  <tbody>\n",
              "    <tr>\n",
              "      <th>77</th>\n",
              "      <td>debt_collection</td>\n",
              "      <td>I received a collections notice dated XX/XX/XX...</td>\n",
              "    </tr>\n",
              "    <tr>\n",
              "      <th>130</th>\n",
              "      <td>Credit reporting</td>\n",
              "      <td>ATTN Collections Dept I am submitting a compla...</td>\n",
              "    </tr>\n",
              "    <tr>\n",
              "      <th>202</th>\n",
              "      <td>mortgages_and_loans</td>\n",
              "      <td>Despite my forbearance having ended months ago...</td>\n",
              "    </tr>\n",
              "    <tr>\n",
              "      <th>215</th>\n",
              "      <td>mortgages_and_loans</td>\n",
              "      <td>I have made several payments that have been de...</td>\n",
              "    </tr>\n",
              "    <tr>\n",
              "      <th>223</th>\n",
              "      <td>mortgages_and_loans</td>\n",
              "      <td>About three years ago I attempted to assume gr...</td>\n",
              "    </tr>\n",
              "  </tbody>\n",
              "</table>\n",
              "</div>\n",
              "      <button class=\"colab-df-convert\" onclick=\"convertToInteractive('df-cd9ae445-e801-4bfc-90df-2fe793abd713')\"\n",
              "              title=\"Convert this dataframe to an interactive table.\"\n",
              "              style=\"display:none;\">\n",
              "        \n",
              "  <svg xmlns=\"http://www.w3.org/2000/svg\" height=\"24px\"viewBox=\"0 0 24 24\"\n",
              "       width=\"24px\">\n",
              "    <path d=\"M0 0h24v24H0V0z\" fill=\"none\"/>\n",
              "    <path d=\"M18.56 5.44l.94 2.06.94-2.06 2.06-.94-2.06-.94-.94-2.06-.94 2.06-2.06.94zm-11 1L8.5 8.5l.94-2.06 2.06-.94-2.06-.94L8.5 2.5l-.94 2.06-2.06.94zm10 10l.94 2.06.94-2.06 2.06-.94-2.06-.94-.94-2.06-.94 2.06-2.06.94z\"/><path d=\"M17.41 7.96l-1.37-1.37c-.4-.4-.92-.59-1.43-.59-.52 0-1.04.2-1.43.59L10.3 9.45l-7.72 7.72c-.78.78-.78 2.05 0 2.83L4 21.41c.39.39.9.59 1.41.59.51 0 1.02-.2 1.41-.59l7.78-7.78 2.81-2.81c.8-.78.8-2.07 0-2.86zM5.41 20L4 18.59l7.72-7.72 1.47 1.35L5.41 20z\"/>\n",
              "  </svg>\n",
              "      </button>\n",
              "      \n",
              "  <style>\n",
              "    .colab-df-container {\n",
              "      display:flex;\n",
              "      flex-wrap:wrap;\n",
              "      gap: 12px;\n",
              "    }\n",
              "\n",
              "    .colab-df-convert {\n",
              "      background-color: #E8F0FE;\n",
              "      border: none;\n",
              "      border-radius: 50%;\n",
              "      cursor: pointer;\n",
              "      display: none;\n",
              "      fill: #1967D2;\n",
              "      height: 32px;\n",
              "      padding: 0 0 0 0;\n",
              "      width: 32px;\n",
              "    }\n",
              "\n",
              "    .colab-df-convert:hover {\n",
              "      background-color: #E2EBFA;\n",
              "      box-shadow: 0px 1px 2px rgba(60, 64, 67, 0.3), 0px 1px 3px 1px rgba(60, 64, 67, 0.15);\n",
              "      fill: #174EA6;\n",
              "    }\n",
              "\n",
              "    [theme=dark] .colab-df-convert {\n",
              "      background-color: #3B4455;\n",
              "      fill: #D2E3FC;\n",
              "    }\n",
              "\n",
              "    [theme=dark] .colab-df-convert:hover {\n",
              "      background-color: #434B5C;\n",
              "      box-shadow: 0px 1px 3px 1px rgba(0, 0, 0, 0.15);\n",
              "      filter: drop-shadow(0px 1px 2px rgba(0, 0, 0, 0.3));\n",
              "      fill: #FFFFFF;\n",
              "    }\n",
              "  </style>\n",
              "\n",
              "      <script>\n",
              "        const buttonEl =\n",
              "          document.querySelector('#df-cd9ae445-e801-4bfc-90df-2fe793abd713 button.colab-df-convert');\n",
              "        buttonEl.style.display =\n",
              "          google.colab.kernel.accessAllowed ? 'block' : 'none';\n",
              "\n",
              "        async function convertToInteractive(key) {\n",
              "          const element = document.querySelector('#df-cd9ae445-e801-4bfc-90df-2fe793abd713');\n",
              "          const dataTable =\n",
              "            await google.colab.kernel.invokeFunction('convertToInteractive',\n",
              "                                                     [key], {});\n",
              "          if (!dataTable) return;\n",
              "\n",
              "          const docLinkHtml = 'Like what you see? Visit the ' +\n",
              "            '<a target=\"_blank\" href=https://colab.research.google.com/notebooks/data_table.ipynb>data table notebook</a>'\n",
              "            + ' to learn more about interactive tables.';\n",
              "          element.innerHTML = '';\n",
              "          dataTable['output_type'] = 'display_data';\n",
              "          await google.colab.output.renderOutput(dataTable, element);\n",
              "          const docLink = document.createElement('div');\n",
              "          docLink.innerHTML = docLinkHtml;\n",
              "          element.appendChild(docLink);\n",
              "        }\n",
              "      </script>\n",
              "    </div>\n",
              "  </div>\n",
              "  "
            ],
            "text/plain": [
              "                 Product                       Consumer complaint narrative\n",
              "77       debt_collection  I received a collections notice dated XX/XX/XX...\n",
              "130     Credit reporting  ATTN Collections Dept I am submitting a compla...\n",
              "202  mortgages_and_loans  Despite my forbearance having ended months ago...\n",
              "215  mortgages_and_loans  I have made several payments that have been de...\n",
              "223  mortgages_and_loans  About three years ago I attempted to assume gr..."
            ]
          },
          "metadata": {},
          "execution_count": 15
        }
      ],
      "source": [
        "nlp_data_filter.dropna(subset = ['Consumer complaint narrative'], inplace=True)\n",
        "nlp_data_filter.head()"
      ]
    },
    {
      "cell_type": "code",
      "execution_count": null,
      "metadata": {
        "id": "YHPBVnJRflIk",
        "colab": {
          "base_uri": "https://localhost:8080/",
          "height": 206
        },
        "outputId": "62807f83-7a15-4b35-a7e5-4c8c56139c1b"
      },
      "outputs": [
        {
          "output_type": "execute_result",
          "data": {
            "text/html": [
              "\n",
              "  <div id=\"df-39613604-bc60-4b60-b23c-d685fdcfad9a\">\n",
              "    <div class=\"colab-df-container\">\n",
              "      <div>\n",
              "<style scoped>\n",
              "    .dataframe tbody tr th:only-of-type {\n",
              "        vertical-align: middle;\n",
              "    }\n",
              "\n",
              "    .dataframe tbody tr th {\n",
              "        vertical-align: top;\n",
              "    }\n",
              "\n",
              "    .dataframe thead th {\n",
              "        text-align: right;\n",
              "    }\n",
              "</style>\n",
              "<table border=\"1\" class=\"dataframe\">\n",
              "  <thead>\n",
              "    <tr style=\"text-align: right;\">\n",
              "      <th></th>\n",
              "      <th>Product</th>\n",
              "      <th>Consumer complaint narrative</th>\n",
              "    </tr>\n",
              "  </thead>\n",
              "  <tbody>\n",
              "    <tr>\n",
              "      <th>77</th>\n",
              "      <td>debt_collection</td>\n",
              "      <td>I received a collections notice dated XX/XX/XX...</td>\n",
              "    </tr>\n",
              "    <tr>\n",
              "      <th>130</th>\n",
              "      <td>Credit reporting</td>\n",
              "      <td>ATTN Collections Dept I am submitting a compla...</td>\n",
              "    </tr>\n",
              "    <tr>\n",
              "      <th>202</th>\n",
              "      <td>mortgages_and_loans</td>\n",
              "      <td>Despite my forbearance having ended months ago...</td>\n",
              "    </tr>\n",
              "    <tr>\n",
              "      <th>215</th>\n",
              "      <td>mortgages_and_loans</td>\n",
              "      <td>I have made several payments that have been de...</td>\n",
              "    </tr>\n",
              "    <tr>\n",
              "      <th>223</th>\n",
              "      <td>mortgages_and_loans</td>\n",
              "      <td>About three years ago I attempted to assume gr...</td>\n",
              "    </tr>\n",
              "  </tbody>\n",
              "</table>\n",
              "</div>\n",
              "      <button class=\"colab-df-convert\" onclick=\"convertToInteractive('df-39613604-bc60-4b60-b23c-d685fdcfad9a')\"\n",
              "              title=\"Convert this dataframe to an interactive table.\"\n",
              "              style=\"display:none;\">\n",
              "        \n",
              "  <svg xmlns=\"http://www.w3.org/2000/svg\" height=\"24px\"viewBox=\"0 0 24 24\"\n",
              "       width=\"24px\">\n",
              "    <path d=\"M0 0h24v24H0V0z\" fill=\"none\"/>\n",
              "    <path d=\"M18.56 5.44l.94 2.06.94-2.06 2.06-.94-2.06-.94-.94-2.06-.94 2.06-2.06.94zm-11 1L8.5 8.5l.94-2.06 2.06-.94-2.06-.94L8.5 2.5l-.94 2.06-2.06.94zm10 10l.94 2.06.94-2.06 2.06-.94-2.06-.94-.94-2.06-.94 2.06-2.06.94z\"/><path d=\"M17.41 7.96l-1.37-1.37c-.4-.4-.92-.59-1.43-.59-.52 0-1.04.2-1.43.59L10.3 9.45l-7.72 7.72c-.78.78-.78 2.05 0 2.83L4 21.41c.39.39.9.59 1.41.59.51 0 1.02-.2 1.41-.59l7.78-7.78 2.81-2.81c.8-.78.8-2.07 0-2.86zM5.41 20L4 18.59l7.72-7.72 1.47 1.35L5.41 20z\"/>\n",
              "  </svg>\n",
              "      </button>\n",
              "      \n",
              "  <style>\n",
              "    .colab-df-container {\n",
              "      display:flex;\n",
              "      flex-wrap:wrap;\n",
              "      gap: 12px;\n",
              "    }\n",
              "\n",
              "    .colab-df-convert {\n",
              "      background-color: #E8F0FE;\n",
              "      border: none;\n",
              "      border-radius: 50%;\n",
              "      cursor: pointer;\n",
              "      display: none;\n",
              "      fill: #1967D2;\n",
              "      height: 32px;\n",
              "      padding: 0 0 0 0;\n",
              "      width: 32px;\n",
              "    }\n",
              "\n",
              "    .colab-df-convert:hover {\n",
              "      background-color: #E2EBFA;\n",
              "      box-shadow: 0px 1px 2px rgba(60, 64, 67, 0.3), 0px 1px 3px 1px rgba(60, 64, 67, 0.15);\n",
              "      fill: #174EA6;\n",
              "    }\n",
              "\n",
              "    [theme=dark] .colab-df-convert {\n",
              "      background-color: #3B4455;\n",
              "      fill: #D2E3FC;\n",
              "    }\n",
              "\n",
              "    [theme=dark] .colab-df-convert:hover {\n",
              "      background-color: #434B5C;\n",
              "      box-shadow: 0px 1px 3px 1px rgba(0, 0, 0, 0.15);\n",
              "      filter: drop-shadow(0px 1px 2px rgba(0, 0, 0, 0.3));\n",
              "      fill: #FFFFFF;\n",
              "    }\n",
              "  </style>\n",
              "\n",
              "      <script>\n",
              "        const buttonEl =\n",
              "          document.querySelector('#df-39613604-bc60-4b60-b23c-d685fdcfad9a button.colab-df-convert');\n",
              "        buttonEl.style.display =\n",
              "          google.colab.kernel.accessAllowed ? 'block' : 'none';\n",
              "\n",
              "        async function convertToInteractive(key) {\n",
              "          const element = document.querySelector('#df-39613604-bc60-4b60-b23c-d685fdcfad9a');\n",
              "          const dataTable =\n",
              "            await google.colab.kernel.invokeFunction('convertToInteractive',\n",
              "                                                     [key], {});\n",
              "          if (!dataTable) return;\n",
              "\n",
              "          const docLinkHtml = 'Like what you see? Visit the ' +\n",
              "            '<a target=\"_blank\" href=https://colab.research.google.com/notebooks/data_table.ipynb>data table notebook</a>'\n",
              "            + ' to learn more about interactive tables.';\n",
              "          element.innerHTML = '';\n",
              "          dataTable['output_type'] = 'display_data';\n",
              "          await google.colab.output.renderOutput(dataTable, element);\n",
              "          const docLink = document.createElement('div');\n",
              "          docLink.innerHTML = docLinkHtml;\n",
              "          element.appendChild(docLink);\n",
              "        }\n",
              "      </script>\n",
              "    </div>\n",
              "  </div>\n",
              "  "
            ],
            "text/plain": [
              "                 Product                       Consumer complaint narrative\n",
              "77       debt_collection  I received a collections notice dated XX/XX/XX...\n",
              "130     Credit reporting  ATTN Collections Dept I am submitting a compla...\n",
              "202  mortgages_and_loans  Despite my forbearance having ended months ago...\n",
              "215  mortgages_and_loans  I have made several payments that have been de...\n",
              "223  mortgages_and_loans  About three years ago I attempted to assume gr..."
            ]
          },
          "metadata": {},
          "execution_count": 16
        }
      ],
      "source": [
        "nlp_data_filter.head()"
      ]
    },
    {
      "cell_type": "code",
      "execution_count": null,
      "metadata": {
        "id": "k36dqAozc6LV",
        "colab": {
          "base_uri": "https://localhost:8080/",
          "height": 722
        },
        "outputId": "dfef4e7e-e516-4045-8c91-74fbf3c612b1"
      },
      "outputs": [
        {
          "output_type": "execute_result",
          "data": {
            "text/plain": [
              "<matplotlib.legend.Legend at 0x7f7a476fe610>"
            ]
          },
          "metadata": {},
          "execution_count": 17
        },
        {
          "output_type": "display_data",
          "data": {
            "image/png": "[encoded data removed]",
            "text/plain": [
              "<Figure size 720x720 with 1 Axes>"
            ]
          },
          "metadata": {
            "needs_background": "light"
          }
        }
      ],
      "source": [
        "import matplotlib.pyplot as plt\n",
        "nlp_data_filter.Product.value_counts().plot(kind='bar',figsize=(10,10),color=['blue', 'red', 'green', 'pink', 'yellow'])\n",
        "plt.xlabel('categories')\n",
        "plt.ylabel('count')\n",
        "plt.legend()"
      ]
    },
    {
      "cell_type": "code",
      "execution_count": null,
      "metadata": {
        "id": "lmtY5_9uf840",
        "colab": {
          "base_uri": "https://localhost:8080/",
          "height": 35
        },
        "outputId": "94ee42ce-e7b0-4277-f760-b16a6fb290c4"
      },
      "outputs": [
        {
          "output_type": "execute_result",
          "data": {
            "application/vnd.google.colaboratory.intrinsic+json": {
              "type": "string"
            },
            "text/plain": [
              "'/device:GPU:0'"
            ]
          },
          "metadata": {},
          "execution_count": 18
        }
      ],
      "source": [
        "from sklearn.model_selection import train_test_split\n",
        "import pandas as pd\n",
        "import numpy as np\n",
        "\n",
        "from tensorflow.keras.models import Sequential\n",
        "from tensorflow.keras.layers import LSTM, Dense, Embedding, Dropout,SimpleRNN\n",
        "import tensorflow as tf\n",
        "\n",
        "from tensorflow.python.client import device_lib\n",
        "tf.test.gpu_device_name()"
      ]
    },
    {
      "cell_type": "code",
      "execution_count": null,
      "metadata": {
        "id": "2FqV9ArEgDzi",
        "colab": {
          "base_uri": "https://localhost:8080/"
        },
        "outputId": "eecda4a9-a6cd-40a4-c2d5-be41d4158a50"
      },
      "outputs": [
        {
          "output_type": "stream",
          "name": "stdout",
          "text": [
            "[nltk_data] Downloading package stopwords to /root/nltk_data...\n",
            "[nltk_data]   Package stopwords is already up-to-date!\n"
          ]
        }
      ],
      "source": [
        "import nltk\n",
        "from nltk.corpus import stopwords\n",
        "from nltk import *\n",
        "\n",
        "nltk.download('stopwords') \n",
        "stop_word_removal = stopwords.words('english')  \n",
        "nlp_data_filter['Consumer complaint narrative'] = nlp_data_filter['Consumer complaint narrative'].apply(lambda x: \" \".join(x for x in x.split() if x not in stop_word_removal))\n",
        "nlp_data_filter['Consumer complaint narrative'] = nlp_data_filter['Consumer complaint narrative'].apply(lambda x: re.sub('[!@#$:).;,?&]', '', x.lower()))\n",
        "nlp_data_filter['Consumer complaint narrative'] = nlp_data_filter['Consumer complaint narrative'].apply(lambda x: re.sub(' ', ' ', x))\n",
        "nlp_data_filter['Consumer complaint narrative'] = nlp_data_filter['Consumer complaint narrative'].apply(lambda x: re.sub('x', '',x))"
      ]
    },
    {
      "cell_type": "code",
      "execution_count": null,
      "metadata": {
        "id": "GFoBuxzzg61N",
        "colab": {
          "base_uri": "https://localhost:8080/",
          "height": 206
        },
        "outputId": "63aa5484-d120-46b2-9fc5-9ee1304139ab"
      },
      "outputs": [
        {
          "output_type": "execute_result",
          "data": {
            "text/html": [
              "\n",
              "  <div id=\"df-3090db0d-03ea-4dc2-b639-2ef089c0fc7b\">\n",
              "    <div class=\"colab-df-container\">\n",
              "      <div>\n",
              "<style scoped>\n",
              "    .dataframe tbody tr th:only-of-type {\n",
              "        vertical-align: middle;\n",
              "    }\n",
              "\n",
              "    .dataframe tbody tr th {\n",
              "        vertical-align: top;\n",
              "    }\n",
              "\n",
              "    .dataframe thead th {\n",
              "        text-align: right;\n",
              "    }\n",
              "</style>\n",
              "<table border=\"1\" class=\"dataframe\">\n",
              "  <thead>\n",
              "    <tr style=\"text-align: right;\">\n",
              "      <th></th>\n",
              "      <th>Product</th>\n",
              "      <th>Consumer complaint narrative</th>\n",
              "    </tr>\n",
              "  </thead>\n",
              "  <tbody>\n",
              "    <tr>\n",
              "      <th>77</th>\n",
              "      <td>debt_collection</td>\n",
              "      <td>i received collections notice dated //     att...</td>\n",
              "    </tr>\n",
              "    <tr>\n",
              "      <th>130</th>\n",
              "      <td>Credit reporting</td>\n",
              "      <td>attn collections dept i submitting complaint r...</td>\n",
              "    </tr>\n",
              "    <tr>\n",
              "      <th>202</th>\n",
              "      <td>mortgages_and_loans</td>\n",
              "      <td>despite forbearance ended months ago lakeview/...</td>\n",
              "    </tr>\n",
              "    <tr>\n",
              "      <th>215</th>\n",
              "      <td>mortgages_and_loans</td>\n",
              "      <td>i made several payments deemed ineligible towa...</td>\n",
              "    </tr>\n",
              "    <tr>\n",
              "      <th>223</th>\n",
              "      <td>mortgages_and_loans</td>\n",
              "      <td>about three years ago i attempted assume grand...</td>\n",
              "    </tr>\n",
              "  </tbody>\n",
              "</table>\n",
              "</div>\n",
              "      <button class=\"colab-df-convert\" onclick=\"convertToInteractive('df-3090db0d-03ea-4dc2-b639-2ef089c0fc7b')\"\n",
              "              title=\"Convert this dataframe to an interactive table.\"\n",
              "              style=\"display:none;\">\n",
              "        \n",
              "  <svg xmlns=\"http://www.w3.org/2000/svg\" height=\"24px\"viewBox=\"0 0 24 24\"\n",
              "       width=\"24px\">\n",
              "    <path d=\"M0 0h24v24H0V0z\" fill=\"none\"/>\n",
              "    <path d=\"M18.56 5.44l.94 2.06.94-2.06 2.06-.94-2.06-.94-.94-2.06-.94 2.06-2.06.94zm-11 1L8.5 8.5l.94-2.06 2.06-.94-2.06-.94L8.5 2.5l-.94 2.06-2.06.94zm10 10l.94 2.06.94-2.06 2.06-.94-2.06-.94-.94-2.06-.94 2.06-2.06.94z\"/><path d=\"M17.41 7.96l-1.37-1.37c-.4-.4-.92-.59-1.43-.59-.52 0-1.04.2-1.43.59L10.3 9.45l-7.72 7.72c-.78.78-.78 2.05 0 2.83L4 21.41c.39.39.9.59 1.41.59.51 0 1.02-.2 1.41-.59l7.78-7.78 2.81-2.81c.8-.78.8-2.07 0-2.86zM5.41 20L4 18.59l7.72-7.72 1.47 1.35L5.41 20z\"/>\n",
              "  </svg>\n",
              "      </button>\n",
              "      \n",
              "  <style>\n",
              "    .colab-df-container {\n",
              "      display:flex;\n",
              "      flex-wrap:wrap;\n",
              "      gap: 12px;\n",
              "    }\n",
              "\n",
              "    .colab-df-convert {\n",
              "      background-color: #E8F0FE;\n",
              "      border: none;\n",
              "      border-radius: 50%;\n",
              "      cursor: pointer;\n",
              "      display: none;\n",
              "      fill: #1967D2;\n",
              "      height: 32px;\n",
              "      padding: 0 0 0 0;\n",
              "      width: 32px;\n",
              "    }\n",
              "\n",
              "    .colab-df-convert:hover {\n",
              "      background-color: #E2EBFA;\n",
              "      box-shadow: 0px 1px 2px rgba(60, 64, 67, 0.3), 0px 1px 3px 1px rgba(60, 64, 67, 0.15);\n",
              "      fill: #174EA6;\n",
              "    }\n",
              "\n",
              "    [theme=dark] .colab-df-convert {\n",
              "      background-color: #3B4455;\n",
              "      fill: #D2E3FC;\n",
              "    }\n",
              "\n",
              "    [theme=dark] .colab-df-convert:hover {\n",
              "      background-color: #434B5C;\n",
              "      box-shadow: 0px 1px 3px 1px rgba(0, 0, 0, 0.15);\n",
              "      filter: drop-shadow(0px 1px 2px rgba(0, 0, 0, 0.3));\n",
              "      fill: #FFFFFF;\n",
              "    }\n",
              "  </style>\n",
              "\n",
              "      <script>\n",
              "        const buttonEl =\n",
              "          document.querySelector('#df-3090db0d-03ea-4dc2-b639-2ef089c0fc7b button.colab-df-convert');\n",
              "        buttonEl.style.display =\n",
              "          google.colab.kernel.accessAllowed ? 'block' : 'none';\n",
              "\n",
              "        async function convertToInteractive(key) {\n",
              "          const element = document.querySelector('#df-3090db0d-03ea-4dc2-b639-2ef089c0fc7b');\n",
              "          const dataTable =\n",
              "            await google.colab.kernel.invokeFunction('convertToInteractive',\n",
              "                                                     [key], {});\n",
              "          if (!dataTable) return;\n",
              "\n",
              "          const docLinkHtml = 'Like what you see? Visit the ' +\n",
              "            '<a target=\"_blank\" href=https://colab.research.google.com/notebooks/data_table.ipynb>data table notebook</a>'\n",
              "            + ' to learn more about interactive tables.';\n",
              "          element.innerHTML = '';\n",
              "          dataTable['output_type'] = 'display_data';\n",
              "          await google.colab.output.renderOutput(dataTable, element);\n",
              "          const docLink = document.createElement('div');\n",
              "          docLink.innerHTML = docLinkHtml;\n",
              "          element.appendChild(docLink);\n",
              "        }\n",
              "      </script>\n",
              "    </div>\n",
              "  </div>\n",
              "  "
            ],
            "text/plain": [
              "                 Product                       Consumer complaint narrative\n",
              "77       debt_collection  i received collections notice dated //     att...\n",
              "130     Credit reporting  attn collections dept i submitting complaint r...\n",
              "202  mortgages_and_loans  despite forbearance ended months ago lakeview/...\n",
              "215  mortgages_and_loans  i made several payments deemed ineligible towa...\n",
              "223  mortgages_and_loans  about three years ago i attempted assume grand..."
            ]
          },
          "metadata": {},
          "execution_count": 20
        }
      ],
      "source": [
        "nlp_data_filter.head()"
      ]
    },
    {
      "cell_type": "code",
      "execution_count": null,
      "metadata": {
        "id": "fE-FXhgAg-dr"
      },
      "outputs": [],
      "source": [
        "from sklearn import preprocessing\n",
        "le = preprocessing.LabelEncoder()\n",
        "nlp_data_filter['Product']=le.fit_transform(nlp_data_filter['Product'])\n",
        "X = nlp_data_filter['Consumer complaint narrative']\n",
        "y = nlp_data_filter['Product']\n",
        "X_train, X_test, y_train, y_test=  train_test_split(X,y, test_size=0.20, random_state=42)\n",
        "X_train_final, X_dev, y_train_final, y_dev = train_test_split(X_train,y_train, test_size=0.20, random_state=42)"
      ]
    },
    {
      "cell_type": "code",
      "source": [
        "print(nlp_data_filter['Product'].unique())"
      ],
      "metadata": {
        "colab": {
          "base_uri": "https://localhost:8080/"
        },
        "id": "mqNchTW8gH1B",
        "outputId": "e67b774a-e6d5-4f94-c645-75c8fdfb82cf"
      },
      "execution_count": null,
      "outputs": [
        {
          "output_type": "stream",
          "name": "stdout",
          "text": [
            "[2 0 3 1 4]\n"
          ]
        }
      ]
    },
    {
      "cell_type": "code",
      "execution_count": null,
      "metadata": {
        "id": "NtJqruT0hjI1"
      },
      "outputs": [],
      "source": [
        "maxlen = 250\n",
        "max_features = 50000\n",
        "oov_tok = '<OOV>'"
      ]
    },
    {
      "cell_type": "code",
      "execution_count": null,
      "metadata": {
        "id": "xS-P_1oXhpu5"
      },
      "outputs": [],
      "source": [
        "from keras.preprocessing.text import Tokenizer\n",
        "## Tokenize the sentences\n",
        "tokenizer = Tokenizer(num_words=max_features,oov_token=oov_tok)\n",
        "tokenizer.fit_on_texts(X_train_final.tolist()+X_test.tolist()+X_dev.tolist())\n",
        "train_X = tokenizer.texts_to_sequences(X_train_final.tolist())\n",
        "test_X = tokenizer.texts_to_sequences(X_test.tolist())\n",
        "dev_X = tokenizer.texts_to_sequences(X_dev.tolist())\n",
        "word_index = tokenizer.word_index"
      ]
    },
    {
      "cell_type": "code",
      "execution_count": null,
      "metadata": {
        "id": "8svoP1cchsVW"
      },
      "outputs": [],
      "source": [
        "trunc_type = 'post'\n",
        "padding_type = 'post' \n",
        "vocab_size=len(word_index)+1"
      ]
    },
    {
      "cell_type": "code",
      "execution_count": null,
      "metadata": {
        "id": "H1KyRnblhuy9"
      },
      "outputs": [],
      "source": [
        "train_X = tf.keras.preprocessing.sequence.pad_sequences(train_X, maxlen=maxlen,padding=padding_type, truncating=trunc_type)\n",
        "test_X = tf.keras.preprocessing.sequence.pad_sequences(test_X, maxlen=maxlen,padding=padding_type, truncating=trunc_type)\n",
        "dev_X = tf.keras.preprocessing.sequence.pad_sequences(dev_X, maxlen=maxlen,padding=padding_type, truncating=trunc_type)"
      ]
    },
    {
      "cell_type": "code",
      "execution_count": null,
      "metadata": {
        "id": "_jAD1or6hyFa",
        "colab": {
          "base_uri": "https://localhost:8080/"
        },
        "outputId": "79b12912-676b-43b5-ad8c-a46560b4175c"
      },
      "outputs": [
        {
          "output_type": "execute_result",
          "data": {
            "text/plain": [
              "array([[  28,  152,    2, ...,    0,    0,    0],\n",
              "       [   2,  616,  124, ...,    0,    0,    0],\n",
              "       [   9,   71,   25, ...,    0,    0,    0],\n",
              "       ...,\n",
              "       [ 513,    9, 1002, ..., 1995,  709,  343],\n",
              "       [   2,   18,   58, ...,    0,    0,    0],\n",
              "       [   7,   16,    3, ...,    0,    0,    0]], dtype=int32)"
            ]
          },
          "metadata": {},
          "execution_count": 27
        }
      ],
      "source": [
        "train_X"
      ]
    },
    {
      "cell_type": "code",
      "execution_count": null,
      "metadata": {
        "id": "vk6TY2JOh1Mz"
      },
      "outputs": [],
      "source": [
        "vocab_len=len(word_index)+1\n",
        "emb_dim=100"
      ]
    },
    {
      "cell_type": "code",
      "execution_count": null,
      "metadata": {
        "id": "IXa2Jsq2h3Sf",
        "colab": {
          "base_uri": "https://localhost:8080/"
        },
        "outputId": "f3bc2ee9-e73c-4cc0-f6e4-686596b0a02f"
      },
      "outputs": [
        {
          "output_type": "execute_result",
          "data": {
            "text/plain": [
              "array([[1., 0., 0., 0., 0.],\n",
              "       [0., 0., 0., 1., 0.],\n",
              "       [0., 0., 1., 0., 0.],\n",
              "       ...,\n",
              "       [1., 0., 0., 0., 0.],\n",
              "       [0., 0., 1., 0., 0.],\n",
              "       [0., 0., 1., 0., 0.]], dtype=float32)"
            ]
          },
          "metadata": {},
          "execution_count": 29
        }
      ],
      "source": [
        "import numpy as np\n",
        "from tensorflow.python.keras.utils import np_utils\n",
        "from tensorflow.keras.utils import to_categorical\n",
        "import numpy as np\n",
        "train_labels = to_categorical(np.asarray(y_train_final))\n",
        "test_labels = to_categorical(np.array(y_test))\n",
        "dev_labels=to_categorical(np.array(y_dev))\n",
        "train_labels"
      ]
    },
    {
      "cell_type": "markdown",
      "metadata": {
        "id": "SFSuU9vBguqw"
      },
      "source": [
        "## This is our Baseline Model RNN(Recurrent Nueral Network)"
      ]
    },
    {
      "cell_type": "code",
      "execution_count": null,
      "metadata": {
        "id": "nxBLWMU2yqyO",
        "colab": {
          "base_uri": "https://localhost:8080/"
        },
        "outputId": "4d79fe3c-f104-4677-f38c-2241107f3afe"
      },
      "outputs": [
        {
          "output_type": "stream",
          "name": "stdout",
          "text": [
            "Model: \"sequential\"\n",
            "_________________________________________________________________\n",
            " Layer (type)                Output Shape              Param #   \n",
            "=================================================================\n",
            " embedding (Embedding)       (None, 250, 100)          5631700   \n",
            "                                                                 \n",
            " simple_rnn (SimpleRNN)      (None, 64)                10560     \n",
            "                                                                 \n",
            " dropout (Dropout)           (None, 64)                0         \n",
            "                                                                 \n",
            " dense (Dense)               (None, 5)                 325       \n",
            "                                                                 \n",
            "=================================================================\n",
            "Total params: 5,642,585\n",
            "Trainable params: 10,885\n",
            "Non-trainable params: 5,631,700\n",
            "_________________________________________________________________\n",
            "None\n"
          ]
        }
      ],
      "source": [
        "from tensorflow.keras.models import Sequential\n",
        "from tensorflow.keras.layers import LSTM, Dense, Embedding, Dropout,SimpleRNN\n",
        "from tensorflow.keras.preprocessing import text, sequence \n",
        "import tensorflow as tf\n",
        "Baseline_model = Sequential()\n",
        "Baseline_model.add(Embedding(vocab_size, emb_dim, input_length=maxlen,trainable = False))\n",
        "Baseline_model.add(SimpleRNN(64, return_sequences=False))\n",
        "Baseline_model.add(Dropout(0.2))\n",
        "Baseline_model.add(Dense(5, activation = 'softmax'))\n",
        "Baseline_model.compile(loss='binary_crossentropy', optimizer='adam', metrics=['accuracy'])\n",
        "print(Baseline_model.summary())"
      ]
    },
    {
      "cell_type": "code",
      "execution_count": null,
      "metadata": {
        "id": "yGLyWsS41G25",
        "colab": {
          "base_uri": "https://localhost:8080/"
        },
        "outputId": "32448b73-8d42-429a-8f9e-8253872a440f"
      },
      "outputs": [
        {
          "output_type": "stream",
          "name": "stdout",
          "text": [
            "Epoch 1/10\n",
            "331/331 [==============================] - 48s 138ms/step - loss: 0.4327 - accuracy: 0.5290 - val_loss: 0.4195 - val_accuracy: 0.5361\n",
            "Epoch 2/10\n",
            "331/331 [==============================] - 45s 137ms/step - loss: 0.4235 - accuracy: 0.5322 - val_loss: 0.4173 - val_accuracy: 0.5380\n",
            "Epoch 3/10\n",
            "331/331 [==============================] - 45s 137ms/step - loss: 0.4220 - accuracy: 0.5336 - val_loss: 0.4184 - val_accuracy: 0.5368\n",
            "Epoch 4/10\n",
            "331/331 [==============================] - 45s 137ms/step - loss: 0.4213 - accuracy: 0.5346 - val_loss: 0.4169 - val_accuracy: 0.5381\n",
            "Epoch 5/10\n",
            "331/331 [==============================] - 46s 138ms/step - loss: 0.4206 - accuracy: 0.5354 - val_loss: 0.4168 - val_accuracy: 0.5393\n",
            "Epoch 6/10\n",
            "331/331 [==============================] - 46s 138ms/step - loss: 0.4206 - accuracy: 0.5351 - val_loss: 0.4163 - val_accuracy: 0.5402\n",
            "Epoch 7/10\n",
            "331/331 [==============================] - 45s 137ms/step - loss: 0.4204 - accuracy: 0.5356 - val_loss: 0.4162 - val_accuracy: 0.5393\n",
            "Epoch 8/10\n",
            "331/331 [==============================] - 46s 138ms/step - loss: 0.4195 - accuracy: 0.5370 - val_loss: 0.4152 - val_accuracy: 0.5431\n",
            "Epoch 9/10\n",
            "331/331 [==============================] - 46s 138ms/step - loss: 0.4200 - accuracy: 0.5354 - val_loss: 0.4160 - val_accuracy: 0.5410\n",
            "Epoch 10/10\n",
            "331/331 [==============================] - 46s 138ms/step - loss: 0.4201 - accuracy: 0.5361 - val_loss: 0.4176 - val_accuracy: 0.5373\n"
          ]
        }
      ],
      "source": [
        "batch_size = 256\n",
        "epochs  = 10\n",
        "hisrnntory = Baseline_model.fit(train_X, train_labels,validation_data=(dev_X, dev_labels),batch_size = batch_size, epochs = epochs)"
      ]
    },
    {
      "cell_type": "code",
      "execution_count": null,
      "metadata": {
        "id": "dMwSTig-i-FG",
        "colab": {
          "base_uri": "https://localhost:8080/"
        },
        "outputId": "cafbd1f6-989b-4cb4-d338-30ac2eabdf74"
      },
      "outputs": [
        {
          "output_type": "stream",
          "name": "stdout",
          "text": [
            "precision: [0.54477641 0.         0.94827586 0.         0.        ]\n",
            "recall: [0.98656199 0.         0.01211988 0.         0.        ]\n",
            "fscore: [0.70194243 0.         0.02393386 0.         0.        ]\n",
            "support: [14139  2093  4538  3032  2631]\n",
            "################################\n",
            "              precision    recall  f1-score   support\n",
            "\n",
            "           0       0.54      0.99      0.70     14139\n",
            "           1       0.00      0.00      0.00      2093\n",
            "           2       0.95      0.01      0.02      4538\n",
            "           3       0.00      0.00      0.00      3032\n",
            "           4       0.00      0.00      0.00      2631\n",
            "\n",
            "   micro avg       0.55      0.53      0.54     26433\n",
            "   macro avg       0.30      0.20      0.15     26433\n",
            "weighted avg       0.45      0.53      0.38     26433\n",
            " samples avg       0.53      0.53      0.53     26433\n",
            "\n"
          ]
        },
        {
          "output_type": "stream",
          "name": "stderr",
          "text": [
            "/usr/local/lib/python3.7/dist-packages/sklearn/metrics/_classification.py:1308: UndefinedMetricWarning: Precision and F-score are ill-defined and being set to 0.0 in labels with no predicted samples. Use `zero_division` parameter to control this behavior.\n",
            "  _warn_prf(average, modifier, msg_start, len(result))\n",
            "/usr/local/lib/python3.7/dist-packages/sklearn/metrics/_classification.py:1308: UndefinedMetricWarning: Precision and F-score are ill-defined and being set to 0.0 in labels with no predicted samples. Use `zero_division` parameter to control this behavior.\n",
            "  _warn_prf(average, modifier, msg_start, len(result))\n",
            "/usr/local/lib/python3.7/dist-packages/sklearn/metrics/_classification.py:1308: UndefinedMetricWarning: Precision and F-score are ill-defined and being set to 0.0 in samples with no predicted labels. Use `zero_division` parameter to control this behavior.\n",
            "  _warn_prf(average, modifier, msg_start, len(result))\n"
          ]
        }
      ],
      "source": [
        "baseline_model_prediction = Baseline_model.predict(test_X)\n",
        "#predicted_bi_lstm\n",
        "import sklearn\n",
        "from sklearn.metrics import precision_recall_fscore_support as score\n",
        "precision, recall, fscore, support = score(test_labels, baseline_model_prediction.round())\n",
        "print('precision: {}'.format(precision))\n",
        "print('recall: {}'.format(recall))\n",
        "print('fscore: {}'.format(fscore))\n",
        "print('support: {}'.format(support))\n",
        "print('################################')\n",
        "print(sklearn.metrics.classification_report(test_labels, baseline_model_prediction.round()))"
      ]
    },
    {
      "cell_type": "code",
      "source": [
        "from sklearn.metrics import precision_score, recall_score, f1_score, accuracy_score\n",
        "RNN_accy=accuracy_score(test_labels, baseline_model_prediction.round())\n",
        "RNN_Recall=recall_score(test_labels, baseline_model_prediction.round(),average='micro')\n",
        "RNN_Precision=precision_score(test_labels, baseline_model_prediction.round(),average='micro')\n",
        "RNN_f1=f1_score(test_labels, baseline_model_prediction.round(),average='micro')\n",
        "print(RNN_Precision)"
      ],
      "metadata": {
        "colab": {
          "base_uri": "https://localhost:8080/"
        },
        "id": "W-gkn1003ugm",
        "outputId": "0915a5f5-bbf3-453a-f94e-d251a8178fa7"
      },
      "execution_count": null,
      "outputs": [
        {
          "output_type": "stream",
          "name": "stdout",
          "text": [
            "0.5456883450882594\n"
          ]
        }
      ]
    },
    {
      "cell_type": "markdown",
      "metadata": {
        "id": "HrOHsY8Mguqx"
      },
      "source": [
        "## LSTM(Long short term memory)"
      ]
    },
    {
      "cell_type": "code",
      "execution_count": null,
      "metadata": {
        "id": "UrVCpaPoh5Z_",
        "colab": {
          "base_uri": "https://localhost:8080/"
        },
        "outputId": "f55fc46f-239f-46d1-dd1f-4c6ff962b1be"
      },
      "outputs": [
        {
          "output_type": "stream",
          "name": "stdout",
          "text": [
            "WARNING:tensorflow:Layer lstm will not use cuDNN kernels since it doesn't meet the criteria. It will use a generic GPU kernel as fallback when running on GPU.\n",
            "Model: \"sequential_1\"\n",
            "_________________________________________________________________\n",
            " Layer (type)                Output Shape              Param #   \n",
            "=================================================================\n",
            " embedding_1 (Embedding)     (None, 250, 100)          5631700   \n",
            "                                                                 \n",
            " lstm (LSTM)                 (None, 100)               80400     \n",
            "                                                                 \n",
            " dense_1 (Dense)             (None, 5)                 505       \n",
            "                                                                 \n",
            "=================================================================\n",
            "Total params: 5,712,605\n",
            "Trainable params: 5,712,605\n",
            "Non-trainable params: 0\n",
            "_________________________________________________________________\n",
            "None\n"
          ]
        }
      ],
      "source": [
        "import tensorflow as tf\n",
        "from tensorflow.keras.layers import LSTM, GRU, Dense, Embedding, Dropout\n",
        "from tensorflow.keras.preprocessing import text, sequence \n",
        "from tensorflow.keras.models import Sequential\n",
        "Second_model = Sequential()\n",
        "Second_model.add(Embedding(vocab_size, emb_dim, input_length=maxlen))\n",
        "Second_model.add(LSTM(100, dropout=0.2, recurrent_dropout=0.2))\n",
        "#lstm_model.add(Dropout(0.2))\n",
        "Second_model.add(Dense(5, activation = 'softmax'))\n",
        "Second_model.compile(loss='binary_crossentropy', optimizer='adam', metrics=['accuracy'])\n",
        "print(Second_model.summary())"
      ]
    },
    {
      "cell_type": "code",
      "execution_count": null,
      "metadata": {
        "id": "FXI-hhN8h753",
        "colab": {
          "base_uri": "https://localhost:8080/"
        },
        "outputId": "4ef9ee33-805b-49e5-c828-8c0b0dbeed1f"
      },
      "outputs": [
        {
          "output_type": "stream",
          "name": "stdout",
          "text": [
            "Epoch 1/10\n",
            "331/331 [==============================] - 246s 736ms/step - loss: 0.4281 - accuracy: 0.5314 - val_loss: 0.4173 - val_accuracy: 0.5389\n",
            "Epoch 2/10\n",
            "331/331 [==============================] - 244s 736ms/step - loss: 0.4068 - accuracy: 0.5441 - val_loss: 0.3539 - val_accuracy: 0.5863\n",
            "Epoch 3/10\n",
            "331/331 [==============================] - 243s 735ms/step - loss: 0.3521 - accuracy: 0.5818 - val_loss: 0.3385 - val_accuracy: 0.5930\n",
            "Epoch 4/10\n",
            "331/331 [==============================] - 243s 734ms/step - loss: 0.3878 - accuracy: 0.5517 - val_loss: 0.3512 - val_accuracy: 0.6004\n",
            "Epoch 5/10\n",
            "331/331 [==============================] - 244s 736ms/step - loss: 0.3812 - accuracy: 0.5561 - val_loss: 0.4172 - val_accuracy: 0.5462\n",
            "Epoch 6/10\n",
            "331/331 [==============================] - 243s 734ms/step - loss: 0.3851 - accuracy: 0.5677 - val_loss: 0.3284 - val_accuracy: 0.6055\n",
            "Epoch 7/10\n",
            "331/331 [==============================] - 243s 735ms/step - loss: 0.3173 - accuracy: 0.6248 - val_loss: 0.2805 - val_accuracy: 0.6694\n",
            "Epoch 8/10\n",
            "331/331 [==============================] - 243s 734ms/step - loss: 0.2862 - accuracy: 0.6582 - val_loss: 0.2890 - val_accuracy: 0.6162\n",
            "Epoch 9/10\n",
            "331/331 [==============================] - 243s 733ms/step - loss: 0.2755 - accuracy: 0.6693 - val_loss: 0.2725 - val_accuracy: 0.6709\n",
            "Epoch 10/10\n",
            "331/331 [==============================] - 243s 734ms/step - loss: 0.2546 - accuracy: 0.7096 - val_loss: 0.2510 - val_accuracy: 0.7116\n"
          ]
        }
      ],
      "source": [
        "batch_size = 256\n",
        "epochs  = 10\n",
        "history = Second_model.fit(train_X, train_labels,validation_data=(dev_X, dev_labels),batch_size = batch_size, epochs = epochs)"
      ]
    },
    {
      "cell_type": "code",
      "execution_count": null,
      "metadata": {
        "id": "YdxGlyZ7iRxX",
        "colab": {
          "base_uri": "https://localhost:8080/"
        },
        "outputId": "062fcf7d-b816-4b96-834e-0545c87072da"
      },
      "outputs": [
        {
          "output_type": "stream",
          "name": "stdout",
          "text": [
            "precision: [0.91813251 0.         0.65826734 0.47643979 0.53676838]\n",
            "recall: [0.88598911 0.         0.6044513  0.09003958 0.40782972]\n",
            "fscore: [0.90177447 0.         0.63021252 0.15145631 0.46349892]\n",
            "support: [14139  2093  4538  3032  2631]\n",
            "################################\n",
            "              precision    recall  f1-score   support\n",
            "\n",
            "           0       0.92      0.89      0.90     14139\n",
            "           1       0.00      0.00      0.00      2093\n",
            "           2       0.66      0.60      0.63      4538\n",
            "           3       0.48      0.09      0.15      3032\n",
            "           4       0.54      0.41      0.46      2631\n",
            "\n",
            "   micro avg       0.82      0.63      0.71     26433\n",
            "   macro avg       0.52      0.40      0.43     26433\n",
            "weighted avg       0.71      0.63      0.65     26433\n",
            " samples avg       0.63      0.63      0.63     26433\n",
            "\n"
          ]
        },
        {
          "output_type": "stream",
          "name": "stderr",
          "text": [
            "/usr/local/lib/python3.7/dist-packages/sklearn/metrics/_classification.py:1308: UndefinedMetricWarning: Precision and F-score are ill-defined and being set to 0.0 in labels with no predicted samples. Use `zero_division` parameter to control this behavior.\n",
            "  _warn_prf(average, modifier, msg_start, len(result))\n",
            "/usr/local/lib/python3.7/dist-packages/sklearn/metrics/_classification.py:1308: UndefinedMetricWarning: Precision and F-score are ill-defined and being set to 0.0 in labels with no predicted samples. Use `zero_division` parameter to control this behavior.\n",
            "  _warn_prf(average, modifier, msg_start, len(result))\n",
            "/usr/local/lib/python3.7/dist-packages/sklearn/metrics/_classification.py:1308: UndefinedMetricWarning: Precision and F-score are ill-defined and being set to 0.0 in samples with no predicted labels. Use `zero_division` parameter to control this behavior.\n",
            "  _warn_prf(average, modifier, msg_start, len(result))\n"
          ]
        }
      ],
      "source": [
        "import sklearn\n",
        "from sklearn.metrics import precision_recall_fscore_support as score\n",
        "Second_model_prediction = Second_model.predict(test_X)\n",
        "#predicted_bi_lstm\n",
        "precision, recall, fscore, support = score(test_labels, Second_model_prediction.round())\n",
        "print('precision: {}'.format(precision))\n",
        "print('recall: {}'.format(recall))\n",
        "print('fscore: {}'.format(fscore))\n",
        "print('support: {}'.format(support))\n",
        "print('################################')\n",
        "print(sklearn.metrics.classification_report(test_labels, Second_model_prediction.round()))"
      ]
    },
    {
      "cell_type": "code",
      "source": [
        "LSTM_accy=accuracy_score(test_labels, Second_model_prediction.round())\n",
        "LSTM_recall=recall_score(test_labels, Second_model_prediction.round(),average='micro')\n",
        "LSTM_precion=precision_score(test_labels, Second_model_prediction.round(),average='micro')\n",
        "LSTM_f1=f1_score(test_labels, Second_model_prediction.round(),average='micro')\n"
      ],
      "metadata": {
        "id": "f_7Zep3P58B7"
      },
      "execution_count": null,
      "outputs": []
    },
    {
      "cell_type": "markdown",
      "metadata": {
        "id": "diobo95Kguqy"
      },
      "source": [
        "## Bi-directional LSTM"
      ]
    },
    {
      "cell_type": "code",
      "execution_count": null,
      "metadata": {
        "id": "CBYewHNOiTYW",
        "colab": {
          "base_uri": "https://localhost:8080/"
        },
        "outputId": "4ea43da6-ea52-49ce-8aee-fe476bf8d2f4"
      },
      "outputs": [
        {
          "output_type": "stream",
          "name": "stdout",
          "text": [
            "Model: \"sequential_2\"\n",
            "_________________________________________________________________\n",
            " Layer (type)                Output Shape              Param #   \n",
            "=================================================================\n",
            " embedding_2 (Embedding)     (None, 250, 100)          5631700   \n",
            "                                                                 \n",
            " bidirectional (Bidirectiona  (None, 250, 32)          14976     \n",
            " l)                                                              \n",
            "                                                                 \n",
            " global_max_pooling1d (Globa  (None, 32)               0         \n",
            " lMaxPooling1D)                                                  \n",
            "                                                                 \n",
            " dense_2 (Dense)             (None, 5)                 165       \n",
            "                                                                 \n",
            "=================================================================\n",
            "Total params: 5,646,841\n",
            "Trainable params: 5,646,841\n",
            "Non-trainable params: 0\n",
            "_________________________________________________________________\n"
          ]
        }
      ],
      "source": [
        "from tensorflow.keras.layers import Bidirectional, GlobalMaxPool1D, Conv1D, SimpleRNN\n",
        "from tensorflow.keras.layers import Dense, Input, Input, Flatten, Dropout, BatchNormalization\n",
        "from tensorflow.keras.layers import Conv1D, MaxPooling1D, Embedding \n",
        "embedding_dim = 100  \n",
        "# Model Training\n",
        "Third_model = Sequential()\n",
        "Third_model.add(Embedding(vocab_size, \n",
        "                   embedding_dim,\n",
        "                   input_length=maxlen))\n",
        "# Bidirectional LSTM \n",
        "Third_model.add(Bidirectional(LSTM(16, return_sequences=True, dropout=0.4, recurrent_dropout=0)))   \n",
        "Third_model.add(GlobalMaxPool1D())\n",
        "Third_model.add(Dense(5,activation='softmax'))  \n",
        "Third_model.summary()\n",
        "Third_model.compile(loss = 'binary_crossentropy', optimizer='RMSProp', metrics = ['accuracy'])  "
      ]
    },
    {
      "cell_type": "code",
      "execution_count": null,
      "metadata": {
        "id": "DIPaXWJZjQTE",
        "colab": {
          "base_uri": "https://localhost:8080/"
        },
        "outputId": "0ce55d67-9ef9-4f83-ac6f-a60980231fcc"
      },
      "outputs": [
        {
          "output_type": "stream",
          "name": "stdout",
          "text": [
            "Epoch 1/10\n",
            "331/331 [==============================] - 16s 36ms/step - loss: 0.3244 - accuracy: 0.6617 - val_loss: 0.2393 - val_accuracy: 0.7681\n",
            "Epoch 2/10\n",
            "331/331 [==============================] - 11s 34ms/step - loss: 0.1937 - accuracy: 0.8179 - val_loss: 0.1751 - val_accuracy: 0.8393\n",
            "Epoch 3/10\n",
            "331/331 [==============================] - 11s 34ms/step - loss: 0.1547 - accuracy: 0.8610 - val_loss: 0.1591 - val_accuracy: 0.8489\n",
            "Epoch 4/10\n",
            "331/331 [==============================] - 11s 34ms/step - loss: 0.1377 - accuracy: 0.8766 - val_loss: 0.1448 - val_accuracy: 0.8632\n",
            "Epoch 5/10\n",
            "331/331 [==============================] - 11s 34ms/step - loss: 0.1281 - accuracy: 0.8849 - val_loss: 0.1401 - val_accuracy: 0.8695\n",
            "Epoch 6/10\n",
            "331/331 [==============================] - 11s 34ms/step - loss: 0.1206 - accuracy: 0.8911 - val_loss: 0.1380 - val_accuracy: 0.8721\n",
            "Epoch 7/10\n",
            "331/331 [==============================] - 11s 34ms/step - loss: 0.1143 - accuracy: 0.8988 - val_loss: 0.1415 - val_accuracy: 0.8711\n",
            "Epoch 8/10\n",
            "331/331 [==============================] - 11s 34ms/step - loss: 0.1093 - accuracy: 0.9019 - val_loss: 0.1403 - val_accuracy: 0.8717\n",
            "Epoch 9/10\n",
            "331/331 [==============================] - 11s 34ms/step - loss: 0.1059 - accuracy: 0.9062 - val_loss: 0.1390 - val_accuracy: 0.8720\n",
            "Epoch 10/10\n",
            "331/331 [==============================] - 11s 34ms/step - loss: 0.1020 - accuracy: 0.9101 - val_loss: 0.1364 - val_accuracy: 0.8742\n"
          ]
        }
      ],
      "source": [
        "history1 = Third_model.fit(train_X, train_labels,validation_data=(dev_X, dev_labels), batch_size = batch_size, epochs = epochs)"
      ]
    },
    {
      "cell_type": "code",
      "execution_count": null,
      "metadata": {
        "id": "WuVUi7g8i3dC",
        "colab": {
          "base_uri": "https://localhost:8080/"
        },
        "outputId": "5b33c9b6-b75f-4912-e3ab-542f65e734a8"
      },
      "outputs": [
        {
          "output_type": "stream",
          "name": "stdout",
          "text": [
            "              precision    recall  f1-score   support\n",
            "\n",
            "           0       0.92      0.93      0.92     14139\n",
            "           1       0.76      0.74      0.75      2093\n",
            "           2       0.83      0.78      0.80      4538\n",
            "           3       0.86      0.85      0.85      3032\n",
            "           4       0.86      0.91      0.89      2631\n",
            "\n",
            "    accuracy                           0.88     26433\n",
            "   macro avg       0.84      0.84      0.84     26433\n",
            "weighted avg       0.88      0.88      0.88     26433\n",
            "\n"
          ]
        }
      ],
      "source": [
        "Bi_LSTM_prediction = Third_model.predict(test_X)\n",
        "y_pred=np.argmax(Bi_LSTM_prediction, axis=1)\n",
        "y_test=np.argmax(test_labels, axis=1)\n",
        "#classes_x=np.argmax(predicted_bi_lstm,axis=1)\n",
        "#predicted_bi_lstm\n",
        "print(sklearn.metrics.classification_report(y_test, y_pred))"
      ]
    },
    {
      "cell_type": "code",
      "source": [
        "Bi_LSTM_accy=accuracy_score(y_test, y_pred)\n",
        "Bi_LSTM_recall=recall_score(y_test, y_pred,average='micro')\n",
        "Bi_LSTM_precsion=precision_score(y_test, y_pred,average='micro')\n",
        "Bi_LSTM_F1=f1_score(y_test, y_pred,average='micro')\n",
        "print(Bi_LSTM_F1)"
      ],
      "metadata": {
        "colab": {
          "base_uri": "https://localhost:8080/"
        },
        "id": "xDGVjf_b3CsF",
        "outputId": "ec0e398b-ac43-4b35-e2cc-23975af3c072"
      },
      "execution_count": null,
      "outputs": [
        {
          "output_type": "stream",
          "name": "stdout",
          "text": [
            "0.8767071463700677\n"
          ]
        }
      ]
    },
    {
      "cell_type": "code",
      "source": [
        "!pip install PrettyTable"
      ],
      "metadata": {
        "colab": {
          "base_uri": "https://localhost:8080/"
        },
        "id": "ogV1Eei-2wCv",
        "outputId": "19654f3a-9409-4d23-b8bd-6f49d83902dc"
      },
      "execution_count": null,
      "outputs": [
        {
          "output_type": "stream",
          "name": "stdout",
          "text": [
            "Requirement already satisfied: PrettyTable in /usr/local/lib/python3.7/dist-packages (2.4.0)\n",
            "Requirement already satisfied: wcwidth in /usr/local/lib/python3.7/dist-packages (from PrettyTable) (0.2.5)\n",
            "Requirement already satisfied: importlib-metadata in /usr/local/lib/python3.7/dist-packages (from PrettyTable) (4.8.2)\n",
            "Requirement already satisfied: zipp>=0.5 in /usr/local/lib/python3.7/dist-packages (from importlib-metadata->PrettyTable) (3.6.0)\n",
            "Requirement already satisfied: typing-extensions>=3.6.4 in /usr/local/lib/python3.7/dist-packages (from importlib-metadata->PrettyTable) (3.10.0.2)\n"
          ]
        }
      ]
    },
    {
      "cell_type": "code",
      "source": [
        "from prettytable import PrettyTable\n",
        "myTable = PrettyTable([\"Model\", \"Accuracy\", \"Precision\", \"Recall\",\"F1\"])\n",
        "myTable.add_row([\"RNN\", RNN_accy, RNN_Precision, RNN_Recall,RNN_f1])\n",
        "myTable.add_row([\"LSTM\",LSTM_accy,LSTM_precion,LSTM_recall,LSTM_f1])\n",
        "myTable.add_row([\"biLSTM\",Bi_LSTM_accy,Bi_LSTM_precsion,Bi_LSTM_recall,Bi_LSTM_F1])\n",
        "print(myTable)\n"
      ],
      "metadata": {
        "colab": {
          "base_uri": "https://localhost:8080/"
        },
        "id": "ZS1bz8Zp2vRD",
        "outputId": "50e9e9eb-07b6-4a3e-c64c-901ae72235ae"
      },
      "execution_count": null,
      "outputs": [
        {
          "output_type": "stream",
          "name": "stdout",
          "text": [
            "+--------+--------------------+--------------------+--------------------+--------------------+\n",
            "| Model  |      Accuracy      |     Precision      |       Recall       |         F1         |\n",
            "+--------+--------------------+--------------------+--------------------+--------------------+\n",
            "|  RNN   | 0.529792305073204  | 0.5456883450882594 | 0.529792305073204  |  0.53762285012285  |\n",
            "|  LSTM  | 0.6286081791699769 | 0.8151891281950645 | 0.6286081791699769 | 0.7098427887901572 |\n",
            "| biLSTM | 0.8767071463700677 | 0.8767071463700677 | 0.8767071463700677 | 0.8767071463700677 |\n",
            "+--------+--------------------+--------------------+--------------------+--------------------+\n"
          ]
        }
      ]
    }
  ],
  "metadata": {
    "accelerator": "GPU",
    "colab": {
      "collapsed_sections": [],
      "machine_shape": "hm",
      "name": "Copy of Project_NLP_Neural_networks_(1).ipynb",
      "provenance": []
    },
    "kernelspec": {
      "display_name": "Python 3 (ipykernel)",
      "language": "python",
      "name": "python3"
    },
    "language_info": {
      "codemirror_mode": {
        "name": "ipython",
        "version": 3
      },
      "file_extension": ".py",
      "mimetype": "text/x-python",
      "name": "python",
      "nbconvert_exporter": "python",
      "pygments_lexer": "ipython3",
      "version": "3.9.7"
    }
  },
  "nbformat": 4,
  "nbformat_minor": 0
}