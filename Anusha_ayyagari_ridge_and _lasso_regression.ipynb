{
  "nbformat": 4,
  "nbformat_minor": 0,
  "metadata": {
    "colab": {
      "name": "Anusha_Ayyagari_data602_Assignment5.ipynb",
      "provenance": [],
      "collapsed_sections": []
    },
    "kernelspec": {
      "name": "python3",
      "display_name": "Python 3"
    }
  },
  "cells": [
    {
      "cell_type": "code",
      "metadata": {
        "colab": {
          "base_uri": "https://localhost:8080/"
        },
        "id": "xZJdoD0hwIc4",
        "outputId": "c61fb1c5-5e52-4534-ee43-3aef63c0aff1"
      },
      "source": [
        "#Import  key libraries\n",
        "import numpy as np\n",
        "import pandas as pd\n",
        "from sklearn import datasets\n",
        "import matplotlib.pyplot as plt\n",
        "from matplotlib.pylab import rcParams\n",
        "rcParams.update({'font.size': 12})\n",
        "from sklearn.model_selection import train_test_split\n",
        "from sklearn.linear_model import LinearRegression\n",
        "from sklearn.linear_model import Ridge\n",
        "\n",
        "#Import Boston datasets from scikit-learn datasets and load \n",
        "boston_data=datasets.load_boston()\n",
        "\n",
        "#Describe the dataset \n",
        "print(boston_data.DESCR)\n",
        "#print(boston_data)\n"
      ],
      "execution_count": null,
      "outputs": [
        {
          "output_type": "stream",
          "text": [
            ".. _boston_dataset:\n",
            "\n",
            "Boston house prices dataset\n",
            "---------------------------\n",
            "\n",
            "**Data Set Characteristics:**  \n",
            "\n",
            "    :Number of Instances: 506 \n",
            "\n",
            "    :Number of Attributes: 13 numeric/categorical predictive. Median Value (attribute 14) is usually the target.\n",
            "\n",
            "    :Attribute Information (in order):\n",
            "        - CRIM     per capita crime rate by town\n",
            "        - ZN       proportion of residential land zoned for lots over 25,000 sq.ft.\n",
            "        - INDUS    proportion of non-retail business acres per town\n",
            "        - CHAS     Charles River dummy variable (= 1 if tract bounds river; 0 otherwise)\n",
            "        - NOX      nitric oxides concentration (parts per 10 million)\n",
            "        - RM       average number of rooms per dwelling\n",
            "        - AGE      proportion of owner-occupied units built prior to 1940\n",
            "        - DIS      weighted distances to five Boston employment centres\n",
            "        - RAD      index of accessibility to radial highways\n",
            "        - TAX      full-value property-tax rate per $10,000\n",
            "        - PTRATIO  pupil-teacher ratio by town\n",
            "        - B        1000(Bk - 0.63)^2 where Bk is the proportion of blacks by town\n",
            "        - LSTAT    % lower status of the population\n",
            "        - MEDV     Median value of owner-occupied homes in $1000's\n",
            "\n",
            "    :Missing Attribute Values: None\n",
            "\n",
            "    :Creator: Harrison, D. and Rubinfeld, D.L.\n",
            "\n",
            "This is a copy of UCI ML housing dataset.\n",
            "https://archive.ics.uci.edu/ml/machine-learning-databases/housing/\n",
            "\n",
            "\n",
            "This dataset was taken from the StatLib library which is maintained at Carnegie Mellon University.\n",
            "\n",
            "The Boston house-price data of Harrison, D. and Rubinfeld, D.L. 'Hedonic\n",
            "prices and the demand for clean air', J. Environ. Economics & Management,\n",
            "vol.5, 81-102, 1978.   Used in Belsley, Kuh & Welsch, 'Regression diagnostics\n",
            "...', Wiley, 1980.   N.B. Various transformations are used in the table on\n",
            "pages 244-261 of the latter.\n",
            "\n",
            "The Boston house-price data has been used in many machine learning papers that address regression\n",
            "problems.   \n",
            "     \n",
            ".. topic:: References\n",
            "\n",
            "   - Belsley, Kuh & Welsch, 'Regression diagnostics: Identifying Influential Data and Sources of Collinearity', Wiley, 1980. 244-261.\n",
            "   - Quinlan,R. (1993). Combining Instance-Based and Model-Based Learning. In Proceedings on the Tenth International Conference of Machine Learning, 236-243, University of Massachusetts, Amherst. Morgan Kaufmann.\n",
            "\n"
          ],
          "name": "stdout"
        }
      ]
    },
    {
      "cell_type": "code",
      "metadata": {
        "colab": {
          "base_uri": "https://localhost:8080/",
          "height": 198
        },
        "id": "WDAgo4Igwduq",
        "outputId": "ab01c2bd-100d-4348-e36b-0f46dae8c1b1"
      },
      "source": [
        "boston_data_df=pd.DataFrame(boston_data.data,columns=boston_data.feature_names)\n",
        "boston_data_df['Price']=boston_data.target\n",
        "boston_data_df.head()"
      ],
      "execution_count": null,
      "outputs": [
        {
          "output_type": "execute_result",
          "data": {
            "text/html": [
              "<div>\n",
              "<style scoped>\n",
              "    .dataframe tbody tr th:only-of-type {\n",
              "        vertical-align: middle;\n",
              "    }\n",
              "\n",
              "    .dataframe tbody tr th {\n",
              "        vertical-align: top;\n",
              "    }\n",
              "\n",
              "    .dataframe thead th {\n",
              "        text-align: right;\n",
              "    }\n",
              "</style>\n",
              "<table border=\"1\" class=\"dataframe\">\n",
              "  <thead>\n",
              "    <tr style=\"text-align: right;\">\n",
              "      <th></th>\n",
              "      <th>CRIM</th>\n",
              "      <th>ZN</th>\n",
              "      <th>INDUS</th>\n",
              "      <th>CHAS</th>\n",
              "      <th>NOX</th>\n",
              "      <th>RM</th>\n",
              "      <th>AGE</th>\n",
              "      <th>DIS</th>\n",
              "      <th>RAD</th>\n",
              "      <th>TAX</th>\n",
              "      <th>PTRATIO</th>\n",
              "      <th>B</th>\n",
              "      <th>LSTAT</th>\n",
              "      <th>Price</th>\n",
              "    </tr>\n",
              "  </thead>\n",
              "  <tbody>\n",
              "    <tr>\n",
              "      <th>0</th>\n",
              "      <td>0.00632</td>\n",
              "      <td>18.0</td>\n",
              "      <td>2.31</td>\n",
              "      <td>0.0</td>\n",
              "      <td>0.538</td>\n",
              "      <td>6.575</td>\n",
              "      <td>65.2</td>\n",
              "      <td>4.0900</td>\n",
              "      <td>1.0</td>\n",
              "      <td>296.0</td>\n",
              "      <td>15.3</td>\n",
              "      <td>396.90</td>\n",
              "      <td>4.98</td>\n",
              "      <td>24.0</td>\n",
              "    </tr>\n",
              "    <tr>\n",
              "      <th>1</th>\n",
              "      <td>0.02731</td>\n",
              "      <td>0.0</td>\n",
              "      <td>7.07</td>\n",
              "      <td>0.0</td>\n",
              "      <td>0.469</td>\n",
              "      <td>6.421</td>\n",
              "      <td>78.9</td>\n",
              "      <td>4.9671</td>\n",
              "      <td>2.0</td>\n",
              "      <td>242.0</td>\n",
              "      <td>17.8</td>\n",
              "      <td>396.90</td>\n",
              "      <td>9.14</td>\n",
              "      <td>21.6</td>\n",
              "    </tr>\n",
              "    <tr>\n",
              "      <th>2</th>\n",
              "      <td>0.02729</td>\n",
              "      <td>0.0</td>\n",
              "      <td>7.07</td>\n",
              "      <td>0.0</td>\n",
              "      <td>0.469</td>\n",
              "      <td>7.185</td>\n",
              "      <td>61.1</td>\n",
              "      <td>4.9671</td>\n",
              "      <td>2.0</td>\n",
              "      <td>242.0</td>\n",
              "      <td>17.8</td>\n",
              "      <td>392.83</td>\n",
              "      <td>4.03</td>\n",
              "      <td>34.7</td>\n",
              "    </tr>\n",
              "    <tr>\n",
              "      <th>3</th>\n",
              "      <td>0.03237</td>\n",
              "      <td>0.0</td>\n",
              "      <td>2.18</td>\n",
              "      <td>0.0</td>\n",
              "      <td>0.458</td>\n",
              "      <td>6.998</td>\n",
              "      <td>45.8</td>\n",
              "      <td>6.0622</td>\n",
              "      <td>3.0</td>\n",
              "      <td>222.0</td>\n",
              "      <td>18.7</td>\n",
              "      <td>394.63</td>\n",
              "      <td>2.94</td>\n",
              "      <td>33.4</td>\n",
              "    </tr>\n",
              "    <tr>\n",
              "      <th>4</th>\n",
              "      <td>0.06905</td>\n",
              "      <td>0.0</td>\n",
              "      <td>2.18</td>\n",
              "      <td>0.0</td>\n",
              "      <td>0.458</td>\n",
              "      <td>7.147</td>\n",
              "      <td>54.2</td>\n",
              "      <td>6.0622</td>\n",
              "      <td>3.0</td>\n",
              "      <td>222.0</td>\n",
              "      <td>18.7</td>\n",
              "      <td>396.90</td>\n",
              "      <td>5.33</td>\n",
              "      <td>36.2</td>\n",
              "    </tr>\n",
              "  </tbody>\n",
              "</table>\n",
              "</div>"
            ],
            "text/plain": [
              "      CRIM    ZN  INDUS  CHAS    NOX  ...    TAX  PTRATIO       B  LSTAT  Price\n",
              "0  0.00632  18.0   2.31   0.0  0.538  ...  296.0     15.3  396.90   4.98   24.0\n",
              "1  0.02731   0.0   7.07   0.0  0.469  ...  242.0     17.8  396.90   9.14   21.6\n",
              "2  0.02729   0.0   7.07   0.0  0.469  ...  242.0     17.8  392.83   4.03   34.7\n",
              "3  0.03237   0.0   2.18   0.0  0.458  ...  222.0     18.7  394.63   2.94   33.4\n",
              "4  0.06905   0.0   2.18   0.0  0.458  ...  222.0     18.7  396.90   5.33   36.2\n",
              "\n",
              "[5 rows x 14 columns]"
            ]
          },
          "metadata": {
            "tags": []
          },
          "execution_count": 4
        }
      ]
    },
    {
      "cell_type": "code",
      "metadata": {
        "colab": {
          "base_uri": "https://localhost:8080/",
          "height": 198
        },
        "id": "7eouuQ50wrfo",
        "outputId": "048e79a7-9bc1-4b51-d96d-dc65e70ed2a2"
      },
      "source": [
        "#Put the target  in another DataFrame \n",
        "target=pd.DataFrame(boston_data.target,columns=['Price'])\n",
        "#Print first five rows \n",
        "target.head(n=5)"
      ],
      "execution_count": null,
      "outputs": [
        {
          "output_type": "execute_result",
          "data": {
            "text/html": [
              "<div>\n",
              "<style scoped>\n",
              "    .dataframe tbody tr th:only-of-type {\n",
              "        vertical-align: middle;\n",
              "    }\n",
              "\n",
              "    .dataframe tbody tr th {\n",
              "        vertical-align: top;\n",
              "    }\n",
              "\n",
              "    .dataframe thead th {\n",
              "        text-align: right;\n",
              "    }\n",
              "</style>\n",
              "<table border=\"1\" class=\"dataframe\">\n",
              "  <thead>\n",
              "    <tr style=\"text-align: right;\">\n",
              "      <th></th>\n",
              "      <th>Price</th>\n",
              "    </tr>\n",
              "  </thead>\n",
              "  <tbody>\n",
              "    <tr>\n",
              "      <th>0</th>\n",
              "      <td>24.0</td>\n",
              "    </tr>\n",
              "    <tr>\n",
              "      <th>1</th>\n",
              "      <td>21.6</td>\n",
              "    </tr>\n",
              "    <tr>\n",
              "      <th>2</th>\n",
              "      <td>34.7</td>\n",
              "    </tr>\n",
              "    <tr>\n",
              "      <th>3</th>\n",
              "      <td>33.4</td>\n",
              "    </tr>\n",
              "    <tr>\n",
              "      <th>4</th>\n",
              "      <td>36.2</td>\n",
              "    </tr>\n",
              "  </tbody>\n",
              "</table>\n",
              "</div>"
            ],
            "text/plain": [
              "   Price\n",
              "0   24.0\n",
              "1   21.6\n",
              "2   34.7\n",
              "3   33.4\n",
              "4   36.2"
            ]
          },
          "metadata": {
            "tags": []
          },
          "execution_count": 5
        }
      ]
    },
    {
      "cell_type": "code",
      "metadata": {
        "colab": {
          "base_uri": "https://localhost:8080/"
        },
        "id": "LxCzfgpaxevI",
        "outputId": "385fc044-adf7-433f-fea0-123f91149764"
      },
      "source": [
        "newX=boston_data_df.drop('Price',axis=1)\n",
        "print(newX)"
      ],
      "execution_count": null,
      "outputs": [
        {
          "output_type": "stream",
          "text": [
            "        CRIM    ZN  INDUS  CHAS    NOX  ...  RAD    TAX  PTRATIO       B  LSTAT\n",
            "0    0.00632  18.0   2.31   0.0  0.538  ...  1.0  296.0     15.3  396.90   4.98\n",
            "1    0.02731   0.0   7.07   0.0  0.469  ...  2.0  242.0     17.8  396.90   9.14\n",
            "2    0.02729   0.0   7.07   0.0  0.469  ...  2.0  242.0     17.8  392.83   4.03\n",
            "3    0.03237   0.0   2.18   0.0  0.458  ...  3.0  222.0     18.7  394.63   2.94\n",
            "4    0.06905   0.0   2.18   0.0  0.458  ...  3.0  222.0     18.7  396.90   5.33\n",
            "..       ...   ...    ...   ...    ...  ...  ...    ...      ...     ...    ...\n",
            "501  0.06263   0.0  11.93   0.0  0.573  ...  1.0  273.0     21.0  391.99   9.67\n",
            "502  0.04527   0.0  11.93   0.0  0.573  ...  1.0  273.0     21.0  396.90   9.08\n",
            "503  0.06076   0.0  11.93   0.0  0.573  ...  1.0  273.0     21.0  396.90   5.64\n",
            "504  0.10959   0.0  11.93   0.0  0.573  ...  1.0  273.0     21.0  393.45   6.48\n",
            "505  0.04741   0.0  11.93   0.0  0.573  ...  1.0  273.0     21.0  396.90   7.88\n",
            "\n",
            "[506 rows x 13 columns]\n"
          ],
          "name": "stdout"
        }
      ]
    },
    {
      "cell_type": "code",
      "metadata": {
        "colab": {
          "base_uri": "https://localhost:8080/"
        },
        "id": "EqV2Xrv5-ItR",
        "outputId": "fec22eb9-a55c-4c00-a03b-da18a080b03e"
      },
      "source": [
        "newY=target['Price']\n",
        "#refernce https://towardsdatascience.com/train-test-split-and-cross-validation-in-python-80b61beca4b6 for swplitting the dataset into parts\n",
        "X_train, X_test, y_train, y_test = train_test_split(newX,newY, test_size=0.3)\n",
        "print(X_train,y_train)\n",
        "print(X_test,y_test)"
      ],
      "execution_count": null,
      "outputs": [
        {
          "output_type": "stream",
          "text": [
            "         CRIM    ZN  INDUS  CHAS    NOX  ...   RAD    TAX  PTRATIO       B  LSTAT\n",
            "442   5.66637   0.0  18.10   0.0  0.740  ...  24.0  666.0     20.2  395.69  16.59\n",
            "179   0.05780   0.0   2.46   0.0  0.488  ...   3.0  193.0     17.8  396.90   5.04\n",
            "75    0.09512   0.0  12.83   0.0  0.437  ...   5.0  398.0     18.7  383.23   8.94\n",
            "205   0.13642   0.0  10.59   0.0  0.489  ...   4.0  277.0     18.6  396.90  10.87\n",
            "232   0.57529   0.0   6.20   0.0  0.507  ...   8.0  307.0     17.4  385.91   2.47\n",
            "..        ...   ...    ...   ...    ...  ...   ...    ...      ...     ...    ...\n",
            "246   0.33983  22.0   5.86   0.0  0.431  ...   7.0  330.0     19.1  390.18   9.16\n",
            "285   0.01096  55.0   2.25   0.0  0.389  ...   1.0  300.0     15.3  394.72   8.23\n",
            "356   8.98296   0.0  18.10   1.0  0.770  ...  24.0  666.0     20.2  377.73  17.60\n",
            "392  11.57790   0.0  18.10   0.0  0.700  ...  24.0  666.0     20.2  396.90  25.68\n",
            "214   0.28955   0.0  10.59   0.0  0.489  ...   4.0  277.0     18.6  348.93  29.55\n",
            "\n",
            "[354 rows x 13 columns] 442    18.4\n",
            "179    37.2\n",
            "75     21.4\n",
            "205    22.6\n",
            "232    41.7\n",
            "       ... \n",
            "246    24.3\n",
            "285    22.0\n",
            "356    17.8\n",
            "392     9.7\n",
            "214    23.7\n",
            "Name: Price, Length: 354, dtype: float64\n",
            "         CRIM    ZN  INDUS  CHAS    NOX  ...   RAD    TAX  PTRATIO       B  LSTAT\n",
            "145   2.37934   0.0  19.58   0.0  0.871  ...   5.0  403.0     14.7  172.91  27.80\n",
            "184   0.08308   0.0   2.46   0.0  0.488  ...   3.0  193.0     17.8  391.00  13.98\n",
            "475   6.39312   0.0  18.10   0.0  0.584  ...  24.0  666.0     20.2  302.76  24.10\n",
            "321   0.18159   0.0   7.38   0.0  0.493  ...   5.0  287.0     19.6  396.90   6.87\n",
            "412  18.81100   0.0  18.10   0.0  0.597  ...  24.0  666.0     20.2   28.79  34.37\n",
            "..        ...   ...    ...   ...    ...  ...   ...    ...      ...     ...    ...\n",
            "487   4.83567   0.0  18.10   0.0  0.583  ...  24.0  666.0     20.2  388.22  11.45\n",
            "73    0.19539   0.0  10.81   0.0  0.413  ...   4.0  305.0     19.2  377.17   7.54\n",
            "253   0.36894  22.0   5.86   0.0  0.431  ...   7.0  330.0     19.1  396.90   3.54\n",
            "353   0.01709  90.0   2.02   0.0  0.410  ...   5.0  187.0     17.0  384.46   4.50\n",
            "464   7.83932   0.0  18.10   0.0  0.655  ...  24.0  666.0     20.2  396.90  13.22\n",
            "\n",
            "[152 rows x 13 columns] 145    13.8\n",
            "184    26.4\n",
            "475    13.3\n",
            "321    23.1\n",
            "412    17.9\n",
            "       ... \n",
            "487    20.6\n",
            "73     23.4\n",
            "253    42.8\n",
            "353    30.1\n",
            "464    21.4\n",
            "Name: Price, Length: 152, dtype: float64\n"
          ],
          "name": "stdout"
        }
      ]
    },
    {
      "cell_type": "code",
      "metadata": {
        "colab": {
          "base_uri": "https://localhost:8080/"
        },
        "id": "8qQfdbISGtCn",
        "outputId": "8652f412-2f86-4bf6-d0ec-99f33963f82a"
      },
      "source": [
        "#Liner Regression \n",
        "lr=LinearRegression()\n",
        "\n",
        "#testing with the test data for linear regression\n",
        "\n",
        "lr.fit(X_train,y_train)\n",
        "\n",
        "#score for the LR model\n",
        "\n",
        "linear_trainig_score=lr.score(X_train,y_train)\n",
        "\n",
        "print('the score for the linear regression for the training data is: ',linear_trainig_score)"
      ],
      "execution_count": null,
      "outputs": [
        {
          "output_type": "stream",
          "text": [
            "the score for the linear regression for the training data is:  0.7300662914425737\n"
          ],
          "name": "stdout"
        }
      ]
    },
    {
      "cell_type": "code",
      "metadata": {
        "colab": {
          "base_uri": "https://localhost:8080/"
        },
        "id": "Fb9J6uRJH83d",
        "outputId": "6a132c04-84a6-4cc6-a15d-386706679462"
      },
      "source": [
        "#Ridge Regression\n",
        "# refernce https://scikit-learn.org/stable/modules/generated/sklearn.linear_model.Ridge.html for Ridge regression syntax\n",
        "rr1=Ridge(alpha=0.01)\n",
        "rr2=Ridge(alpha=100)\n",
        "\n",
        "#testing with the test data for ridge regression\n",
        "rr1.fit(X_train,y_train)\n",
        "rr2.fit(X_train,y_train)\n",
        "\n",
        "#score for the Ridge model\n",
        "rigde1_training_score=rr1.score(X_train,y_train)\n",
        "rigde2_training_score=rr2.score(X_train,y_train)\n",
        "\n",
        "print('the score for the ridge regression with alpha 0.01 for the training data is: ',(rigde1_training_score))\n",
        "print('the score for the ridge regression with alpha 100 for the training data is: ',(rigde2_training_score))\n",
        "\n"
      ],
      "execution_count": null,
      "outputs": [
        {
          "output_type": "stream",
          "text": [
            "the score for the ridge regression with alpha 0.01 for the training data is:  0.7300652990785936\n",
            "the score for the ridge regression with alpha 100 for the training data is:  0.7048452513592196\n"
          ],
          "name": "stdout"
        }
      ]
    },
    {
      "cell_type": "markdown",
      "metadata": {
        "id": "bOWdDX7PPReD"
      },
      "source": [
        "Is there any difference between the Ridge models with a lower and a higher alpha?\n",
        "\n",
        "\n",
        "\n",
        "Ans: The ridge model with a lower alpha value is has almost the same test and training score as the linear regression model and when we plot the graph for the coefficients for this model we can see that the coefficient's magnitude is varying but on the other hand the plot from the higher alpha value is more smoother and constant."
      ]
    },
    {
      "cell_type": "markdown",
      "metadata": {
        "id": "z6MNIjlePRSf"
      },
      "source": [
        ""
      ]
    },
    {
      "cell_type": "code",
      "metadata": {
        "colab": {
          "base_uri": "https://localhost:8080/"
        },
        "id": "1o5KjuIKKqvD",
        "outputId": "c9a06bdc-30c0-4a56-b5af-4afbeace0d25"
      },
      "source": [
        "#Computing for the Test datasets\n",
        "\n",
        "#for linear regression\n",
        "lr.fit(X_test,y_test)\n",
        "\n",
        "linear_test_score=lr.score(X_test,y_test)\n",
        "print('the testing score for the linear regression is',linear_test_score)\n",
        "\n",
        "#For Ridge Regression\n",
        "\n",
        "rr1.fit(X_test,y_test)\n",
        "rr2.fit(X_test,y_test)\n",
        "\n",
        "rigde1_test_score=rr1.score(X_test,y_test)\n",
        "rigde2_test_score=rr2.score(X_test,y_test)\n",
        "\n",
        "print('the testing score for the ridge model with the alpha value as 0.01 is',rigde1_test_score)\n",
        "print('the testing score for the ridge model with the alpha value as 100 is',rigde2_test_score)"
      ],
      "execution_count": null,
      "outputs": [
        {
          "output_type": "stream",
          "text": [
            "the testing score for the linear regression is 0.7999036238824504\n",
            "the testing score for the ridge model with the alpha value as 0.01 is 0.7998995595042516\n",
            "the testing score for the ridge model with the alpha value as 100 is 0.7409279770136696\n"
          ],
          "name": "stdout"
        }
      ]
    },
    {
      "cell_type": "code",
      "metadata": {
        "id": "X1J9anlHNKAt"
      },
      "source": [
        "liner_coeff=lr.coef_\n",
        "ridge1_coeff=rr1.coef_\n",
        "ridge2_coeff=rr2.coef_"
      ],
      "execution_count": null,
      "outputs": []
    },
    {
      "cell_type": "code",
      "metadata": {
        "colab": {
          "base_uri": "https://localhost:8080/",
          "height": 630
        },
        "id": "2k4WIk3qNS9N",
        "outputId": "33e626b1-a5b7-481c-e552-886205639970"
      },
      "source": [
        "#plotting the graph\n",
        "plt.figure(figsize=(20,10))\n",
        "plt.plot(liner_coeff,color='Red',label='Linear Regression Coeffecients')\n",
        "plt.plot(ridge1_coeff,color='Purple',label='Ride Regression with alpha0.01 Coeffecients')\n",
        "plt.plot(ridge2_coeff,label='Ride Regression with alpha100 Coeffecients')\n",
        "plt.xlabel('Coefficient Index')\n",
        "plt.ylabel('Coefficient Magnitude')\n",
        "plt.legend()"
      ],
      "execution_count": null,
      "outputs": [
        {
          "output_type": "execute_result",
          "data": {
            "text/plain": [
              "<matplotlib.legend.Legend at 0x7f8fa221e890>"
            ]
          },
          "metadata": {
            "tags": []
          },
          "execution_count": 15
        },
        {
          "output_type": "display_data",
          "data": {
            "image/png": "[encoded data removed]",
            "text/plain": [
              "<Figure size 1440x720 with 1 Axes>"
            ]
          },
          "metadata": {
            "tags": [],
            "needs_background": "light"
          }
        }
      ]
    }
  ]
}