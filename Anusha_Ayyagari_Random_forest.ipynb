{
  "nbformat": 4,
  "nbformat_minor": 0,
  "metadata": {
    "colab": {
      "name": "Anusha_Ayyagari_Data602_Assignment_week7.ipynb",
      "provenance": [],
      "collapsed_sections": []
    },
    "kernelspec": {
      "name": "python3",
      "display_name": "Python 3"
    }
  },
  "cells": [
    {
      "cell_type": "code",
      "metadata": {
        "id": "rLYZOzot0R0Z"
      },
      "source": [
        "from sklearn import datasets\n",
        "from sklearn.ensemble import RandomForestClassifier\n",
        "import pandas as pd\n",
        "from sklearn.model_selection import train_test_split"
      ],
      "execution_count": null,
      "outputs": []
    },
    {
      "cell_type": "code",
      "metadata": {
        "colab": {
          "base_uri": "https://localhost:8080/"
        },
        "id": "y_W4unre07E0",
        "outputId": "420c4c64-5b36-4f53-e1d1-9df18b417a6e"
      },
      "source": [
        "#Use the iris data set from sklearn\n",
        "\n",
        "iris = datasets.load_iris()\n",
        "print(iris.DESCR)\n",
        "#print(iris)"
      ],
      "execution_count": null,
      "outputs": [
        {
          "output_type": "stream",
          "text": [
            ".. _iris_dataset:\n",
            "\n",
            "Iris plants dataset\n",
            "--------------------\n",
            "\n",
            "**Data Set Characteristics:**\n",
            "\n",
            "    :Number of Instances: 150 (50 in each of three classes)\n",
            "    :Number of Attributes: 4 numeric, predictive attributes and the class\n",
            "    :Attribute Information:\n",
            "        - sepal length in cm\n",
            "        - sepal width in cm\n",
            "        - petal length in cm\n",
            "        - petal width in cm\n",
            "        - class:\n",
            "                - Iris-Setosa\n",
            "                - Iris-Versicolour\n",
            "                - Iris-Virginica\n",
            "                \n",
            "    :Summary Statistics:\n",
            "\n",
            "    ============== ==== ==== ======= ===== ====================\n",
            "                    Min  Max   Mean    SD   Class Correlation\n",
            "    ============== ==== ==== ======= ===== ====================\n",
            "    sepal length:   4.3  7.9   5.84   0.83    0.7826\n",
            "    sepal width:    2.0  4.4   3.05   0.43   -0.4194\n",
            "    petal length:   1.0  6.9   3.76   1.76    0.9490  (high!)\n",
            "    petal width:    0.1  2.5   1.20   0.76    0.9565  (high!)\n",
            "    ============== ==== ==== ======= ===== ====================\n",
            "\n",
            "    :Missing Attribute Values: None\n",
            "    :Class Distribution: 33.3% for each of 3 classes.\n",
            "    :Creator: R.A. Fisher\n",
            "    :Donor: Michael Marshall (MARSHALL%PLU@io.arc.nasa.gov)\n",
            "    :Date: July, 1988\n",
            "\n",
            "The famous Iris database, first used by Sir R.A. Fisher. The dataset is taken\n",
            "from Fisher's paper. Note that it's the same as in R, but not as in the UCI\n",
            "Machine Learning Repository, which has two wrong data points.\n",
            "\n",
            "This is perhaps the best known database to be found in the\n",
            "pattern recognition literature.  Fisher's paper is a classic in the field and\n",
            "is referenced frequently to this day.  (See Duda & Hart, for example.)  The\n",
            "data set contains 3 classes of 50 instances each, where each class refers to a\n",
            "type of iris plant.  One class is linearly separable from the other 2; the\n",
            "latter are NOT linearly separable from each other.\n",
            "\n",
            ".. topic:: References\n",
            "\n",
            "   - Fisher, R.A. \"The use of multiple measurements in taxonomic problems\"\n",
            "     Annual Eugenics, 7, Part II, 179-188 (1936); also in \"Contributions to\n",
            "     Mathematical Statistics\" (John Wiley, NY, 1950).\n",
            "   - Duda, R.O., & Hart, P.E. (1973) Pattern Classification and Scene Analysis.\n",
            "     (Q327.D83) John Wiley & Sons.  ISBN 0-471-22361-1.  See page 218.\n",
            "   - Dasarathy, B.V. (1980) \"Nosing Around the Neighborhood: A New System\n",
            "     Structure and Classification Rule for Recognition in Partially Exposed\n",
            "     Environments\".  IEEE Transactions on Pattern Analysis and Machine\n",
            "     Intelligence, Vol. PAMI-2, No. 1, 67-71.\n",
            "   - Gates, G.W. (1972) \"The Reduced Nearest Neighbor Rule\".  IEEE Transactions\n",
            "     on Information Theory, May 1972, 431-433.\n",
            "   - See also: 1988 MLC Proceedings, 54-64.  Cheeseman et al\"s AUTOCLASS II\n",
            "     conceptual clustering system finds 3 classes in the data.\n",
            "   - Many, many more ...\n"
          ],
          "name": "stdout"
        }
      ]
    },
    {
      "cell_type": "code",
      "metadata": {
        "colab": {
          "base_uri": "https://localhost:8080/"
        },
        "id": "0OWuDmql1D36",
        "outputId": "c118c507-2a75-48c9-99fd-0fa1dd747986"
      },
      "source": [
        "#Load the iris dataset. What are the features\n",
        "#printing the features of the dataset\n",
        "print(iris.feature_names)"
      ],
      "execution_count": null,
      "outputs": [
        {
          "output_type": "stream",
          "text": [
            "['sepal length (cm)', 'sepal width (cm)', 'petal length (cm)', 'petal width (cm)']\n"
          ],
          "name": "stdout"
        }
      ]
    },
    {
      "cell_type": "code",
      "metadata": {
        "colab": {
          "base_uri": "https://localhost:8080/",
          "height": 204
        },
        "id": "EtfVmv481Kq5",
        "outputId": "47ce87d3-9183-4bd3-de20-a5bcf7d0fcda"
      },
      "source": [
        "#coverting the features into a dataframe\n",
        "iris_df=pd.DataFrame(iris.data,columns=iris.feature_names)\n",
        "iris_df.head()\n"
      ],
      "execution_count": null,
      "outputs": [
        {
          "output_type": "execute_result",
          "data": {
            "text/html": [
              "<div>\n",
              "<style scoped>\n",
              "    .dataframe tbody tr th:only-of-type {\n",
              "        vertical-align: middle;\n",
              "    }\n",
              "\n",
              "    .dataframe tbody tr th {\n",
              "        vertical-align: top;\n",
              "    }\n",
              "\n",
              "    .dataframe thead th {\n",
              "        text-align: right;\n",
              "    }\n",
              "</style>\n",
              "<table border=\"1\" class=\"dataframe\">\n",
              "  <thead>\n",
              "    <tr style=\"text-align: right;\">\n",
              "      <th></th>\n",
              "      <th>sepal length (cm)</th>\n",
              "      <th>sepal width (cm)</th>\n",
              "      <th>petal length (cm)</th>\n",
              "      <th>petal width (cm)</th>\n",
              "    </tr>\n",
              "  </thead>\n",
              "  <tbody>\n",
              "    <tr>\n",
              "      <th>0</th>\n",
              "      <td>5.1</td>\n",
              "      <td>3.5</td>\n",
              "      <td>1.4</td>\n",
              "      <td>0.2</td>\n",
              "    </tr>\n",
              "    <tr>\n",
              "      <th>1</th>\n",
              "      <td>4.9</td>\n",
              "      <td>3.0</td>\n",
              "      <td>1.4</td>\n",
              "      <td>0.2</td>\n",
              "    </tr>\n",
              "    <tr>\n",
              "      <th>2</th>\n",
              "      <td>4.7</td>\n",
              "      <td>3.2</td>\n",
              "      <td>1.3</td>\n",
              "      <td>0.2</td>\n",
              "    </tr>\n",
              "    <tr>\n",
              "      <th>3</th>\n",
              "      <td>4.6</td>\n",
              "      <td>3.1</td>\n",
              "      <td>1.5</td>\n",
              "      <td>0.2</td>\n",
              "    </tr>\n",
              "    <tr>\n",
              "      <th>4</th>\n",
              "      <td>5.0</td>\n",
              "      <td>3.6</td>\n",
              "      <td>1.4</td>\n",
              "      <td>0.2</td>\n",
              "    </tr>\n",
              "  </tbody>\n",
              "</table>\n",
              "</div>"
            ],
            "text/plain": [
              "   sepal length (cm)  sepal width (cm)  petal length (cm)  petal width (cm)\n",
              "0                5.1               3.5                1.4               0.2\n",
              "1                4.9               3.0                1.4               0.2\n",
              "2                4.7               3.2                1.3               0.2\n",
              "3                4.6               3.1                1.5               0.2\n",
              "4                5.0               3.6                1.4               0.2"
            ]
          },
          "metadata": {
            "tags": []
          },
          "execution_count": 22
        }
      ]
    },
    {
      "cell_type": "code",
      "metadata": {
        "colab": {
          "base_uri": "https://localhost:8080/",
          "height": 204
        },
        "id": "3kZKb0XY43nm",
        "outputId": "39213910-b98d-4abd-c137-2c12f1d7ae64"
      },
      "source": [
        "##coverting the target values into a dataframe\n",
        "target_df=pd.DataFrame(iris.target)\n",
        "target_df.columns=['species']\n",
        "target_df.head()"
      ],
      "execution_count": null,
      "outputs": [
        {
          "output_type": "execute_result",
          "data": {
            "text/html": [
              "<div>\n",
              "<style scoped>\n",
              "    .dataframe tbody tr th:only-of-type {\n",
              "        vertical-align: middle;\n",
              "    }\n",
              "\n",
              "    .dataframe tbody tr th {\n",
              "        vertical-align: top;\n",
              "    }\n",
              "\n",
              "    .dataframe thead th {\n",
              "        text-align: right;\n",
              "    }\n",
              "</style>\n",
              "<table border=\"1\" class=\"dataframe\">\n",
              "  <thead>\n",
              "    <tr style=\"text-align: right;\">\n",
              "      <th></th>\n",
              "      <th>species</th>\n",
              "    </tr>\n",
              "  </thead>\n",
              "  <tbody>\n",
              "    <tr>\n",
              "      <th>0</th>\n",
              "      <td>0</td>\n",
              "    </tr>\n",
              "    <tr>\n",
              "      <th>1</th>\n",
              "      <td>0</td>\n",
              "    </tr>\n",
              "    <tr>\n",
              "      <th>2</th>\n",
              "      <td>0</td>\n",
              "    </tr>\n",
              "    <tr>\n",
              "      <th>3</th>\n",
              "      <td>0</td>\n",
              "    </tr>\n",
              "    <tr>\n",
              "      <th>4</th>\n",
              "      <td>0</td>\n",
              "    </tr>\n",
              "  </tbody>\n",
              "</table>\n",
              "</div>"
            ],
            "text/plain": [
              "   species\n",
              "0        0\n",
              "1        0\n",
              "2        0\n",
              "3        0\n",
              "4        0"
            ]
          },
          "metadata": {
            "tags": []
          },
          "execution_count": 23
        }
      ]
    },
    {
      "cell_type": "code",
      "metadata": {
        "colab": {
          "base_uri": "https://localhost:8080/"
        },
        "id": "Hui50ISAAVEG",
        "outputId": "bddb2f3b-2acc-44c5-c494-c90a37833dc2"
      },
      "source": [
        "#defining the X and Y paramenters and splitting the data into test and training\n",
        "#Split the dataset into training and test sets (30%)\n",
        "X=iris_df\n",
        "y=target_df\n",
        "\n",
        "X_train, X_test, y_train, y_test = train_test_split(X, y, test_size=0.3,random_state=42)\n",
        "\n",
        "print('the lenghth of the training set is ',len(X_train))\n",
        "print('the lenghth of the test set is ',len(X_test))"
      ],
      "execution_count": null,
      "outputs": [
        {
          "output_type": "stream",
          "text": [
            "the lenghth of the training set is  105\n",
            "the lenghth of the test set is  45\n"
          ],
          "name": "stdout"
        }
      ]
    },
    {
      "cell_type": "code",
      "metadata": {
        "colab": {
          "base_uri": "https://localhost:8080/"
        },
        "id": "tYOojX0GB-je",
        "outputId": "b8508a08-b0a8-4681-ab9a-7b7188041de9"
      },
      "source": [
        "#Create a Gaussian RandomForestClassifier as clf (2,000 estimators and a depth of 2)\n",
        "#importing the Gaussian RandomForestClassifier  and fitting the training dataset\n",
        "clf=RandomForestClassifier(n_estimators=2000,max_depth=2)\n",
        "clf.fit(X_train,y_train.values.ravel())\n"
      ],
      "execution_count": null,
      "outputs": [
        {
          "output_type": "execute_result",
          "data": {
            "text/plain": [
              "RandomForestClassifier(bootstrap=True, ccp_alpha=0.0, class_weight=None,\n",
              "                       criterion='gini', max_depth=2, max_features='auto',\n",
              "                       max_leaf_nodes=None, max_samples=None,\n",
              "                       min_impurity_decrease=0.0, min_impurity_split=None,\n",
              "                       min_samples_leaf=1, min_samples_split=2,\n",
              "                       min_weight_fraction_leaf=0.0, n_estimators=2000,\n",
              "                       n_jobs=None, oob_score=False, random_state=None,\n",
              "                       verbose=0, warm_start=False)"
            ]
          },
          "metadata": {
            "tags": []
          },
          "execution_count": 31
        }
      ]
    },
    {
      "cell_type": "code",
      "metadata": {
        "colab": {
          "base_uri": "https://localhost:8080/",
          "height": 401
        },
        "id": "DrEkqgrJE2We",
        "outputId": "487a3bf6-fc15-45b9-aaeb-68ba167f91e6"
      },
      "source": [
        "#reference https://stackoverflow.com/questions/44101458/random-forest-feature-importance-chart-using-python for getting the feature importances.\n",
        "#-Determine the feature importance. Which one is the most important?(i answered this question post the accuracy measure)\n",
        "\n",
        "import numpy as np\n",
        "\n",
        "#predicting the results from the classifier\n",
        "predictions=clf.predict(X_test)\n",
        "print('the predictions made by the model for the test datset is ',predictions)\n",
        "\n",
        "#getting the feature importances of the classifiers and converting them into a Series object for easy manipulation\n",
        "feat_importances = pd.Series(clf.feature_importances_, index=iris_df.columns).sort_values(ascending=False)\n",
        "print('the importance of features are ',feat_importances)\n",
        "\n",
        "import matplotlib.pyplot as plt\n",
        "\n",
        "feat_importances.plot(kind='barh')"
      ],
      "execution_count": null,
      "outputs": [
        {
          "output_type": "stream",
          "text": [
            "the predictions made by the model for the test datset is  [1 0 2 1 1 0 1 2 1 1 2 0 0 0 0 1 2 1 1 2 0 2 0 2 2 2 2 2 0 0 0 0 1 0 0 2 1\n",
            " 0 0 0 2 1 1 0 0]\n",
            "the importance of features are  petal length (cm)    0.448087\n",
            "petal width (cm)     0.428048\n",
            "sepal length (cm)    0.107145\n",
            "sepal width (cm)     0.016720\n",
            "dtype: float64\n"
          ],
          "name": "stdout"
        },
        {
          "output_type": "execute_result",
          "data": {
            "text/plain": [
              "<matplotlib.axes._subplots.AxesSubplot at 0x7f61e200cc50>"
            ]
          },
          "metadata": {
            "tags": []
          },
          "execution_count": 32
        },
        {
          "output_type": "display_data",
          "data": {
            "image/png": "[encoded data removed]",
            "text/plain": [
              "<Figure size 432x288 with 1 Axes>"
            ]
          },
          "metadata": {
            "tags": [],
            "needs_background": "light"
          }
        }
      ]
    },
    {
      "cell_type": "code",
      "metadata": {
        "colab": {
          "base_uri": "https://localhost:8080/"
        },
        "id": "8nxc1pMfoJOK",
        "outputId": "0d79c16d-5660-4a26-e2a8-50f373570f5a"
      },
      "source": [
        "#measuring Accuracy\n",
        "#Use scikitlearn to determine the accuracy level. What is your assessment?\n",
        "from sklearn import metrics\n",
        "accuy_score=metrics.accuracy_score(predictions,y_test)\n",
        "print('the accuracy score is ',accuy_score)\n",
        "\n",
        "from sklearn.metrics import  classification_report\n",
        "forest_class_report=classification_report(y_test,predictions)\n",
        "print(forest_class_report)"
      ],
      "execution_count": null,
      "outputs": [
        {
          "output_type": "stream",
          "text": [
            "the accuracy score is  1.0\n",
            "              precision    recall  f1-score   support\n",
            "\n",
            "           0       1.00      1.00      1.00        19\n",
            "           1       1.00      1.00      1.00        13\n",
            "           2       1.00      1.00      1.00        13\n",
            "\n",
            "    accuracy                           1.00        45\n",
            "   macro avg       1.00      1.00      1.00        45\n",
            "weighted avg       1.00      1.00      1.00        45\n",
            "\n"
          ],
          "name": "stdout"
        }
      ]
    },
    {
      "cell_type": "markdown",
      "metadata": {
        "id": "hyDq0imcCzOn"
      },
      "source": [
        "What is your assessment?\n",
        "\n",
        "From the above accuracy score we can say the after removing the least importannt features in this case 'sepal width' and 'sepal length' the accuracy of the model is 100%. It also means that our model is highly accurate in predicting the correct class('species' in this case) of the dataset.Also from the feature importances we can see that 'petal length' followed by the 'petal width'  are the most important features for classifying the dataset.\n"
      ]
    },
    {
      "cell_type": "code",
      "metadata": {
        "colab": {
          "base_uri": "https://localhost:8080/"
        },
        "id": "WuTlyeTwnbn9",
        "outputId": "cc95dd19-bd2e-4caa-fefd-c1a0768b177e"
      },
      "source": [
        "#Use the Gradient Boosting algorithm to fit the model and predict test data\n",
        "#since it has not been  mentioned to  create new datframes and display the features i am directly proceeding to Gradient Boosting algorithm using the dataframes that i have cretaed in the previous sections.\n",
        "from sklearn.ensemble import GradientBoostingClassifier\n",
        "\n",
        "#defining the new x any y parameter using the  earlier iris dataframes\n",
        "new_X=iris_df\n",
        "new_y=target_df\n",
        "\n",
        "#print(new_y)\n",
        "\n",
        "#splitting the  data into training and the test  sets\n",
        "newX_train, newX_test, newy_train, newy_test = train_test_split(new_X, new_y, test_size=0.3,random_state=42)\n",
        "\n",
        "print('the lenght of the training set is',len(newX_train))\n",
        "print('the lenght of the test set is',len(newX_test))\n",
        "\n",
        "#using the same parameters as that of random forests for comparision purposes\n",
        "boosting_model=GradientBoostingClassifier(n_estimators=2000,max_depth=2)\n",
        "\n",
        "boosting_model.fit(newX_train,newy_train.values.ravel())"
      ],
      "execution_count": null,
      "outputs": [
        {
          "output_type": "stream",
          "text": [
            "the lenght of the training set is 105\n",
            "the lenght of the test set is 45\n"
          ],
          "name": "stdout"
        },
        {
          "output_type": "execute_result",
          "data": {
            "text/plain": [
              "GradientBoostingClassifier(ccp_alpha=0.0, criterion='friedman_mse', init=None,\n",
              "                           learning_rate=0.1, loss='deviance', max_depth=2,\n",
              "                           max_features=None, max_leaf_nodes=None,\n",
              "                           min_impurity_decrease=0.0, min_impurity_split=None,\n",
              "                           min_samples_leaf=1, min_samples_split=2,\n",
              "                           min_weight_fraction_leaf=0.0, n_estimators=2000,\n",
              "                           n_iter_no_change=None, presort='deprecated',\n",
              "                           random_state=None, subsample=1.0, tol=0.0001,\n",
              "                           validation_fraction=0.1, verbose=0,\n",
              "                           warm_start=False)"
            ]
          },
          "metadata": {
            "tags": []
          },
          "execution_count": 33
        }
      ]
    },
    {
      "cell_type": "code",
      "metadata": {
        "colab": {
          "base_uri": "https://localhost:8080/"
        },
        "id": "ugGn0qrb8qE2",
        "outputId": "47eee97b-20d9-4764-aeb4-ea78e0a9b5ae"
      },
      "source": [
        "from sklearn import metrics\n",
        "\n",
        "new_boost_pred=boosting_model.predict(newX_test)\n",
        "print('the predictions by the model are',new_boost_pred)\n",
        "new_boost_accuracy=metrics.accuracy_score(new_boost_pred,newy_test)\n",
        "print('the accuracy for the model is',new_boost_accuracy)"
      ],
      "execution_count": null,
      "outputs": [
        {
          "output_type": "stream",
          "text": [
            "the predictions by the model are [1 0 2 1 1 0 1 2 1 1 2 0 0 0 0 1 2 1 1 2 0 2 0 2 2 2 2 2 0 0 0 0 1 0 0 2 1\n",
            " 0 0 0 2 1 1 0 0]\n",
            "the accuracy for the model is 1.0\n"
          ],
          "name": "stdout"
        }
      ]
    },
    {
      "cell_type": "code",
      "metadata": {
        "colab": {
          "base_uri": "https://localhost:8080/",
          "height": 367
        },
        "id": "ayeWjTU89VSu",
        "outputId": "2a282d29-fd10-4990-b179-ce6cf2074c5c"
      },
      "source": [
        "#getting the feature importances of the classifiers and converting them into a Series object for easy manipulation\n",
        "\n",
        "boosting_feat_importances = pd.Series(boosting_model.feature_importances_, index=iris_df.columns).sort_values(ascending=False)\n",
        "print(boosting_feat_importances)\n",
        "\n",
        "import matplotlib.pyplot as plt\n",
        "\n",
        "boosting_feat_importances.plot(kind='barh')"
      ],
      "execution_count": null,
      "outputs": [
        {
          "output_type": "stream",
          "text": [
            "petal length (cm)    0.608653\n",
            "petal width (cm)     0.374756\n",
            "sepal length (cm)    0.009599\n",
            "sepal width (cm)     0.006992\n",
            "dtype: float64\n"
          ],
          "name": "stdout"
        },
        {
          "output_type": "execute_result",
          "data": {
            "text/plain": [
              "<matplotlib.axes._subplots.AxesSubplot at 0x7f61e28782d0>"
            ]
          },
          "metadata": {
            "tags": []
          },
          "execution_count": 35
        },
        {
          "output_type": "display_data",
          "data": {
            "image/png": "[encoded data removed]",
            "text/plain": [
              "<Figure size 432x288 with 1 Axes>"
            ]
          },
          "metadata": {
            "tags": [],
            "needs_background": "light"
          }
        }
      ]
    },
    {
      "cell_type": "code",
      "metadata": {
        "colab": {
          "base_uri": "https://localhost:8080/"
        },
        "id": "8M4rvmpBU6ic",
        "outputId": "f4eee579-df9a-4951-9360-d67be7292efc"
      },
      "source": [
        "from sklearn.metrics import  classification_report\n",
        "class_report=classification_report(newy_test,new_boost_pred)\n",
        "print(class_report)"
      ],
      "execution_count": null,
      "outputs": [
        {
          "output_type": "stream",
          "text": [
            "              precision    recall  f1-score   support\n",
            "\n",
            "           0       1.00      1.00      1.00        19\n",
            "           1       1.00      1.00      1.00        13\n",
            "           2       1.00      1.00      1.00        13\n",
            "\n",
            "    accuracy                           1.00        45\n",
            "   macro avg       1.00      1.00      1.00        45\n",
            "weighted avg       1.00      1.00      1.00        45\n",
            "\n"
          ],
          "name": "stdout"
        }
      ]
    },
    {
      "cell_type": "markdown",
      "metadata": {
        "id": "VV_PwMzMktpk"
      },
      "source": [
        "Did the Gradient Boosting model perform better? Are there any reservations about GB and why?\n",
        "\n",
        "from the above reports for accuracy and  other parameters the Gradient Boosting Classifier and the Gaussian RandomForestClassifier have similar values so in terms of the performance metrics there both these models are similar but the differnece comes in splitting the features based on the importances. While in the Random Forest eventhough the most important feature is 'petal length' and the second most important feature is 'petal width' the difference is very less and negligible  where as in case of Gradient boosting the diffrenece between these two features is more which makes splitting the features based on important features better than the Random forest.\n",
        "\n",
        "the reservations when it ccomes to gradient boositing is that it is highly susceptible to noise and may result in overfitting. hence we need to tune the parameters for Gradient boosting to avoid this issue. "
      ]
    }
  ]
}