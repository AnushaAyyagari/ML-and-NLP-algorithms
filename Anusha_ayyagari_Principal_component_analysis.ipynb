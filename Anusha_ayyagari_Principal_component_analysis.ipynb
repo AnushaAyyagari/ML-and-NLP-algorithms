{
  "nbformat": 4,
  "nbformat_minor": 0,
  "metadata": {
    "colab": {
      "name": "Anusha_ayyagari_week_8ipynb",
      "provenance": [],
      "collapsed_sections": []
    },
    "kernelspec": {
      "name": "python3",
      "display_name": "Python 3"
    },
    "language_info": {
      "name": "python"
    }
  },
  "cells": [
    {
      "cell_type": "code",
      "metadata": {
        "colab": {
          "resources": {
            "http://localhost:8080/nbextensions/google.colab/files.js": {
              "data": "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",
              "ok": true,
              "headers": [
                [
                  "content-type",
                  "application/javascript"
                ]
              ],
              "status": 200,
              "status_text": ""
            }
          },
          "base_uri": "https://localhost:8080/",
          "height": 72
        },
        "id": "xFU2T2kxMTPE",
        "outputId": "26754cea-fbba-4cce-e4de-d223a8f5cf44"
      },
      "source": [
        "import numpy as np\n",
        "import pandas as pd\n",
        "from sklearn import datasets\n",
        "import matplotlib.pyplot as plt\n",
        "%matplotlib inline\n",
        "\n",
        "# took this code from https://colab.research.google.com/drive/1F7FzrRyAyk5dBBgKPtC93jzLrAA1-etp#scrollTo=397tptIN7hn7\n",
        "from google.colab import files \n",
        "  \n",
        "import io\n",
        "uploaded = files.upload()\n",
        "wine_data = pd.read_csv(io.BytesIO(uploaded['wine.csv']))\n",
        "#df = pd.read_csv(path, names=['class_label','class_name','alcohol','malic_acid','ash','alcalinity_of_ash','magnesium','total_phenols','flavanoids','nonflavanoid_phenols','proanthocyanins','color_intensity','hue','od280','proline'])"
      ],
      "execution_count": null,
      "outputs": [
        {
          "output_type": "display_data",
          "data": {
            "text/html": [
              "\n",
              "     <input type=\"file\" id=\"files-660e18a9-be0b-45d8-92b1-db3cb07263a7\" name=\"files[]\" multiple disabled\n",
              "        style=\"border:none\" />\n",
              "     <output id=\"result-660e18a9-be0b-45d8-92b1-db3cb07263a7\">\n",
              "      Upload widget is only available when the cell has been executed in the\n",
              "      current browser session. Please rerun this cell to enable.\n",
              "      </output>\n",
              "      <script src=\"/nbextensions/google.colab/files.js\"></script> "
            ],
            "text/plain": [
              "<IPython.core.display.HTML object>"
            ]
          },
          "metadata": {
            "tags": []
          }
        },
        {
          "output_type": "stream",
          "text": [
            "Saving wine.csv to wine (2).csv\n"
          ],
          "name": "stdout"
        }
      ]
    },
    {
      "cell_type": "code",
      "metadata": {
        "colab": {
          "base_uri": "https://localhost:8080/"
        },
        "id": "dKT28APYtKya",
        "outputId": "07d85aeb-7071-4fad-98c0-cfc772f906e5"
      },
      "source": [
        "#Create a DataFrame of given wine dataset. Standardize the features.\n",
        "# i did this in the past step as i need to convert the wine_data into datframe in order to read the data from the file\n",
        "#adding the columns refering the code https://www.geeksforgeeks.org/add-column-names-to-dataframe-in-pandas/\n",
        "# column refetnce https://archive.ics.uci.edu/ml/datasets/wine\n",
        "wine_data.columns=['class_label','alcohol','malic_acid','ash','alcalinity_of_ash','magnesium','total_phenols','flavanoids','nonflavanoid_phenols','proanthocyanins','color_intensity','hue','od280','proline']\n",
        "\n",
        "target_data=wine_data['class_label']\n",
        "#target_data.head()\n",
        "#Load the dataset. What are the features?\n",
        "print(wine_data.columns)\n",
        "print(wine_data.head())\n"
      ],
      "execution_count": null,
      "outputs": [
        {
          "output_type": "stream",
          "text": [
            "Index(['class_label', 'alcohol', 'malic_acid', 'ash', 'alcalinity_of_ash',\n",
            "       'magnesium', 'total_phenols', 'flavanoids', 'nonflavanoid_phenols',\n",
            "       'proanthocyanins', 'color_intensity', 'hue', 'od280', 'proline'],\n",
            "      dtype='object')\n",
            "   class_label  alcohol  malic_acid  ...   hue  od280  proline\n",
            "0            1    13.20        1.78  ...  1.05   3.40     1050\n",
            "1            1    13.16        2.36  ...  1.03   3.17     1185\n",
            "2            1    14.37        1.95  ...  0.86   3.45     1480\n",
            "3            1    13.24        2.59  ...  1.04   2.93      735\n",
            "4            1    14.20        1.76  ...  1.05   2.85     1450\n",
            "\n",
            "[5 rows x 14 columns]\n"
          ],
          "name": "stdout"
        }
      ]
    },
    {
      "cell_type": "code",
      "metadata": {
        "colab": {
          "base_uri": "https://localhost:8080/"
        },
        "id": "SU4GF_aKBIVJ",
        "outputId": "1a5f0dfe-a958-438c-9fb0-3da249ddbbe8"
      },
      "source": [
        "#Create a DataFrame of given wine dataset. Standardize the features\n",
        "#i created the dataframe in the last step hence proceeding with standardizing the features\n",
        "\n",
        "from sklearn.preprocessing import StandardScaler\n",
        "\n",
        "x=wine_data.drop(['class_label'],axis=1)\n",
        "y=target_data\n",
        "scale = StandardScaler().fit(x)\n",
        "X=scale.transform(x)\n",
        "print(X)\n"
      ],
      "execution_count": null,
      "outputs": [
        {
          "output_type": "stream",
          "text": [
            "[[ 0.2558245  -0.50162433 -0.8244853  ...  0.40709978  1.13169801\n",
            "   0.97105248]\n",
            " [ 0.20622873  0.01802001  1.10768971 ...  0.3195674   0.80457911\n",
            "   1.40099798]\n",
            " [ 1.70650069 -0.34931478  0.48793547 ... -0.4244579   1.20281081\n",
            "   2.34050852]\n",
            " ...\n",
            " [ 0.34261709  1.73822194 -0.38701171 ... -1.60614514 -1.48525319\n",
            "   0.28632445]\n",
            " [ 0.21862767  0.22408586  0.01400575 ... -1.56237895 -1.39991783\n",
            "   0.30224836]\n",
            " [ 1.40892609  1.57695301  1.36288264 ... -1.51861275 -1.42836295\n",
            "  -0.58949046]]\n"
          ],
          "name": "stdout"
        }
      ]
    },
    {
      "cell_type": "code",
      "metadata": {
        "colab": {
          "base_uri": "https://localhost:8080/"
        },
        "id": "lwxFkpfZBLQY",
        "outputId": "18c3c41d-dac0-4798-a98c-126d64bf0705"
      },
      "source": [
        "#Split the dataset into training and test set\n",
        "from sklearn.model_selection import train_test_split\n",
        "X_train, X_test, y_train, y_test = train_test_split(X,y,test_size=0.30, random_state=42)\n",
        "X_train_std=scale.transform(X_train)\n",
        "X_test_std=scale.transform(X_test)\n",
        "print('the lenght of the training set is',len(X_train))\n",
        "print('the lenght of the test set is',len(X_test))\n",
        "\n",
        "\n",
        "\n",
        "#Use the linalg.eig function from NumPy to obtain the eigenpairs of the Wine covariance matrix. Print the eigenvalues.\n",
        "#I am using my traing set for getting the covarience matrix and eigen values\n",
        "#code refernce https://numpy.org/doc/stable/reference/generated/numpy.cov.html\n",
        "\n",
        "cov=np.cov(X_train_std.T)\n",
        "#print('the covarience matrix is',cov)\n",
        "\n",
        "#getting the eigen values \n",
        "#code reference https://towardsdatascience.com/pca-with-numpy-58917c1d0391\n",
        "\n",
        "train_eigen_values, train_eigen_vectors = np.linalg.eig(cov)\n",
        "\n",
        "print('the training eigen values are',train_eigen_values)\n",
        "print('the training eigen vectors are',train_eigen_vectors)\n"
      ],
      "execution_count": null,
      "outputs": [
        {
          "output_type": "stream",
          "text": [
            "the lenght of the training set is 123\n",
            "the lenght of the test set is 54\n",
            "the training eigen values are [6.48511668e+01 1.68338031e+01 1.26104913e+01 3.37030026e+00\n",
            " 1.42800058e+00 1.09275683e+00 6.29953696e-01 3.80558092e-01\n",
            " 1.42551496e-01 5.62906331e-02 4.77450985e-02 3.71274672e-03\n",
            " 3.11073285e-06]\n",
            "the training eigen vectors are [[ 8.13229323e-03 -2.88718199e-02  9.35462886e-02 -1.42995586e-01\n",
            "  -9.23702589e-01 -1.08412888e-01 -2.13156488e-01  1.42285115e-01\n",
            "   4.79104867e-02  1.88840872e-01  3.56754013e-02  3.38124004e-03\n",
            "  -7.82028894e-04]\n",
            " [-4.80317166e-02 -1.05653869e-01  3.73832052e-02  3.47027826e-02\n",
            "  -7.54525016e-02  4.40683548e-02 -3.33371058e-01 -9.24055321e-01\n",
            "  -1.00878926e-01  1.73528890e-03 -3.30327024e-02 -2.84567760e-03\n",
            "  -4.44590819e-05]\n",
            " [-8.82358821e-02  6.31663208e-02  9.69261645e-01  1.97971119e-01\n",
            "   7.07837481e-02 -2.60623272e-02  2.90164618e-03  3.59120657e-02\n",
            "   1.55548557e-02 -4.38627603e-03 -4.75445174e-02  7.37237237e-03\n",
            "  -1.97538821e-04]\n",
            " [-1.37269683e-02 -8.74463149e-03  3.48285076e-02  3.02558524e-02\n",
            "   9.01298116e-02  8.73153669e-03 -2.20268388e-02 -3.97014000e-02\n",
            "   1.03560015e-01  2.49263664e-01  9.56123031e-01 -1.72676309e-02\n",
            "   4.37969659e-03]\n",
            " [ 1.67272537e-03 -5.23393571e-04  7.27001577e-03 -6.65977251e-04\n",
            "  -6.94675482e-03 -1.59410274e-02  1.34144466e-02 -1.10753074e-03\n",
            "  -1.03444488e-03 -1.05823785e-02 -1.43066843e-02 -9.99541471e-01\n",
            "  -7.69371795e-03]\n",
            " [ 9.59211578e-02  1.48068415e-01  1.20413179e-01 -4.77662531e-01\n",
            "  -1.25250032e-01  4.60120637e-01  5.96885055e-01 -2.48167162e-01\n",
            "   2.81030434e-01  4.11797496e-02 -1.66162758e-02  2.60597770e-03\n",
            "  -7.58369113e-06]\n",
            " [ 7.18501492e-02  1.00528924e-01  7.56476751e-02 -2.64026425e-01\n",
            "  -3.67651241e-03  1.64163101e-01  6.62083818e-02  6.03995990e-02\n",
            "  -9.25879020e-01  9.92846820e-02  8.47914128e-02 -2.28178887e-03\n",
            "  -2.61012600e-04]\n",
            " [-9.48071367e-01  2.84413762e-01 -8.07555571e-02 -1.13980079e-01\n",
            "  -8.70012663e-03  1.90554828e-02  1.00658563e-03  1.19390377e-02\n",
            "  -1.25122166e-02  2.23491924e-03 -2.56852200e-03 -2.46402808e-03\n",
            "  -2.34678671e-06]\n",
            " [ 7.88833041e-02  8.28344094e-02  1.05025427e-01 -6.69420020e-01\n",
            "   2.13899015e-01 -6.79469142e-01 -8.94233064e-02 -6.06995287e-02\n",
            "   8.48642288e-02  3.28160527e-02 -1.68699019e-02  9.32168216e-03\n",
            "   3.89077103e-06]\n",
            " [-1.37974974e-02 -4.65183268e-02  3.25597788e-02 -4.29777030e-02\n",
            "  -1.88137756e-01 -9.12488453e-02  1.01280576e-01 -2.29442342e-02\n",
            "  -7.57346261e-02 -9.28195973e-01  2.69881911e-01  1.04694658e-02\n",
            "  -1.65516290e-03]\n",
            " [ 2.46522568e-01  9.11640009e-01 -8.16968751e-02  2.52029236e-01\n",
            "  -7.80319533e-02 -1.36042946e-01 -5.73498910e-03 -1.10350538e-01\n",
            "   6.72683976e-03 -2.80671423e-02  1.73863491e-02  1.97252158e-03\n",
            "  -1.10056497e-04]\n",
            " [ 9.62343792e-02  1.75790860e-01  6.00773240e-02 -3.37472183e-01\n",
            "   1.57740490e-01  5.07699718e-01 -6.81036705e-01  2.03085754e-01\n",
            "   1.64894666e-01 -1.64605982e-01  9.47605782e-03 -1.63882377e-02\n",
            "  -3.52944215e-04]\n",
            " [ 1.14997441e-04  1.32567607e-04  2.55854805e-04 -4.41536332e-04\n",
            "  -1.42705530e-03 -1.86654000e-04 -3.24713926e-05  2.78356836e-04\n",
            "  -7.31803662e-04 -2.59773064e-03 -3.80669595e-03 -7.59975686e-03\n",
            "   9.99959013e-01]]\n"
          ],
          "name": "stdout"
        }
      ]
    },
    {
      "cell_type": "code",
      "metadata": {
        "colab": {
          "base_uri": "https://localhost:8080/",
          "height": 694
        },
        "id": "a3-Q07HW0AQ6",
        "outputId": "f54bf0e3-e99e-475e-d137-bd97be8d3085"
      },
      "source": [
        "#Compute and plot the individual explained variance and the cumulative explained variance (range from 1 to 14). Using the NumPy cumsum function, calculate the cumulative sum of explained variances, which you will then plot via Matplotlib's step function. Explain the outcomes.\n",
        "#getting the explained varience\n",
        "#refernce https://towardsdatascience.com/pca-with-numpy-58917c1d0391\n",
        "\n",
        "train_variance_explained = []\n",
        "for i in train_eigen_values:\n",
        "     train_variance_explained.append((i/sum(train_eigen_values)))\n",
        "        \n",
        "print(train_variance_explained)\n",
        "\n",
        "#calculating the cummulative explained varience \n",
        "train_cumulative_variance_explained = np.cumsum(train_variance_explained)\n",
        "print(train_cumulative_variance_explained)\n",
        "\n",
        "#plotting the  individual explained variance and the cumulative explained variance (range from 1 to 14)\n",
        "#refernce https://vitalflux.com/pca-explained-variance-concept-python-example/\n",
        "import matplotlib.pyplot as plt \n",
        "plt.figure(figsize=(20,10))\n",
        "plt.bar(range(1,14), train_variance_explained,color='red',label='training_varience_explained')\n",
        "plt.step(range(1,14), train_cumulative_variance_explained,label='training_cummulative_varienec_explained')\n",
        "plt.ylabel('Explained varience')\n",
        "plt.xlabel('Importance of features')\n",
        "plt.legend()\n",
        "plt.show()\n"
      ],
      "execution_count": null,
      "outputs": [
        {
          "output_type": "stream",
          "text": [
            "[0.6392594506773822, 0.16593637759785493, 0.12430579315071623, 0.03322216693075919, 0.014076275093375737, 0.01077166636680114, 0.006209662417534674, 0.003751287272400693, 0.0014051773585014437, 0.0005548754319677109, 0.0004706392639505998, 3.659777523040656e-05, 3.0663524986740255e-08]\n",
            "[0.63925945 0.80519583 0.92950162 0.96272379 0.97680006 0.98757173\n",
            " 0.99378139 0.99753268 0.99893786 0.99949273 0.99996337 0.99999997\n",
            " 1.        ]\n"
          ],
          "name": "stdout"
        },
        {
          "output_type": "display_data",
          "data": {
            "image/png": "[encoded data removed]",
            "text/plain": [
              "<Figure size 1440x720 with 1 Axes>"
            ]
          },
          "metadata": {
            "tags": [],
            "needs_background": "light"
          }
        }
      ]
    },
    {
      "cell_type": "markdown",
      "metadata": {
        "id": "MGD4YSGwdnpQ"
      },
      "source": [
        "Observations:\n",
        "\n",
        "We have divided our dataset based on the features in this case the compnents 1 and 2 give us the highest varience in our dataset and account to around 60% of the varience"
      ]
    },
    {
      "cell_type": "code",
      "metadata": {
        "colab": {
          "base_uri": "https://localhost:8080/"
        },
        "id": "6lVl06Ms95I6",
        "outputId": "420ebdcf-0dbb-4e59-cbef-bfdfd9ac9f19"
      },
      "source": [
        "#-Sort the eigenpairs by decreasing order of the eigenvalues. Make a list of (eigenvalue, eigenvector) tuples. Sort the (eigenvalue, eigenvector) tuples from high to low. Print the projection matrix W.\n",
        "\n",
        "\n",
        "eigen_pairs=[]\n",
        "\n",
        "#since eigen values are complex they are sorted with real parts first explanation refernce from https://stackoverflow.com/questions/8092920/sort-eigenvalues-and-associated-eigenvectors-after-using-numpy-linalg-eig-in-pyt\n",
        "for i in range(len(train_eigen_values)):\n",
        "  index = train_eigen_values.argsort()[::-1]   \n",
        "  eigen_pairs=list(zip(np.abs(train_eigen_values[index]),train_eigen_vectors[:,index]))\n",
        "\n",
        "\n",
        "#refernce https://www.programiz.com/python-programming/methods/list/sort\n",
        "eigen_pairs.sort(reverse=True)\n",
        "\n",
        "\n",
        "#projection matrix\n",
        "#taking the first two important features\n",
        "w= np.hstack((eigen_pairs[0][1][:, np.newaxis],eigen_pairs[1][1][:, np.newaxis]))\n",
        "print('the projection matrix is',w)"
      ],
      "execution_count": null,
      "outputs": [
        {
          "output_type": "stream",
          "text": [
            "the projection matrix is [[ 8.13229323e-03 -4.80317166e-02]\n",
            " [-2.88718199e-02 -1.05653869e-01]\n",
            " [ 9.35462886e-02  3.73832052e-02]\n",
            " [-1.42995586e-01  3.47027826e-02]\n",
            " [-9.23702589e-01 -7.54525016e-02]\n",
            " [-1.08412888e-01  4.40683548e-02]\n",
            " [-2.13156488e-01 -3.33371058e-01]\n",
            " [ 1.42285115e-01 -9.24055321e-01]\n",
            " [ 4.79104867e-02 -1.00878926e-01]\n",
            " [ 1.88840872e-01  1.73528890e-03]\n",
            " [ 3.56754013e-02 -3.30327024e-02]\n",
            " [ 3.38124004e-03 -2.84567760e-03]\n",
            " [-7.82028894e-04 -4.44590819e-05]]\n"
          ],
          "name": "stdout"
        }
      ]
    },
    {
      "cell_type": "code",
      "metadata": {
        "colab": {
          "base_uri": "https://localhost:8080/"
        },
        "id": "vPFs9BCUXXmi",
        "outputId": "fe61a0c8-9654-4dcd-ad6e-82f9e0d64c67"
      },
      "source": [
        "#-Using the projection matrix, transform a sample x onto the PCA subspace (the principal components 1 and 2). Transform the entire 124 x 13-dimensional training dataset onto the two principal components by calculating the matrix dot product.\n",
        "\n",
        "# since the qusetion is asking us to transform the x (training values) onto PCA subspae i am taking the fist value of x as sample\n",
        "#reference for dot product https://www.geeksforgeeks.org/how-to-calculate-dot-product-of-two-vectors-in-python/\n",
        "\n",
        "X1=X_train_std[0].dot(w)\n",
        "print(X1)\n",
        "\n",
        "#now for the rest of the training data\n",
        "PCA_train=X_train_std.dot(w)\n",
        "print(PCA_train)"
      ],
      "execution_count": null,
      "outputs": [
        {
          "output_type": "stream",
          "text": [
            "[6.60695102 1.36136847]\n",
            "[[  6.60695102   1.36136847]\n",
            " [  8.84343796 -13.07832098]\n",
            " [  6.62196267   0.12700282]\n",
            " [  5.71659783   8.92664624]\n",
            " [  4.11025151  16.16736734]\n",
            " [  5.40156718  10.75525005]\n",
            " [  6.71222836   2.9744449 ]\n",
            " [  4.19153158  11.36607639]\n",
            " [  6.4558328    4.49261599]\n",
            " [  6.91620697   2.99409125]\n",
            " [  5.62948422   8.56604418]\n",
            " [  5.78277726   7.7145043 ]\n",
            " [  6.60483138   3.87377089]\n",
            " [  5.57076597   9.44759709]\n",
            " [  5.72238222   5.42670512]\n",
            " [  7.5858498   -3.71323248]\n",
            " [  4.71735239  18.50047287]\n",
            " [  6.76794378   3.21573365]\n",
            " [  4.59802427  11.59079153]\n",
            " [  5.35234319  10.4375822 ]\n",
            " [  7.45073813  -1.03002604]\n",
            " [  4.41764962  13.12391938]\n",
            " [  4.82079238  10.47352895]\n",
            " [  8.54488229  -8.81429721]\n",
            " [  5.8304167    2.84650895]\n",
            " [  6.58030915   3.91579979]\n",
            " [  5.24243208   8.16749011]\n",
            " [  5.12508786   8.53247043]\n",
            " [  5.07825301  10.40529134]\n",
            " [  4.79127371   9.73596343]\n",
            " [  8.56839286  -8.19238558]\n",
            " [  5.9814658    5.92496892]\n",
            " [  5.63926456   9.3871801 ]\n",
            " [  8.32857625  -7.84854178]\n",
            " [  7.05577427   2.59533256]\n",
            " [  5.33498184   8.09070232]\n",
            " [  5.62947733   8.3154676 ]\n",
            " [  5.52834858   5.37507043]\n",
            " [  5.75433795   6.24292597]\n",
            " [  7.16106812   2.60362163]\n",
            " [  7.18975117  -2.22766557]\n",
            " [  7.94452347  -4.30554743]\n",
            " [  6.03979672   6.33596252]\n",
            " [  5.7634729    6.55771592]\n",
            " [  5.50669397   6.45280106]\n",
            " [  8.13862915  -2.72938969]\n",
            " [  7.47168581   0.98094322]\n",
            " [  5.43420906   7.13574283]\n",
            " [  3.59284117  18.72348458]\n",
            " [  5.78286632   8.86284552]\n",
            " [  5.65114473   4.12722999]\n",
            " [  4.41458327  16.61930157]\n",
            " [  8.0774404   -4.53120256]\n",
            " [  4.05785037  14.50971645]\n",
            " [  7.97255299  -4.77961864]\n",
            " [  6.88545969   1.49633273]\n",
            " [  5.25140277   8.46984006]\n",
            " [  6.20605586   4.04762237]\n",
            " [  4.35139242  13.42308256]\n",
            " [  5.76974078   8.01649885]\n",
            " [  7.42517784  -2.86239519]\n",
            " [  6.73829851   2.89534512]\n",
            " [  7.95724132  -4.39815243]\n",
            " [  4.14337841  15.11826429]\n",
            " [  6.40396773   6.02714601]\n",
            " [  5.1584719   10.37142205]\n",
            " [  5.79503003   4.88661593]\n",
            " [  5.0824378   10.3713352 ]\n",
            " [  4.11062528  13.0869012 ]\n",
            " [  5.19552862   8.30567509]\n",
            " [  4.71477915   9.11896109]\n",
            " [  5.07744438  13.37187666]\n",
            " [  8.18480653  -4.64259441]\n",
            " [  4.69724127  10.78855814]\n",
            " [  8.45100918  -8.25671502]\n",
            " [  5.11742538  13.25160948]\n",
            " [  7.55753437  -1.9991498 ]\n",
            " [  7.96432627  -2.9556453 ]\n",
            " [  7.97611294  -4.69830936]\n",
            " [  4.5615828   12.68844538]\n",
            " [  5.47603344   7.86975827]\n",
            " [  8.82358086 -10.80210268]\n",
            " [  6.99550461   2.35674955]\n",
            " [  5.53806547  10.82008197]\n",
            " [  5.63172084   6.40142843]\n",
            " [  4.54284873  13.41458837]\n",
            " [  8.63471242  -9.79369738]\n",
            " [  8.7647598  -10.70447536]\n",
            " [  7.15410409   0.06030255]\n",
            " [  6.71756081   3.0012844 ]\n",
            " [  7.53731429  -0.48455424]\n",
            " [  4.57512291  13.93366985]\n",
            " [  5.86646444   2.82332462]\n",
            " [  5.31305305  12.54671801]\n",
            " [  6.89965531   1.0267278 ]\n",
            " [  4.54134369   9.96097372]\n",
            " [  5.51937091   6.38990556]\n",
            " [  6.77890793   1.45397922]\n",
            " [  5.18703832   9.74307786]\n",
            " [  4.21053209  14.49222656]\n",
            " [  7.41208292   0.65426508]\n",
            " [  4.76892896  14.30792856]\n",
            " [  5.08239112   9.21086543]\n",
            " [  8.29555145  -5.04969831]\n",
            " [  7.17729877   3.56297981]\n",
            " [  5.8451888    7.71596213]\n",
            " [  6.62234495   2.78537257]\n",
            " [  5.16840321  13.57266467]\n",
            " [  5.24577221  12.45882592]\n",
            " [  5.58173429  11.46281856]\n",
            " [  5.39491682   7.06995455]\n",
            " [  4.55582927  10.30969053]\n",
            " [  5.72641208   5.86301904]\n",
            " [  7.49887489  -2.10118837]\n",
            " [  5.83380905   5.9172099 ]\n",
            " [  6.99401621   0.59006222]\n",
            " [  8.59730987  -6.51958109]\n",
            " [  5.44424423  11.08122247]\n",
            " [  5.23855372  10.30657042]\n",
            " [  7.40206441  -2.33812499]\n",
            " [  5.95204999   8.11412302]\n",
            " [  5.01925591  10.9802874 ]\n",
            " [  5.5919426    4.29432736]]\n"
          ],
          "name": "stdout"
        }
      ]
    },
    {
      "cell_type": "code",
      "metadata": {
        "colab": {
          "base_uri": "https://localhost:8080/",
          "height": 623
        },
        "id": "s96r5ftGxTiP",
        "outputId": "a7c45073-652b-4d8a-b888-e0a889d5e7c7"
      },
      "source": [
        "#Visualize the transformed Wine training set into a two-dimensional scatterplot.\n",
        "#refence https://www.datacamp.com/community/tutorials/principal-component-analysis-in-python\n",
        "#y_train.values\n",
        "plt.figure(figsize=(20,10))\n",
        "plt.scatter(PCA_train[ :, 0], PCA_train[ :, 1],c=y_train)\n",
        "plt.xlabel('Prinicpal component 1')\n",
        "plt.ylabel('Prinicpal component 2')\n",
        "\n"
      ],
      "execution_count": null,
      "outputs": [
        {
          "output_type": "execute_result",
          "data": {
            "text/plain": [
              "Text(0, 0.5, 'Prinicpal component 2')"
            ]
          },
          "metadata": {
            "tags": []
          },
          "execution_count": 163
        },
        {
          "output_type": "display_data",
          "data": {
            "image/png": "[encoded data removed]",
            "text/plain": [
              "<Figure size 1440x720 with 1 Axes>"
            ]
          },
          "metadata": {
            "tags": [],
            "needs_background": "light"
          }
        }
      ]
    },
    {
      "cell_type": "code",
      "metadata": {
        "colab": {
          "base_uri": "https://localhost:8080/",
          "height": 296
        },
        "id": "FJDC_byYDMUp",
        "outputId": "bf8b3fd2-d0e7-48d9-d94b-0012765ab632"
      },
      "source": [
        "#Method number 2. Import ListedColormap. Set up marker generator and color map. -----Plot the decision surface and plot the class samples.\n",
        "#Import LogisticRegression and PCA. Visualize the decision regions (hint: X_train_pca, y_train, classifier=lr).\n",
        "\n",
        "#Code refrence https://gist.github.com/rasbt/6fb65bba38b70e28e60a9842b988cc67\n",
        "\n",
        "from matplotlib.colors import ListedColormap\n",
        "import matplotlib.pyplot as plt\n",
        "from sklearn.linear_model import LogisticRegression\n",
        "from sklearn.decomposition import PCA\n",
        "\n",
        "\n",
        "def dec_reg(X, y, clf, resolution=0.1):\n",
        "  m = ('s', 'x', 'o', '^', 'v')\n",
        "  colors = ('red', 'blue', 'green', 'yellow', 'purple')\n",
        "  cmap = ListedColormap(colors[:len(np.unique(y))+1])\n",
        "  x1_min, x1_max = X[:, 0].min() - 1, X[:, 0].max() + 1\n",
        "  x2_min, x2_max = X[:, 1].min() - 1, X[:, 1].max() + 1\n",
        "  xx1, xx2 = np.meshgrid(np.arange(x1_min, x1_max, resolution),np.arange(x2_min, x2_max, resolution))\n",
        "  values = clf.predict(np.array([xx1.ravel(), xx2.ravel()]).T)\n",
        "  values = values.reshape(xx1.shape)\n",
        "  plt.contourf(xx1, xx2, values, alpha=0.4, cmap=cmap)\n",
        "  plt.xlim(xx1.min(), xx1.max())\n",
        "  plt.ylim(xx2.min(), xx2.max())\n",
        "  for idx, cl in enumerate(np.unique(y)):\n",
        "    plt.scatter(x=X[y == cl, 0], y=X[y == cl, 1],alpha=0.8, c=colors[idx],marker=markers[idx], label=cl) \n",
        "\n",
        "\n",
        "\n",
        "# my y training dataset had 123 elements and test dataset has 54 elements hence i am considering the test dataset \n",
        "pca=PCA(n_components=2)\n",
        "train_pca = pca.fit_transform(X_train_std)\n",
        "test_pca=pca.fit_transform(X_test_std)\n",
        "\n",
        "lr=LogisticRegression()\n",
        "\n",
        "#for training\n",
        "model=lr.fit(train_pca,y_train)\n",
        "dec_reg(train_pca, y_train, clf=lr)\n",
        "plt.xlabel('principal component 1')\n",
        "plt.ylabel('principal component 2')\n",
        "plt.legend()\n"
      ],
      "execution_count": null,
      "outputs": [
        {
          "output_type": "execute_result",
          "data": {
            "text/plain": [
              "<matplotlib.legend.Legend at 0x7f3a910feb90>"
            ]
          },
          "metadata": {
            "tags": []
          },
          "execution_count": 164
        },
        {
          "output_type": "display_data",
          "data": {
            "image/png": "[encoded data removed]",
            "text/plain": [
              "<Figure size 432x288 with 1 Axes>"
            ]
          },
          "metadata": {
            "tags": [],
            "needs_background": "light"
          }
        }
      ]
    },
    {
      "cell_type": "code",
      "metadata": {
        "colab": {
          "base_uri": "https://localhost:8080/",
          "height": 296
        },
        "id": "HT9LcG0jSu3r",
        "outputId": "ee0ee927-e5bb-462b-ac13-27d72ade8b1e"
      },
      "source": [
        "#for testing\n",
        "\n",
        "dec_reg(test_pca, y_test, clf=lr)\n",
        "plt.xlabel('principal component 1')\n",
        "plt.ylabel('principal component 2')\n",
        "plt.legend()\n",
        "\n"
      ],
      "execution_count": null,
      "outputs": [
        {
          "output_type": "execute_result",
          "data": {
            "text/plain": [
              "<matplotlib.legend.Legend at 0x7f3a8e7c7750>"
            ]
          },
          "metadata": {
            "tags": []
          },
          "execution_count": 165
        },
        {
          "output_type": "display_data",
          "data": {
            "image/png": "[encoded data removed]",
            "text/plain": [
              "<Figure size 432x288 with 1 Axes>"
            ]
          },
          "metadata": {
            "tags": [],
            "needs_background": "light"
          }
        }
      ]
    },
    {
      "cell_type": "code",
      "metadata": {
        "id": "UcpWOHHZacOk"
      },
      "source": [
        ""
      ],
      "execution_count": null,
      "outputs": []
    }
  ]
}