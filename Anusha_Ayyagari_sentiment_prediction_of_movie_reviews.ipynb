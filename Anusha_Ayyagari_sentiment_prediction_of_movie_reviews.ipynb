{
  "nbformat": 4,
  "nbformat_minor": 0,
  "metadata": {
    "colab": {
      "name": "Anusha_Ayyagari_Assignment_week9and10.ipynb",
      "provenance": [],
      "collapsed_sections": [],
      "toc_visible": true
    },
    "kernelspec": {
      "display_name": "Python 3",
      "name": "python3"
    },
    "language_info": {
      "name": "python"
    }
  },
  "cells": [
    {
      "cell_type": "code",
      "metadata": {
        "colab": {
          "base_uri": "https://localhost:8080/",
          "height": 221
        },
        "id": "9vaqQW_vIReX",
        "outputId": "27bb8506-7eb6-4f8b-d3e8-731411f05954"
      },
      "source": [
        "# Use the train.tsv file at https://www.kaggle.com/c/sentiment-analysis-on-movie-reviews/data\n",
        "#since the requirement was only for the train dataset i used trained dataset only\n",
        "from zipfile import ZipFile\n",
        "path='/content/sentiment-analysis-on-movie-reviews.zip'\n",
        "\n",
        "with ZipFile(path,'r') as zip:\n",
        "  zip.extractall(path='/content/')\n",
        "link='/content/train.tsv.zip'\n",
        "\n",
        "with ZipFile(link,'r') as obj:\n",
        "  obj.extractall(path='/content/')\n",
        "\n",
        "import pandas as pd\n",
        "#Load the data, show the first five rows, check the data, and provide information on the data.\n",
        "#first five rows\n",
        "train_data=pd.read_csv(\"/content/train.tsv\",sep='\\t')\n",
        "print('the number of rows and columns are',train_data.shape)\n",
        "train_data.head()"
      ],
      "execution_count": null,
      "outputs": [
        {
          "output_type": "stream",
          "text": [
            "the number of rows and columns are (156060, 4)\n"
          ],
          "name": "stdout"
        },
        {
          "output_type": "execute_result",
          "data": {
            "text/html": [
              "<div>\n",
              "<style scoped>\n",
              "    .dataframe tbody tr th:only-of-type {\n",
              "        vertical-align: middle;\n",
              "    }\n",
              "\n",
              "    .dataframe tbody tr th {\n",
              "        vertical-align: top;\n",
              "    }\n",
              "\n",
              "    .dataframe thead th {\n",
              "        text-align: right;\n",
              "    }\n",
              "</style>\n",
              "<table border=\"1\" class=\"dataframe\">\n",
              "  <thead>\n",
              "    <tr style=\"text-align: right;\">\n",
              "      <th></th>\n",
              "      <th>PhraseId</th>\n",
              "      <th>SentenceId</th>\n",
              "      <th>Phrase</th>\n",
              "      <th>Sentiment</th>\n",
              "    </tr>\n",
              "  </thead>\n",
              "  <tbody>\n",
              "    <tr>\n",
              "      <th>0</th>\n",
              "      <td>1</td>\n",
              "      <td>1</td>\n",
              "      <td>A series of escapades demonstrating the adage ...</td>\n",
              "      <td>1</td>\n",
              "    </tr>\n",
              "    <tr>\n",
              "      <th>1</th>\n",
              "      <td>2</td>\n",
              "      <td>1</td>\n",
              "      <td>A series of escapades demonstrating the adage ...</td>\n",
              "      <td>2</td>\n",
              "    </tr>\n",
              "    <tr>\n",
              "      <th>2</th>\n",
              "      <td>3</td>\n",
              "      <td>1</td>\n",
              "      <td>A series</td>\n",
              "      <td>2</td>\n",
              "    </tr>\n",
              "    <tr>\n",
              "      <th>3</th>\n",
              "      <td>4</td>\n",
              "      <td>1</td>\n",
              "      <td>A</td>\n",
              "      <td>2</td>\n",
              "    </tr>\n",
              "    <tr>\n",
              "      <th>4</th>\n",
              "      <td>5</td>\n",
              "      <td>1</td>\n",
              "      <td>series</td>\n",
              "      <td>2</td>\n",
              "    </tr>\n",
              "  </tbody>\n",
              "</table>\n",
              "</div>"
            ],
            "text/plain": [
              "   PhraseId  ...  Sentiment\n",
              "0         1  ...          1\n",
              "1         2  ...          2\n",
              "2         3  ...          2\n",
              "3         4  ...          2\n",
              "4         5  ...          2\n",
              "\n",
              "[5 rows x 4 columns]"
            ]
          },
          "metadata": {
            "tags": []
          },
          "execution_count": 10
        }
      ]
    },
    {
      "cell_type": "code",
      "metadata": {
        "colab": {
          "base_uri": "https://localhost:8080/"
        },
        "id": "lB6IusUfWHiX",
        "outputId": "b8cf3b32-1a64-4373-93aa-cd61c478ca79"
      },
      "source": [
        "#info about the data\n",
        "train_data.info()"
      ],
      "execution_count": null,
      "outputs": [
        {
          "output_type": "stream",
          "text": [
            "<class 'pandas.core.frame.DataFrame'>\n",
            "RangeIndex: 156060 entries, 0 to 156059\n",
            "Data columns (total 4 columns):\n",
            " #   Column      Non-Null Count   Dtype \n",
            "---  ------      --------------   ----- \n",
            " 0   PhraseId    156060 non-null  int64 \n",
            " 1   SentenceId  156060 non-null  int64 \n",
            " 2   Phrase      156060 non-null  object\n",
            " 3   Sentiment   156060 non-null  int64 \n",
            "dtypes: int64(3), object(1)\n",
            "memory usage: 4.8+ MB\n"
          ],
          "name": "stdout"
        }
      ]
    },
    {
      "cell_type": "code",
      "metadata": {
        "colab": {
          "base_uri": "https://localhost:8080/",
          "height": 636
        },
        "id": "RunrlJiOgD6r",
        "outputId": "0b4b6cf2-e2cd-4b10-cc53-ef7d6e5d0c60"
      },
      "source": [
        "#Show the distribution of review documents.\n",
        "\n",
        "import matplotlib.pyplot as plt\n",
        "\n",
        "a=train_data['Sentiment'].value_counts()\n",
        "print(type(a))\n",
        "\n",
        "a.plot(kind=\"bar\",figsize=(10,10))\n",
        "plt.xlabel('Type of Sentiments')\n",
        "plt.ylabel('Counts')\n"
      ],
      "execution_count": null,
      "outputs": [
        {
          "output_type": "stream",
          "text": [
            "<class 'pandas.core.series.Series'>\n"
          ],
          "name": "stdout"
        },
        {
          "output_type": "execute_result",
          "data": {
            "text/plain": [
              "Text(0, 0.5, 'Counts')"
            ]
          },
          "metadata": {
            "tags": []
          },
          "execution_count": 12
        },
        {
          "output_type": "display_data",
          "data": {
            "image/png": "[encoded data removed]",
            "text/plain": [
              "<Figure size 720x720 with 1 Axes>"
            ]
          },
          "metadata": {
            "tags": [],
            "needs_background": "light"
          }
        }
      ]
    },
    {
      "cell_type": "code",
      "metadata": {
        "colab": {
          "base_uri": "https://localhost:8080/"
        },
        "id": "nsb1Cii9jig6",
        "outputId": "dc3e981b-211b-4741-acc3-2bb4e7cc111f"
      },
      "source": [
        "#Generate the document term matrix by using scikitlearn’s CountVectorizer. From nltk.tokenizer import RegexpTokenizer. ‘Sentiment’ is the data. Train, test and split.\n",
        "#refernce https://docs.w3cub.com/scikit_learn/modules/generated/sklearn.feature_extraction.text.countvectorizer\n",
        "#more code refernce to use tokenizer in vectorization https://predictivehacks.com/tokenizer-for-nlp-tasks/ http://jonathansoma.com/lede/foundations/classes/text%20processing/tf-idf/\n",
        "import pandas as pd\n",
        "from sklearn.feature_extraction.text import CountVectorizer\n",
        "from nltk import RegexpTokenizer\n",
        "\n",
        "# splitting the data as x and y for further steps\n",
        "\n",
        "#first tokennization:\n",
        "#format refernce https://content.breatheco.de/en/lesson/regex-tutorial-regular-expression-examples\n",
        "#since the data only has letters and digits i am tokenizing the data on that basis\n",
        "tokenizer=RegexpTokenizer(r'[(a-z)\\(A-Z)\\(0-9)]+')\n",
        "#ssince the code is running for a long time i used the stop words\n",
        "vec = CountVectorizer(stop_words='english',tokenizer=tokenizer.tokenize)\n",
        "Vectorised_data = vec.fit_transform(train_data['Phrase'])\n",
        "\n",
        "print(Vectorised_data)\n",
        "\n",
        "\n",
        "\n",
        "\n",
        "\n"
      ],
      "execution_count": null,
      "outputs": [
        {
          "output_type": "stream",
          "text": [
            "  (0, 11671)\t1\n",
            "  (0, 4517)\t1\n",
            "  (0, 3444)\t1\n",
            "  (0, 294)\t1\n",
            "  (0, 5735)\t2\n",
            "  (0, 5751)\t1\n",
            "  (0, 5512)\t1\n",
            "  (0, 9065)\t1\n",
            "  (0, 593)\t1\n",
            "  (0, 584)\t1\n",
            "  (0, 12673)\t1\n",
            "  (1, 11671)\t1\n",
            "  (1, 4517)\t1\n",
            "  (1, 3444)\t1\n",
            "  (1, 294)\t1\n",
            "  (1, 5735)\t1\n",
            "  (1, 5751)\t1\n",
            "  (2, 11671)\t1\n",
            "  (4, 11671)\t1\n",
            "  (5, 4517)\t1\n",
            "  (5, 3444)\t1\n",
            "  (5, 294)\t1\n",
            "  (5, 5735)\t1\n",
            "  (5, 5751)\t1\n",
            "  (7, 4517)\t1\n",
            "  :\t:\n",
            "  (156050, 11305)\t1\n",
            "  (156050, 9054)\t1\n",
            "  (156051, 11305)\t1\n",
            "  (156051, 9054)\t1\n",
            "  (156052, 11305)\t1\n",
            "  (156053, 11281)\t1\n",
            "  (156053, 1281)\t1\n",
            "  (156053, 5252)\t1\n",
            "  (156053, 6156)\t1\n",
            "  (156053, 1006)\t1\n",
            "  (156053, 2271)\t1\n",
            "  (156054, 11281)\t1\n",
            "  (156054, 5252)\t1\n",
            "  (156054, 6156)\t1\n",
            "  (156054, 1006)\t1\n",
            "  (156054, 2271)\t1\n",
            "  (156055, 11281)\t1\n",
            "  (156055, 6156)\t1\n",
            "  (156056, 5252)\t1\n",
            "  (156056, 1006)\t1\n",
            "  (156056, 2271)\t1\n",
            "  (156057, 1006)\t1\n",
            "  (156057, 2271)\t1\n",
            "  (156058, 1006)\t1\n",
            "  (156059, 2271)\t1\n"
          ],
          "name": "stdout"
        }
      ]
    },
    {
      "cell_type": "code",
      "metadata": {
        "id": "TbVum2W9FKwV"
      },
      "source": [
        "#training and then splitting the data \n",
        "\n",
        "from sklearn.model_selection import train_test_split\n",
        "\n",
        "X=Vectorised_data\n",
        "y=train_data['Sentiment']\n",
        "\n",
        "X_train,X_test,y_train,y_test=train_test_split(X,y,test_size=0.3,random_state=42)\n",
        "\n"
      ],
      "execution_count": null,
      "outputs": []
    },
    {
      "cell_type": "code",
      "metadata": {
        "colab": {
          "base_uri": "https://localhost:8080/"
        },
        "id": "WlrUjSub4WQX",
        "outputId": "5e719f9d-fa5e-4d1a-f6a9-c2532914d57f"
      },
      "source": [
        "#-Import the MultinomialNB module and create an MNB classifier object using the MultinomialNB() function.\n",
        "#reference https://scikit-learn.org/stable/modules/generated/sklearn.naive_bayes.MultinomialNB.html\n",
        "\n",
        "from sklearn.naive_bayes import MultinomialNB\n",
        "\n",
        "clf=MultinomialNB()\n",
        "\n",
        "model=clf.fit(X_train,y_train)\n",
        "\n",
        "predictions=clf.predict(X_test)\n",
        "\n",
        "print(predictions)\n",
        "\n",
        "from sklearn import metrics\n",
        "\n",
        "accy_score=metrics.accuracy_score(y_test, predictions)\n",
        "\n",
        "print(accy_score)\n",
        "\n",
        "# code from https://colab.research.google.com/drive/1h37OMhJNVVfZKkYFMqw-J25G8Zk1qv_C#scrollTo=A2Hcih0Pq_Ok\n",
        "from sklearn.metrics import confusion_matrix, classification_report\n",
        "cm=confusion_matrix(y_test,predictions)\n",
        "print(cm)\n",
        "class_report=classification_report(y_test,predictions)\n",
        "print(class_report)\n",
        "\n"
      ],
      "execution_count": null,
      "outputs": [
        {
          "output_type": "stream",
          "text": [
            "[2 4 2 ... 2 3 2]\n",
            "0.6064975009611688\n",
            "[[  588  1032   430    57     6]\n",
            " [  505  3417  3826   446    34]\n",
            " [  169  2093 18609  2525   192]\n",
            " [   28   406  3985  4977   645]\n",
            " [    3    46   467  1528   804]]\n",
            "              precision    recall  f1-score   support\n",
            "\n",
            "           0       0.45      0.28      0.35      2113\n",
            "           1       0.49      0.42      0.45      8228\n",
            "           2       0.68      0.79      0.73     23588\n",
            "           3       0.52      0.50      0.51     10041\n",
            "           4       0.48      0.28      0.36      2848\n",
            "\n",
            "    accuracy                           0.61     46818\n",
            "   macro avg       0.52      0.45      0.48     46818\n",
            "weighted avg       0.59      0.61      0.59     46818\n",
            "\n"
          ],
          "name": "stdout"
        }
      ]
    },
    {
      "cell_type": "markdown",
      "metadata": {
        "id": "BguUWoNWtdVc"
      },
      "source": [
        "**OUTCOME**:After using the CountVectorizer we can see that the  accuracy is 60.64% and the precision and recall are 52% and 45% respectively. In terms of Accuracy and Precision this is a good model but we need to make further enhancements to make this model even better. "
      ]
    },
    {
      "cell_type": "code",
      "metadata": {
        "colab": {
          "base_uri": "https://localhost:8080/"
        },
        "id": "UbBuKinUVcUP",
        "outputId": "d43e0898-6b11-4ce8-930c-cba895508ebc"
      },
      "source": [
        "#Use TfidfVectorizer-transformed data and split it into training and test datasets.\n",
        "\n",
        "#code reference https://machinelearningmastery.com/prepare-text-data-machine-learning-scikit-learn/\n",
        "\n",
        "from sklearn.feature_extraction.text import TfidfVectorizer\n",
        "# i am using the stop words again as well as the REGexp tokenizer since it has not been mentioned what tokenizer i need to use and if i need to use it or not\n",
        "\n",
        "vec_2=TfidfVectorizer(stop_words='english',tokenizer=tokenizer.tokenize)\n",
        "new_vectorized=vec_2.fit_transform(train_data['Phrase'])\n",
        "\n",
        "print(new_vectorized)\n",
        "\n",
        "#training and then splitting the data \n",
        "\n",
        "from sklearn.model_selection import train_test_split\n",
        "\n",
        "new_X=new_vectorized\n",
        "new_y=train_data['Sentiment']\n",
        "\n",
        "new_X_train,new_X_test,new_y_train,new_y_test=train_test_split(new_X,new_y,test_size=0.3,random_state=42)"
      ],
      "execution_count": null,
      "outputs": [
        {
          "output_type": "stream",
          "text": [
            "  (0, 12673)\t0.16546434151485945\n",
            "  (0, 584)\t0.285603003090005\n",
            "  (0, 593)\t0.3409013789465552\n",
            "  (0, 9065)\t0.24978670579994813\n",
            "  (0, 5512)\t0.3439781822249572\n",
            "  (0, 5751)\t0.2961490235960473\n",
            "  (0, 5735)\t0.33975154338523134\n",
            "  (0, 294)\t0.32500325277581793\n",
            "  (0, 3444)\t0.3216020045497033\n",
            "  (0, 4517)\t0.3604686553005693\n",
            "  (0, 11671)\t0.22802711986778432\n",
            "  (1, 5751)\t0.41569084443588766\n",
            "  (1, 5735)\t0.23844685397451357\n",
            "  (1, 294)\t0.456192206715056\n",
            "  (1, 3444)\t0.451418030085731\n",
            "  (1, 4517)\t0.505973370754556\n",
            "  (1, 11671)\t0.3200712427180455\n",
            "  (2, 11671)\t1.0\n",
            "  (4, 11671)\t1.0\n",
            "  (5, 5751)\t0.4387731757548415\n",
            "  (5, 5735)\t0.2516872449022257\n",
            "  (5, 294)\t0.4815234830745613\n",
            "  (5, 3444)\t0.47648420768684807\n",
            "  (5, 4517)\t0.5340688776406254\n",
            "  (7, 5751)\t0.4387731757548415\n",
            "  :\t:\n",
            "  (156050, 9054)\t0.7155119015246983\n",
            "  (156050, 11305)\t0.6986005430691493\n",
            "  (156051, 9054)\t0.7155119015246983\n",
            "  (156051, 11305)\t0.6986005430691493\n",
            "  (156052, 11305)\t1.0\n",
            "  (156053, 2271)\t0.4858533355546829\n",
            "  (156053, 1006)\t0.4858533355546829\n",
            "  (156053, 6156)\t0.4499857729102903\n",
            "  (156053, 5252)\t0.3807998318028217\n",
            "  (156053, 1281)\t0.3959250187792467\n",
            "  (156053, 11281)\t0.15375546963507328\n",
            "  (156054, 2271)\t0.5290889831259045\n",
            "  (156054, 1006)\t0.5290889831259045\n",
            "  (156054, 6156)\t0.49002959862037104\n",
            "  (156054, 5252)\t0.4146868633783294\n",
            "  (156054, 11281)\t0.16743802939294797\n",
            "  (156055, 6156)\t0.9462843760131894\n",
            "  (156055, 11281)\t0.3233355528136809\n",
            "  (156056, 2271)\t0.618474762808639\n",
            "  (156056, 1006)\t0.618474762808639\n",
            "  (156056, 5252)\t0.4847452274521073\n",
            "  (156057, 2271)\t0.7071067811865476\n",
            "  (156057, 1006)\t0.7071067811865476\n",
            "  (156058, 1006)\t1.0\n",
            "  (156059, 2271)\t1.0\n"
          ],
          "name": "stdout"
        }
      ]
    },
    {
      "cell_type": "code",
      "metadata": {
        "colab": {
          "base_uri": "https://localhost:8080/"
        },
        "id": "AvpFWxJrndYN",
        "outputId": "7bb0442c-62cd-401a-ad29-209c1a5e76aa"
      },
      "source": [
        "#-Import the MultinomialNB module and create an MNB classifier object using the MultinomialNB() function.\n",
        "#reference https://scikit-learn.org/stable/modules/generated/sklearn.naive_bayes.MultinomialNB.html\n",
        "\n",
        "from sklearn.naive_bayes import MultinomialNB\n",
        "\n",
        "clf2=MultinomialNB()\n",
        "\n",
        "model_tfidf=clf2.fit(new_X_train,new_y_train)\n",
        "\n",
        "predictions_new =clf2.predict(new_X_test)\n",
        "\n",
        "print(predictions_new)\n",
        "\n",
        "from sklearn import metrics\n",
        "\n",
        "accy_score_tfidf=metrics.accuracy_score(new_y_test, predictions_new)\n",
        "\n",
        "print(accy_score_tfidf)\n",
        "\n",
        "# code from https://colab.research.google.com/drive/1h37OMhJNVVfZKkYFMqw-J25G8Zk1qv_C#scrollTo=A2Hcih0Pq_Ok\n",
        "from sklearn.metrics import confusion_matrix, classification_report\n",
        "cm_new=confusion_matrix(new_y_test,predictions_new)\n",
        "print(cm_new)\n",
        "class_report_new=classification_report(new_y_test,predictions_new)\n",
        "print(class_report_new)"
      ],
      "execution_count": null,
      "outputs": [
        {
          "output_type": "stream",
          "text": [
            "[2 3 2 ... 2 2 2]\n",
            "0.5839847921739502\n",
            "[[   81   892  1100    40     0]\n",
            " [   40  2162  5747   277     2]\n",
            " [    9   992 21034  1537    16]\n",
            " [    0   137  5928  3919    57]\n",
            " [    0    16   966  1721   145]]\n",
            "              precision    recall  f1-score   support\n",
            "\n",
            "           0       0.62      0.04      0.07      2113\n",
            "           1       0.51      0.26      0.35      8228\n",
            "           2       0.60      0.89      0.72     23588\n",
            "           3       0.52      0.39      0.45     10041\n",
            "           4       0.66      0.05      0.09      2848\n",
            "\n",
            "    accuracy                           0.58     46818\n",
            "   macro avg       0.58      0.33      0.34     46818\n",
            "weighted avg       0.58      0.58      0.53     46818\n",
            "\n"
          ],
          "name": "stdout"
        }
      ]
    },
    {
      "cell_type": "markdown",
      "metadata": {
        "id": "iDzxO-Q4UZrS"
      },
      "source": [
        "After using the TfidfVectorizer we can see that the  accuracy is 58.39% and the precision and recall are 58% and 33% respectively. In terms of Accuracy and Precision this model does not perform better(classify) than the previous model and hence we need to do use some other pre proccesing steps before classifying"
      ]
    }
  ]
}