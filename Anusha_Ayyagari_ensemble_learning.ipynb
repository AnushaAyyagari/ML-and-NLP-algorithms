{
  "nbformat": 4,
  "nbformat_minor": 0,
  "metadata": {
    "colab": {
      "name": "Copy of DATA_602_Ensemble_Feature_Importance.ipynb",
      "provenance": [],
      "collapsed_sections": []
    },
    "kernelspec": {
      "name": "python3",
      "display_name": "Python 3"
    }
  },
  "cells": [
    {
      "cell_type": "markdown",
      "metadata": {
        "id": "2PaEEh_dy6IE"
      },
      "source": [
        "This program shows how to derive **feature importance** from a **Random Forest regression** model."
      ]
    },
    {
      "cell_type": "code",
      "metadata": {
        "colab": {
          "base_uri": "https://localhost:8080/"
        },
        "id": "fImoFDJIqD_X",
        "outputId": "1e553b19-5542-407b-cd04-b5dfcac9574f"
      },
      "source": [
        "pip install rfpimp"
      ],
      "execution_count": null,
      "outputs": [
        {
          "output_type": "stream",
          "text": [
            "Collecting rfpimp\n",
            "  Downloading https://files.pythonhosted.org/packages/3f/ab/0fe16e849f21ab5462a227827cc1c67475609573e48428beec995251566b/rfpimp-1.3.7.tar.gz\n",
            "Requirement already satisfied: numpy in /usr/local/lib/python3.7/dist-packages (from rfpimp) (1.19.5)\n",
            "Requirement already satisfied: pandas in /usr/local/lib/python3.7/dist-packages (from rfpimp) (1.1.5)\n",
            "Requirement already satisfied: scikit-learn in /usr/local/lib/python3.7/dist-packages (from rfpimp) (0.22.2.post1)\n",
            "Requirement already satisfied: matplotlib in /usr/local/lib/python3.7/dist-packages (from rfpimp) (3.2.2)\n",
            "Requirement already satisfied: pytz>=2017.2 in /usr/local/lib/python3.7/dist-packages (from pandas->rfpimp) (2018.9)\n",
            "Requirement already satisfied: python-dateutil>=2.7.3 in /usr/local/lib/python3.7/dist-packages (from pandas->rfpimp) (2.8.1)\n",
            "Requirement already satisfied: joblib>=0.11 in /usr/local/lib/python3.7/dist-packages (from scikit-learn->rfpimp) (1.0.1)\n",
            "Requirement already satisfied: scipy>=0.17.0 in /usr/local/lib/python3.7/dist-packages (from scikit-learn->rfpimp) (1.4.1)\n",
            "Requirement already satisfied: pyparsing!=2.0.4,!=2.1.2,!=2.1.6,>=2.0.1 in /usr/local/lib/python3.7/dist-packages (from matplotlib->rfpimp) (2.4.7)\n",
            "Requirement already satisfied: kiwisolver>=1.0.1 in /usr/local/lib/python3.7/dist-packages (from matplotlib->rfpimp) (1.3.1)\n",
            "Requirement already satisfied: cycler>=0.10 in /usr/local/lib/python3.7/dist-packages (from matplotlib->rfpimp) (0.10.0)\n",
            "Requirement already satisfied: six>=1.5 in /usr/local/lib/python3.7/dist-packages (from python-dateutil>=2.7.3->pandas->rfpimp) (1.15.0)\n",
            "Building wheels for collected packages: rfpimp\n",
            "  Building wheel for rfpimp (setup.py) ... \u001b[?25l\u001b[?25hdone\n",
            "  Created wheel for rfpimp: filename=rfpimp-1.3.7-cp37-none-any.whl size=10670 sha256=c1815a5a067352dfb1f7630ed81c1a4686a65041723a3edb6f363a4f9a20e587\n",
            "  Stored in directory: /root/.cache/pip/wheels/16/08/23/9d90df482c9c943df4d6fe874c0937f8e81dc3db917c9300c2\n",
            "Successfully built rfpimp\n",
            "Installing collected packages: rfpimp\n",
            "Successfully installed rfpimp-1.3.7\n"
          ],
          "name": "stdout"
        }
      ]
    },
    {
      "cell_type": "code",
      "metadata": {
        "id": "VQpJ0KTqqzHL"
      },
      "source": [
        "import pandas as pd\n",
        "from sklearn.datasets import load_boston\n",
        "from sklearn.model_selection import train_test_split\n",
        "import numpy as np\n",
        "import matplotlib.pyplot as plt\n",
        "%matplotlib inline\n",
        "boston = load_boston()\n",
        "y = boston.target\n",
        "X = pd.DataFrame(boston.data, columns = boston.feature_names)\n",
        "np.random.seed(seed = 42)\n",
        "X['random'] = np.random.random(size = len(X))\n",
        "X_train, X_valid, y_train, y_valid = train_test_split(X, y, test_size = 0.8, random_state = 42)"
      ],
      "execution_count": null,
      "outputs": []
    },
    {
      "cell_type": "markdown",
      "metadata": {
        "id": "XSkAlrt2yMYm"
      },
      "source": [
        "As for out-of-bag error, each tree in the Random Forest is trained on a different dataset, sampled with replacement from the original data. This results in around ~2/3 of distinct observations in each training set. The out-of-bag error is calculated on all the observations, but for calculating each row’s error the model only considers trees that have not seen this row during training. This is similar to evaluating the model on a validation set. "
      ]
    },
    {
      "cell_type": "code",
      "metadata": {
        "id": "nD0qcfdSq5gd",
        "colab": {
          "base_uri": "https://localhost:8080/"
        },
        "outputId": "c3903a21-b8a2-4567-8fa6-4ce6afb44278"
      },
      "source": [
        "from sklearn.ensemble import RandomForestRegressor\n",
        "\n",
        "rf = RandomForestRegressor(n_estimators = 100,\n",
        "                           n_jobs = -1,\n",
        "                           oob_score = True,\n",
        "                           bootstrap = True,\n",
        "                           random_state = 42)\n",
        "rf.fit(X_train, y_train)\n",
        "\n",
        "print('R^2 Training Score: {:.2f} \\nOOB Score: {:.2f} \\nR^2 Validation Score: {:.2f}'.format(rf.score(X_train, y_train), \n",
        "                                                                                             rf.oob_score_,\n",
        "                                                                                             rf.score(X_valid, y_valid)))\n"
      ],
      "execution_count": null,
      "outputs": [
        {
          "output_type": "stream",
          "text": [
            "R^2 Training Score: 0.93 \n",
            "OOB Score: 0.58 \n",
            "R^2 Validation Score: 0.76\n"
          ],
          "name": "stdout"
        }
      ]
    },
    {
      "cell_type": "code",
      "metadata": {
        "id": "Q4cq_YhkrKw6",
        "colab": {
          "base_uri": "https://localhost:8080/"
        },
        "outputId": "0ee2078f-2637-4faf-92f5-361c7078e97d"
      },
      "source": [
        "from sklearn.metrics import r2_score\n",
        "from rfpimp import permutation_importances\n",
        "\n",
        "def r2(rf, X_train, y_train):\n",
        "    return r2_score(y_train, rf.predict(X_train))\n",
        "\n",
        "perm_imp_rfpimp = permutation_importances(rf, X_train, y_train, r2)\n",
        "print(perm_imp_rfpimp)"
      ],
      "execution_count": null,
      "outputs": [
        {
          "output_type": "stream",
          "text": [
            "/usr/local/lib/python3.7/dist-packages/sklearn/utils/deprecation.py:144: FutureWarning: The sklearn.ensemble.forest module is  deprecated in version 0.22 and will be removed in version 0.24. The corresponding classes / functions should instead be imported from sklearn.ensemble. Anything that cannot be imported from sklearn.ensemble is now part of the private API.\n",
            "  warnings.warn(message, FutureWarning)\n"
          ],
          "name": "stderr"
        },
        {
          "output_type": "stream",
          "text": [
            "         Importance\n",
            "Feature            \n",
            "LSTAT      0.445872\n",
            "RM         0.436355\n",
            "DIS        0.066912\n",
            "CRIM       0.042532\n",
            "TAX        0.020114\n",
            "NOX        0.017309\n",
            "AGE        0.015293\n",
            "PTRATIO    0.014781\n",
            "B          0.009048\n",
            "random     0.008060\n",
            "INDUS      0.003139\n",
            "RAD        0.003039\n",
            "CHAS       0.001041\n",
            "ZN         0.000948\n"
          ],
          "name": "stdout"
        }
      ]
    },
    {
      "cell_type": "code",
      "metadata": {
        "id": "HkY4Da7pruD_"
      },
      "source": [
        "from sklearn.base import clone \n",
        "\n",
        "def drop_col_feat_imp(model, X_train, y_train, random_state = 42):\n",
        "    \n",
        "    # clone the model to have the exact same specification as the one initially trained\n",
        "    model_clone = clone(model)\n",
        "    # set random_state for comparability\n",
        "    model_clone.random_state = random_state\n",
        "    # training and scoring the benchmark model\n",
        "    model_clone.fit(X_train, y_train)\n",
        "    benchmark_score = model_clone.score(X_train, y_train)\n",
        "    # list for storing feature importances\n",
        "    importances = []\n",
        "    \n",
        "    # iterating over all columns and storing feature importance (difference between benchmark and new model)\n",
        "    for col in X_train.columns:\n",
        "        model_clone = clone(model)\n",
        "        model_clone.random_state = random_state\n",
        "        model_clone.fit(X_train.drop(col, axis = 1), y_train)\n",
        "        drop_col_score = model_clone.score(X_train.drop(col, axis = 1), y_train)\n",
        "        importances.append(benchmark_score - drop_col_score)\n",
        "    \n",
        "    importances_df = imp_df(X_train.columns, importances)\n",
        "    return importances_df"
      ],
      "execution_count": null,
      "outputs": []
    },
    {
      "cell_type": "code",
      "metadata": {
        "id": "KN3g-oJ1wsi2",
        "colab": {
          "base_uri": "https://localhost:8080/",
          "height": 281
        },
        "outputId": "5e8d511d-5fdc-4b00-e136-db67fa5db21c"
      },
      "source": [
        "# Plot the impurity-based feature importances of the forest\n",
        "importances = rf.feature_importances_\n",
        "indices = np.argsort(importances)[::-1]\n",
        "std = np.std([tree.feature_importances_ for tree in rf.estimators_],\n",
        "             axis=0)\n",
        "plt.figure()\n",
        "plt.title(\"Feature importances\")\n",
        "plt.bar(range(X.shape[1]), importances[indices],\n",
        "        color=\"r\", yerr=std[indices], align=\"center\")\n",
        "plt.xticks(range(X.shape[1]), indices)\n",
        "plt.xlim([-1, X.shape[1]])\n",
        "plt.show()"
      ],
      "execution_count": null,
      "outputs": [
        {
          "output_type": "display_data",
          "data": {
            "image/png": "[encoded data removed]",
            "text/plain": [
              "<Figure size 432x288 with 1 Axes>"
            ]
          },
          "metadata": {
            "tags": [],
            "needs_background": "light"
          }
        }
      ]
    },
    {
      "cell_type": "code",
      "metadata": {
        "id": "diB4flEKyqLP",
        "colab": {
          "base_uri": "https://localhost:8080/",
          "height": 295
        },
        "outputId": "e6a24e13-4903-4f4d-a2e7-c18624cf97a4"
      },
      "source": [
        "# Plot the impurity-based feature importances of the forest\n",
        "feature_importance = rf.feature_importances_\n",
        "feature_importance = 100.0*(feature_importance/feature_importance.max())\n",
        "sorted_idx = np.argsort(feature_importance)\n",
        "pos=np.arange(sorted_idx.shape[0])+0.5\n",
        "plt.subplot(1,2,2)\n",
        "#plt.figure()\n",
        "plt.title(\"Variable Importance\")\n",
        "plt.xlabel('Relative Importance')\n",
        "plt.barh(pos, feature_importance[sorted_idx],\n",
        "        color=\"b\", align=\"center\")\n",
        "plt.yticks(pos, X.columns[sorted_idx])\n",
        "plt.show()"
      ],
      "execution_count": null,
      "outputs": [
        {
          "output_type": "display_data",
          "data": {
            "image/png": "[encoded data removed]",
            "text/plain": [
              "<Figure size 432x288 with 1 Axes>"
            ]
          },
          "metadata": {
            "tags": [],
            "needs_background": "light"
          }
        }
      ]
    },
    {
      "cell_type": "markdown",
      "metadata": {
        "id": "HW5SZ6VYzjnt"
      },
      "source": [
        "The main idea of treeinterpreter is that it uses the underlying trees in Random Forest to explain how each feature contributes to the end value. We can observe how the value of the prediction (defined as the sum of each feature contributions + average given by the initial node that is based on the entire training set) changes along the prediction path within the decision tree (after every split), together with the information which features caused the split (so also the change in prediction).\n",
        "For the observation with the smallest error, the main contributor was LSTAT and RM (which in previous cases turned out to be most important variables). In the highest error case, the highest contribution came from DIS variable, overcoming the same two variables that played the most important role in the first case."
      ]
    },
    {
      "cell_type": "code",
      "metadata": {
        "colab": {
          "base_uri": "https://localhost:8080/"
        },
        "id": "yA0yw8JBqR40",
        "outputId": "fcb24388-cf93-4685-ff8c-bb1598e1a17e"
      },
      "source": [
        "pip install treeinterpreter"
      ],
      "execution_count": null,
      "outputs": [
        {
          "output_type": "stream",
          "text": [
            "Collecting treeinterpreter\n",
            "  Downloading https://files.pythonhosted.org/packages/af/19/fa8556093f6b8c7374825118e05cf5a99c71262392382c3642ab1fd8a742/treeinterpreter-0.2.3-py2.py3-none-any.whl\n",
            "Installing collected packages: treeinterpreter\n",
            "Successfully installed treeinterpreter-0.2.3\n"
          ],
          "name": "stdout"
        }
      ]
    },
    {
      "cell_type": "code",
      "metadata": {
        "id": "J6j0m0tQvBiv",
        "colab": {
          "base_uri": "https://localhost:8080/"
        },
        "outputId": "4ef1ef99-4cb2-4c50-aa6a-196c91f0a2fe"
      },
      "source": [
        "from treeinterpreter import treeinterpreter as ti, utils\n",
        "\n",
        "selected_rows = [31, 85]\n",
        "selected_df = X_train.iloc[selected_rows,:].values\n",
        "prediction, bias, contributions = ti.predict(rf, selected_df)\n",
        "\n",
        "for i in range(len(selected_rows)):\n",
        "    print(\"Row\", selected_rows[i])\n",
        "    print(\"Prediction:\", prediction[i][0], 'Actual Value:', y_train[selected_rows[i]])\n",
        "    print(\"Bias (trainset mean)\", bias[i])\n",
        "    print(\"Feature contributions:\")\n",
        "    for c, feature in sorted(zip(contributions[i], \n",
        "                                 X_train.columns), \n",
        "                             key=lambda x: -abs(x[0])):\n",
        "        print(feature, round(c, 2))\n",
        "    print(\"-\"*20) "
      ],
      "execution_count": null,
      "outputs": [
        {
          "output_type": "stream",
          "text": [
            "Row 31\n",
            "Prediction: 21.996 Actual Value: 22.0\n",
            "Bias (trainset mean) 22.54429702970297\n",
            "Feature contributions:\n",
            "LSTAT 3.02\n",
            "RM -3.01\n",
            "PTRATIO 0.36\n",
            "AGE -0.29\n",
            "DIS -0.21\n",
            "random 0.18\n",
            "RAD -0.17\n",
            "NOX -0.16\n",
            "TAX -0.11\n",
            "CRIM -0.07\n",
            "B -0.05\n",
            "INDUS -0.02\n",
            "ZN -0.01\n",
            "CHAS -0.01\n",
            "--------------------\n",
            "Row 85\n",
            "Prediction: 36.816 Actual Value: 50.0\n",
            "Bias (trainset mean) 22.54429702970297\n",
            "Feature contributions:\n",
            "DIS 7.7\n",
            "LSTAT 3.33\n",
            "RM -1.88\n",
            "CRIM 1.87\n",
            "TAX 1.32\n",
            "NOX 1.02\n",
            "B 0.54\n",
            "CHAS 0.36\n",
            "PTRATIO -0.25\n",
            "RAD 0.17\n",
            "AGE 0.13\n",
            "INDUS -0.03\n",
            "random -0.01\n",
            "ZN 0.0\n",
            "--------------------\n"
          ],
          "name": "stdout"
        }
      ]
    },
    {
      "cell_type": "code",
      "metadata": {
        "id": "CIMhCpIlvVEW",
        "colab": {
          "base_uri": "https://localhost:8080/"
        },
        "outputId": "ed177833-2dcc-4778-fea8-041e43bffde7"
      },
      "source": [
        "prediction1, bias1, contributions1 = ti.predict(rf, np.array([selected_df[0]]), joint_contribution=True)\n",
        "prediction2, bias2, contributions2 = ti.predict(rf, np.array([selected_df[1]]), joint_contribution=True)\n",
        "\n",
        "aggregated_contributions1 = utils.aggregated_contribution(contributions1)\n",
        "aggregated_contributions2 = utils.aggregated_contribution(contributions2)\n",
        "\n",
        "res = []\n",
        "for k in set(aggregated_contributions1.keys()).union(\n",
        "              set(aggregated_contributions2.keys())):\n",
        "    res.append(([X_train.columns[index] for index in k] , \n",
        "               aggregated_contributions1.get(k, 0) - aggregated_contributions2.get(k, 0)))   \n",
        "         \n",
        "for lst, v in (sorted(res, key=lambda x:-abs(x[1])))[:10]:\n",
        "    print (lst, v)"
      ],
      "execution_count": null,
      "outputs": [
        {
          "output_type": "stream",
          "text": [
            "['RM', 'DIS'] [-3.65430351]\n",
            "['RM', 'DIS', 'LSTAT'] [-2.15540094]\n",
            "['CRIM', 'LSTAT'] [-1.65588589]\n",
            "['DIS', 'LSTAT'] [-1.64678593]\n",
            "['NOX', 'LSTAT'] [-1.28406056]\n",
            "['RM', 'TAX', 'LSTAT'] [-1.00245007]\n",
            "['CRIM', 'RM', 'LSTAT'] [-0.62160057]\n",
            "['TAX', 'LSTAT'] [-0.55742577]\n",
            "['RM', 'LSTAT'] [-0.45002332]\n",
            "['B', 'LSTAT'] [-0.3516441]\n"
          ],
          "name": "stdout"
        }
      ]
    },
    {
      "cell_type": "markdown",
      "metadata": {
        "id": "p2SG5hxu0JIk"
      },
      "source": [
        "LIME (Local Interpretable Model-agnostic Explanations) is a technique explaining the predictions of any classifier/regressor in an interpretable and faithful manner. To do so, an explanation is obtained by locally approximating the selected model with an interpretable one (such as linear models with regularisation or decision trees). The interpretable models are trained on small perturbations (adding noise) of the original observation (row in case of tabular data), thus they only provide a good local approximation."
      ]
    },
    {
      "cell_type": "code",
      "metadata": {
        "id": "4N2jvmBJvc3d",
        "colab": {
          "base_uri": "https://localhost:8080/",
          "height": 367
        },
        "outputId": "3b958e3c-da7a-4bce-e9cf-b4163ffb1992"
      },
      "source": [
        "import lime\n",
        "import lime.lime_tabular\n",
        "\n",
        "explainer = lime.lime_tabular.LimeTabularExplainer(X_train.values,\n",
        "                                                   mode = 'regression',\n",
        "                                                   feature_names = X_train.columns,\n",
        "                                                   categorical_features = [3], \n",
        "                                                   categorical_names = ['CHAS'], \n",
        "                                                   discretize_continuous = True)\n",
        "                                                   \n",
        "np.random.seed(42)\n",
        "exp = explainer.explain_instance(X_train.values[31], rf.predict, num_features = 5)\n",
        "exp.show_in_notebook(show_all=False) #only the features used in the explanation are displayed\n",
        "\n",
        "exp = explainer.explain_instance(X_train.values[85], rf.predict, num_features = 5)\n",
        "exp.show_in_notebook(show_all=False)"
      ],
      "execution_count": null,
      "outputs": [
        {
          "output_type": "error",
          "ename": "ModuleNotFoundError",
          "evalue": "ignored",
          "traceback": [
            "\u001b[0;31m---------------------------------------------------------------------------\u001b[0m",
            "\u001b[0;31mModuleNotFoundError\u001b[0m                       Traceback (most recent call last)",
            "\u001b[0;32m<ipython-input-12-8c5a82886354>\u001b[0m in \u001b[0;36m<module>\u001b[0;34m()\u001b[0m\n\u001b[0;32m----> 1\u001b[0;31m \u001b[0;32mimport\u001b[0m \u001b[0mlime\u001b[0m\u001b[0;34m\u001b[0m\u001b[0;34m\u001b[0m\u001b[0m\n\u001b[0m\u001b[1;32m      2\u001b[0m \u001b[0;32mimport\u001b[0m \u001b[0mlime\u001b[0m\u001b[0;34m.\u001b[0m\u001b[0mlime_tabular\u001b[0m\u001b[0;34m\u001b[0m\u001b[0;34m\u001b[0m\u001b[0m\n\u001b[1;32m      3\u001b[0m \u001b[0;34m\u001b[0m\u001b[0m\n\u001b[1;32m      4\u001b[0m explainer = lime.lime_tabular.LimeTabularExplainer(X_train.values,\n\u001b[1;32m      5\u001b[0m                                                    \u001b[0mmode\u001b[0m \u001b[0;34m=\u001b[0m \u001b[0;34m'regression'\u001b[0m\u001b[0;34m,\u001b[0m\u001b[0;34m\u001b[0m\u001b[0;34m\u001b[0m\u001b[0m\n",
            "\u001b[0;31mModuleNotFoundError\u001b[0m: No module named 'lime'",
            "",
            "\u001b[0;31m---------------------------------------------------------------------------\u001b[0;32m\nNOTE: If your import is failing due to a missing package, you can\nmanually install dependencies using either !pip or !apt.\n\nTo view examples of installing some common dependencies, click the\n\"Open Examples\" button below.\n\u001b[0;31m---------------------------------------------------------------------------\u001b[0m\n"
          ]
        }
      ]
    },
    {
      "cell_type": "markdown",
      "metadata": {
        "id": "9xyZm8C72YqQ"
      },
      "source": [
        "There are 3 parts of the output:\n",
        "1. Predicted value\n",
        "2. Feature importance — in case of regression it shows whether it has a negative or positive impact on the prediction, sorted by absolute impact descending.\n",
        "3. Actual values of these features for the explained rows."
      ]
    }
  ]
}